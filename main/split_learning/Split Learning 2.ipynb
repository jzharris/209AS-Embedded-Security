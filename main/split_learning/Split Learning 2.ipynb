{
 "cells": [
  {
   "cell_type": "markdown",
   "metadata": {},
   "source": [
    "## Imports"
   ]
  },
  {
   "cell_type": "code",
   "execution_count": 10,
   "metadata": {},
   "outputs": [],
   "source": [
    "import tensorflow as tf\n",
    "import numpy as np\n",
    "import keras.backend as K\n",
    "from tqdm import tqdm\n",
    "from keras.optimizers import Adam\n",
    "from keras.models import Sequential, Input, load_model\n",
    "from keras.layers import Dense, Dropout, Flatten\n",
    "from keras.layers import Conv2D, MaxPooling2D\n",
    "import keras\n",
    "\n",
    "from keras.datasets import mnist\n",
    "import cv2\n",
    "import matplotlib.pyplot as plt\n",
    "from tqdm import tqdm_notebook"
   ]
  },
  {
   "cell_type": "code",
   "execution_count": 2,
   "metadata": {},
   "outputs": [],
   "source": [
    "# Setting seeds for reproducibility \n",
    "np.random.seed(0)\n",
    "tf.set_random_seed(0)"
   ]
  },
  {
   "cell_type": "markdown",
   "metadata": {},
   "source": [
    "## Parameters"
   ]
  },
  {
   "cell_type": "code",
   "execution_count": 3,
   "metadata": {},
   "outputs": [],
   "source": [
    "# Global configuration\n",
    "batch_size = 128\n",
    "num_classes = 10\n",
    "epochs = 12\n",
    "\n",
    "# input image dimensions\n",
    "img_rows, img_cols = 28, 28\n",
    "target_rows, target_cols = 28, 28    # governed by the chosen model"
   ]
  },
  {
   "cell_type": "markdown",
   "metadata": {},
   "source": [
    "## Load Data"
   ]
  },
  {
   "cell_type": "code",
   "execution_count": 4,
   "metadata": {},
   "outputs": [],
   "source": [
    "# The data, split between train and test sets\n",
    "(x_train, y_train), (x_test, y_test) = mnist.load_data()\n",
    "\n",
    "if K.image_data_format() == 'channels_first':\n",
    "    x_train = x_train.reshape(x_train.shape[0], 1, img_rows, img_cols)\n",
    "    x_test = x_test.reshape(x_test.shape[0], 1, img_rows, img_cols)\n",
    "    input_shape = (1, img_rows, img_cols)\n",
    "else:\n",
    "    x_train = x_train.reshape(x_train.shape[0], img_rows, img_cols, 1)\n",
    "    x_test = x_test.reshape(x_test.shape[0], img_rows, img_cols, 1)\n",
    "    input_shape = (img_rows, img_cols, 1)\n",
    "\n",
    "x_train = x_train.astype('float32')\n",
    "x_test = x_test.astype('float32')\n",
    "x_train /= 255\n",
    "x_test /= 255\n",
    "\n",
    "if target_rows != img_rows or target_cols != img_cols:\n",
    "    # resize x_train\n",
    "    x_train_resized = []\n",
    "    for x_ in x_train:\n",
    "        # scale image to be the same WxH as we need:\n",
    "        x_ = cv2.resize(x_, dsize=(target_rows, target_cols), interpolation=cv2.INTER_CUBIC)\n",
    "        x_train_resized.append(x_)\n",
    "    x_train = np.asarray(x_train_resized)\n",
    "\n",
    "    # resize x_test\n",
    "    x_test_resized = []\n",
    "    for x_ in x_test:\n",
    "        # scale image to be the same WxH as we need:\n",
    "        x_ = cv2.resize(x_, dsize=(target_rows, target_cols), interpolation=cv2.INTER_CUBIC)\n",
    "        x_test_resized.append(x_)\n",
    "    x_test = np.asarray(x_test_resized)\n",
    "\n",
    "# convert class vectors to binary class matrices\n",
    "y_train = keras.utils.to_categorical(y_train, num_classes)\n",
    "y_test = keras.utils.to_categorical(y_test, num_classes)"
   ]
  },
  {
   "cell_type": "code",
   "execution_count": 5,
   "metadata": {},
   "outputs": [
    {
     "name": "stdout",
     "output_type": "stream",
     "text": [
      "X: (60000, 28, 28, 1) (10000, 28, 28, 1)\n",
      "y: (60000, 10) (10000, 10)\n",
      "60000 train samples\n",
      "10000 test samples\n"
     ]
    }
   ],
   "source": [
    "# summary of data shapes:\n",
    "print('X:', x_train.shape, x_test.shape)\n",
    "print('y:', y_train.shape, y_test.shape)\n",
    "print(x_train.shape[0], 'train samples')\n",
    "print(x_test.shape[0], 'test samples')"
   ]
  },
  {
   "cell_type": "markdown",
   "metadata": {},
   "source": [
    "#### Separate the data by class"
   ]
  },
  {
   "cell_type": "code",
   "execution_count": 6,
   "metadata": {},
   "outputs": [
    {
     "data": {
      "application/vnd.jupyter.widget-view+json": {
       "model_id": "ffb813a6d47440149d6f845895811d0e",
       "version_major": 2,
       "version_minor": 0
      },
      "text/plain": [
       "HBox(children=(IntProgress(value=0, max=10), HTML(value='')))"
      ]
     },
     "metadata": {},
     "output_type": "display_data"
    },
    {
     "name": "stdout",
     "output_type": "stream",
     "text": [
      "\n"
     ]
    },
    {
     "data": {
      "application/vnd.jupyter.widget-view+json": {
       "model_id": "5c7ab13ce00c4e73abefe15b25b63e2b",
       "version_major": 2,
       "version_minor": 0
      },
      "text/plain": [
       "HBox(children=(IntProgress(value=0, max=10), HTML(value='')))"
      ]
     },
     "metadata": {},
     "output_type": "display_data"
    },
    {
     "name": "stdout",
     "output_type": "stream",
     "text": [
      "\n"
     ]
    }
   ],
   "source": [
    "# Separating the data by class\n",
    "x_train_dict = {}\n",
    "y_train_dict = {}\n",
    "for target_label in tqdm_notebook(range(10)):\n",
    "    x_train_dict[target_label] = []\n",
    "    y_train_dict[target_label] = []\n",
    "    for i, label in enumerate(y_train):\n",
    "        if list(label).index(1) == target_label:\n",
    "            x_train_dict[target_label].append(x_train[i])\n",
    "            y_train_dict[target_label].append(y_train[i])\n",
    "            \n",
    "x_test_dict = {}\n",
    "y_test_dict = {}\n",
    "for target_label in tqdm_notebook(range(10)):\n",
    "    x_test_dict[target_label] = []\n",
    "    y_test_dict[target_label] = []\n",
    "    for i, label in enumerate(y_test):\n",
    "        if list(label).index(1) == target_label:\n",
    "            x_test_dict[target_label].append(x_test[i])\n",
    "            y_test_dict[target_label].append(y_test[i])\n",
    "            \n",
    "x_train_seperated = [np.array(x_train_dict[i]) for i in range(10)]\n",
    "y_train_seperated = [np.array(y_train_dict[i]) for i in range(10)]\n",
    "x_test_seperated = [np.array(x_test_dict[i]) for i in range(10)]\n",
    "y_test_seperated = [np.array(y_test_dict[i]) for i in range(10)]"
   ]
  },
  {
   "cell_type": "code",
   "execution_count": 7,
   "metadata": {},
   "outputs": [
    {
     "data": {
      "image/png": "[encoded data removed]",
      "text/plain": [
       "<Figure size 432x288 with 1 Axes>"
      ]
     },
     "metadata": {
      "needs_background": "light"
     },
     "output_type": "display_data"
    }
   ],
   "source": [
    "# summary of data shapes:\n",
    "\n",
    "plt.figure()\n",
    "plt.title('Data separation summary')\n",
    "plt.bar(x_train_dict.keys(), [len(v) for v in x_train_dict.values()], color='b')\n",
    "plt.bar(x_test_dict.keys(), [len(v) for v in x_test_dict.values()], color='g')\n",
    "plt.legend(['x_train', 'x_test'], loc='center right', framealpha=1.0)\n",
    "plt.xlabel('class label')\n",
    "plt.ylabel('count')\n",
    "plt.show()"
   ]
  },
  {
   "cell_type": "markdown",
   "metadata": {},
   "source": [
    "## Build Model"
   ]
  },
  {
   "cell_type": "code",
   "execution_count": 8,
   "metadata": {},
   "outputs": [
    {
     "name": "stdout",
     "output_type": "stream",
     "text": [
      "WARNING:tensorflow:From C:\\Users\\zharr\\Anaconda3\\lib\\site-packages\\tensorflow_core\\python\\ops\\resource_variable_ops.py:1630: calling BaseResourceVariable.__init__ (from tensorflow.python.ops.resource_variable_ops) with constraint is deprecated and will be removed in a future version.\n",
      "Instructions for updating:\n",
      "If using Keras pass *_constraint arguments to layers.\n",
      "WARNING:tensorflow:From C:\\Users\\zharr\\Anaconda3\\lib\\site-packages\\keras\\backend\\tensorflow_backend.py:4070: The name tf.nn.max_pool is deprecated. Please use tf.nn.max_pool2d instead.\n",
      "\n",
      "Model: \"sequential_1\"\n",
      "_________________________________________________________________\n",
      "Layer (type)                 Output Shape              Param #   \n",
      "=================================================================\n",
      "conv2d_1 (Conv2D)            (None, 26, 26, 32)        320       \n",
      "_________________________________________________________________\n",
      "conv2d_2 (Conv2D)            (None, 24, 24, 64)        18496     \n",
      "_________________________________________________________________\n",
      "max_pooling2d_1 (MaxPooling2 (None, 12, 12, 64)        0         \n",
      "_________________________________________________________________\n",
      "dropout_1 (Dropout)          (None, 12, 12, 64)        0         \n",
      "_________________________________________________________________\n",
      "flatten_1 (Flatten)          (None, 9216)              0         \n",
      "_________________________________________________________________\n",
      "dense_1 (Dense)              (None, 128)               1179776   \n",
      "_________________________________________________________________\n",
      "dropout_2 (Dropout)          (None, 128)               0         \n",
      "_________________________________________________________________\n",
      "dense_2 (Dense)              (None, 10)                1290      \n",
      "=================================================================\n",
      "Total params: 1,199,882\n",
      "Trainable params: 1,199,882\n",
      "Non-trainable params: 0\n",
      "_________________________________________________________________\n"
     ]
    }
   ],
   "source": [
    "# Model\n",
    "\n",
    "input_shape = (target_rows, target_cols, 1)\n",
    "\n",
    "model = Sequential()\n",
    "model.add(Conv2D(32, kernel_size=(3, 3),\n",
    "                 activation='relu',\n",
    "                 input_shape=input_shape))\n",
    "model.add(Conv2D(64, (3, 3), activation='relu'))\n",
    "model.add(MaxPooling2D(pool_size=(2, 2)))\n",
    "model.add(Dropout(0.25))\n",
    "model.add(Flatten())\n",
    "model.add(Dense(128, activation='relu'))\n",
    "model.add(Dropout(0.5))\n",
    "model.add(Dense(num_classes, activation='softmax'))\n",
    "\n",
    "model.summary()"
   ]
  },
  {
   "cell_type": "markdown",
   "metadata": {},
   "source": [
    "## Graph Creation"
   ]
  },
  {
   "cell_type": "code",
   "execution_count": 11,
   "metadata": {},
   "outputs": [],
   "source": [
    "# add place for input and pred label\n",
    "x = Input(shape=input_shape)\n",
    "y_pred = model(x)\n",
    "\n",
    "# add place for truth label\n",
    "y_true = Input(shape=(num_classes, ))"
   ]
  },
  {
   "cell_type": "code",
   "execution_count": 12,
   "metadata": {},
   "outputs": [],
   "source": [
    "# define loss function in terms of y_pred and y_true\n",
    "loss = tf.keras.losses.categorical_crossentropy(y_true, y_pred)"
   ]
  },
  {
   "cell_type": "code",
   "execution_count": 14,
   "metadata": {},
   "outputs": [
    {
     "name": "stdout",
     "output_type": "stream",
     "text": [
      "WARNING:tensorflow:From <ipython-input-14-c113009530ef>:11: Variable.initialized_value (from tensorflow.python.ops.variables) is deprecated and will be removed in a future version.\n",
      "Instructions for updating:\n",
      "Use Variable.read_value. Variables in 2.X are initialized automatically both in eager and graph (inside tf.defun) contexts.\n"
     ]
    }
   ],
   "source": [
    "# EXAMPLE from https://stackoverflow.com/questions/46772685/how-to-accumulate-gradients-in-tensorflow\n",
    "\n",
    "## Optimizer definition - nothing different from any classical example\n",
    "opt = tf.train.AdamOptimizer()\n",
    "\n",
    "## Retrieve all trainable variables you defined in your graph\n",
    "tvs = tf.trainable_variables()\n",
    "\n",
    "## Creation of a list of variables with the same shape as the trainable ones\n",
    "# initialized with 0s\n",
    "accum_vars = [tf.Variable(tf.zeros_like(tv.initialized_value()), trainable=False) for tv in tvs]\n",
    "zero_ops = [tv.assign(tf.zeros_like(tv)) for tv in accum_vars]\n",
    "\n",
    "## Calls the compute_gradients function of the optimizer to obtain... the list of gradients\n",
    "gvs = opt.compute_gradients(loss, tvs)\n",
    "\n",
    "## Adds to each element from the list you initialized earlier with zeros its gradient (works because accum_vars and gvs are in the same order)\n",
    "accum_ops = [accum_vars[i].assign_add(gv[0]) for i, gv in enumerate(gvs)]\n",
    "\n",
    "## Define the training step (part with variable value update)\n",
    "train_step = opt.apply_gradients([(accum_vars[i], gv[1]) for i, gv in enumerate(gvs)])"
   ]
  },
  {
   "cell_type": "markdown",
   "metadata": {},
   "source": [
    "## Split Training"
   ]
  },
  {
   "cell_type": "code",
   "execution_count": 15,
   "metadata": {},
   "outputs": [],
   "source": [
    "# TODO"
   ]
  },
  {
   "cell_type": "code",
   "execution_count": null,
   "metadata": {},
   "outputs": [],
   "source": [
    "## The while loop for training\n",
    "while ...:\n",
    "    # Run the zero_ops to initialize it\n",
    "    sess.run(zero_ops)\n",
    "    # Accumulate the gradients 'n_minibatches' times in accum_vars using accum_ops\n",
    "    for i in xrange(n_minibatches):\n",
    "        sess.run(accum_ops, feed_dict=dict(X: Xs[i], y: ys[i]))\n",
    "    # Run the train_step ops to update the weights based on your accumulated gradients\n",
    "    sess.run(train_step)"
   ]
  },
  {
   "cell_type": "code",
   "execution_count": null,
   "metadata": {},
   "outputs": [],
   "source": [
    "# Loss\n",
    "def loss_fn(y_true, y_pred):\n",
    "    # You can get all the crazy and twisted you \n",
    "    # want here no Keras restrictions this time :)\n",
    "    loss_value = K.sum(K.pow((y_true - y_pred), 2))\n",
    "    return loss_value\n",
    "\n",
    "# Optimizer to run the gradients\n",
    "optimizer = Adam(lr=1e-4)\n",
    "\n",
    "# Graph creation\n",
    "# Creating training flow\n",
    "# Ground truth input, samples or X_t\n",
    "y_true = Input(shape=[0])\n",
    "\n",
    "# Prediction\n",
    "y_pred = model(x)\n",
    "\n",
    "# Loss \n",
    "loss = loss_fn(y_true, y_pred)\n",
    "\n",
    "# Operation for getting \n",
    "# gradients and updating weights\n",
    "updates_op = optimizer.get_updates(\n",
    "    params=model.trainable_weights, \n",
    "    loss=loss)\n",
    "\n",
    "# The graph is created, now we need to call it\n",
    "# this would be similar to tf session.run()\n",
    "train = K.function(\n",
    "    inputs=[x, y_true], \n",
    "    outputs=[loss], \n",
    "    updates=updates_op)\n",
    "\n",
    "test = K.function(\n",
    "    inputs=[x, y_true], \n",
    "    outputs=[loss])\n",
    "\n",
    "\n",
    "# Training loop\n",
    "epochs = 100\n",
    "\n",
    "for epoch in range(epochs):\n",
    "    print('Epoch %s:' % epoch)\n",
    "\n",
    "    # Fancy progress bar\n",
    "    pbar = tqdm(range(len(samples)))\n",
    "\n",
    "    # Storing losses for computing mean\n",
    "    losses_train = []\n",
    "\n",
    "    # Batch loop: batch size=1\n",
    "    for idx in pbar:\n",
    "        sample = samples[idx]\n",
    "        target = targets[idx]\n",
    "\n",
    "        # Adding batch dim since batch=1\n",
    "        sample = np.expand_dims(sample, axis=0)\n",
    "        target = np.expand_dims(target, axis=0)\n",
    "\n",
    "        # To tensors, input of \n",
    "        # K.function must be tensors\n",
    "        sample = K.constant(sample)\n",
    "        target = K.constant(target)\n",
    "\n",
    "        # Running the train graph\n",
    "        loss_train = train([sample, target])\n",
    "        \n",
    "        # Compute loss mean\n",
    "        losses_train.append(loss_train[0])\n",
    "        loss_train_mean = np.mean(losses_train)\n",
    "        \n",
    "        # Update progress bar\n",
    "        pbar.set_description('Train Loss: %.3f' % loss_train_mean)\n",
    "\n",
    "    # Testing\n",
    "    losses_test = []\n",
    "    for idx in range(len(samples_test)):\n",
    "        sample_test = samples_test[idx]\n",
    "        target_test = targets_test[idx]\n",
    "\n",
    "        # Adding batch dim since batch=1\n",
    "        sample_test = np.expand_dims(sample_test, axis=0)\n",
    "        target_test = np.expand_dims(target_test, axis=0)\n",
    "\n",
    "        # To tensors\n",
    "        sample_test = K.constant(sample_test)\n",
    "        target_test = K.constant(target_test)\n",
    "        \n",
    "        # Evaluation test graph\n",
    "        loss_test = test([sample_test, target_test])\n",
    "        \n",
    "        # Compute test loss mean\n",
    "        losses_test.append(loss_test[0])\n",
    "    \n",
    "    loss_test_mean = np.mean(losses_test)\n",
    "    print('Test Loss: %.3f' % loss_test_mean)"
   ]
  }
 ],
 "metadata": {
  "kernelspec": {
   "display_name": "Python 3",
   "language": "python",
   "name": "python3"
  },
  "language_info": {
   "codemirror_mode": {
    "name": "ipython",
    "version": 3
   },
   "file_extension": ".py",
   "mimetype": "text/x-python",
   "name": "python",
   "nbconvert_exporter": "python",
   "pygments_lexer": "ipython3",
   "version": "3.7.3"
  }
 },
 "nbformat": 4,
 "nbformat_minor": 2
}
