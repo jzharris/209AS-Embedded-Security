{
 "cells": [
  {
   "cell_type": "markdown",
   "metadata": {},
   "source": [
    "# Step 4 - Comparison"
   ]
  },
  {
   "cell_type": "markdown",
   "metadata": {},
   "source": [
    "This notebook evaluates the correlation between the accuracy of the blackbox and the ability for us to estimate it using a network of similar complexity."
   ]
  },
  {
   "cell_type": "markdown",
   "metadata": {},
   "source": [
    "## Imports"
   ]
  },
  {
   "cell_type": "code",
   "execution_count": 1,
   "metadata": {},
   "outputs": [
    {
     "name": "stdout",
     "output_type": "stream",
     "text": [
      "1.15.0\n",
      "2.2.4-tf\n"
     ]
    },
    {
     "name": "stderr",
     "output_type": "stream",
     "text": [
      "Using TensorFlow backend.\n"
     ]
    }
   ],
   "source": [
    "import tensorflow as tf\n",
    "tf.keras.backend.clear_session()  # For easy reset of notebook state.\n",
    "from tensorflow import keras  # Import the tf version of keras.\n",
    "from tensorflow.keras.layers import Dense, Dropout, Flatten, Conv2D, MaxPooling2D\n",
    "import keras.backend as K\n",
    "from keras.datasets import mnist\n",
    "\n",
    "print(tf.__version__)\n",
    "print(keras.__version__)"
   ]
  },
  {
   "cell_type": "code",
   "execution_count": 2,
   "metadata": {},
   "outputs": [],
   "source": [
    "import numpy as np\n",
    "import cv2\n",
    "import matplotlib.pyplot as plt\n",
    "from tqdm import tqdm_notebook, tqdm\n",
    "import pickle\n",
    "\n",
    "import os.path\n",
    "import shutil\n",
    "import math\n",
    "import random"
   ]
  },
  {
   "cell_type": "code",
   "execution_count": 3,
   "metadata": {},
   "outputs": [],
   "source": [
    "# Setting seeds for reproducibility \n",
    "np.random.seed(0)\n",
    "tf.set_random_seed(0)\n",
    "\n",
    "# Enlargen plots\n",
    "plt.rcParams['figure.figsize'] = [10, 5]"
   ]
  },
  {
   "cell_type": "markdown",
   "metadata": {},
   "source": [
    "## Parameters"
   ]
  },
  {
   "cell_type": "code",
   "execution_count": 4,
   "metadata": {},
   "outputs": [],
   "source": [
    "# model params (MUST MATCH Blackbox Evaluator PARAMS)\n",
    "num_classes = 10\n",
    "max_epochs = 25\n",
    "save_every = 1\n",
    "discriminator_epochs = 25\n",
    "\n",
    "# client params\n",
    "clients_per_class = 100                         # number of clients per label. Each client only has access to one label\n",
    "                                                # - each unique class is divided into X number of subsets\n",
    "    \n",
    "minibatch_size = None                           # number of samples to operate on at one time\n",
    "                                                # - can vary to optimize computing requirements\n",
    "                                                # - if None, will evaluate the client's whole batch regardless of its size\n",
    "    \n",
    "batches_per_train_step = 20                     # after averaging the gradients from X clients, we will apply them to the model\n",
    "\n",
    "shuffle_clients = True\n",
    "\n",
    "# dataset params\n",
    "separated_folder = \"./separated_dataset\"\n",
    "os.makedirs(separated_folder, exist_ok=True)\n",
    "separated_train_path = os.path.join(separated_folder, \"train_separated.pkl\")\n",
    "separated_test_path = os.path.join(separated_folder, \"test_separated.pkl\")\n",
    "\n",
    "# input image dimensions\n",
    "img_rows, img_cols = 28, 28\n",
    "target_rows, target_cols = 28, 28    # governed by the chosen model"
   ]
  },
  {
   "cell_type": "markdown",
   "metadata": {},
   "source": [
    "## Load Data"
   ]
  },
  {
   "cell_type": "code",
   "execution_count": 5,
   "metadata": {},
   "outputs": [],
   "source": [
    "# The data, split between train and test sets\n",
    "(x_train, y_train), (x_test, y_test) = mnist.load_data()\n",
    "\n",
    "if K.image_data_format() == 'channels_first':\n",
    "    x_train = x_train.reshape(x_train.shape[0], 1, img_rows, img_cols)\n",
    "    x_test = x_test.reshape(x_test.shape[0], 1, img_rows, img_cols)\n",
    "    input_shape = (1, img_rows, img_cols)\n",
    "else:\n",
    "    x_train = x_train.reshape(x_train.shape[0], img_rows, img_cols, 1)\n",
    "    x_test = x_test.reshape(x_test.shape[0], img_rows, img_cols, 1)\n",
    "    input_shape = (img_rows, img_cols, 1)\n",
    "\n",
    "x_train = x_train.astype('float32')\n",
    "x_test = x_test.astype('float32')\n",
    "x_train /= 255\n",
    "x_test /= 255\n",
    "\n",
    "if target_rows != img_rows or target_cols != img_cols:\n",
    "    # resize x_train\n",
    "    x_train_resized = []\n",
    "    for x_ in x_train:\n",
    "        # scale image to be the same WxH as we need:\n",
    "        x_ = cv2.resize(x_, dsize=(target_rows, target_cols), interpolation=cv2.INTER_CUBIC)\n",
    "        x_train_resized.append(x_)\n",
    "    x_train = np.asarray(x_train_resized)\n",
    "\n",
    "    # resize x_test\n",
    "    x_test_resized = []\n",
    "    for x_ in x_test:\n",
    "        # scale image to be the same WxH as we need:\n",
    "        x_ = cv2.resize(x_, dsize=(target_rows, target_cols), interpolation=cv2.INTER_CUBIC)\n",
    "        x_test_resized.append(x_)\n",
    "    x_test = np.asarray(x_test_resized)\n",
    "\n",
    "# convert class vectors to binary class matrices\n",
    "y_train = keras.utils.to_categorical(y_train, num_classes)\n",
    "y_test = keras.utils.to_categorical(y_test, num_classes)"
   ]
  },
  {
   "cell_type": "code",
   "execution_count": 6,
   "metadata": {},
   "outputs": [
    {
     "name": "stdout",
     "output_type": "stream",
     "text": [
      "X: (60000, 28, 28, 1) (10000, 28, 28, 1)\n",
      "y: (60000, 10) (10000, 10)\n",
      "60000 train samples\n",
      "10000 test samples\n"
     ]
    }
   ],
   "source": [
    "# summary of data shapes:\n",
    "print('X:', x_train.shape, x_test.shape)\n",
    "print('y:', y_train.shape, y_test.shape)\n",
    "print(x_train.shape[0], 'train samples')\n",
    "print(x_test.shape[0], 'test samples')"
   ]
  },
  {
   "cell_type": "markdown",
   "metadata": {},
   "source": [
    "#### Separate the data by class"
   ]
  },
  {
   "cell_type": "code",
   "execution_count": 7,
   "metadata": {},
   "outputs": [
    {
     "name": "stdout",
     "output_type": "stream",
     "text": [
      "loaded training seperation\n",
      "loaded testing seperation\n"
     ]
    }
   ],
   "source": [
    "# Separating the data by class\n",
    "if os.path.isfile(separated_train_path):\n",
    "    with open(separated_train_path, 'rb') as f:\n",
    "        x_train_dict, y_train_dict = pickle.load(f)\n",
    "        print('loaded training seperation')\n",
    "else:\n",
    "    x_train_dict = {}\n",
    "    y_train_dict = {}\n",
    "    for target_label in tqdm_notebook(range(10)):\n",
    "        x_train_dict[target_label] = []\n",
    "        y_train_dict[target_label] = []\n",
    "        for i, label in enumerate(y_train):\n",
    "            if list(label).index(1) == target_label:\n",
    "                x_train_dict[target_label].append(x_train[i])\n",
    "                y_train_dict[target_label].append(y_train[i])\n",
    "    \n",
    "    with open(separated_train_path, 'wb') as f:\n",
    "        pickle.dump([x_train_dict, y_train_dict], f)\n",
    "        print('saved training seperation')\n",
    "\n",
    "if os.path.isfile(separated_test_path):\n",
    "    with open(separated_test_path, 'rb') as f:\n",
    "        x_test_dict, y_test_dict = pickle.load(f)\n",
    "        print('loaded testing seperation')\n",
    "else:\n",
    "    x_test_dict = {}\n",
    "    y_test_dict = {}\n",
    "    for target_label in tqdm_notebook(range(10)):\n",
    "        x_test_dict[target_label] = []\n",
    "        y_test_dict[target_label] = []\n",
    "        for i, label in enumerate(y_test):\n",
    "            if list(label).index(1) == target_label:\n",
    "                x_test_dict[target_label].append(x_test[i])\n",
    "                y_test_dict[target_label].append(y_test[i])\n",
    "\n",
    "    with open(separated_test_path, 'wb') as f:\n",
    "        pickle.dump([x_test_dict, y_test_dict], f)\n",
    "        print('saved testing seperation')\n",
    "    \n",
    "# convert dicts to lists\n",
    "x_train_seperated = [np.array(x_train_dict[i]) for i in range(10)]\n",
    "y_train_seperated = [np.array(y_train_dict[i]) for i in range(10)]\n",
    "\n",
    "x_test_seperated = [np.array(x_test_dict[i]) for i in range(10)]\n",
    "y_test_seperated = [np.array(y_test_dict[i]) for i in range(10)]"
   ]
  },
  {
   "cell_type": "code",
   "execution_count": 8,
   "metadata": {},
   "outputs": [
    {
     "data": {
      "image/png": "[encoded data removed]",
      "text/plain": [
       "<Figure size 720x360 with 1 Axes>"
      ]
     },
     "metadata": {
      "needs_background": "light"
     },
     "output_type": "display_data"
    }
   ],
   "source": [
    "# summary of data shapes:\n",
    "plt.figure()\n",
    "plt.title('Data separation per class')\n",
    "plt.bar(x_train_dict.keys(), [len(v) for v in x_train_dict.values()], color='tab:blue')\n",
    "plt.bar(x_test_dict.keys(), [len(v) for v in x_test_dict.values()], color='orange', width=0.6)\n",
    "plt.legend(['x_train', 'x_test'], loc='center right', framealpha=1.0)\n",
    "plt.xlabel('class label')\n",
    "plt.ylabel('count')\n",
    "plt.show()"
   ]
  },
  {
   "cell_type": "markdown",
   "metadata": {},
   "source": [
    "#### Separate the data into batches for clients to use"
   ]
  },
  {
   "cell_type": "code",
   "execution_count": 9,
   "metadata": {},
   "outputs": [
    {
     "data": {
      "image/png": "[encoded data removed]",
      "text/plain": [
       "<Figure size 720x360 with 2 Axes>"
      ]
     },
     "metadata": {},
     "output_type": "display_data"
    },
    {
     "name": "stdout",
     "output_type": "stream",
     "text": [
      "Clients per class:  99.6 ~= 100\n",
      "Total number of clients: 996\n",
      "Average batch size: 60.6\n"
     ]
    }
   ],
   "source": [
    "# Separate the data into a long list of batches, each batch representing a client training with that batch of images.\n",
    "# After each batch, a new client will have the opportunity to train their batch of images.\n",
    "# Batches are shuffled to simulate many clients training the model at once.\n",
    "\n",
    "client_counts = {}\n",
    "batch_sizes = {}\n",
    "x_batches = []\n",
    "y_batches = []\n",
    "\n",
    "def ceil(a,b):\n",
    "    return -(-a//b)\n",
    "\n",
    "for class_idx in range(len(x_train_seperated)):\n",
    "    # Get batches from class data:\n",
    "    n_samples_per_class = len(x_train_seperated[class_idx])\n",
    "    samples_per_client = n_samples_per_class / clients_per_class\n",
    "    better_batch_size = int(math.ceil(samples_per_client))\n",
    "\n",
    "    count = 0\n",
    "    for i in range(ceil(n_samples_per_class, better_batch_size)):\n",
    "        x_batches.append((class_idx, x_train_seperated[class_idx][i * better_batch_size: (i+1) * better_batch_size]))\n",
    "        y_batches.append((class_idx, y_train_seperated[class_idx][i * better_batch_size: (i+1) * better_batch_size]))\n",
    "        count += 1\n",
    "    client_counts[class_idx] = count\n",
    "    batch_sizes[class_idx] = better_batch_size\n",
    "        \n",
    "# double check that the clients_per_class is upheld per class\n",
    "# (blue bars should be uniform, orange should change according to class):\n",
    "fig, ax1 = plt.subplots()\n",
    "\n",
    "color = 'tab:blue'\n",
    "ax1.set_xlabel('class label')\n",
    "ax1.set_ylabel('client count', color=color)\n",
    "plt.bar(client_counts.keys(), [v for v in client_counts.values()], color=color)\n",
    "ax1.tick_params(axis='y', labelcolor=color)\n",
    "\n",
    "ax2 = ax1.twinx()  # instantiate a second axes that shares the same x-axis\n",
    "\n",
    "color = 'orange'\n",
    "ax2.set_ylabel('batch size', color=color)  # we already handled the x-label with ax1\n",
    "plt.bar(batch_sizes.keys(), [v for v in batch_sizes.values()], color=color, width=0.6)\n",
    "ax2.tick_params(axis='y', labelcolor=color)\n",
    "ax2.set_ylim(0, np.mean([v for v in batch_sizes.values()])*2)\n",
    "\n",
    "fig.tight_layout()  # otherwise the right y-label is slightly clipped\n",
    "plt.show()\n",
    "\n",
    "print('Clients per class:  {} ~= {}'.format(np.mean([v for v in client_counts.values()]), clients_per_class))\n",
    "print('Total number of clients: {}'.format(np.sum([v for v in client_counts.values()])))\n",
    "print('Average batch size: {}'.format(np.mean([v for v in batch_sizes.values()])))"
   ]
  },
  {
   "cell_type": "markdown",
   "metadata": {},
   "source": [
    "#### Load the y_eval sets generated by the Blackbox model"
   ]
  },
  {
   "cell_type": "markdown",
   "metadata": {},
   "source": [
    "## Build Model"
   ]
  },
  {
   "cell_type": "code",
   "execution_count": 10,
   "metadata": {},
   "outputs": [],
   "source": [
    "def blackbox_model(input_layer, training=True):\n",
    "    h = Conv2D(32, kernel_size=(3, 3), activation='relu', input_shape=input_shape, trainable=training)(input_layer)\n",
    "    h = Conv2D(64, (3, 3), activation='relu', trainable=training)(h)\n",
    "    h = MaxPooling2D(pool_size=(2, 2), trainable=training)(h)\n",
    "    h = Dropout(0.25, trainable=training)(h, training=training)\n",
    "    h = Flatten(trainable=training)(h)\n",
    "    h = Dense(128, activation='relu', trainable=training)(h)\n",
    "    h = Dropout(0.5, trainable=training)(h, training=training)\n",
    "    output_layer = Dense(num_classes, activation='softmax', trainable=training)(h)\n",
    "    \n",
    "    return output_layer"
   ]
  },
  {
   "cell_type": "code",
   "execution_count": 11,
   "metadata": {},
   "outputs": [],
   "source": [
    "# to remove model complexity, the blackbox and discriminator models will be kept the same\n",
    "\n",
    "def discriminator_model(input_shape, training=True):\n",
    "    model = blackbox_model(input_shape, training)\n",
    "    \n",
    "    return model"
   ]
  },
  {
   "cell_type": "code",
   "execution_count": 12,
   "metadata": {},
   "outputs": [],
   "source": [
    "input_shape = (target_rows, target_cols, 1)"
   ]
  },
  {
   "cell_type": "markdown",
   "metadata": {},
   "source": [
    "## Graph Creation"
   ]
  },
  {
   "cell_type": "code",
   "execution_count": 13,
   "metadata": {},
   "outputs": [
    {
     "name": "stdout",
     "output_type": "stream",
     "text": [
      "WARNING:tensorflow:From C:\\Users\\zharr\\Anaconda3\\lib\\site-packages\\tensorflow_core\\python\\ops\\resource_variable_ops.py:1630: calling BaseResourceVariable.__init__ (from tensorflow.python.ops.resource_variable_ops) with constraint is deprecated and will be removed in a future version.\n",
      "Instructions for updating:\n",
      "If using Keras pass *_constraint arguments to layers.\n"
     ]
    }
   ],
   "source": [
    "# add nodes for input and discriminator model\n",
    "x = keras.Input(shape=input_shape)\n",
    "y_discriminator = discriminator_model(x, training=False)\n",
    "\n",
    "# add node for input from evaluated model\n",
    "y_blackbox = keras.Input(shape=(num_classes, ))\n",
    "\n",
    "# we still need the true labels to measure accuracy differences\n",
    "y_true = keras.Input(shape=(num_classes, ))"
   ]
  },
  {
   "cell_type": "code",
   "execution_count": 14,
   "metadata": {},
   "outputs": [],
   "source": [
    "# Define loss function in terms of y_pred and y_true\n",
    "loss = keras.losses.MSE(y_blackbox, y_discriminator)\n",
    "\n",
    "# Setup metrics to look at during training:\n",
    "_, acc_op_b = tf.metrics.accuracy(labels=tf.argmax(y_true, 1), predictions=tf.argmax(y_blackbox, 1))\n",
    "_, acc_op_d = tf.metrics.accuracy(labels=tf.argmax(y_true, 1), predictions=tf.argmax(y_discriminator, 1))\n",
    "\n",
    "# Define extra accuracy to look at acc between both models\n",
    "_, acc_op_c = tf.metrics.accuracy(labels=tf.argmax(y_blackbox, 1), predictions=tf.argmax(y_discriminator, 1))\n",
    "\n",
    "## Optimizer definition - nothing different from any classical example\n",
    "optimizer = tf.train.AdamOptimizer()\n",
    "\n",
    "# Add ops to save and restore all the variables.\n",
    "saver = tf.train.Saver(max_to_keep=discriminator_epochs)"
   ]
  },
  {
   "cell_type": "code",
   "execution_count": 15,
   "metadata": {},
   "outputs": [
    {
     "name": "stdout",
     "output_type": "stream",
     "text": [
      "WARNING:tensorflow:From <ipython-input-15-3bc30d66b1bb>:11: Variable.initialized_value (from tensorflow.python.ops.variables) is deprecated and will be removed in a future version.\n",
      "Instructions for updating:\n",
      "Use Variable.read_value. Variables in 2.X are initialized automatically both in eager and graph (inside tf.defun) contexts.\n"
     ]
    }
   ],
   "source": [
    "# INSPIRED by https://stackoverflow.com/questions/42156957/how-to-update-model-parameters-with-accumulated-gradients\n",
    "\n",
    "# Fetch a list of our network's trainable parameters.\n",
    "trainable_vars = tf.trainable_variables()\n",
    "\n",
    "# Create variables to store accumulated gradients\n",
    "accumulators = [\n",
    "    tf.Variable(\n",
    "        tf.zeros_like(tv.initialized_value()),\n",
    "        trainable=False\n",
    "    ) for tv in trainable_vars\n",
    "]\n",
    "\n",
    "# Create a variable for counting the number of accumulations\n",
    "accumulation_counter = tf.Variable(0.0, trainable=False)\n",
    "\n",
    "# Compute gradients; grad_pairs contains (gradient, variable) pairs\n",
    "grad_pairs = optimizer.compute_gradients(loss, trainable_vars)\n",
    "\n",
    "# Create operations which add a variable's gradient to its accumulator.\n",
    "accumulate_ops = [\n",
    "    accumulator.assign_add(\n",
    "        grad\n",
    "    ) for (accumulator, (grad, var)) in zip(accumulators, grad_pairs)\n",
    "]\n",
    "\n",
    "# The final accumulation operation is to increment the counter\n",
    "accumulate_ops.append(accumulation_counter.assign_add(1.0))\n",
    "\n",
    "# Update trainable variables by applying the accumulated gradients\n",
    "# divided by the counter. Note: apply_gradients takes in a list of \n",
    "# (grad, var) pairs\n",
    "train_step = optimizer.apply_gradients(\n",
    "    [(accumulator / accumulation_counter, var) \\\n",
    "        for (accumulator, (grad, var)) in zip(accumulators, grad_pairs)]\n",
    ")\n",
    "\n",
    "# Accumulators must be zeroed once the accumulated gradient is applied.\n",
    "zero_ops = [\n",
    "    accumulator.assign(\n",
    "        tf.zeros_like(tv)\n",
    "    ) for (accumulator, tv) in zip(accumulators, trainable_vars)\n",
    "]\n",
    "\n",
    "# Add one last op for zeroing the counter\n",
    "zero_ops.append(accumulation_counter.assign(0.0))"
   ]
  },
  {
   "cell_type": "markdown",
   "metadata": {},
   "source": [
    "## Split Training"
   ]
  },
  {
   "cell_type": "code",
   "execution_count": 16,
   "metadata": {},
   "outputs": [],
   "source": [
    "# Initialize the session\n",
    "\n",
    "sess = tf.Session()\n",
    "sess.run(tf.local_variables_initializer())\n",
    "sess.run(tf.global_variables_initializer())"
   ]
  },
  {
   "cell_type": "code",
   "execution_count": 17,
   "metadata": {
    "scrolled": true
   },
   "outputs": [
    {
     "name": "stdout",
     "output_type": "stream",
     "text": [
      "Evaluating the model...\n",
      "\n",
      "========================================\n",
      "Loading previous blackbox_e1 evaluation\n",
      "\n",
      "INFO:tensorflow:Restoring parameters from ./discriminator_checkpoints/blackbox_e1__discriminator_e25\\discriminator_checkpoint.ckpt\n",
      "========================================\n",
      "Evaluating blackbox_e1__discriminator_e25\n",
      "Test Accuracy:  D[0.969] --> B[0.967] | MSE(D): 3.684161e+00\n",
      "\n",
      "========================================\n",
      "Loading previous blackbox_e2 evaluation\n",
      "\n",
      "INFO:tensorflow:Restoring parameters from ./discriminator_checkpoints/blackbox_e2__discriminator_e25\\discriminator_checkpoint.ckpt\n",
      "========================================\n",
      "Evaluating blackbox_e2__discriminator_e25\n",
      "Test Accuracy:  D[0.974] --> B[0.972] | MSE(D): 3.234272e+00\n",
      "\n",
      "========================================\n",
      "Loading previous blackbox_e3 evaluation\n",
      "\n",
      "INFO:tensorflow:Restoring parameters from ./discriminator_checkpoints/blackbox_e3__discriminator_e25\\discriminator_checkpoint.ckpt\n",
      "========================================\n",
      "Evaluating blackbox_e3__discriminator_e25\n",
      "Test Accuracy:  D[0.977] --> B[0.975] | MSE(D): 3.526028e+00\n",
      "\n",
      "========================================\n",
      "Loading previous blackbox_e4 evaluation\n",
      "\n",
      "INFO:tensorflow:Restoring parameters from ./discriminator_checkpoints/blackbox_e4__discriminator_e25\\discriminator_checkpoint.ckpt\n",
      "========================================\n",
      "Evaluating blackbox_e4__discriminator_e25\n",
      "Test Accuracy:  D[0.979] --> B[0.977] | MSE(D): 4.023101e+00\n",
      "\n",
      "========================================\n",
      "Loading previous blackbox_e5 evaluation\n",
      "\n",
      "INFO:tensorflow:Restoring parameters from ./discriminator_checkpoints/blackbox_e5__discriminator_e25\\discriminator_checkpoint.ckpt\n",
      "========================================\n",
      "Evaluating blackbox_e5__discriminator_e25\n",
      "Test Accuracy:  D[0.981] --> B[0.979] | MSE(D): 3.655129e+00\n",
      "\n",
      "========================================\n",
      "Loading previous blackbox_e6 evaluation\n",
      "\n",
      "INFO:tensorflow:Restoring parameters from ./discriminator_checkpoints/blackbox_e6__discriminator_e25\\discriminator_checkpoint.ckpt\n",
      "========================================\n",
      "Evaluating blackbox_e6__discriminator_e25\n",
      "Test Accuracy:  D[0.982] --> B[0.980] | MSE(D): 4.408749e+00\n",
      "\n",
      "========================================\n",
      "Loading previous blackbox_e7 evaluation\n",
      "\n",
      "INFO:tensorflow:Restoring parameters from ./discriminator_checkpoints/blackbox_e7__discriminator_e25\\discriminator_checkpoint.ckpt\n",
      "========================================\n",
      "Evaluating blackbox_e7__discriminator_e25\n",
      "Test Accuracy:  D[0.983] --> B[0.981] | MSE(D): 3.438221e+00\n",
      "\n",
      "========================================\n",
      "Loading previous blackbox_e8 evaluation\n",
      "\n",
      "INFO:tensorflow:Restoring parameters from ./discriminator_checkpoints/blackbox_e8__discriminator_e25\\discriminator_checkpoint.ckpt\n",
      "========================================\n",
      "Evaluating blackbox_e8__discriminator_e25\n",
      "Test Accuracy:  D[0.983] --> B[0.982] | MSE(D): 3.817488e+00\n",
      "\n",
      "========================================\n",
      "Loading previous blackbox_e9 evaluation\n",
      "\n",
      "INFO:tensorflow:Restoring parameters from ./discriminator_checkpoints/blackbox_e9__discriminator_e25\\discriminator_checkpoint.ckpt\n",
      "========================================\n",
      "Evaluating blackbox_e9__discriminator_e25\n",
      "Test Accuracy:  D[0.984] --> B[0.983] | MSE(D): 3.381638e+00\n",
      "\n",
      "========================================\n",
      "Loading previous blackbox_e10 evaluation\n",
      "\n",
      "INFO:tensorflow:Restoring parameters from ./discriminator_checkpoints/blackbox_e10__discriminator_e25\\discriminator_checkpoint.ckpt\n",
      "========================================\n",
      "Evaluating blackbox_e10__discriminator_e25\n",
      "Test Accuracy:  D[0.985] --> B[0.983] | MSE(D): 3.697616e+00\n",
      "\n",
      "========================================\n",
      "Loading previous blackbox_e11 evaluation\n",
      "\n",
      "INFO:tensorflow:Restoring parameters from ./discriminator_checkpoints/blackbox_e11__discriminator_e25\\discriminator_checkpoint.ckpt\n",
      "========================================\n",
      "Evaluating blackbox_e11__discriminator_e25\n",
      "Test Accuracy:  D[0.985] --> B[0.984] | MSE(D): 4.012317e+00\n",
      "\n",
      "========================================\n",
      "Loading previous blackbox_e12 evaluation\n",
      "\n",
      "INFO:tensorflow:Restoring parameters from ./discriminator_checkpoints/blackbox_e12__discriminator_e25\\discriminator_checkpoint.ckpt\n",
      "========================================\n",
      "Evaluating blackbox_e12__discriminator_e25\n",
      "Test Accuracy:  D[0.985] --> B[0.984] | MSE(D): 4.343576e+00\n",
      "\n",
      "========================================\n",
      "Loading previous blackbox_e13 evaluation\n",
      "\n",
      "INFO:tensorflow:Restoring parameters from ./discriminator_checkpoints/blackbox_e13__discriminator_e25\\discriminator_checkpoint.ckpt\n",
      "========================================\n",
      "Evaluating blackbox_e13__discriminator_e25\n",
      "Test Accuracy:  D[0.986] --> B[0.985] | MSE(D): 5.593540e+00\n",
      "\n",
      "========================================\n",
      "Loading previous blackbox_e14 evaluation\n",
      "\n",
      "INFO:tensorflow:Restoring parameters from ./discriminator_checkpoints/blackbox_e14__discriminator_e25\\discriminator_checkpoint.ckpt\n",
      "========================================\n",
      "Evaluating blackbox_e14__discriminator_e25\n",
      "Test Accuracy:  D[0.986] --> B[0.985] | MSE(D): 3.750721e+00\n",
      "\n",
      "========================================\n",
      "Loading previous blackbox_e15 evaluation\n",
      "\n",
      "INFO:tensorflow:Restoring parameters from ./discriminator_checkpoints/blackbox_e15__discriminator_e25\\discriminator_checkpoint.ckpt\n",
      "========================================\n",
      "Evaluating blackbox_e15__discriminator_e25\n",
      "Test Accuracy:  D[0.986] --> B[0.985] | MSE(D): 4.138202e+00\n",
      "\n",
      "========================================\n",
      "Loading previous blackbox_e16 evaluation\n",
      "\n",
      "INFO:tensorflow:Restoring parameters from ./discriminator_checkpoints/blackbox_e16__discriminator_e25\\discriminator_checkpoint.ckpt\n",
      "========================================\n",
      "Evaluating blackbox_e16__discriminator_e25\n",
      "Test Accuracy:  D[0.987] --> B[0.986] | MSE(D): 5.384528e+00\n",
      "\n",
      "========================================\n",
      "Loading previous blackbox_e17 evaluation\n",
      "\n",
      "INFO:tensorflow:Restoring parameters from ./discriminator_checkpoints/blackbox_e17__discriminator_e25\\discriminator_checkpoint.ckpt\n",
      "========================================\n",
      "Evaluating blackbox_e17__discriminator_e25\n",
      "Test Accuracy:  D[0.987] --> B[0.986] | MSE(D): 4.493989e+00\n",
      "\n",
      "========================================\n",
      "Loading previous blackbox_e18 evaluation\n",
      "\n",
      "INFO:tensorflow:Restoring parameters from ./discriminator_checkpoints/blackbox_e18__discriminator_e25\\discriminator_checkpoint.ckpt\n",
      "========================================\n",
      "Evaluating blackbox_e18__discriminator_e25\n",
      "Test Accuracy:  D[0.987] --> B[0.986] | MSE(D): 4.195588e+00\n",
      "\n",
      "========================================\n",
      "Loading previous blackbox_e19 evaluation\n",
      "\n",
      "INFO:tensorflow:Restoring parameters from ./discriminator_checkpoints/blackbox_e19__discriminator_e25\\discriminator_checkpoint.ckpt\n",
      "========================================\n",
      "Evaluating blackbox_e19__discriminator_e25\n",
      "Test Accuracy:  D[0.987] --> B[0.986] | MSE(D): 4.386085e+00\n",
      "\n",
      "========================================\n",
      "Loading previous blackbox_e20 evaluation\n",
      "\n",
      "INFO:tensorflow:Restoring parameters from ./discriminator_checkpoints/blackbox_e20__discriminator_e25\\discriminator_checkpoint.ckpt\n",
      "========================================\n",
      "Evaluating blackbox_e20__discriminator_e25\n",
      "Test Accuracy:  D[0.987] --> B[0.987] | MSE(D): 5.436059e+00\n",
      "\n",
      "========================================\n",
      "Loading previous blackbox_e21 evaluation\n",
      "\n",
      "INFO:tensorflow:Restoring parameters from ./discriminator_checkpoints/blackbox_e21__discriminator_e25\\discriminator_checkpoint.ckpt\n",
      "========================================\n",
      "Evaluating blackbox_e21__discriminator_e25\n",
      "Test Accuracy:  D[0.987] --> B[0.987] | MSE(D): 5.742681e+00\n",
      "\n",
      "========================================\n",
      "Loading previous blackbox_e22 evaluation\n",
      "\n",
      "INFO:tensorflow:Restoring parameters from ./discriminator_checkpoints/blackbox_e22__discriminator_e25\\discriminator_checkpoint.ckpt\n",
      "========================================\n",
      "Evaluating blackbox_e22__discriminator_e25\n",
      "Test Accuracy:  D[0.988] --> B[0.987] | MSE(D): 4.242888e+00\n",
      "\n",
      "========================================\n",
      "Loading previous blackbox_e23 evaluation\n",
      "\n",
      "INFO:tensorflow:Restoring parameters from ./discriminator_checkpoints/blackbox_e23__discriminator_e25\\discriminator_checkpoint.ckpt\n"
     ]
    },
    {
     "name": "stdout",
     "output_type": "stream",
     "text": [
      "========================================\n",
      "Evaluating blackbox_e23__discriminator_e25\n",
      "Test Accuracy:  D[0.988] --> B[0.987] | MSE(D): 6.529910e+00\n",
      "\n",
      "========================================\n",
      "Loading previous blackbox_e24 evaluation\n",
      "\n",
      "INFO:tensorflow:Restoring parameters from ./discriminator_checkpoints/blackbox_e24__discriminator_e25\\discriminator_checkpoint.ckpt\n",
      "========================================\n",
      "Evaluating blackbox_e24__discriminator_e25\n",
      "Test Accuracy:  D[0.988] --> B[0.987] | MSE(D): 4.528858e+00\n",
      "\n",
      "========================================\n",
      "Loading previous blackbox_e25 evaluation\n",
      "\n",
      "INFO:tensorflow:Restoring parameters from ./discriminator_checkpoints/blackbox_e25__discriminator_e25\\discriminator_checkpoint.ckpt\n",
      "========================================\n",
      "Evaluating blackbox_e25__discriminator_e25\n",
      "Test Accuracy:  D[0.988] --> B[0.988] | MSE(D): 5.401273e+00\n",
      "\n"
     ]
    }
   ],
   "source": [
    "# Evaluation\n",
    "\n",
    "print('Evaluating the model...\\n')\n",
    "\n",
    "accs_test_b = []\n",
    "accs_test_d = []\n",
    "losses_test = []\n",
    "accs_test_c = []\n",
    "\n",
    "# Loop through every trained blackbox model, and train a new discriminator on it:\n",
    "for blackbox_epoch in range(max_epochs):\n",
    "    if (blackbox_epoch+1) % save_every == 0 or blackbox_epoch+1 == max_epochs:\n",
    "        \n",
    "        #######################################################################################\n",
    "        \n",
    "        # Load the outputs from the blackbox\n",
    "        print('='*40)\n",
    "        print('Loading previous blackbox_e{} evaluation'.format(blackbox_epoch+1))\n",
    "        print()\n",
    "        \n",
    "        # load the pickle files:\n",
    "        eval_folder = \"./blackbox_evals/blackbox_e{}\".format(blackbox_epoch+1)\n",
    "        \n",
    "        # load training batches\n",
    "        batch_idxs = list(range(len(x_batches)))\n",
    "        blackbox_train_batches = []\n",
    "        for batch_idx in batch_idxs:\n",
    "            eval_file = os.path.join(eval_folder, 'train_{}.pkl'.format(batch_idx))\n",
    "            with open(eval_file, 'rb') as f:\n",
    "                y_eval = pickle.load(f)\n",
    "            blackbox_train_batches.append(y_eval)\n",
    "            \n",
    "        # load testing batches\n",
    "        eval_file = os.path.join(eval_folder, 'test_all.pkl')\n",
    "        with open(eval_file, 'rb') as f:\n",
    "            y_eval = pickle.load(f)\n",
    "        b_test = y_eval\n",
    "        \n",
    "        #######################################################################################\n",
    "        \n",
    "        # Load the discriminator weights:\n",
    "        checkpoint_folder = \"./discriminator_checkpoints/blackbox_e{}__discriminator_e{}\".format(blackbox_epoch+1, \n",
    "                                                                                                 discriminator_epochs)\n",
    "        discriminator_weights_path = os.path.join(checkpoint_folder, 'discriminator_checkpoint.ckpt')\n",
    "        # model.load_weights(blackbox_weights_path)\n",
    "        saver.restore(sess, discriminator_weights_path)\n",
    "        \n",
    "        # Evaluate the discriminator\n",
    "        print('='*40)\n",
    "        print('Evaluating blackbox_e{}__discriminator_e{}'.format(blackbox_epoch+1, discriminator_epochs))\n",
    "\n",
    "        # Calculate test acc and loss\n",
    "        acc_test_b, acc_test_d, loss_test, acc_test_c = sess.run([acc_op_b, acc_op_d, loss, acc_op_c],\n",
    "                                                                 feed_dict={x: x_test, y_blackbox: b_test, y_true: y_test})\n",
    "        loss_test = np.sum(loss_test)\n",
    "        \n",
    "        accs_test_b.append(acc_test_b)\n",
    "        accs_test_d.append(acc_test_d)\n",
    "        losses_test.append(loss_test)\n",
    "        accs_test_c.append(acc_test_c)\n",
    "\n",
    "        # Update progress bar\n",
    "        print('Test Accuracy:  D[{:.3f}] --> B[{:.3f}] | MSE(D): {:e}'.format(acc_test_d, acc_test_b, loss_test))\n",
    "        print()\n",
    "    else:\n",
    "        pass"
   ]
  },
  {
   "cell_type": "code",
   "execution_count": 19,
   "metadata": {},
   "outputs": [],
   "source": [
    "epoch_list = np.array([i + 1 for i in range(max_epochs)])"
   ]
  },
  {
   "cell_type": "code",
   "execution_count": 32,
   "metadata": {},
   "outputs": [
    {
     "data": {
      "image/png": "[encoded data removed]",
      "text/plain": [
       "<Figure size 720x360 with 1 Axes>"
      ]
     },
     "metadata": {
      "needs_background": "light"
     },
     "output_type": "display_data"
    }
   ],
   "source": [
    "# Plot test losses wrt epochs trained\n",
    "\n",
    "accs_test_c_np = np.array(accs_test_c)\n",
    "\n",
    "# best fit line\n",
    "xp = np.linspace(epoch_list[0], epoch_list[-1], 100)\n",
    "z = np.polyfit(epoch_list, accs_test_c_np, 2)\n",
    "p = np.poly1d(z)\n",
    "\n",
    "plt.figure()\n",
    "plt.title('Accuracy of Discriminator vs Blackbox training')\n",
    "plt.plot(epoch_list, accs_test_c_np)\n",
    "plt.plot(xp, p(xp), '--')\n",
    "plt.xlabel('Blackbox training (epochs)')\n",
    "plt.ylabel('Accuracy of Discriminator')\n",
    "plt.legend(['readings', 'best fit'], loc='upper left')\n",
    "plt.show()"
   ]
  },
  {
   "cell_type": "code",
   "execution_count": 33,
   "metadata": {},
   "outputs": [
    {
     "data": {
      "image/png": "[encoded data removed]",
      "text/plain": [
       "<Figure size 720x360 with 1 Axes>"
      ]
     },
     "metadata": {
      "needs_background": "light"
     },
     "output_type": "display_data"
    }
   ],
   "source": [
    "# Plot test losses wrt epochs trained\n",
    "\n",
    "losses_test_np = np.array(losses_test)\n",
    "\n",
    "# best fit line\n",
    "xp = np.linspace(epoch_list[0], epoch_list[-1], 100)\n",
    "z = np.polyfit(epoch_list, losses_test_np, 1)\n",
    "p = np.poly1d(z)\n",
    "\n",
    "plt.figure()\n",
    "plt.title('MSE of Discriminator vs Blackbox training')\n",
    "plt.plot(epoch_list, losses_test_np)\n",
    "plt.plot(xp, p(xp), '--')\n",
    "plt.xlabel('Blackbox training (epochs)')\n",
    "plt.ylabel('Total MSE of Discriminator')\n",
    "plt.legend(['readings', 'best fit'], loc='upper left')\n",
    "plt.show()"
   ]
  },
  {
   "cell_type": "code",
   "execution_count": 25,
   "metadata": {},
   "outputs": [],
   "source": [
    "# # Plot % difference in test accuracy wrt epochs trained\n",
    "\n",
    "# accs_test_b_np = np.array(accs_test_b)\n",
    "# accs_test_d_np = np.array(accs_test_d)\n",
    "\n",
    "# accs_test_percent = (np.abs(accs_test_b_np - accs_test_d_np) / accs_test_b_np) * 100\n",
    "\n",
    "# # best fit line\n",
    "# xp = np.linspace(epoch_list[0], epoch_list[-1], 100)\n",
    "# z = np.polyfit(epoch_list, accs_test_percent, 2)\n",
    "# p = np.poly1d(z)\n",
    "\n",
    "# plt.figure()\n",
    "# plt.title('Percentage Error in Accuracy vs Blackbox training')\n",
    "# plt.plot(epoch_list, accs_test_percent)\n",
    "# plt.plot(xp, p(xp), '--')\n",
    "# plt.xlabel('Blackbox training (epochs)')\n",
    "# plt.ylabel('Percent error in Descriminator')\n",
    "# plt.legend(['readings', 'best fit'], loc='upper left')\n",
    "# plt.show()"
   ]
  },
  {
   "cell_type": "code",
   "execution_count": null,
   "metadata": {},
   "outputs": [],
   "source": []
  }
 ],
 "metadata": {
  "kernelspec": {
   "display_name": "Python 3",
   "language": "python",
   "name": "python3"
  },
  "language_info": {
   "codemirror_mode": {
    "name": "ipython",
    "version": 3
   },
   "file_extension": ".py",
   "mimetype": "text/x-python",
   "name": "python",
   "nbconvert_exporter": "python",
   "pygments_lexer": "ipython3",
   "version": "3.7.3"
  }
 },
 "nbformat": 4,
 "nbformat_minor": 2
}
