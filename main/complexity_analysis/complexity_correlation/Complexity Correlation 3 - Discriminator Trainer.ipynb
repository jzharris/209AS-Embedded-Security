{
 "cells": [
  {
   "cell_type": "markdown",
   "metadata": {},
   "source": [
    "# Step 3 - Discriminator Trainer"
   ]
  },
  {
   "cell_type": "markdown",
   "metadata": {},
   "source": [
    "This notebook trains a network to mimic the Blackbox version, using all clients in the training set to perform the task. We use the test set to evaluate how close the Discriminator model is from the Blackbox version."
   ]
  },
  {
   "cell_type": "markdown",
   "metadata": {},
   "source": [
    "## Imports"
   ]
  },
  {
   "cell_type": "code",
   "execution_count": 1,
   "metadata": {},
   "outputs": [
    {
     "name": "stdout",
     "output_type": "stream",
     "text": [
      "1.15.0\n",
      "2.2.4-tf\n"
     ]
    },
    {
     "name": "stderr",
     "output_type": "stream",
     "text": [
      "Using TensorFlow backend.\n"
     ]
    }
   ],
   "source": [
    "import tensorflow as tf\n",
    "tf.keras.backend.clear_session()  # For easy reset of notebook state.\n",
    "from tensorflow import keras  # Import the tf version of keras.\n",
    "from tensorflow.keras.layers import Dense, Dropout, Flatten, Conv2D, MaxPooling2D\n",
    "import keras.backend as K\n",
    "from keras.datasets import mnist\n",
    "\n",
    "print(tf.__version__)\n",
    "print(keras.__version__)"
   ]
  },
  {
   "cell_type": "code",
   "execution_count": 2,
   "metadata": {},
   "outputs": [],
   "source": [
    "import numpy as np\n",
    "import cv2\n",
    "import matplotlib.pyplot as plt\n",
    "from tqdm import tqdm_notebook, tqdm\n",
    "import pickle\n",
    "\n",
    "import os.path\n",
    "import shutil\n",
    "import math\n",
    "import random"
   ]
  },
  {
   "cell_type": "code",
   "execution_count": 3,
   "metadata": {},
   "outputs": [],
   "source": [
    "# Setting seeds for reproducibility \n",
    "np.random.seed(0)\n",
    "tf.set_random_seed(0)\n",
    "\n",
    "# Enlargen plots\n",
    "plt.rcParams['figure.figsize'] = [10, 5]"
   ]
  },
  {
   "cell_type": "markdown",
   "metadata": {},
   "source": [
    "## Parameters"
   ]
  },
  {
   "cell_type": "code",
   "execution_count": 4,
   "metadata": {},
   "outputs": [],
   "source": [
    "# model params (MUST MATCH Blackbox Evaluator PARAMS)\n",
    "num_classes = 10\n",
    "max_epochs = 25\n",
    "save_every = 1\n",
    "discriminator_epochs = 25\n",
    "\n",
    "# client params\n",
    "clients_per_class = 100                         # number of clients per label. Each client only has access to one label\n",
    "                                                # - each unique class is divided into X number of subsets\n",
    "    \n",
    "minibatch_size = None                           # number of samples to operate on at one time\n",
    "                                                # - can vary to optimize computing requirements\n",
    "                                                # - if None, will evaluate the client's whole batch regardless of its size\n",
    "    \n",
    "batches_per_train_step = 20                     # after averaging the gradients from X clients, we will apply them to the model\n",
    "\n",
    "shuffle_clients = True\n",
    "\n",
    "# dataset params\n",
    "separated_folder = \"./separated_dataset\"\n",
    "os.makedirs(separated_folder, exist_ok=True)\n",
    "separated_train_path = os.path.join(separated_folder, \"train_separated.pkl\")\n",
    "separated_test_path = os.path.join(separated_folder, \"test_separated.pkl\")\n",
    "\n",
    "# input image dimensions\n",
    "img_rows, img_cols = 28, 28\n",
    "target_rows, target_cols = 28, 28    # governed by the chosen model"
   ]
  },
  {
   "cell_type": "markdown",
   "metadata": {},
   "source": [
    "## Load Data"
   ]
  },
  {
   "cell_type": "code",
   "execution_count": 5,
   "metadata": {},
   "outputs": [],
   "source": [
    "# The data, split between train and test sets\n",
    "(x_train, y_train), (x_test, y_test) = mnist.load_data()\n",
    "\n",
    "if K.image_data_format() == 'channels_first':\n",
    "    x_train = x_train.reshape(x_train.shape[0], 1, img_rows, img_cols)\n",
    "    x_test = x_test.reshape(x_test.shape[0], 1, img_rows, img_cols)\n",
    "    input_shape = (1, img_rows, img_cols)\n",
    "else:\n",
    "    x_train = x_train.reshape(x_train.shape[0], img_rows, img_cols, 1)\n",
    "    x_test = x_test.reshape(x_test.shape[0], img_rows, img_cols, 1)\n",
    "    input_shape = (img_rows, img_cols, 1)\n",
    "\n",
    "x_train = x_train.astype('float32')\n",
    "x_test = x_test.astype('float32')\n",
    "x_train /= 255\n",
    "x_test /= 255\n",
    "\n",
    "if target_rows != img_rows or target_cols != img_cols:\n",
    "    # resize x_train\n",
    "    x_train_resized = []\n",
    "    for x_ in x_train:\n",
    "        # scale image to be the same WxH as we need:\n",
    "        x_ = cv2.resize(x_, dsize=(target_rows, target_cols), interpolation=cv2.INTER_CUBIC)\n",
    "        x_train_resized.append(x_)\n",
    "    x_train = np.asarray(x_train_resized)\n",
    "\n",
    "    # resize x_test\n",
    "    x_test_resized = []\n",
    "    for x_ in x_test:\n",
    "        # scale image to be the same WxH as we need:\n",
    "        x_ = cv2.resize(x_, dsize=(target_rows, target_cols), interpolation=cv2.INTER_CUBIC)\n",
    "        x_test_resized.append(x_)\n",
    "    x_test = np.asarray(x_test_resized)\n",
    "\n",
    "# convert class vectors to binary class matrices\n",
    "y_train = keras.utils.to_categorical(y_train, num_classes)\n",
    "y_test = keras.utils.to_categorical(y_test, num_classes)"
   ]
  },
  {
   "cell_type": "code",
   "execution_count": 6,
   "metadata": {},
   "outputs": [
    {
     "name": "stdout",
     "output_type": "stream",
     "text": [
      "X: (60000, 28, 28, 1) (10000, 28, 28, 1)\n",
      "y: (60000, 10) (10000, 10)\n",
      "60000 train samples\n",
      "10000 test samples\n"
     ]
    }
   ],
   "source": [
    "# summary of data shapes:\n",
    "print('X:', x_train.shape, x_test.shape)\n",
    "print('y:', y_train.shape, y_test.shape)\n",
    "print(x_train.shape[0], 'train samples')\n",
    "print(x_test.shape[0], 'test samples')"
   ]
  },
  {
   "cell_type": "markdown",
   "metadata": {},
   "source": [
    "#### Separate the data by class"
   ]
  },
  {
   "cell_type": "code",
   "execution_count": 7,
   "metadata": {},
   "outputs": [
    {
     "name": "stdout",
     "output_type": "stream",
     "text": [
      "loaded training seperation\n",
      "loaded testing seperation\n"
     ]
    }
   ],
   "source": [
    "# Separating the data by class\n",
    "if os.path.isfile(separated_train_path):\n",
    "    with open(separated_train_path, 'rb') as f:\n",
    "        x_train_dict, y_train_dict = pickle.load(f)\n",
    "        print('loaded training seperation')\n",
    "else:\n",
    "    x_train_dict = {}\n",
    "    y_train_dict = {}\n",
    "    for target_label in tqdm_notebook(range(10)):\n",
    "        x_train_dict[target_label] = []\n",
    "        y_train_dict[target_label] = []\n",
    "        for i, label in enumerate(y_train):\n",
    "            if list(label).index(1) == target_label:\n",
    "                x_train_dict[target_label].append(x_train[i])\n",
    "                y_train_dict[target_label].append(y_train[i])\n",
    "    \n",
    "    with open(separated_train_path, 'wb') as f:\n",
    "        pickle.dump([x_train_dict, y_train_dict], f)\n",
    "        print('saved training seperation')\n",
    "\n",
    "if os.path.isfile(separated_test_path):\n",
    "    with open(separated_test_path, 'rb') as f:\n",
    "        x_test_dict, y_test_dict = pickle.load(f)\n",
    "        print('loaded testing seperation')\n",
    "else:\n",
    "    x_test_dict = {}\n",
    "    y_test_dict = {}\n",
    "    for target_label in tqdm_notebook(range(10)):\n",
    "        x_test_dict[target_label] = []\n",
    "        y_test_dict[target_label] = []\n",
    "        for i, label in enumerate(y_test):\n",
    "            if list(label).index(1) == target_label:\n",
    "                x_test_dict[target_label].append(x_test[i])\n",
    "                y_test_dict[target_label].append(y_test[i])\n",
    "\n",
    "    with open(separated_test_path, 'wb') as f:\n",
    "        pickle.dump([x_test_dict, y_test_dict], f)\n",
    "        print('saved testing seperation')\n",
    "    \n",
    "# convert dicts to lists\n",
    "x_train_seperated = [np.array(x_train_dict[i]) for i in range(10)]\n",
    "y_train_seperated = [np.array(y_train_dict[i]) for i in range(10)]\n",
    "\n",
    "x_test_seperated = [np.array(x_test_dict[i]) for i in range(10)]\n",
    "y_test_seperated = [np.array(y_test_dict[i]) for i in range(10)]"
   ]
  },
  {
   "cell_type": "code",
   "execution_count": 8,
   "metadata": {},
   "outputs": [
    {
     "data": {
      "image/png": "[encoded data removed]",
      "text/plain": [
       "<Figure size 432x288 with 1 Axes>"
      ]
     },
     "metadata": {
      "needs_background": "light"
     },
     "output_type": "display_data"
    }
   ],
   "source": [
    "# summary of data shapes:\n",
    "plt.figure()\n",
    "plt.title('Data separation per class')\n",
    "plt.bar(x_train_dict.keys(), [len(v) for v in x_train_dict.values()], color='tab:blue')\n",
    "plt.bar(x_test_dict.keys(), [len(v) for v in x_test_dict.values()], color='orange', width=0.6)\n",
    "plt.legend(['x_train', 'x_test'], loc='center right', framealpha=1.0)\n",
    "plt.xlabel('class label')\n",
    "plt.ylabel('count')\n",
    "plt.show()"
   ]
  },
  {
   "cell_type": "markdown",
   "metadata": {},
   "source": [
    "#### Separate the data into batches for clients to use"
   ]
  },
  {
   "cell_type": "code",
   "execution_count": 9,
   "metadata": {},
   "outputs": [
    {
     "data": {
      "image/png": "[encoded data removed]",
      "text/plain": [
       "<Figure size 432x288 with 2 Axes>"
      ]
     },
     "metadata": {},
     "output_type": "display_data"
    },
    {
     "name": "stdout",
     "output_type": "stream",
     "text": [
      "Clients per class:  99.6 ~= 100\n",
      "Total number of clients: 996\n",
      "Average batch size: 60.6\n"
     ]
    }
   ],
   "source": [
    "# Separate the data into a long list of batches, each batch representing a client training with that batch of images.\n",
    "# After each batch, a new client will have the opportunity to train their batch of images.\n",
    "# Batches are shuffled to simulate many clients training the model at once.\n",
    "\n",
    "client_counts = {}\n",
    "batch_sizes = {}\n",
    "x_batches = []\n",
    "y_batches = []\n",
    "\n",
    "def ceil(a,b):\n",
    "    return -(-a//b)\n",
    "\n",
    "for class_idx in range(len(x_train_seperated)):\n",
    "    # Get batches from class data:\n",
    "    n_samples_per_class = len(x_train_seperated[class_idx])\n",
    "    samples_per_client = n_samples_per_class / clients_per_class\n",
    "    better_batch_size = int(math.ceil(samples_per_client))\n",
    "\n",
    "    count = 0\n",
    "    for i in range(ceil(n_samples_per_class, better_batch_size)):\n",
    "        x_batches.append((class_idx, x_train_seperated[class_idx][i * better_batch_size: (i+1) * better_batch_size]))\n",
    "        y_batches.append((class_idx, y_train_seperated[class_idx][i * better_batch_size: (i+1) * better_batch_size]))\n",
    "        count += 1\n",
    "    client_counts[class_idx] = count\n",
    "    batch_sizes[class_idx] = better_batch_size\n",
    "        \n",
    "# double check that the clients_per_class is upheld per class\n",
    "# (blue bars should be uniform, orange should change according to class):\n",
    "fig, ax1 = plt.subplots()\n",
    "\n",
    "color = 'tab:blue'\n",
    "ax1.set_xlabel('class label')\n",
    "ax1.set_ylabel('client count', color=color)\n",
    "plt.bar(client_counts.keys(), [v for v in client_counts.values()], color=color)\n",
    "ax1.tick_params(axis='y', labelcolor=color)\n",
    "\n",
    "ax2 = ax1.twinx()  # instantiate a second axes that shares the same x-axis\n",
    "\n",
    "color = 'orange'\n",
    "ax2.set_ylabel('batch size', color=color)  # we already handled the x-label with ax1\n",
    "plt.bar(batch_sizes.keys(), [v for v in batch_sizes.values()], color=color, width=0.6)\n",
    "ax2.tick_params(axis='y', labelcolor=color)\n",
    "ax2.set_ylim(0, np.mean([v for v in batch_sizes.values()])*2)\n",
    "\n",
    "fig.tight_layout()  # otherwise the right y-label is slightly clipped\n",
    "plt.show()\n",
    "\n",
    "print('Clients per class:  {} ~= {}'.format(np.mean([v for v in client_counts.values()]), clients_per_class))\n",
    "print('Total number of clients: {}'.format(np.sum([v for v in client_counts.values()])))\n",
    "print('Average batch size: {}'.format(np.mean([v for v in batch_sizes.values()])))"
   ]
  },
  {
   "cell_type": "markdown",
   "metadata": {},
   "source": [
    "#### Load the y_eval sets generated by the Blackbox model"
   ]
  },
  {
   "cell_type": "markdown",
   "metadata": {},
   "source": [
    "## Build Model"
   ]
  },
  {
   "cell_type": "code",
   "execution_count": 10,
   "metadata": {},
   "outputs": [],
   "source": [
    "def blackbox_model(input_layer, depth=1, filters=4, dense_breadth=128, training=True):\n",
    "    assert depth >= 1\n",
    "    assert filters >= 1\n",
    "    assert dense_breadth >= num_classes\n",
    "    \n",
    "    h = Conv2D(filters, kernel_size=(3, 3), activation='relu', padding='same', input_shape=input_shape)(input_layer)\n",
    "    for i in range(depth-1):\n",
    "        h = Conv2D(filters, kernel_size=(3, 3), activation='relu', padding='same')(h)\n",
    "    h = MaxPooling2D(pool_size=(2, 2))(h)\n",
    "    h = Dropout(0.25)(h, training=training)\n",
    "    h = Flatten()(h)\n",
    "    h = Dense(dense_breadth, activation='relu')(h)\n",
    "    h = Dropout(0.5)(h, training=training)\n",
    "    output_layer = Dense(num_classes, activation='softmax')(h)\n",
    "    \n",
    "    return output_layer"
   ]
  },
  {
   "cell_type": "code",
   "execution_count": 11,
   "metadata": {},
   "outputs": [],
   "source": [
    "# to remove model complexity, the blackbox and discriminator models will be kept the same\n",
    "\n",
    "def discriminator_model(input_shape, depth=1, filters=4, dense_breadth=128, training=True):\n",
    "    model = blackbox_model(input_shape, depth, filters, dense_breadth, training)\n",
    "    \n",
    "    return model"
   ]
  },
  {
   "cell_type": "code",
   "execution_count": 12,
   "metadata": {},
   "outputs": [],
   "source": [
    "input_shape = (target_rows, target_cols, 1)"
   ]
  },
  {
   "cell_type": "markdown",
   "metadata": {},
   "source": [
    "## Graph Creation"
   ]
  },
  {
   "cell_type": "code",
   "execution_count": null,
   "metadata": {},
   "outputs": [],
   "source": [
    "class DiscriminatorModel:\n",
    "    \n",
    "    def __init__(self, input_shape, depth, filters, dense, training=True):\n",
    "        self.input_shape = input_shape\n",
    "        self.training = training\n",
    "        self.depth = depth\n",
    "        self.filters = filters\n",
    "        self.dense = dense\n",
    "        \n",
    "        self.accumulate_ops = None\n",
    "        self.train_step = None\n",
    "        self.zero_ops = None\n",
    "        \n",
    "        self.create_graph()\n",
    "        self.create_optimizer()\n",
    "        self.split_learning_ops()\n",
    "        \n",
    "    def create_graph(self):\n",
    "        # add place for input and pred label\n",
    "        self.x = keras.Input(shape=self.input_shape)\n",
    "        self.y_discriminator = discriminator_model(self.x, self.depth, self.filters, self.dense, training=self.training)\n",
    "        \n",
    "        # add node for input from evaluated model\n",
    "        self.y_blackbox = keras.Input(shape=(num_classes, ))\n",
    "\n",
    "        # add place for truth label\n",
    "        self.y_true = keras.Input(shape=(num_classes, ))\n",
    "        \n",
    "    def create_optimizer(self):\n",
    "        # Define loss function in terms of y_pred and y_true\n",
    "        self.loss = keras.losses.MSE(self.y_blackbox, self.y_discriminator)\n",
    "\n",
    "        # Setup metrics to look at during training:\n",
    "        _, self.acc_op_b = tf.metrics.accuracy(labels=tf.argmax(self.y_true, 1), predictions=tf.argmax(self.y_blackbox,1))\n",
    "        _, self.acc_op_d = tf.metrics.accuracy(labels=tf.argmax(self.y_true, 1), predictions=tf.argmax(self.y_discriminator,1))\n",
    "\n",
    "        ## Optimizer definition - nothing different from any classical example\n",
    "        optimizer = tf.train.AdamOptimizer()\n",
    "\n",
    "        # Add ops to save and restore all the variables.\n",
    "        self.saver = tf.train.Saver(max_to_keep=discriminator_epochs)\n",
    "        \n",
    "    def split_learning_ops(self):\n",
    "        # INSPIRED by https://stackoverflow.com/questions/42156957/how-to-update-model-parameters-with-accumulated-gradients\n",
    "\n",
    "        # Fetch a list of our network's trainable parameters.\n",
    "        self.trainable_vars = tf.trainable_variables()\n",
    "\n",
    "        # Create variables to store accumulated gradients\n",
    "        self.accumulators = [\n",
    "            tf.Variable(\n",
    "                tf.zeros_like(tv.initialized_value()),\n",
    "                trainable=False\n",
    "            ) for tv in self.trainable_vars\n",
    "        ]\n",
    "\n",
    "        # Create a variable for counting the number of accumulations\n",
    "        self.accumulation_counter = tf.Variable(0.0, trainable=False)\n",
    "\n",
    "        # Compute gradients; grad_pairs contains (gradient, variable) pairs\n",
    "        self.grad_pairs = self.optimizer.compute_gradients(self.loss, self.trainable_vars)\n",
    "\n",
    "        # Create operations which add a variable's gradient to its accumulator.\n",
    "        self.accumulate_ops = [\n",
    "            accumulator.assign_add(\n",
    "                grad\n",
    "            ) for (accumulator, (grad, var)) in zip(self.accumulators, self.grad_pairs)\n",
    "        ]\n",
    "\n",
    "        # The final accumulation operation is to increment the counter\n",
    "        self.accumulate_ops.append(self.accumulation_counter.assign_add(1.0))\n",
    "\n",
    "        # Update trainable variables by applying the accumulated gradients\n",
    "        # divided by the counter. Note: apply_gradients takes in a list of \n",
    "        # (grad, var) pairs\n",
    "        self.train_step = self.optimizer.apply_gradients(\n",
    "            [(accumulator / self.accumulation_counter, var) \\\n",
    "                for (accumulator, (grad, var)) in zip(self.accumulators, self.grad_pairs)]\n",
    "        )\n",
    "\n",
    "        # Accumulators must be zeroed once the accumulated gradient is applied.\n",
    "        self.zero_ops = [\n",
    "            accumulator.assign(\n",
    "                tf.zeros_like(tv)\n",
    "            ) for (accumulator, tv) in zip(self.accumulators, self.trainable_vars)\n",
    "        ]\n",
    "\n",
    "        # Add one last op for zeroing the counter\n",
    "        self.zero_ops.append(self.accumulation_counter.assign(0.0))\n",
    "        \n",
    "    def count_params(self):\n",
    "        # create a model representation\n",
    "        model_ = keras.Model(inputs=self.x, outputs=self.y_pred)\n",
    "        \n",
    "        # return the number of parameters\n",
    "        return model_.count_params()"
   ]
  },
  {
   "cell_type": "markdown",
   "metadata": {},
   "source": [
    "## Split Training"
   ]
  },
  {
   "cell_type": "code",
   "execution_count": null,
   "metadata": {},
   "outputs": [],
   "source": [
    "# List of the different configurations we will step through\n",
    "\n",
    "configs_depth = list(range(1, 11, 4))\n",
    "configs_filters = list(range(1, 81, 32))\n",
    "configs_dense = list(range(10, 200, 100))\n",
    "total_combinations = len(configs_depth) * len(configs_filters) * len(configs_dense)\n",
    "total_combinations *= total_combinations\n",
    "\n",
    "print('{} total combinations of networks'.format(total_combinations))\n",
    "print('depths:', configs_depth)\n",
    "print('filters:', configs_filters)\n",
    "print('denses:', configs_dense)"
   ]
  },
  {
   "cell_type": "code",
   "execution_count": null,
   "metadata": {},
   "outputs": [],
   "source": [
    "print('Training the Discriminator models...\\n')\n",
    "\n",
    "inc = 0\n",
    "for depth_d in configs_depth:\n",
    "    for filters_d in configs_filters:\n",
    "        for dense_d in configs_dense:\n",
    "            \n",
    "            for depth_b in configs_depth:\n",
    "                for filters_b in configs_filters:\n",
    "                    for dense_b in configs_dense:\n",
    "                        \n",
    "                    \n",
    "            \n",
    "                        print('{}/{}'.format(inc+1, total_combinations)+'='*40)\n",
    "                        print('Evaluating blackbox_e{}_d{}_f{}_d{}'.format(max_epochs, depth, filters, dense))\n",
    "                        filename = \"blackbox_e{}_d{}_f{}_d{}\".format(max_epochs, depth, filters, dense)\n",
    "\n",
    "                        # train a new model each time:\n",
    "                        model_obj = BlackBoxModel(input_shape, depth, filters, dense, training=True)\n",
    "\n",
    "                        param_count = model_obj.count_params()\n",
    "\n",
    "                        with tf.Session() as sess:\n",
    "                            # init the session:\n",
    "                            sess.run(tf.local_variables_initializer())\n",
    "                            sess.run(tf.global_variables_initializer())\n",
    "\n",
    "                            # load the weights for the blackbox:\n",
    "                            checkpoint_folder = \"./blackbox_checkpoints/{}\".format(filename)\n",
    "                            blackbox_weights_path = os.path.join(checkpoint_folder, 'blackbox_checkpoint')\n",
    "                            # model.load_weights(blackbox_weights_path)\n",
    "                            model_obj.saver.restore(sess, blackbox_weights_path)\n",
    "\n",
    "                            # Calculate test acc and loss - to double check loader is working\n",
    "                            acc_test, loss_test = sess.run([model_obj.acc_op, model_obj.loss], \n",
    "                                                           feed_dict={model_obj.x: x_test, model_obj.y_true: y_test})\n",
    "                            print('Test Accuracy: {:.3f} | Loss: {:.3f}'.format(acc_test, np.mean(loss_test)))\n",
    "                            print()\n",
    "\n",
    "                            # evaluate the model for all training data:\n",
    "                            eval_folder = \"./blackbox_evals/{}\".format(filename)\n",
    "                            if os.path.exists(eval_folder):\n",
    "                                shutil.rmtree(eval_folder)\n",
    "                            os.makedirs(eval_folder, exist_ok=True)\n",
    "\n",
    "                            batch_idxs = list(range(len(x_batches)))\n",
    "                            for batch_idx in tqdm_notebook(batch_idxs):\n",
    "                                class_idx, x_batch = x_batches[batch_idx]\n",
    "                                _, y_batch = y_batches[batch_idx]\n",
    "\n",
    "                                # save output of every batch to a pickle file:\n",
    "                                y_eval = sess.run(model_obj.y_pred, feed_dict={model_obj.x: x_batch})\n",
    "\n",
    "                                eval_file = os.path.join(eval_folder, 'train_{}.pkl'.format(batch_idx))\n",
    "                                with open(eval_file, 'wb') as f:\n",
    "                                    pickle.dump(y_eval, f)\n",
    "\n",
    "                            # evaluate and save the model for all testing data:\n",
    "                            y_eval = sess.run(model_obj.y_pred, feed_dict={model_obj.x: x_test})\n",
    "\n",
    "                            eval_file = os.path.join(eval_folder, 'test_all.pkl')\n",
    "                            with open(eval_file, 'wb') as f:\n",
    "                                pickle.dump(y_eval, f)\n",
    "\n",
    "                            # dump param number to file:\n",
    "                            param_file = os.path.join(eval_folder, 'param_count.pkl')\n",
    "                            with open(param_file, 'wb') as f:\n",
    "                                pickle.dump(param_count, f)\n",
    "\n",
    "                        # Flush out the session\n",
    "                        keras.backend.clear_session()"
   ]
  },
  {
   "cell_type": "code",
   "execution_count": 16,
   "metadata": {},
   "outputs": [],
   "source": [
    "# Initialize the session\n",
    "\n",
    "sess = tf.Session()\n",
    "sess.run(tf.local_variables_initializer())\n",
    "sess.run(tf.global_variables_initializer())"
   ]
  },
  {
   "cell_type": "code",
   "execution_count": 17,
   "metadata": {},
   "outputs": [
    {
     "name": "stdout",
     "output_type": "stream",
     "text": [
      "Saved the discriminator's initial weights\n"
     ]
    }
   ],
   "source": [
    "# Save the original (init) weights, so that we can jump back to this state after each blackbox_e model\n",
    "# checkpoint params\n",
    "null_folder = \"./discriminator_checkpoints/null\"\n",
    "if os.path.exists(null_folder):\n",
    "    shutil.rmtree(null_folder)\n",
    "os.makedirs(null_folder, exist_ok=True)\n",
    "null_weights_path = os.path.join(null_folder, 'discriminator_checkpoint.ckpt')\n",
    "\n",
    "# Save the weights\n",
    "saver.save(sess, null_weights_path)\n",
    "#model.save_weights(blackbox_weights_path)\n",
    "print(\"Saved the discriminator's initial weights\")"
   ]
  },
  {
   "cell_type": "code",
   "execution_count": 18,
   "metadata": {
    "scrolled": true
   },
   "outputs": [
    {
     "name": "stdout",
     "output_type": "stream",
     "text": [
      "Training the model...\n",
      "\n",
      "========================================\n",
      "INFO:tensorflow:Restoring parameters from ./discriminator_checkpoints/null\\discriminator_checkpoint.ckpt\n",
      "Reset graph to its initial state\n",
      "\n",
      "========================================\n",
      "Loading previous blackbox_e1 evaluation\n",
      "\n",
      "========================================\n",
      "Training on blackbox_e1\n",
      "..........\n",
      "Epoch 1:\n"
     ]
    },
    {
     "data": {
      "application/vnd.jupyter.widget-view+json": {
       "model_id": "7be85456a21b4b94a5adcc1fad8e2d2b",
       "version_major": 2,
       "version_minor": 0
      },
      "text/plain": [
       "HBox(children=(IntProgress(value=0, max=60000), HTML(value='')))"
      ]
     },
     "metadata": {},
     "output_type": "display_data"
    },
    {
     "name": "stdout",
     "output_type": "stream",
     "text": [
      "\n",
      "Train Accuracy: D[0.516] --> B[0.965] | MSE(D): 3.272374e-02\n",
      "Test Accuracy:  D[0.732] --> B[0.966] | MSE(D): 9.092643e-03\n",
      "\n",
      "..........\n",
      "Epoch 2:\n"
     ]
    },
    {
     "data": {
      "application/vnd.jupyter.widget-view+json": {
       "model_id": "7e91053c70cd40bf98934abaa720fcf8",
       "version_major": 2,
       "version_minor": 0
      },
      "text/plain": [
       "HBox(children=(IntProgress(value=0, max=60000), HTML(value='')))"
      ]
     },
     "metadata": {},
     "output_type": "display_data"
    },
    {
     "name": "stdout",
     "output_type": "stream",
     "text": [
      "\n",
      "Train Accuracy: D[0.781] --> B[0.966] | MSE(D): 6.008065e-03\n",
      "Test Accuracy:  D[0.826] --> B[0.966] | MSE(D): 3.610426e-03\n",
      "\n",
      "..........\n",
      "Epoch 3:\n"
     ]
    },
    {
     "data": {
      "application/vnd.jupyter.widget-view+json": {
       "model_id": "55095239cbf5489cb6acabcc78f32d4f",
       "version_major": 2,
       "version_minor": 0
      },
      "text/plain": [
       "HBox(children=(IntProgress(value=0, max=60000), HTML(value='')))"
      ]
     },
     "metadata": {},
     "output_type": "display_data"
    },
    {
     "name": "stdout",
     "output_type": "stream",
     "text": [
      "\n",
      "Train Accuracy: D[0.845] --> B[0.966] | MSE(D): 2.744168e-03\n",
      "Test Accuracy:  D[0.866] --> B[0.966] | MSE(D): 2.185985e-03\n",
      "\n",
      "..........\n",
      "Epoch 4:\n"
     ]
    },
    {
     "data": {
      "application/vnd.jupyter.widget-view+json": {
       "model_id": "8fe3865854684d418dfa55685af7fcfb",
       "version_major": 2,
       "version_minor": 0
      },
      "text/plain": [
       "HBox(children=(IntProgress(value=0, max=60000), HTML(value='')))"
      ]
     },
     "metadata": {},
     "output_type": "display_data"
    },
    {
     "name": "stdout",
     "output_type": "stream",
     "text": [
      "\n",
      "Train Accuracy: D[0.876] --> B[0.966] | MSE(D): 2.113632e-03\n",
      "Test Accuracy:  D[0.888] --> B[0.966] | MSE(D): 1.794807e-03\n",
      "\n",
      "..........\n",
      "Epoch 5:\n"
     ]
    },
    {
     "data": {
      "application/vnd.jupyter.widget-view+json": {
       "model_id": "76fc1886ba3a41f28a692d211d5cd5d3",
       "version_major": 2,
       "version_minor": 0
      },
      "text/plain": [
       "HBox(children=(IntProgress(value=0, max=60000), HTML(value='')))"
      ]
     },
     "metadata": {},
     "output_type": "display_data"
    },
    {
     "name": "stdout",
     "output_type": "stream",
     "text": [
      "\n",
      "Train Accuracy: D[0.894] --> B[0.966] | MSE(D): 1.709261e-03\n",
      "Test Accuracy:  D[0.902] --> B[0.966] | MSE(D): 1.456241e-03\n",
      "\n",
      "..........\n",
      "Epoch 6:\n"
     ]
    },
    {
     "data": {
      "application/vnd.jupyter.widget-view+json": {
       "model_id": "efe34e10fd084c15806a6acac24caa4a",
       "version_major": 2,
       "version_minor": 0
      },
      "text/plain": [
       "HBox(children=(IntProgress(value=0, max=60000), HTML(value='')))"
      ]
     },
     "metadata": {},
     "output_type": "display_data"
    },
    {
     "name": "stdout",
     "output_type": "stream",
     "text": [
      "\n",
      "Train Accuracy: D[0.906] --> B[0.966] | MSE(D): 1.486041e-03\n",
      "Test Accuracy:  D[0.911] --> B[0.966] | MSE(D): 1.467839e-03\n",
      "\n",
      "..........\n",
      "Epoch 7:\n"
     ]
    },
    {
     "data": {
      "application/vnd.jupyter.widget-view+json": {
       "model_id": "e9ddbcaeffc94f00b874ce64cccd6e2b",
       "version_major": 2,
       "version_minor": 0
      },
      "text/plain": [
       "HBox(children=(IntProgress(value=0, max=60000), HTML(value='')))"
      ]
     },
     "metadata": {},
     "output_type": "display_data"
    },
    {
     "name": "stdout",
     "output_type": "stream",
     "text": [
      "\n",
      "Train Accuracy: D[0.914] --> B[0.966] | MSE(D): 1.417360e-03\n",
      "Test Accuracy:  D[0.918] --> B[0.966] | MSE(D): 1.306345e-03\n",
      "\n",
      "..........\n",
      "Epoch 8:\n"
     ]
    },
    {
     "data": {
      "application/vnd.jupyter.widget-view+json": {
       "model_id": "54430a3c0310452f96e524b190e36a58",
       "version_major": 2,
       "version_minor": 0
      },
      "text/plain": [
       "HBox(children=(IntProgress(value=0, max=60000), HTML(value='')))"
      ]
     },
     "metadata": {},
     "output_type": "display_data"
    },
    {
     "name": "stdout",
     "output_type": "stream",
     "text": [
      "\n",
      "Train Accuracy: D[0.921] --> B[0.966] | MSE(D): 1.352939e-03\n",
      "Test Accuracy:  D[0.924] --> B[0.966] | MSE(D): 1.270139e-03\n",
      "\n",
      "..........\n",
      "Epoch 9:\n"
     ]
    },
    {
     "data": {
      "application/vnd.jupyter.widget-view+json": {
       "model_id": "628c7cbccc43471a8423d28946781424",
       "version_major": 2,
       "version_minor": 0
      },
      "text/plain": [
       "HBox(children=(IntProgress(value=0, max=60000), HTML(value='')))"
      ]
     },
     "metadata": {},
     "output_type": "display_data"
    },
    {
     "name": "stdout",
     "output_type": "stream",
     "text": [
      "\n",
      "Train Accuracy: D[0.926] --> B[0.966] | MSE(D): 1.289927e-03\n",
      "Test Accuracy:  D[0.928] --> B[0.966] | MSE(D): 1.331411e-03\n",
      "\n",
      "..........\n",
      "Epoch 10:\n"
     ]
    },
    {
     "data": {
      "application/vnd.jupyter.widget-view+json": {
       "model_id": "966a2e7cc421400b852121d4053d08b1",
       "version_major": 2,
       "version_minor": 0
      },
      "text/plain": [
       "HBox(children=(IntProgress(value=0, max=60000), HTML(value='')))"
      ]
     },
     "metadata": {},
     "output_type": "display_data"
    },
    {
     "name": "stdout",
     "output_type": "stream",
     "text": [
      "\n",
      "Train Accuracy: D[0.929] --> B[0.966] | MSE(D): 1.245697e-03\n",
      "Test Accuracy:  D[0.931] --> B[0.966] | MSE(D): 1.164926e-03\n",
      "\n",
      "..........\n",
      "Epoch 11:\n"
     ]
    },
    {
     "data": {
      "application/vnd.jupyter.widget-view+json": {
       "model_id": "e0583efeb35f4b53aa7b6787b1c143ce",
       "version_major": 2,
       "version_minor": 0
      },
      "text/plain": [
       "HBox(children=(IntProgress(value=0, max=60000), HTML(value='')))"
      ]
     },
     "metadata": {},
     "output_type": "display_data"
    },
    {
     "name": "stdout",
     "output_type": "stream",
     "text": [
      "\n",
      "Train Accuracy: D[0.933] --> B[0.966] | MSE(D): 1.187318e-03\n",
      "Test Accuracy:  D[0.934] --> B[0.966] | MSE(D): 1.307007e-03\n",
      "\n",
      "..........\n",
      "Epoch 12:\n"
     ]
    },
    {
     "data": {
      "application/vnd.jupyter.widget-view+json": {
       "model_id": "74d60d187a144d4ba5ece1e1311c8325",
       "version_major": 2,
       "version_minor": 0
      },
      "text/plain": [
       "HBox(children=(IntProgress(value=0, max=60000), HTML(value='')))"
      ]
     },
     "metadata": {},
     "output_type": "display_data"
    },
    {
     "name": "stdout",
     "output_type": "stream",
     "text": [
      "\n",
      "Train Accuracy: D[0.935] --> B[0.966] | MSE(D): 1.175247e-03\n",
      "Test Accuracy:  D[0.937] --> B[0.966] | MSE(D): 1.141700e-03\n",
      "\n",
      "..........\n",
      "Epoch 13:\n"
     ]
    },
    {
     "data": {
      "application/vnd.jupyter.widget-view+json": {
       "model_id": "ef195f01dd1b4c3aa3106e3f683e9d98",
       "version_major": 2,
       "version_minor": 0
      },
      "text/plain": [
       "HBox(children=(IntProgress(value=0, max=60000), HTML(value='')))"
      ]
     },
     "metadata": {},
     "output_type": "display_data"
    },
    {
     "name": "stdout",
     "output_type": "stream",
     "text": [
      "\n",
      "Train Accuracy: D[0.937] --> B[0.966] | MSE(D): 1.095601e-03\n",
      "Test Accuracy:  D[0.939] --> B[0.966] | MSE(D): 1.193431e-03\n",
      "\n",
      "..........\n",
      "Epoch 14:\n"
     ]
    },
    {
     "data": {
      "application/vnd.jupyter.widget-view+json": {
       "model_id": "011972f0d60c4748b26e053f0221ea6a",
       "version_major": 2,
       "version_minor": 0
      },
      "text/plain": [
       "HBox(children=(IntProgress(value=0, max=60000), HTML(value='')))"
      ]
     },
     "metadata": {},
     "output_type": "display_data"
    },
    {
     "name": "stdout",
     "output_type": "stream",
     "text": [
      "\n",
      "Train Accuracy: D[0.939] --> B[0.966] | MSE(D): 1.072924e-03\n",
      "Test Accuracy:  D[0.940] --> B[0.966] | MSE(D): 1.043843e-03\n",
      "\n",
      "..........\n",
      "Epoch 15:\n"
     ]
    },
    {
     "data": {
      "application/vnd.jupyter.widget-view+json": {
       "model_id": "6db8b858f7054655bb11e6d6c94f60c9",
       "version_major": 2,
       "version_minor": 0
      },
      "text/plain": [
       "HBox(children=(IntProgress(value=0, max=60000), HTML(value='')))"
      ]
     },
     "metadata": {},
     "output_type": "display_data"
    },
    {
     "name": "stdout",
     "output_type": "stream",
     "text": [
      "\n",
      "Train Accuracy: D[0.941] --> B[0.966] | MSE(D): 1.087662e-03\n",
      "Test Accuracy:  D[0.942] --> B[0.966] | MSE(D): 1.103779e-03\n",
      "\n",
      "..........\n",
      "Epoch 16:\n"
     ]
    },
    {
     "data": {
      "application/vnd.jupyter.widget-view+json": {
       "model_id": "db13219bf68a4db797bb2c1a6213fee2",
       "version_major": 2,
       "version_minor": 0
      },
      "text/plain": [
       "HBox(children=(IntProgress(value=0, max=60000), HTML(value='')))"
      ]
     },
     "metadata": {},
     "output_type": "display_data"
    },
    {
     "name": "stdout",
     "output_type": "stream",
     "text": [
      "\n",
      "Train Accuracy: D[0.942] --> B[0.966] | MSE(D): 1.047606e-03\n",
      "Test Accuracy:  D[0.943] --> B[0.966] | MSE(D): 1.148841e-03\n",
      "\n",
      "..........\n",
      "Epoch 17:\n"
     ]
    },
    {
     "data": {
      "application/vnd.jupyter.widget-view+json": {
       "model_id": "7f53ab89da254ec1a6b3b250661d3b99",
       "version_major": 2,
       "version_minor": 0
      },
      "text/plain": [
       "HBox(children=(IntProgress(value=0, max=60000), HTML(value='')))"
      ]
     },
     "metadata": {},
     "output_type": "display_data"
    },
    {
     "name": "stdout",
     "output_type": "stream",
     "text": [
      "\n",
      "Train Accuracy: D[0.944] --> B[0.966] | MSE(D): 1.028789e-03\n",
      "Test Accuracy:  D[0.944] --> B[0.966] | MSE(D): 1.110795e-03\n",
      "\n",
      "..........\n",
      "Epoch 18:\n"
     ]
    },
    {
     "data": {
      "application/vnd.jupyter.widget-view+json": {
       "model_id": "d585ff5b3870489f8354b0663ce07a22",
       "version_major": 2,
       "version_minor": 0
      },
      "text/plain": [
       "HBox(children=(IntProgress(value=0, max=60000), HTML(value='')))"
      ]
     },
     "metadata": {},
     "output_type": "display_data"
    },
    {
     "name": "stdout",
     "output_type": "stream",
     "text": [
      "\n",
      "Train Accuracy: D[0.945] --> B[0.966] | MSE(D): 1.015035e-03\n",
      "Test Accuracy:  D[0.946] --> B[0.966] | MSE(D): 1.059493e-03\n",
      "\n",
      "..........\n",
      "Epoch 19:\n"
     ]
    },
    {
     "data": {
      "application/vnd.jupyter.widget-view+json": {
       "model_id": "bdb72bf53eaf4f0f8ce8d79804699016",
       "version_major": 2,
       "version_minor": 0
      },
      "text/plain": [
       "HBox(children=(IntProgress(value=0, max=60000), HTML(value='')))"
      ]
     },
     "metadata": {},
     "output_type": "display_data"
    },
    {
     "name": "stdout",
     "output_type": "stream",
     "text": [
      "\n",
      "Train Accuracy: D[0.946] --> B[0.966] | MSE(D): 9.821842e-04\n",
      "Test Accuracy:  D[0.947] --> B[0.966] | MSE(D): 1.093228e-03\n",
      "\n",
      "..........\n",
      "Epoch 20:\n"
     ]
    },
    {
     "data": {
      "application/vnd.jupyter.widget-view+json": {
       "model_id": "93b72df3f9e348a1a2e0973648e3d0dc",
       "version_major": 2,
       "version_minor": 0
      },
      "text/plain": [
       "HBox(children=(IntProgress(value=0, max=60000), HTML(value='')))"
      ]
     },
     "metadata": {},
     "output_type": "display_data"
    },
    {
     "name": "stdout",
     "output_type": "stream",
     "text": [
      "\n",
      "Train Accuracy: D[0.947] --> B[0.966] | MSE(D): 9.674762e-04\n",
      "Test Accuracy:  D[0.947] --> B[0.966] | MSE(D): 1.137080e-03\n",
      "\n",
      "..........\n",
      "Epoch 21:\n"
     ]
    },
    {
     "data": {
      "application/vnd.jupyter.widget-view+json": {
       "model_id": "4ed029de7a0f4a248d2ffd042ce6717b",
       "version_major": 2,
       "version_minor": 0
      },
      "text/plain": [
       "HBox(children=(IntProgress(value=0, max=60000), HTML(value='')))"
      ]
     },
     "metadata": {},
     "output_type": "display_data"
    },
    {
     "name": "stdout",
     "output_type": "stream",
     "text": [
      "\n",
      "Train Accuracy: D[0.948] --> B[0.966] | MSE(D): 9.772404e-04\n",
      "Test Accuracy:  D[0.948] --> B[0.966] | MSE(D): 9.745858e-04\n",
      "\n",
      "..........\n",
      "Epoch 22:\n"
     ]
    },
    {
     "data": {
      "application/vnd.jupyter.widget-view+json": {
       "model_id": "e06965e6a5fb4363a26b8634a7e80560",
       "version_major": 2,
       "version_minor": 0
      },
      "text/plain": [
       "HBox(children=(IntProgress(value=0, max=60000), HTML(value='')))"
      ]
     },
     "metadata": {},
     "output_type": "display_data"
    },
    {
     "name": "stdout",
     "output_type": "stream",
     "text": [
      "\n",
      "Train Accuracy: D[0.948] --> B[0.966] | MSE(D): 9.390744e-04\n",
      "Test Accuracy:  D[0.949] --> B[0.966] | MSE(D): 1.069778e-03\n",
      "\n",
      "..........\n",
      "Epoch 23:\n"
     ]
    },
    {
     "data": {
      "application/vnd.jupyter.widget-view+json": {
       "model_id": "9bd2750d47ed4bc890e8817a63a14615",
       "version_major": 2,
       "version_minor": 0
      },
      "text/plain": [
       "HBox(children=(IntProgress(value=0, max=60000), HTML(value='')))"
      ]
     },
     "metadata": {},
     "output_type": "display_data"
    },
    {
     "name": "stdout",
     "output_type": "stream",
     "text": [
      "\n",
      "Train Accuracy: D[0.949] --> B[0.966] | MSE(D): 9.293432e-04\n",
      "Test Accuracy:  D[0.950] --> B[0.966] | MSE(D): 1.047570e-03\n",
      "\n",
      "..........\n",
      "Epoch 24:\n"
     ]
    },
    {
     "data": {
      "application/vnd.jupyter.widget-view+json": {
       "model_id": "75486e9eef534b42959cc5d239061d8d",
       "version_major": 2,
       "version_minor": 0
      },
      "text/plain": [
       "HBox(children=(IntProgress(value=0, max=60000), HTML(value='')))"
      ]
     },
     "metadata": {},
     "output_type": "display_data"
    },
    {
     "name": "stdout",
     "output_type": "stream",
     "text": [
      "\n",
      "Train Accuracy: D[0.950] --> B[0.966] | MSE(D): 9.227213e-04\n",
      "Test Accuracy:  D[0.950] --> B[0.966] | MSE(D): 1.010890e-03\n",
      "\n",
      "..........\n",
      "Epoch 25:\n"
     ]
    },
    {
     "data": {
      "application/vnd.jupyter.widget-view+json": {
       "model_id": "a670fb15350a4868a81eb29de929b354",
       "version_major": 2,
       "version_minor": 0
      },
      "text/plain": [
       "HBox(children=(IntProgress(value=0, max=60000), HTML(value='')))"
      ]
     },
     "metadata": {},
     "output_type": "display_data"
    },
    {
     "name": "stdout",
     "output_type": "stream",
     "text": [
      "\n",
      "Train Accuracy: D[0.950] --> B[0.966] | MSE(D): 9.041360e-04\n",
      "Test Accuracy:  D[0.951] --> B[0.966] | MSE(D): 9.668863e-04\n",
      "\n",
      "Overwrote weights for e25\n",
      "========================================\n",
      "INFO:tensorflow:Restoring parameters from ./discriminator_checkpoints/null\\discriminator_checkpoint.ckpt\n",
      "Reset graph to its initial state\n",
      "\n",
      "========================================\n",
      "Loading previous blackbox_e2 evaluation\n",
      "\n",
      "========================================\n",
      "Training on blackbox_e2\n",
      "..........\n",
      "Epoch 1:\n"
     ]
    },
    {
     "data": {
      "application/vnd.jupyter.widget-view+json": {
       "model_id": "946e4d75f2634be4a31d9d6429e0b907",
       "version_major": 2,
       "version_minor": 0
      },
      "text/plain": [
       "HBox(children=(IntProgress(value=0, max=60000), HTML(value='')))"
      ]
     },
     "metadata": {},
     "output_type": "display_data"
    },
    {
     "name": "stdout",
     "output_type": "stream",
     "text": [
      "\n",
      "Train Accuracy: D[0.494] --> B[0.978] | MSE(D): 3.753532e-02\n",
      "Test Accuracy:  D[0.715] --> B[0.978] | MSE(D): 1.081615e-02\n",
      "\n",
      "..........\n",
      "Epoch 2:\n"
     ]
    },
    {
     "data": {
      "application/vnd.jupyter.widget-view+json": {
       "model_id": "b6024ad8cbbf48a587d892774ec23b37",
       "version_major": 2,
       "version_minor": 0
      },
      "text/plain": [
       "HBox(children=(IntProgress(value=0, max=60000), HTML(value='')))"
      ]
     },
     "metadata": {},
     "output_type": "display_data"
    },
    {
     "name": "stdout",
     "output_type": "stream",
     "text": [
      "\n",
      "Train Accuracy: D[0.769] --> B[0.978] | MSE(D): 7.574602e-03\n",
      "Test Accuracy:  D[0.819] --> B[0.978] | MSE(D): 4.393540e-03\n",
      "\n",
      "..........\n",
      "Epoch 3:\n"
     ]
    },
    {
     "data": {
      "application/vnd.jupyter.widget-view+json": {
       "model_id": "cdd0825df5664bcf81fba863bcae6e5e",
       "version_major": 2,
       "version_minor": 0
      },
      "text/plain": [
       "HBox(children=(IntProgress(value=0, max=60000), HTML(value='')))"
      ]
     },
     "metadata": {},
     "output_type": "display_data"
    },
    {
     "name": "stdout",
     "output_type": "stream",
     "text": [
      "\n",
      "Train Accuracy: D[0.841] --> B[0.978] | MSE(D): 3.670909e-03\n",
      "Test Accuracy:  D[0.863] --> B[0.978] | MSE(D): 2.598032e-03\n",
      "\n",
      "..........\n",
      "Epoch 4:\n"
     ]
    },
    {
     "data": {
      "application/vnd.jupyter.widget-view+json": {
       "model_id": "d641130d7d464df082088006ffdc571d",
       "version_major": 2,
       "version_minor": 0
      },
      "text/plain": [
       "HBox(children=(IntProgress(value=0, max=60000), HTML(value='')))"
      ]
     },
     "metadata": {},
     "output_type": "display_data"
    },
    {
     "name": "stdout",
     "output_type": "stream",
     "text": [
      "\n",
      "Train Accuracy: D[0.874] --> B[0.978] | MSE(D): 2.286550e-03\n",
      "Test Accuracy:  D[0.887] --> B[0.978] | MSE(D): 1.813281e-03\n",
      "\n",
      "..........\n",
      "Epoch 5:\n"
     ]
    },
    {
     "data": {
      "application/vnd.jupyter.widget-view+json": {
       "model_id": "628dc88f1b28443685520707d526d13c",
       "version_major": 2,
       "version_minor": 0
      },
      "text/plain": [
       "HBox(children=(IntProgress(value=0, max=60000), HTML(value='')))"
      ]
     },
     "metadata": {},
     "output_type": "display_data"
    },
    {
     "name": "stdout",
     "output_type": "stream",
     "text": [
      "\n",
      "Train Accuracy: D[0.895] --> B[0.978] | MSE(D): 1.761162e-03\n",
      "Test Accuracy:  D[0.903] --> B[0.978] | MSE(D): 1.558730e-03\n",
      "\n",
      "..........\n",
      "Epoch 6:\n"
     ]
    },
    {
     "data": {
      "application/vnd.jupyter.widget-view+json": {
       "model_id": "6c566ca74ae34f33b96e56ec1be824dc",
       "version_major": 2,
       "version_minor": 0
      },
      "text/plain": [
       "HBox(children=(IntProgress(value=0, max=60000), HTML(value='')))"
      ]
     },
     "metadata": {},
     "output_type": "display_data"
    },
    {
     "name": "stdout",
     "output_type": "stream",
     "text": [
      "\n",
      "Train Accuracy: D[0.908] --> B[0.978] | MSE(D): 1.570443e-03\n",
      "Test Accuracy:  D[0.914] --> B[0.978] | MSE(D): 1.386042e-03\n",
      "\n",
      "..........\n",
      "Epoch 7:\n"
     ]
    },
    {
     "data": {
      "application/vnd.jupyter.widget-view+json": {
       "model_id": "475932cd66d34855a1aaf39890c74d78",
       "version_major": 2,
       "version_minor": 0
      },
      "text/plain": [
       "HBox(children=(IntProgress(value=0, max=60000), HTML(value='')))"
      ]
     },
     "metadata": {},
     "output_type": "display_data"
    },
    {
     "name": "stdout",
     "output_type": "stream",
     "text": [
      "\n",
      "Train Accuracy: D[0.918] --> B[0.978] | MSE(D): 1.442801e-03\n",
      "Test Accuracy:  D[0.922] --> B[0.978] | MSE(D): 1.373143e-03\n",
      "\n",
      "..........\n",
      "Epoch 8:\n"
     ]
    },
    {
     "data": {
      "application/vnd.jupyter.widget-view+json": {
       "model_id": "6a832045071c4856b2add1e91ca48151",
       "version_major": 2,
       "version_minor": 0
      },
      "text/plain": [
       "HBox(children=(IntProgress(value=0, max=60000), HTML(value='')))"
      ]
     },
     "metadata": {},
     "output_type": "display_data"
    },
    {
     "name": "stdout",
     "output_type": "stream",
     "text": [
      "\n",
      "Train Accuracy: D[0.925] --> B[0.978] | MSE(D): 1.292755e-03\n",
      "Test Accuracy:  D[0.928] --> B[0.978] | MSE(D): 1.375131e-03\n",
      "\n",
      "..........\n",
      "Epoch 9:\n"
     ]
    },
    {
     "data": {
      "application/vnd.jupyter.widget-view+json": {
       "model_id": "12c3f03b27e9434891b6ee44bddbe2b3",
       "version_major": 2,
       "version_minor": 0
      },
      "text/plain": [
       "HBox(children=(IntProgress(value=0, max=60000), HTML(value='')))"
      ]
     },
     "metadata": {},
     "output_type": "display_data"
    },
    {
     "name": "stdout",
     "output_type": "stream",
     "text": [
      "\n",
      "Train Accuracy: D[0.930] --> B[0.978] | MSE(D): 1.275157e-03\n",
      "Test Accuracy:  D[0.933] --> B[0.978] | MSE(D): 1.110605e-03\n",
      "\n",
      "..........\n",
      "Epoch 10:\n"
     ]
    },
    {
     "data": {
      "application/vnd.jupyter.widget-view+json": {
       "model_id": "528431a3aff748e6a32c1530b8e2ffb7",
       "version_major": 2,
       "version_minor": 0
      },
      "text/plain": [
       "HBox(children=(IntProgress(value=0, max=60000), HTML(value='')))"
      ]
     },
     "metadata": {},
     "output_type": "display_data"
    },
    {
     "name": "stdout",
     "output_type": "stream",
     "text": [
      "\n",
      "Train Accuracy: D[0.935] --> B[0.978] | MSE(D): 1.182849e-03\n",
      "Test Accuracy:  D[0.937] --> B[0.978] | MSE(D): 1.227277e-03\n",
      "\n",
      "..........\n",
      "Epoch 11:\n"
     ]
    },
    {
     "data": {
      "application/vnd.jupyter.widget-view+json": {
       "model_id": "c69025e08a4a4eaa9bee1c0da2e4c1d5",
       "version_major": 2,
       "version_minor": 0
      },
      "text/plain": [
       "HBox(children=(IntProgress(value=0, max=60000), HTML(value='')))"
      ]
     },
     "metadata": {},
     "output_type": "display_data"
    },
    {
     "name": "stdout",
     "output_type": "stream",
     "text": [
      "\n",
      "Train Accuracy: D[0.938] --> B[0.978] | MSE(D): 1.128557e-03\n",
      "Test Accuracy:  D[0.940] --> B[0.978] | MSE(D): 1.254098e-03\n",
      "\n",
      "..........\n",
      "Epoch 12:\n"
     ]
    },
    {
     "data": {
      "application/vnd.jupyter.widget-view+json": {
       "model_id": "896096b8ebbd4ed4a28c1fad85e7a1ca",
       "version_major": 2,
       "version_minor": 0
      },
      "text/plain": [
       "HBox(children=(IntProgress(value=0, max=60000), HTML(value='')))"
      ]
     },
     "metadata": {},
     "output_type": "display_data"
    },
    {
     "name": "stdout",
     "output_type": "stream",
     "text": [
      "\n",
      "Train Accuracy: D[0.941] --> B[0.978] | MSE(D): 1.111569e-03\n",
      "Test Accuracy:  D[0.943] --> B[0.978] | MSE(D): 1.077975e-03\n",
      "\n",
      "..........\n",
      "Epoch 13:\n"
     ]
    },
    {
     "data": {
      "application/vnd.jupyter.widget-view+json": {
       "model_id": "860cf5228a224dfe947bb98e2536e0d2",
       "version_major": 2,
       "version_minor": 0
      },
      "text/plain": [
       "HBox(children=(IntProgress(value=0, max=60000), HTML(value='')))"
      ]
     },
     "metadata": {},
     "output_type": "display_data"
    },
    {
     "name": "stdout",
     "output_type": "stream",
     "text": [
      "\n",
      "Train Accuracy: D[0.944] --> B[0.978] | MSE(D): 1.064203e-03\n",
      "Test Accuracy:  D[0.945] --> B[0.978] | MSE(D): 1.082372e-03\n",
      "\n",
      "..........\n",
      "Epoch 14:\n"
     ]
    },
    {
     "data": {
      "application/vnd.jupyter.widget-view+json": {
       "model_id": "81976ad77d2b4ec6919d15a454ddeb24",
       "version_major": 2,
       "version_minor": 0
      },
      "text/plain": [
       "HBox(children=(IntProgress(value=0, max=60000), HTML(value='')))"
      ]
     },
     "metadata": {},
     "output_type": "display_data"
    },
    {
     "name": "stdout",
     "output_type": "stream",
     "text": [
      "\n",
      "Train Accuracy: D[0.946] --> B[0.978] | MSE(D): 1.017467e-03\n",
      "Test Accuracy:  D[0.947] --> B[0.978] | MSE(D): 1.010012e-03\n",
      "\n",
      "..........\n",
      "Epoch 15:\n"
     ]
    },
    {
     "data": {
      "application/vnd.jupyter.widget-view+json": {
       "model_id": "027f4d8edaae4cda9c4cc185dfab4fbd",
       "version_major": 2,
       "version_minor": 0
      },
      "text/plain": [
       "HBox(children=(IntProgress(value=0, max=60000), HTML(value='')))"
      ]
     },
     "metadata": {},
     "output_type": "display_data"
    },
    {
     "name": "stdout",
     "output_type": "stream",
     "text": [
      "\n",
      "Train Accuracy: D[0.948] --> B[0.978] | MSE(D): 9.613102e-04\n",
      "Test Accuracy:  D[0.949] --> B[0.978] | MSE(D): 9.771567e-04\n",
      "\n",
      "..........\n",
      "Epoch 16:\n"
     ]
    },
    {
     "data": {
      "application/vnd.jupyter.widget-view+json": {
       "model_id": "88749e71747141ee99ad361c5522f676",
       "version_major": 2,
       "version_minor": 0
      },
      "text/plain": [
       "HBox(children=(IntProgress(value=0, max=60000), HTML(value='')))"
      ]
     },
     "metadata": {},
     "output_type": "display_data"
    },
    {
     "name": "stdout",
     "output_type": "stream",
     "text": [
      "\n",
      "Train Accuracy: D[0.950] --> B[0.978] | MSE(D): 9.465066e-04\n",
      "Test Accuracy:  D[0.951] --> B[0.978] | MSE(D): 1.045013e-03\n",
      "\n",
      "..........\n",
      "Epoch 17:\n"
     ]
    },
    {
     "data": {
      "application/vnd.jupyter.widget-view+json": {
       "model_id": "cf481fa0b7c642808c3063d6ebfb1363",
       "version_major": 2,
       "version_minor": 0
      },
      "text/plain": [
       "HBox(children=(IntProgress(value=0, max=60000), HTML(value='')))"
      ]
     },
     "metadata": {},
     "output_type": "display_data"
    },
    {
     "name": "stdout",
     "output_type": "stream",
     "text": [
      "\n",
      "Train Accuracy: D[0.951] --> B[0.978] | MSE(D): 9.336660e-04\n",
      "Test Accuracy:  D[0.952] --> B[0.978] | MSE(D): 9.518872e-04\n",
      "\n",
      "..........\n",
      "Epoch 18:\n"
     ]
    },
    {
     "data": {
      "application/vnd.jupyter.widget-view+json": {
       "model_id": "9f543ec29a124ec6ac86c6951e7b8ae4",
       "version_major": 2,
       "version_minor": 0
      },
      "text/plain": [
       "HBox(children=(IntProgress(value=0, max=60000), HTML(value='')))"
      ]
     },
     "metadata": {},
     "output_type": "display_data"
    },
    {
     "name": "stdout",
     "output_type": "stream",
     "text": [
      "\n",
      "Train Accuracy: D[0.953] --> B[0.978] | MSE(D): 8.828506e-04\n",
      "Test Accuracy:  D[0.953] --> B[0.978] | MSE(D): 9.935611e-04\n",
      "\n",
      "..........\n",
      "Epoch 19:\n"
     ]
    },
    {
     "data": {
      "application/vnd.jupyter.widget-view+json": {
       "model_id": "d3b75cb83da145ad8df924b0ad55b05c",
       "version_major": 2,
       "version_minor": 0
      },
      "text/plain": [
       "HBox(children=(IntProgress(value=0, max=60000), HTML(value='')))"
      ]
     },
     "metadata": {},
     "output_type": "display_data"
    },
    {
     "name": "stdout",
     "output_type": "stream",
     "text": [
      "\n",
      "Train Accuracy: D[0.954] --> B[0.978] | MSE(D): 8.806101e-04\n",
      "Test Accuracy:  D[0.954] --> B[0.978] | MSE(D): 9.726201e-04\n",
      "\n",
      "..........\n",
      "Epoch 20:\n"
     ]
    },
    {
     "data": {
      "application/vnd.jupyter.widget-view+json": {
       "model_id": "618dad8495d14c38be158928e65e611d",
       "version_major": 2,
       "version_minor": 0
      },
      "text/plain": [
       "HBox(children=(IntProgress(value=0, max=60000), HTML(value='')))"
      ]
     },
     "metadata": {},
     "output_type": "display_data"
    },
    {
     "name": "stdout",
     "output_type": "stream",
     "text": [
      "\n",
      "Train Accuracy: D[0.955] --> B[0.978] | MSE(D): 8.956243e-04\n",
      "Test Accuracy:  D[0.956] --> B[0.978] | MSE(D): 8.730790e-04\n",
      "\n",
      "..........\n",
      "Epoch 21:\n"
     ]
    },
    {
     "data": {
      "application/vnd.jupyter.widget-view+json": {
       "model_id": "fa06f5db2ba645648245fcac474ee79d",
       "version_major": 2,
       "version_minor": 0
      },
      "text/plain": [
       "HBox(children=(IntProgress(value=0, max=60000), HTML(value='')))"
      ]
     },
     "metadata": {},
     "output_type": "display_data"
    },
    {
     "name": "stdout",
     "output_type": "stream",
     "text": [
      "\n",
      "Train Accuracy: D[0.956] --> B[0.978] | MSE(D): 8.636245e-04\n",
      "Test Accuracy:  D[0.956] --> B[0.978] | MSE(D): 1.086444e-03\n",
      "\n",
      "..........\n",
      "Epoch 22:\n"
     ]
    },
    {
     "data": {
      "application/vnd.jupyter.widget-view+json": {
       "model_id": "7f7bf37b091f4321b65e63090e9ba0c1",
       "version_major": 2,
       "version_minor": 0
      },
      "text/plain": [
       "HBox(children=(IntProgress(value=0, max=60000), HTML(value='')))"
      ]
     },
     "metadata": {},
     "output_type": "display_data"
    },
    {
     "name": "stdout",
     "output_type": "stream",
     "text": [
      "\n",
      "Train Accuracy: D[0.957] --> B[0.978] | MSE(D): 8.281265e-04\n",
      "Test Accuracy:  D[0.957] --> B[0.978] | MSE(D): 1.024978e-03\n",
      "\n",
      "..........\n",
      "Epoch 23:\n"
     ]
    },
    {
     "data": {
      "application/vnd.jupyter.widget-view+json": {
       "model_id": "117de61a6afb463e8f59f9c7660a03ef",
       "version_major": 2,
       "version_minor": 0
      },
      "text/plain": [
       "HBox(children=(IntProgress(value=0, max=60000), HTML(value='')))"
      ]
     },
     "metadata": {},
     "output_type": "display_data"
    },
    {
     "name": "stdout",
     "output_type": "stream",
     "text": [
      "\n",
      "Train Accuracy: D[0.958] --> B[0.978] | MSE(D): 8.800655e-04\n",
      "Test Accuracy:  D[0.958] --> B[0.978] | MSE(D): 9.744425e-04\n",
      "\n",
      "..........\n",
      "Epoch 24:\n"
     ]
    },
    {
     "data": {
      "application/vnd.jupyter.widget-view+json": {
       "model_id": "1572c8dd93104f50949bfafbdc4f3406",
       "version_major": 2,
       "version_minor": 0
      },
      "text/plain": [
       "HBox(children=(IntProgress(value=0, max=60000), HTML(value='')))"
      ]
     },
     "metadata": {},
     "output_type": "display_data"
    },
    {
     "name": "stdout",
     "output_type": "stream",
     "text": [
      "\n",
      "Train Accuracy: D[0.958] --> B[0.978] | MSE(D): 8.178034e-04\n",
      "Test Accuracy:  D[0.959] --> B[0.978] | MSE(D): 9.309725e-04\n",
      "\n",
      "..........\n",
      "Epoch 25:\n"
     ]
    },
    {
     "data": {
      "application/vnd.jupyter.widget-view+json": {
       "model_id": "de8e48f098b4411480ed18a4267b9780",
       "version_major": 2,
       "version_minor": 0
      },
      "text/plain": [
       "HBox(children=(IntProgress(value=0, max=60000), HTML(value='')))"
      ]
     },
     "metadata": {},
     "output_type": "display_data"
    },
    {
     "name": "stdout",
     "output_type": "stream",
     "text": [
      "\n",
      "Train Accuracy: D[0.959] --> B[0.978] | MSE(D): 8.118211e-04\n",
      "Test Accuracy:  D[0.960] --> B[0.978] | MSE(D): 9.062253e-04\n",
      "\n",
      "Overwrote weights for e25\n",
      "========================================\n",
      "INFO:tensorflow:Restoring parameters from ./discriminator_checkpoints/null\\discriminator_checkpoint.ckpt\n",
      "Reset graph to its initial state\n",
      "\n",
      "========================================\n",
      "Loading previous blackbox_e3 evaluation\n",
      "\n",
      "========================================\n",
      "Training on blackbox_e3\n",
      "..........\n",
      "Epoch 1:\n"
     ]
    },
    {
     "data": {
      "application/vnd.jupyter.widget-view+json": {
       "model_id": "27d12d7075fa4423ab6f6050344227bc",
       "version_major": 2,
       "version_minor": 0
      },
      "text/plain": [
       "HBox(children=(IntProgress(value=0, max=60000), HTML(value='')))"
      ]
     },
     "metadata": {},
     "output_type": "display_data"
    },
    {
     "name": "stdout",
     "output_type": "stream",
     "text": [
      "\n",
      "Train Accuracy: D[0.547] --> B[0.982] | MSE(D): 3.307974e-02\n",
      "Test Accuracy:  D[0.760] --> B[0.982] | MSE(D): 9.097367e-03\n",
      "\n",
      "..........\n",
      "Epoch 2:\n"
     ]
    },
    {
     "data": {
      "application/vnd.jupyter.widget-view+json": {
       "model_id": "c3f25b183c91499894c0c15e0a638906",
       "version_major": 2,
       "version_minor": 0
      },
      "text/plain": [
       "HBox(children=(IntProgress(value=0, max=60000), HTML(value='')))"
      ]
     },
     "metadata": {},
     "output_type": "display_data"
    },
    {
     "name": "stdout",
     "output_type": "stream",
     "text": [
      "\n",
      "Train Accuracy: D[0.807] --> B[0.982] | MSE(D): 6.126002e-03\n",
      "Test Accuracy:  D[0.850] --> B[0.982] | MSE(D): 3.477533e-03\n",
      "\n",
      "..........\n",
      "Epoch 3:\n"
     ]
    },
    {
     "data": {
      "application/vnd.jupyter.widget-view+json": {
       "model_id": "c89073906df942c999fc515b9a4929e9",
       "version_major": 2,
       "version_minor": 0
      },
      "text/plain": [
       "HBox(children=(IntProgress(value=0, max=60000), HTML(value='')))"
      ]
     },
     "metadata": {},
     "output_type": "display_data"
    },
    {
     "name": "stdout",
     "output_type": "stream",
     "text": [
      "\n",
      "Train Accuracy: D[0.868] --> B[0.982] | MSE(D): 2.819695e-03\n",
      "Test Accuracy:  D[0.887] --> B[0.982] | MSE(D): 2.131422e-03\n",
      "\n",
      "..........\n",
      "Epoch 4:\n"
     ]
    },
    {
     "data": {
      "application/vnd.jupyter.widget-view+json": {
       "model_id": "feb2afa4a4e7406997b90a7e73b02747",
       "version_major": 2,
       "version_minor": 0
      },
      "text/plain": [
       "HBox(children=(IntProgress(value=0, max=60000), HTML(value='')))"
      ]
     },
     "metadata": {},
     "output_type": "display_data"
    },
    {
     "name": "stdout",
     "output_type": "stream",
     "text": [
      "\n",
      "Train Accuracy: D[0.897] --> B[0.982] | MSE(D): 1.886655e-03\n",
      "Test Accuracy:  D[0.908] --> B[0.982] | MSE(D): 1.697133e-03\n",
      "\n",
      "..........\n",
      "Epoch 5:\n"
     ]
    },
    {
     "data": {
      "application/vnd.jupyter.widget-view+json": {
       "model_id": "e35744590d1f48e3965b8e30794db1bb",
       "version_major": 2,
       "version_minor": 0
      },
      "text/plain": [
       "HBox(children=(IntProgress(value=0, max=60000), HTML(value='')))"
      ]
     },
     "metadata": {},
     "output_type": "display_data"
    },
    {
     "name": "stdout",
     "output_type": "stream",
     "text": [
      "\n",
      "Train Accuracy: D[0.914] --> B[0.982] | MSE(D): 1.570372e-03\n",
      "Test Accuracy:  D[0.921] --> B[0.982] | MSE(D): 1.460525e-03\n",
      "\n",
      "..........\n",
      "Epoch 6:\n"
     ]
    },
    {
     "data": {
      "application/vnd.jupyter.widget-view+json": {
       "model_id": "6b35f7acebab4d058f3732c636a270c3",
       "version_major": 2,
       "version_minor": 0
      },
      "text/plain": [
       "HBox(children=(IntProgress(value=0, max=60000), HTML(value='')))"
      ]
     },
     "metadata": {},
     "output_type": "display_data"
    },
    {
     "name": "stdout",
     "output_type": "stream",
     "text": [
      "\n",
      "Train Accuracy: D[0.925] --> B[0.982] | MSE(D): 1.323820e-03\n",
      "Test Accuracy:  D[0.930] --> B[0.982] | MSE(D): 1.245594e-03\n",
      "\n",
      "..........\n",
      "Epoch 7:\n"
     ]
    },
    {
     "data": {
      "application/vnd.jupyter.widget-view+json": {
       "model_id": "883b4554a587486fbdc1b814f5c7811b",
       "version_major": 2,
       "version_minor": 0
      },
      "text/plain": [
       "HBox(children=(IntProgress(value=0, max=60000), HTML(value='')))"
      ]
     },
     "metadata": {},
     "output_type": "display_data"
    },
    {
     "name": "stdout",
     "output_type": "stream",
     "text": [
      "\n",
      "Train Accuracy: D[0.933] --> B[0.982] | MSE(D): 1.187946e-03\n",
      "Test Accuracy:  D[0.936] --> B[0.982] | MSE(D): 1.107480e-03\n",
      "\n",
      "..........\n",
      "Epoch 8:\n"
     ]
    },
    {
     "data": {
      "application/vnd.jupyter.widget-view+json": {
       "model_id": "349438d4f89541daa47c90ea3803f283",
       "version_major": 2,
       "version_minor": 0
      },
      "text/plain": [
       "HBox(children=(IntProgress(value=0, max=60000), HTML(value='')))"
      ]
     },
     "metadata": {},
     "output_type": "display_data"
    },
    {
     "name": "stdout",
     "output_type": "stream",
     "text": [
      "\n",
      "Train Accuracy: D[0.939] --> B[0.982] | MSE(D): 1.086425e-03\n",
      "Test Accuracy:  D[0.941] --> B[0.982] | MSE(D): 1.175302e-03\n",
      "\n",
      "..........\n",
      "Epoch 9:\n"
     ]
    },
    {
     "data": {
      "application/vnd.jupyter.widget-view+json": {
       "model_id": "c0322c49aa4a471b9e66a73c59a6297d",
       "version_major": 2,
       "version_minor": 0
      },
      "text/plain": [
       "HBox(children=(IntProgress(value=0, max=60000), HTML(value='')))"
      ]
     },
     "metadata": {},
     "output_type": "display_data"
    },
    {
     "name": "stdout",
     "output_type": "stream",
     "text": [
      "\n",
      "Train Accuracy: D[0.943] --> B[0.982] | MSE(D): 1.038373e-03\n",
      "Test Accuracy:  D[0.945] --> B[0.982] | MSE(D): 1.058592e-03\n",
      "\n",
      "..........\n",
      "Epoch 10:\n"
     ]
    },
    {
     "data": {
      "application/vnd.jupyter.widget-view+json": {
       "model_id": "7a6c68b4a4f44ad9adc1e5d9e1ae987b",
       "version_major": 2,
       "version_minor": 0
      },
      "text/plain": [
       "HBox(children=(IntProgress(value=0, max=60000), HTML(value='')))"
      ]
     },
     "metadata": {},
     "output_type": "display_data"
    },
    {
     "name": "stdout",
     "output_type": "stream",
     "text": [
      "\n",
      "Train Accuracy: D[0.947] --> B[0.982] | MSE(D): 9.618778e-04\n",
      "Test Accuracy:  D[0.949] --> B[0.982] | MSE(D): 1.017000e-03\n",
      "\n",
      "..........\n",
      "Epoch 11:\n"
     ]
    },
    {
     "data": {
      "application/vnd.jupyter.widget-view+json": {
       "model_id": "e2f057db9fb84a0fa6c6f0e7ff114aeb",
       "version_major": 2,
       "version_minor": 0
      },
      "text/plain": [
       "HBox(children=(IntProgress(value=0, max=60000), HTML(value='')))"
      ]
     },
     "metadata": {},
     "output_type": "display_data"
    },
    {
     "name": "stdout",
     "output_type": "stream",
     "text": [
      "\n",
      "Train Accuracy: D[0.950] --> B[0.982] | MSE(D): 9.682132e-04\n",
      "Test Accuracy:  D[0.951] --> B[0.982] | MSE(D): 1.053493e-03\n",
      "\n",
      "..........\n",
      "Epoch 12:\n"
     ]
    },
    {
     "data": {
      "application/vnd.jupyter.widget-view+json": {
       "model_id": "ca6aef076cdd436aa47ecd3b54de43bb",
       "version_major": 2,
       "version_minor": 0
      },
      "text/plain": [
       "HBox(children=(IntProgress(value=0, max=60000), HTML(value='')))"
      ]
     },
     "metadata": {},
     "output_type": "display_data"
    },
    {
     "name": "stdout",
     "output_type": "stream",
     "text": [
      "\n",
      "Train Accuracy: D[0.952] --> B[0.982] | MSE(D): 9.019193e-04\n",
      "Test Accuracy:  D[0.954] --> B[0.982] | MSE(D): 9.625508e-04\n",
      "\n",
      "..........\n",
      "Epoch 13:\n"
     ]
    },
    {
     "data": {
      "application/vnd.jupyter.widget-view+json": {
       "model_id": "e16352d42c2c4159831ae2b07c960732",
       "version_major": 2,
       "version_minor": 0
      },
      "text/plain": [
       "HBox(children=(IntProgress(value=0, max=60000), HTML(value='')))"
      ]
     },
     "metadata": {},
     "output_type": "display_data"
    },
    {
     "name": "stdout",
     "output_type": "stream",
     "text": [
      "\n",
      "Train Accuracy: D[0.954] --> B[0.982] | MSE(D): 8.770597e-04\n",
      "Test Accuracy:  D[0.955] --> B[0.982] | MSE(D): 8.957845e-04\n",
      "\n",
      "..........\n",
      "Epoch 14:\n"
     ]
    },
    {
     "data": {
      "application/vnd.jupyter.widget-view+json": {
       "model_id": "df054be774e1432698819c9f2362c33f",
       "version_major": 2,
       "version_minor": 0
      },
      "text/plain": [
       "HBox(children=(IntProgress(value=0, max=60000), HTML(value='')))"
      ]
     },
     "metadata": {},
     "output_type": "display_data"
    },
    {
     "name": "stdout",
     "output_type": "stream",
     "text": [
      "\n",
      "Train Accuracy: D[0.956] --> B[0.982] | MSE(D): 8.154563e-04\n",
      "Test Accuracy:  D[0.957] --> B[0.982] | MSE(D): 9.741444e-04\n",
      "\n",
      "..........\n",
      "Epoch 15:\n"
     ]
    },
    {
     "data": {
      "application/vnd.jupyter.widget-view+json": {
       "model_id": "7868f2459eb149a9bb50130dfb835a53",
       "version_major": 2,
       "version_minor": 0
      },
      "text/plain": [
       "HBox(children=(IntProgress(value=0, max=60000), HTML(value='')))"
      ]
     },
     "metadata": {},
     "output_type": "display_data"
    },
    {
     "name": "stdout",
     "output_type": "stream",
     "text": [
      "\n",
      "Train Accuracy: D[0.958] --> B[0.982] | MSE(D): 8.206249e-04\n",
      "Test Accuracy:  D[0.959] --> B[0.982] | MSE(D): 1.027070e-03\n",
      "\n",
      "..........\n",
      "Epoch 16:\n"
     ]
    },
    {
     "data": {
      "application/vnd.jupyter.widget-view+json": {
       "model_id": "6c879783757d4049a3d8bc8b892f3c0c",
       "version_major": 2,
       "version_minor": 0
      },
      "text/plain": [
       "HBox(children=(IntProgress(value=0, max=60000), HTML(value='')))"
      ]
     },
     "metadata": {},
     "output_type": "display_data"
    },
    {
     "name": "stdout",
     "output_type": "stream",
     "text": [
      "\n",
      "Train Accuracy: D[0.959] --> B[0.982] | MSE(D): 7.593583e-04\n",
      "Test Accuracy:  D[0.960] --> B[0.982] | MSE(D): 9.090868e-04\n",
      "\n",
      "..........\n",
      "Epoch 17:\n"
     ]
    },
    {
     "data": {
      "application/vnd.jupyter.widget-view+json": {
       "model_id": "d12d718caab14af5bd6554fa98a5ab60",
       "version_major": 2,
       "version_minor": 0
      },
      "text/plain": [
       "HBox(children=(IntProgress(value=0, max=60000), HTML(value='')))"
      ]
     },
     "metadata": {},
     "output_type": "display_data"
    },
    {
     "name": "stdout",
     "output_type": "stream",
     "text": [
      "\n",
      "Train Accuracy: D[0.961] --> B[0.982] | MSE(D): 7.420167e-04\n",
      "Test Accuracy:  D[0.961] --> B[0.982] | MSE(D): 8.604143e-04\n",
      "\n",
      "..........\n",
      "Epoch 18:\n"
     ]
    },
    {
     "data": {
      "application/vnd.jupyter.widget-view+json": {
       "model_id": "90d0c64ccf9a4b00a444b8727aa224fa",
       "version_major": 2,
       "version_minor": 0
      },
      "text/plain": [
       "HBox(children=(IntProgress(value=0, max=60000), HTML(value='')))"
      ]
     },
     "metadata": {},
     "output_type": "display_data"
    },
    {
     "name": "stdout",
     "output_type": "stream",
     "text": [
      "\n",
      "Train Accuracy: D[0.962] --> B[0.982] | MSE(D): 7.344853e-04\n",
      "Test Accuracy:  D[0.962] --> B[0.982] | MSE(D): 8.149857e-04\n",
      "\n",
      "..........\n",
      "Epoch 19:\n"
     ]
    },
    {
     "data": {
      "application/vnd.jupyter.widget-view+json": {
       "model_id": "fbd7f816466a4aa18287e5978d80857e",
       "version_major": 2,
       "version_minor": 0
      },
      "text/plain": [
       "HBox(children=(IntProgress(value=0, max=60000), HTML(value='')))"
      ]
     },
     "metadata": {},
     "output_type": "display_data"
    },
    {
     "name": "stdout",
     "output_type": "stream",
     "text": [
      "\n",
      "Train Accuracy: D[0.963] --> B[0.982] | MSE(D): 7.149341e-04\n",
      "Test Accuracy:  D[0.963] --> B[0.982] | MSE(D): 9.822883e-04\n",
      "\n",
      "..........\n",
      "Epoch 20:\n"
     ]
    },
    {
     "data": {
      "application/vnd.jupyter.widget-view+json": {
       "model_id": "50fe3e7e6706453a89c1928525ee08e3",
       "version_major": 2,
       "version_minor": 0
      },
      "text/plain": [
       "HBox(children=(IntProgress(value=0, max=60000), HTML(value='')))"
      ]
     },
     "metadata": {},
     "output_type": "display_data"
    },
    {
     "name": "stdout",
     "output_type": "stream",
     "text": [
      "\n",
      "Train Accuracy: D[0.964] --> B[0.982] | MSE(D): 6.836560e-04\n",
      "Test Accuracy:  D[0.964] --> B[0.982] | MSE(D): 8.501807e-04\n",
      "\n",
      "..........\n",
      "Epoch 21:\n"
     ]
    },
    {
     "data": {
      "application/vnd.jupyter.widget-view+json": {
       "model_id": "c9215b38da0342cd917501629b704c39",
       "version_major": 2,
       "version_minor": 0
      },
      "text/plain": [
       "HBox(children=(IntProgress(value=0, max=60000), HTML(value='')))"
      ]
     },
     "metadata": {},
     "output_type": "display_data"
    },
    {
     "name": "stdout",
     "output_type": "stream",
     "text": [
      "\n",
      "Train Accuracy: D[0.964] --> B[0.982] | MSE(D): 7.030110e-04\n",
      "Test Accuracy:  D[0.965] --> B[0.982] | MSE(D): 9.198510e-04\n",
      "\n",
      "..........\n",
      "Epoch 22:\n"
     ]
    },
    {
     "data": {
      "application/vnd.jupyter.widget-view+json": {
       "model_id": "7c58396d747a49f88d96a13d24629dc0",
       "version_major": 2,
       "version_minor": 0
      },
      "text/plain": [
       "HBox(children=(IntProgress(value=0, max=60000), HTML(value='')))"
      ]
     },
     "metadata": {},
     "output_type": "display_data"
    },
    {
     "name": "stdout",
     "output_type": "stream",
     "text": [
      "\n",
      "Train Accuracy: D[0.965] --> B[0.982] | MSE(D): 6.758971e-04\n",
      "Test Accuracy:  D[0.966] --> B[0.982] | MSE(D): 8.031917e-04\n",
      "\n",
      "..........\n",
      "Epoch 23:\n"
     ]
    },
    {
     "data": {
      "application/vnd.jupyter.widget-view+json": {
       "model_id": "a74dc3d8cfc649caac084e5eb44bed42",
       "version_major": 2,
       "version_minor": 0
      },
      "text/plain": [
       "HBox(children=(IntProgress(value=0, max=60000), HTML(value='')))"
      ]
     },
     "metadata": {},
     "output_type": "display_data"
    },
    {
     "name": "stdout",
     "output_type": "stream",
     "text": [
      "\n",
      "Train Accuracy: D[0.966] --> B[0.982] | MSE(D): 6.356384e-04\n",
      "Test Accuracy:  D[0.966] --> B[0.982] | MSE(D): 9.034324e-04\n",
      "\n",
      "..........\n",
      "Epoch 24:\n"
     ]
    },
    {
     "data": {
      "application/vnd.jupyter.widget-view+json": {
       "model_id": "9f6a8f93cc4d4c5086438f4614031e2c",
       "version_major": 2,
       "version_minor": 0
      },
      "text/plain": [
       "HBox(children=(IntProgress(value=0, max=60000), HTML(value='')))"
      ]
     },
     "metadata": {},
     "output_type": "display_data"
    },
    {
     "name": "stdout",
     "output_type": "stream",
     "text": [
      "\n",
      "Train Accuracy: D[0.967] --> B[0.982] | MSE(D): 6.471025e-04\n",
      "Test Accuracy:  D[0.967] --> B[0.982] | MSE(D): 8.945115e-04\n",
      "\n",
      "..........\n",
      "Epoch 25:\n"
     ]
    },
    {
     "data": {
      "application/vnd.jupyter.widget-view+json": {
       "model_id": "d6971b96eaa84e6e9e34ac1a228147d1",
       "version_major": 2,
       "version_minor": 0
      },
      "text/plain": [
       "HBox(children=(IntProgress(value=0, max=60000), HTML(value='')))"
      ]
     },
     "metadata": {},
     "output_type": "display_data"
    },
    {
     "name": "stdout",
     "output_type": "stream",
     "text": [
      "\n",
      "Train Accuracy: D[0.967] --> B[0.982] | MSE(D): 6.666418e-04\n",
      "Test Accuracy:  D[0.967] --> B[0.982] | MSE(D): 9.512344e-04\n",
      "\n",
      "Overwrote weights for e25\n",
      "========================================\n",
      "INFO:tensorflow:Restoring parameters from ./discriminator_checkpoints/null\\discriminator_checkpoint.ckpt\n",
      "Reset graph to its initial state\n",
      "\n",
      "========================================\n",
      "Loading previous blackbox_e4 evaluation\n",
      "\n",
      "========================================\n",
      "Training on blackbox_e4\n",
      "..........\n",
      "Epoch 1:\n"
     ]
    },
    {
     "data": {
      "application/vnd.jupyter.widget-view+json": {
       "model_id": "032db0a6fb4a49ffbf35f051a952f352",
       "version_major": 2,
       "version_minor": 0
      },
      "text/plain": [
       "HBox(children=(IntProgress(value=0, max=60000), HTML(value='')))"
      ]
     },
     "metadata": {},
     "output_type": "display_data"
    },
    {
     "name": "stdout",
     "output_type": "stream",
     "text": [
      "\n",
      "Train Accuracy: D[0.480] --> B[0.985] | MSE(D): 3.740982e-02\n",
      "Test Accuracy:  D[0.724] --> B[0.984] | MSE(D): 1.158457e-02\n",
      "\n",
      "..........\n",
      "Epoch 2:\n"
     ]
    },
    {
     "data": {
      "application/vnd.jupyter.widget-view+json": {
       "model_id": "1bac29200a5848b8a870b71de4db1913",
       "version_major": 2,
       "version_minor": 0
      },
      "text/plain": [
       "HBox(children=(IntProgress(value=0, max=60000), HTML(value='')))"
      ]
     },
     "metadata": {},
     "output_type": "display_data"
    },
    {
     "name": "stdout",
     "output_type": "stream",
     "text": [
      "\n",
      "Train Accuracy: D[0.777] --> B[0.984] | MSE(D): 7.962236e-03\n",
      "Test Accuracy:  D[0.827] --> B[0.984] | MSE(D): 4.699563e-03\n",
      "\n",
      "..........\n",
      "Epoch 3:\n"
     ]
    },
    {
     "data": {
      "application/vnd.jupyter.widget-view+json": {
       "model_id": "0d7773005abc4432a083b7778b96e883",
       "version_major": 2,
       "version_minor": 0
      },
      "text/plain": [
       "HBox(children=(IntProgress(value=0, max=60000), HTML(value='')))"
      ]
     },
     "metadata": {},
     "output_type": "display_data"
    },
    {
     "name": "stdout",
     "output_type": "stream",
     "text": [
      "\n",
      "Train Accuracy: D[0.848] --> B[0.984] | MSE(D): 4.163499e-03\n",
      "Test Accuracy:  D[0.870] --> B[0.984] | MSE(D): 3.015809e-03\n",
      "\n",
      "..........\n",
      "Epoch 4:\n"
     ]
    },
    {
     "data": {
      "application/vnd.jupyter.widget-view+json": {
       "model_id": "2a3513b06f1a4410a0cb710e24eda790",
       "version_major": 2,
       "version_minor": 0
      },
      "text/plain": [
       "HBox(children=(IntProgress(value=0, max=60000), HTML(value='')))"
      ]
     },
     "metadata": {},
     "output_type": "display_data"
    },
    {
     "name": "stdout",
     "output_type": "stream",
     "text": [
      "\n",
      "Train Accuracy: D[0.881] --> B[0.984] | MSE(D): 2.952687e-03\n",
      "Test Accuracy:  D[0.893] --> B[0.984] | MSE(D): 2.337072e-03\n",
      "\n",
      "..........\n",
      "Epoch 5:\n"
     ]
    },
    {
     "data": {
      "application/vnd.jupyter.widget-view+json": {
       "model_id": "ed4162beae9c4d4b8f9b15a65ffedcc1",
       "version_major": 2,
       "version_minor": 0
      },
      "text/plain": [
       "HBox(children=(IntProgress(value=0, max=60000), HTML(value='')))"
      ]
     },
     "metadata": {},
     "output_type": "display_data"
    },
    {
     "name": "stdout",
     "output_type": "stream",
     "text": [
      "\n",
      "Train Accuracy: D[0.900] --> B[0.984] | MSE(D): 2.209242e-03\n",
      "Test Accuracy:  D[0.908] --> B[0.984] | MSE(D): 1.997160e-03\n",
      "\n",
      "..........\n",
      "Epoch 6:\n"
     ]
    },
    {
     "data": {
      "application/vnd.jupyter.widget-view+json": {
       "model_id": "2dcd1a2dd9e046db89555c96472113f6",
       "version_major": 2,
       "version_minor": 0
      },
      "text/plain": [
       "HBox(children=(IntProgress(value=0, max=60000), HTML(value='')))"
      ]
     },
     "metadata": {},
     "output_type": "display_data"
    },
    {
     "name": "stdout",
     "output_type": "stream",
     "text": [
      "\n",
      "Train Accuracy: D[0.913] --> B[0.984] | MSE(D): 1.873777e-03\n",
      "Test Accuracy:  D[0.919] --> B[0.984] | MSE(D): 1.722067e-03\n",
      "\n",
      "..........\n",
      "Epoch 7:\n"
     ]
    },
    {
     "data": {
      "application/vnd.jupyter.widget-view+json": {
       "model_id": "25f392cefb7e45ec9634d1a6620a9c0f",
       "version_major": 2,
       "version_minor": 0
      },
      "text/plain": [
       "HBox(children=(IntProgress(value=0, max=60000), HTML(value='')))"
      ]
     },
     "metadata": {},
     "output_type": "display_data"
    },
    {
     "name": "stdout",
     "output_type": "stream",
     "text": [
      "\n",
      "Train Accuracy: D[0.923] --> B[0.984] | MSE(D): 1.662941e-03\n",
      "Test Accuracy:  D[0.927] --> B[0.984] | MSE(D): 1.581266e-03\n",
      "\n",
      "..........\n",
      "Epoch 8:\n"
     ]
    },
    {
     "data": {
      "application/vnd.jupyter.widget-view+json": {
       "model_id": "187db34e1fb448c79c44d2c72b5df323",
       "version_major": 2,
       "version_minor": 0
      },
      "text/plain": [
       "HBox(children=(IntProgress(value=0, max=60000), HTML(value='')))"
      ]
     },
     "metadata": {},
     "output_type": "display_data"
    },
    {
     "name": "stdout",
     "output_type": "stream",
     "text": [
      "\n",
      "Train Accuracy: D[0.930] --> B[0.984] | MSE(D): 1.409312e-03\n",
      "Test Accuracy:  D[0.933] --> B[0.984] | MSE(D): 1.573052e-03\n",
      "\n",
      "..........\n",
      "Epoch 9:\n"
     ]
    },
    {
     "data": {
      "application/vnd.jupyter.widget-view+json": {
       "model_id": "1095278f5c464432b70b31aae3dda8fc",
       "version_major": 2,
       "version_minor": 0
      },
      "text/plain": [
       "HBox(children=(IntProgress(value=0, max=60000), HTML(value='')))"
      ]
     },
     "metadata": {},
     "output_type": "display_data"
    },
    {
     "name": "stdout",
     "output_type": "stream",
     "text": [
      "\n",
      "Train Accuracy: D[0.935] --> B[0.984] | MSE(D): 1.351098e-03\n",
      "Test Accuracy:  D[0.938] --> B[0.984] | MSE(D): 1.433889e-03\n",
      "\n",
      "..........\n",
      "Epoch 10:\n"
     ]
    },
    {
     "data": {
      "application/vnd.jupyter.widget-view+json": {
       "model_id": "b5d62dfe6ef74625b400df1d7c1550c8",
       "version_major": 2,
       "version_minor": 0
      },
      "text/plain": [
       "HBox(children=(IntProgress(value=0, max=60000), HTML(value='')))"
      ]
     },
     "metadata": {},
     "output_type": "display_data"
    },
    {
     "name": "stdout",
     "output_type": "stream",
     "text": [
      "\n",
      "Train Accuracy: D[0.940] --> B[0.984] | MSE(D): 1.236946e-03\n",
      "Test Accuracy:  D[0.942] --> B[0.984] | MSE(D): 1.398536e-03\n",
      "\n",
      "..........\n",
      "Epoch 11:\n"
     ]
    },
    {
     "data": {
      "application/vnd.jupyter.widget-view+json": {
       "model_id": "2ceb4195bff348daba6d2a2c64f21c91",
       "version_major": 2,
       "version_minor": 0
      },
      "text/plain": [
       "HBox(children=(IntProgress(value=0, max=60000), HTML(value='')))"
      ]
     },
     "metadata": {},
     "output_type": "display_data"
    },
    {
     "name": "stdout",
     "output_type": "stream",
     "text": [
      "\n",
      "Train Accuracy: D[0.943] --> B[0.984] | MSE(D): 1.278030e-03\n",
      "Test Accuracy:  D[0.945] --> B[0.984] | MSE(D): 1.472631e-03\n",
      "\n",
      "..........\n",
      "Epoch 12:\n"
     ]
    },
    {
     "data": {
      "application/vnd.jupyter.widget-view+json": {
       "model_id": "f4b5bda34e6a45c3a2a9fdf92ef9d69f",
       "version_major": 2,
       "version_minor": 0
      },
      "text/plain": [
       "HBox(children=(IntProgress(value=0, max=60000), HTML(value='')))"
      ]
     },
     "metadata": {},
     "output_type": "display_data"
    },
    {
     "name": "stdout",
     "output_type": "stream",
     "text": [
      "\n",
      "Train Accuracy: D[0.946] --> B[0.984] | MSE(D): 1.136806e-03\n",
      "Test Accuracy:  D[0.948] --> B[0.984] | MSE(D): 1.103526e-03\n",
      "\n",
      "..........\n",
      "Epoch 13:\n"
     ]
    },
    {
     "data": {
      "application/vnd.jupyter.widget-view+json": {
       "model_id": "e0e166d804f74d3c837d687b256933ac",
       "version_major": 2,
       "version_minor": 0
      },
      "text/plain": [
       "HBox(children=(IntProgress(value=0, max=60000), HTML(value='')))"
      ]
     },
     "metadata": {},
     "output_type": "display_data"
    },
    {
     "name": "stdout",
     "output_type": "stream",
     "text": [
      "\n",
      "Train Accuracy: D[0.949] --> B[0.984] | MSE(D): 1.082440e-03\n",
      "Test Accuracy:  D[0.950] --> B[0.984] | MSE(D): 1.177671e-03\n",
      "\n",
      "..........\n",
      "Epoch 14:\n"
     ]
    },
    {
     "data": {
      "application/vnd.jupyter.widget-view+json": {
       "model_id": "b2c3b61b542140f2b3d2380291ba0564",
       "version_major": 2,
       "version_minor": 0
      },
      "text/plain": [
       "HBox(children=(IntProgress(value=0, max=60000), HTML(value='')))"
      ]
     },
     "metadata": {},
     "output_type": "display_data"
    },
    {
     "name": "stdout",
     "output_type": "stream",
     "text": [
      "\n",
      "Train Accuracy: D[0.951] --> B[0.984] | MSE(D): 9.756788e-04\n",
      "Test Accuracy:  D[0.952] --> B[0.984] | MSE(D): 1.264810e-03\n",
      "\n",
      "..........\n",
      "Epoch 15:\n"
     ]
    },
    {
     "data": {
      "application/vnd.jupyter.widget-view+json": {
       "model_id": "344a34cc383d4e449ed6acb3ff137419",
       "version_major": 2,
       "version_minor": 0
      },
      "text/plain": [
       "HBox(children=(IntProgress(value=0, max=60000), HTML(value='')))"
      ]
     },
     "metadata": {},
     "output_type": "display_data"
    },
    {
     "name": "stdout",
     "output_type": "stream",
     "text": [
      "\n",
      "Train Accuracy: D[0.953] --> B[0.984] | MSE(D): 9.638059e-04\n",
      "Test Accuracy:  D[0.954] --> B[0.984] | MSE(D): 1.297672e-03\n",
      "\n",
      "..........\n",
      "Epoch 16:\n"
     ]
    },
    {
     "data": {
      "application/vnd.jupyter.widget-view+json": {
       "model_id": "bd53fa8919d442f888d5b0c9e4f9b5b8",
       "version_major": 2,
       "version_minor": 0
      },
      "text/plain": [
       "HBox(children=(IntProgress(value=0, max=60000), HTML(value='')))"
      ]
     },
     "metadata": {},
     "output_type": "display_data"
    },
    {
     "name": "stdout",
     "output_type": "stream",
     "text": [
      "\n",
      "Train Accuracy: D[0.955] --> B[0.984] | MSE(D): 1.011226e-03\n",
      "Test Accuracy:  D[0.956] --> B[0.984] | MSE(D): 1.120471e-03\n",
      "\n",
      "..........\n",
      "Epoch 17:\n"
     ]
    },
    {
     "data": {
      "application/vnd.jupyter.widget-view+json": {
       "model_id": "3ea329216e8441998d4367fc198a6a4c",
       "version_major": 2,
       "version_minor": 0
      },
      "text/plain": [
       "HBox(children=(IntProgress(value=0, max=60000), HTML(value='')))"
      ]
     },
     "metadata": {},
     "output_type": "display_data"
    },
    {
     "name": "stdout",
     "output_type": "stream",
     "text": [
      "\n",
      "Train Accuracy: D[0.956] --> B[0.984] | MSE(D): 9.484086e-04\n",
      "Test Accuracy:  D[0.957] --> B[0.984] | MSE(D): 1.202453e-03\n",
      "\n",
      "..........\n",
      "Epoch 18:\n"
     ]
    },
    {
     "data": {
      "application/vnd.jupyter.widget-view+json": {
       "model_id": "d9a42c974a3a460cac574f0e3320b693",
       "version_major": 2,
       "version_minor": 0
      },
      "text/plain": [
       "HBox(children=(IntProgress(value=0, max=60000), HTML(value='')))"
      ]
     },
     "metadata": {},
     "output_type": "display_data"
    },
    {
     "name": "stdout",
     "output_type": "stream",
     "text": [
      "\n",
      "Train Accuracy: D[0.958] --> B[0.984] | MSE(D): 9.128373e-04\n",
      "Test Accuracy:  D[0.958] --> B[0.984] | MSE(D): 1.059320e-03\n",
      "\n",
      "..........\n",
      "Epoch 19:\n"
     ]
    },
    {
     "data": {
      "application/vnd.jupyter.widget-view+json": {
       "model_id": "59fa913720334c9bb361332e27a0f464",
       "version_major": 2,
       "version_minor": 0
      },
      "text/plain": [
       "HBox(children=(IntProgress(value=0, max=60000), HTML(value='')))"
      ]
     },
     "metadata": {},
     "output_type": "display_data"
    },
    {
     "name": "stdout",
     "output_type": "stream",
     "text": [
      "\n",
      "Train Accuracy: D[0.959] --> B[0.984] | MSE(D): 8.663840e-04\n",
      "Test Accuracy:  D[0.960] --> B[0.984] | MSE(D): 1.273524e-03\n",
      "\n",
      "..........\n",
      "Epoch 20:\n"
     ]
    },
    {
     "data": {
      "application/vnd.jupyter.widget-view+json": {
       "model_id": "fb0ad2acd3834c158e5549f868d7b257",
       "version_major": 2,
       "version_minor": 0
      },
      "text/plain": [
       "HBox(children=(IntProgress(value=0, max=60000), HTML(value='')))"
      ]
     },
     "metadata": {},
     "output_type": "display_data"
    },
    {
     "name": "stdout",
     "output_type": "stream",
     "text": [
      "\n",
      "Train Accuracy: D[0.960] --> B[0.984] | MSE(D): 9.082940e-04\n",
      "Test Accuracy:  D[0.961] --> B[0.984] | MSE(D): 1.166301e-03\n",
      "\n",
      "..........\n",
      "Epoch 21:\n"
     ]
    },
    {
     "data": {
      "application/vnd.jupyter.widget-view+json": {
       "model_id": "0dd2e632bef84bcb83e0a23b6462b5c5",
       "version_major": 2,
       "version_minor": 0
      },
      "text/plain": [
       "HBox(children=(IntProgress(value=0, max=60000), HTML(value='')))"
      ]
     },
     "metadata": {},
     "output_type": "display_data"
    },
    {
     "name": "stdout",
     "output_type": "stream",
     "text": [
      "\n",
      "Train Accuracy: D[0.961] --> B[0.984] | MSE(D): 8.797647e-04\n",
      "Test Accuracy:  D[0.962] --> B[0.984] | MSE(D): 1.093494e-03\n",
      "\n",
      "..........\n",
      "Epoch 22:\n"
     ]
    },
    {
     "data": {
      "application/vnd.jupyter.widget-view+json": {
       "model_id": "edb63a2d6c63409fb23c855396159b4b",
       "version_major": 2,
       "version_minor": 0
      },
      "text/plain": [
       "HBox(children=(IntProgress(value=0, max=60000), HTML(value='')))"
      ]
     },
     "metadata": {},
     "output_type": "display_data"
    },
    {
     "name": "stdout",
     "output_type": "stream",
     "text": [
      "\n",
      "Train Accuracy: D[0.962] --> B[0.984] | MSE(D): 8.472328e-04\n",
      "Test Accuracy:  D[0.963] --> B[0.984] | MSE(D): 1.025796e-03\n",
      "\n",
      "..........\n",
      "Epoch 23:\n"
     ]
    },
    {
     "data": {
      "application/vnd.jupyter.widget-view+json": {
       "model_id": "5661ada12ab043dd81d2d1fbd4ed042f",
       "version_major": 2,
       "version_minor": 0
      },
      "text/plain": [
       "HBox(children=(IntProgress(value=0, max=60000), HTML(value='')))"
      ]
     },
     "metadata": {},
     "output_type": "display_data"
    },
    {
     "name": "stdout",
     "output_type": "stream",
     "text": [
      "\n",
      "Train Accuracy: D[0.963] --> B[0.984] | MSE(D): 8.440501e-04\n",
      "Test Accuracy:  D[0.963] --> B[0.984] | MSE(D): 1.033985e-03\n",
      "\n",
      "..........\n",
      "Epoch 24:\n"
     ]
    },
    {
     "data": {
      "application/vnd.jupyter.widget-view+json": {
       "model_id": "5a62069b608046e6a0b2e8d9ee11a251",
       "version_major": 2,
       "version_minor": 0
      },
      "text/plain": [
       "HBox(children=(IntProgress(value=0, max=60000), HTML(value='')))"
      ]
     },
     "metadata": {},
     "output_type": "display_data"
    },
    {
     "name": "stdout",
     "output_type": "stream",
     "text": [
      "\n",
      "Train Accuracy: D[0.964] --> B[0.984] | MSE(D): 8.066229e-04\n",
      "Test Accuracy:  D[0.964] --> B[0.984] | MSE(D): 1.127455e-03\n",
      "\n",
      "..........\n",
      "Epoch 25:\n"
     ]
    },
    {
     "data": {
      "application/vnd.jupyter.widget-view+json": {
       "model_id": "f8cbf13f809f47b19693eb0d7994ebf5",
       "version_major": 2,
       "version_minor": 0
      },
      "text/plain": [
       "HBox(children=(IntProgress(value=0, max=60000), HTML(value='')))"
      ]
     },
     "metadata": {},
     "output_type": "display_data"
    },
    {
     "name": "stdout",
     "output_type": "stream",
     "text": [
      "\n",
      "Train Accuracy: D[0.964] --> B[0.984] | MSE(D): 8.295791e-04\n",
      "Test Accuracy:  D[0.965] --> B[0.984] | MSE(D): 1.007464e-03\n",
      "\n",
      "Overwrote weights for e25\n",
      "========================================\n",
      "INFO:tensorflow:Restoring parameters from ./discriminator_checkpoints/null\\discriminator_checkpoint.ckpt\n",
      "Reset graph to its initial state\n",
      "\n",
      "========================================\n",
      "Loading previous blackbox_e5 evaluation\n",
      "\n",
      "========================================\n",
      "Training on blackbox_e5\n",
      "..........\n",
      "Epoch 1:\n"
     ]
    },
    {
     "data": {
      "application/vnd.jupyter.widget-view+json": {
       "model_id": "efe1347f57464a1dbde152b1068d42b4",
       "version_major": 2,
       "version_minor": 0
      },
      "text/plain": [
       "HBox(children=(IntProgress(value=0, max=60000), HTML(value='')))"
      ]
     },
     "metadata": {},
     "output_type": "display_data"
    },
    {
     "name": "stdout",
     "output_type": "stream",
     "text": [
      "\n",
      "Train Accuracy: D[0.529] --> B[0.987] | MSE(D): 3.376206e-02\n",
      "Test Accuracy:  D[0.756] --> B[0.988] | MSE(D): 1.122817e-02\n",
      "\n",
      "..........\n",
      "Epoch 2:\n"
     ]
    },
    {
     "data": {
      "application/vnd.jupyter.widget-view+json": {
       "model_id": "e467fdad042040c2808a9f7bbe5752f0",
       "version_major": 2,
       "version_minor": 0
      },
      "text/plain": [
       "HBox(children=(IntProgress(value=0, max=60000), HTML(value='')))"
      ]
     },
     "metadata": {},
     "output_type": "display_data"
    },
    {
     "name": "stdout",
     "output_type": "stream",
     "text": [
      "\n",
      "Train Accuracy: D[0.802] --> B[0.988] | MSE(D): 7.762481e-03\n",
      "Test Accuracy:  D[0.845] --> B[0.988] | MSE(D): 4.262411e-03\n",
      "\n",
      "..........\n",
      "Epoch 3:\n"
     ]
    },
    {
     "data": {
      "application/vnd.jupyter.widget-view+json": {
       "model_id": "ba0eee5873784e19bcadcc69683f6347",
       "version_major": 2,
       "version_minor": 0
      },
      "text/plain": [
       "HBox(children=(IntProgress(value=0, max=60000), HTML(value='')))"
      ]
     },
     "metadata": {},
     "output_type": "display_data"
    },
    {
     "name": "stdout",
     "output_type": "stream",
     "text": [
      "\n",
      "Train Accuracy: D[0.864] --> B[0.988] | MSE(D): 3.851027e-03\n",
      "Test Accuracy:  D[0.883] --> B[0.988] | MSE(D): 2.701559e-03\n",
      "\n",
      "..........\n",
      "Epoch 4:\n"
     ]
    },
    {
     "data": {
      "application/vnd.jupyter.widget-view+json": {
       "model_id": "ce62aa5b354f4f689ed99b6014dae15e",
       "version_major": 2,
       "version_minor": 0
      },
      "text/plain": [
       "HBox(children=(IntProgress(value=0, max=60000), HTML(value='')))"
      ]
     },
     "metadata": {},
     "output_type": "display_data"
    },
    {
     "name": "stdout",
     "output_type": "stream",
     "text": [
      "\n",
      "Train Accuracy: D[0.894] --> B[0.988] | MSE(D): 2.570451e-03\n",
      "Test Accuracy:  D[0.905] --> B[0.988] | MSE(D): 2.402641e-03\n",
      "\n",
      "..........\n",
      "Epoch 5:\n"
     ]
    },
    {
     "data": {
      "application/vnd.jupyter.widget-view+json": {
       "model_id": "cb5236f8a94e4de495eec4bcf1b9e903",
       "version_major": 2,
       "version_minor": 0
      },
      "text/plain": [
       "HBox(children=(IntProgress(value=0, max=60000), HTML(value='')))"
      ]
     },
     "metadata": {},
     "output_type": "display_data"
    },
    {
     "name": "stdout",
     "output_type": "stream",
     "text": [
      "\n",
      "Train Accuracy: D[0.911] --> B[0.988] | MSE(D): 2.099910e-03\n",
      "Test Accuracy:  D[0.918] --> B[0.988] | MSE(D): 1.757289e-03\n",
      "\n",
      "..........\n",
      "Epoch 6:\n"
     ]
    },
    {
     "data": {
      "application/vnd.jupyter.widget-view+json": {
       "model_id": "b74c3b7e47e34a01afeb3cdc95dfadc4",
       "version_major": 2,
       "version_minor": 0
      },
      "text/plain": [
       "HBox(children=(IntProgress(value=0, max=60000), HTML(value='')))"
      ]
     },
     "metadata": {},
     "output_type": "display_data"
    },
    {
     "name": "stdout",
     "output_type": "stream",
     "text": [
      "\n",
      "Train Accuracy: D[0.922] --> B[0.988] | MSE(D): 1.768342e-03\n",
      "Test Accuracy:  D[0.927] --> B[0.988] | MSE(D): 1.655081e-03\n",
      "\n",
      "..........\n",
      "Epoch 7:\n"
     ]
    },
    {
     "data": {
      "application/vnd.jupyter.widget-view+json": {
       "model_id": "eec69d76354d4d79a5f4c57b04bf72bf",
       "version_major": 2,
       "version_minor": 0
      },
      "text/plain": [
       "HBox(children=(IntProgress(value=0, max=60000), HTML(value='')))"
      ]
     },
     "metadata": {},
     "output_type": "display_data"
    },
    {
     "name": "stdout",
     "output_type": "stream",
     "text": [
      "\n",
      "Train Accuracy: D[0.931] --> B[0.988] | MSE(D): 1.543540e-03\n",
      "Test Accuracy:  D[0.934] --> B[0.988] | MSE(D): 1.470569e-03\n",
      "\n",
      "..........\n",
      "Epoch 8:\n"
     ]
    },
    {
     "data": {
      "application/vnd.jupyter.widget-view+json": {
       "model_id": "9c27f20d2da14c90ba78463700d6cdae",
       "version_major": 2,
       "version_minor": 0
      },
      "text/plain": [
       "HBox(children=(IntProgress(value=0, max=60000), HTML(value='')))"
      ]
     },
     "metadata": {},
     "output_type": "display_data"
    },
    {
     "name": "stdout",
     "output_type": "stream",
     "text": [
      "\n",
      "Train Accuracy: D[0.937] --> B[0.988] | MSE(D): 1.353296e-03\n",
      "Test Accuracy:  D[0.940] --> B[0.988] | MSE(D): 1.341857e-03\n",
      "\n",
      "..........\n",
      "Epoch 9:\n"
     ]
    },
    {
     "data": {
      "application/vnd.jupyter.widget-view+json": {
       "model_id": "5b579ce1c0464ae1935a3f976576c1f8",
       "version_major": 2,
       "version_minor": 0
      },
      "text/plain": [
       "HBox(children=(IntProgress(value=0, max=60000), HTML(value='')))"
      ]
     },
     "metadata": {},
     "output_type": "display_data"
    },
    {
     "name": "stdout",
     "output_type": "stream",
     "text": [
      "\n",
      "Train Accuracy: D[0.942] --> B[0.988] | MSE(D): 1.275983e-03\n",
      "Test Accuracy:  D[0.944] --> B[0.988] | MSE(D): 1.418958e-03\n",
      "\n",
      "..........\n",
      "Epoch 10:\n"
     ]
    },
    {
     "data": {
      "application/vnd.jupyter.widget-view+json": {
       "model_id": "09df9cd9e290484ea134e170b60b7fd2",
       "version_major": 2,
       "version_minor": 0
      },
      "text/plain": [
       "HBox(children=(IntProgress(value=0, max=60000), HTML(value='')))"
      ]
     },
     "metadata": {},
     "output_type": "display_data"
    },
    {
     "name": "stdout",
     "output_type": "stream",
     "text": [
      "\n",
      "Train Accuracy: D[0.946] --> B[0.988] | MSE(D): 1.142082e-03\n",
      "Test Accuracy:  D[0.948] --> B[0.988] | MSE(D): 1.263665e-03\n",
      "\n",
      "..........\n",
      "Epoch 11:\n"
     ]
    },
    {
     "data": {
      "application/vnd.jupyter.widget-view+json": {
       "model_id": "cd6dc846659c45e8864e5bd3229aa93d",
       "version_major": 2,
       "version_minor": 0
      },
      "text/plain": [
       "HBox(children=(IntProgress(value=0, max=60000), HTML(value='')))"
      ]
     },
     "metadata": {},
     "output_type": "display_data"
    },
    {
     "name": "stdout",
     "output_type": "stream",
     "text": [
      "\n",
      "Train Accuracy: D[0.949] --> B[0.988] | MSE(D): 1.107515e-03\n",
      "Test Accuracy:  D[0.951] --> B[0.988] | MSE(D): 1.270283e-03\n",
      "\n",
      "..........\n",
      "Epoch 12:\n"
     ]
    },
    {
     "data": {
      "application/vnd.jupyter.widget-view+json": {
       "model_id": "0c0958544fb54dc090c7c525768cd30f",
       "version_major": 2,
       "version_minor": 0
      },
      "text/plain": [
       "HBox(children=(IntProgress(value=0, max=60000), HTML(value='')))"
      ]
     },
     "metadata": {},
     "output_type": "display_data"
    },
    {
     "name": "stdout",
     "output_type": "stream",
     "text": [
      "\n",
      "Train Accuracy: D[0.952] --> B[0.988] | MSE(D): 1.092924e-03\n",
      "Test Accuracy:  D[0.953] --> B[0.988] | MSE(D): 1.168519e-03\n",
      "\n",
      "..........\n",
      "Epoch 13:\n"
     ]
    },
    {
     "data": {
      "application/vnd.jupyter.widget-view+json": {
       "model_id": "60c18c3fae22450fa1602d09dba6c0be",
       "version_major": 2,
       "version_minor": 0
      },
      "text/plain": [
       "HBox(children=(IntProgress(value=0, max=60000), HTML(value='')))"
      ]
     },
     "metadata": {},
     "output_type": "display_data"
    },
    {
     "name": "stdout",
     "output_type": "stream",
     "text": [
      "\n",
      "Train Accuracy: D[0.954] --> B[0.988] | MSE(D): 9.673860e-04\n",
      "Test Accuracy:  D[0.955] --> B[0.988] | MSE(D): 1.124670e-03\n",
      "\n",
      "..........\n",
      "Epoch 14:\n"
     ]
    },
    {
     "data": {
      "application/vnd.jupyter.widget-view+json": {
       "model_id": "700ed9a22e854f80acfaadb90f5bb4ae",
       "version_major": 2,
       "version_minor": 0
      },
      "text/plain": [
       "HBox(children=(IntProgress(value=0, max=60000), HTML(value='')))"
      ]
     },
     "metadata": {},
     "output_type": "display_data"
    },
    {
     "name": "stdout",
     "output_type": "stream",
     "text": [
      "\n",
      "Train Accuracy: D[0.956] --> B[0.988] | MSE(D): 9.311170e-04\n",
      "Test Accuracy:  D[0.957] --> B[0.988] | MSE(D): 1.070969e-03\n",
      "\n",
      "..........\n",
      "Epoch 15:\n"
     ]
    },
    {
     "data": {
      "application/vnd.jupyter.widget-view+json": {
       "model_id": "ef7bb061807e4f769372f21d42100556",
       "version_major": 2,
       "version_minor": 0
      },
      "text/plain": [
       "HBox(children=(IntProgress(value=0, max=60000), HTML(value='')))"
      ]
     },
     "metadata": {},
     "output_type": "display_data"
    },
    {
     "name": "stdout",
     "output_type": "stream",
     "text": [
      "\n",
      "Train Accuracy: D[0.958] --> B[0.988] | MSE(D): 9.063198e-04\n",
      "Test Accuracy:  D[0.959] --> B[0.988] | MSE(D): 1.165045e-03\n",
      "\n",
      "..........\n",
      "Epoch 16:\n"
     ]
    },
    {
     "data": {
      "application/vnd.jupyter.widget-view+json": {
       "model_id": "d7cfd5ccdb564a5f8372867b92745d1e",
       "version_major": 2,
       "version_minor": 0
      },
      "text/plain": [
       "HBox(children=(IntProgress(value=0, max=60000), HTML(value='')))"
      ]
     },
     "metadata": {},
     "output_type": "display_data"
    },
    {
     "name": "stdout",
     "output_type": "stream",
     "text": [
      "\n",
      "Train Accuracy: D[0.960] --> B[0.988] | MSE(D): 8.773835e-04\n",
      "Test Accuracy:  D[0.960] --> B[0.988] | MSE(D): 1.146943e-03\n",
      "\n",
      "..........\n",
      "Epoch 17:\n"
     ]
    },
    {
     "data": {
      "application/vnd.jupyter.widget-view+json": {
       "model_id": "3f7a57eb88cc46c4936823499c8b275f",
       "version_major": 2,
       "version_minor": 0
      },
      "text/plain": [
       "HBox(children=(IntProgress(value=0, max=60000), HTML(value='')))"
      ]
     },
     "metadata": {},
     "output_type": "display_data"
    },
    {
     "name": "stdout",
     "output_type": "stream",
     "text": [
      "\n",
      "Train Accuracy: D[0.961] --> B[0.988] | MSE(D): 8.235290e-04\n",
      "Test Accuracy:  D[0.962] --> B[0.988] | MSE(D): 1.074780e-03\n",
      "\n",
      "..........\n",
      "Epoch 18:\n"
     ]
    },
    {
     "data": {
      "application/vnd.jupyter.widget-view+json": {
       "model_id": "56525a467d524b7c9a0e29cfd1eff6b2",
       "version_major": 2,
       "version_minor": 0
      },
      "text/plain": [
       "HBox(children=(IntProgress(value=0, max=60000), HTML(value='')))"
      ]
     },
     "metadata": {},
     "output_type": "display_data"
    },
    {
     "name": "stdout",
     "output_type": "stream",
     "text": [
      "\n",
      "Train Accuracy: D[0.962] --> B[0.988] | MSE(D): 8.196589e-04\n",
      "Test Accuracy:  D[0.963] --> B[0.988] | MSE(D): 1.132340e-03\n",
      "\n",
      "..........\n",
      "Epoch 19:\n"
     ]
    },
    {
     "data": {
      "application/vnd.jupyter.widget-view+json": {
       "model_id": "03a11131e1af42c1b5e1f899ca37bebd",
       "version_major": 2,
       "version_minor": 0
      },
      "text/plain": [
       "HBox(children=(IntProgress(value=0, max=60000), HTML(value='')))"
      ]
     },
     "metadata": {},
     "output_type": "display_data"
    },
    {
     "name": "stdout",
     "output_type": "stream",
     "text": [
      "\n",
      "Train Accuracy: D[0.963] --> B[0.988] | MSE(D): 8.313841e-04\n",
      "Test Accuracy:  D[0.964] --> B[0.988] | MSE(D): 9.081202e-04\n",
      "\n",
      "..........\n",
      "Epoch 20:\n"
     ]
    },
    {
     "data": {
      "application/vnd.jupyter.widget-view+json": {
       "model_id": "d0548dfb7490486f8ff0d47fdc5330c9",
       "version_major": 2,
       "version_minor": 0
      },
      "text/plain": [
       "HBox(children=(IntProgress(value=0, max=60000), HTML(value='')))"
      ]
     },
     "metadata": {},
     "output_type": "display_data"
    },
    {
     "name": "stdout",
     "output_type": "stream",
     "text": [
      "\n",
      "Train Accuracy: D[0.965] --> B[0.988] | MSE(D): 7.749222e-04\n",
      "Test Accuracy:  D[0.965] --> B[0.988] | MSE(D): 1.124267e-03\n",
      "\n",
      "..........\n",
      "Epoch 21:\n"
     ]
    },
    {
     "data": {
      "application/vnd.jupyter.widget-view+json": {
       "model_id": "888ec9344d954df28d14d93be75bde80",
       "version_major": 2,
       "version_minor": 0
      },
      "text/plain": [
       "HBox(children=(IntProgress(value=0, max=60000), HTML(value='')))"
      ]
     },
     "metadata": {},
     "output_type": "display_data"
    },
    {
     "name": "stdout",
     "output_type": "stream",
     "text": [
      "\n",
      "Train Accuracy: D[0.965] --> B[0.988] | MSE(D): 7.545850e-04\n",
      "Test Accuracy:  D[0.966] --> B[0.988] | MSE(D): 1.062349e-03\n",
      "\n",
      "..........\n",
      "Epoch 22:\n"
     ]
    },
    {
     "data": {
      "application/vnd.jupyter.widget-view+json": {
       "model_id": "9ecf2c6fb81644a090cf163ecb3b1aca",
       "version_major": 2,
       "version_minor": 0
      },
      "text/plain": [
       "HBox(children=(IntProgress(value=0, max=60000), HTML(value='')))"
      ]
     },
     "metadata": {},
     "output_type": "display_data"
    },
    {
     "name": "stdout",
     "output_type": "stream",
     "text": [
      "\n",
      "Train Accuracy: D[0.966] --> B[0.988] | MSE(D): 7.520489e-04\n",
      "Test Accuracy:  D[0.967] --> B[0.988] | MSE(D): 9.961973e-04\n",
      "\n",
      "..........\n",
      "Epoch 23:\n"
     ]
    },
    {
     "data": {
      "application/vnd.jupyter.widget-view+json": {
       "model_id": "976ebf911b3049a1a076f7666c751a55",
       "version_major": 2,
       "version_minor": 0
      },
      "text/plain": [
       "HBox(children=(IntProgress(value=0, max=60000), HTML(value='')))"
      ]
     },
     "metadata": {},
     "output_type": "display_data"
    },
    {
     "name": "stdout",
     "output_type": "stream",
     "text": [
      "\n",
      "Train Accuracy: D[0.967] --> B[0.988] | MSE(D): 7.699467e-04\n",
      "Test Accuracy:  D[0.967] --> B[0.988] | MSE(D): 9.986619e-04\n",
      "\n",
      "..........\n",
      "Epoch 24:\n"
     ]
    },
    {
     "data": {
      "application/vnd.jupyter.widget-view+json": {
       "model_id": "b3e6c56fd5144da6adff3b01ff03201c",
       "version_major": 2,
       "version_minor": 0
      },
      "text/plain": [
       "HBox(children=(IntProgress(value=0, max=60000), HTML(value='')))"
      ]
     },
     "metadata": {},
     "output_type": "display_data"
    },
    {
     "name": "stdout",
     "output_type": "stream",
     "text": [
      "\n",
      "Train Accuracy: D[0.968] --> B[0.988] | MSE(D): 7.119987e-04\n",
      "Test Accuracy:  D[0.968] --> B[0.988] | MSE(D): 1.058193e-03\n",
      "\n",
      "..........\n",
      "Epoch 25:\n"
     ]
    },
    {
     "data": {
      "application/vnd.jupyter.widget-view+json": {
       "model_id": "900feadef49b4e4ea9e7d75f1cc6b43d",
       "version_major": 2,
       "version_minor": 0
      },
      "text/plain": [
       "HBox(children=(IntProgress(value=0, max=60000), HTML(value='')))"
      ]
     },
     "metadata": {},
     "output_type": "display_data"
    },
    {
     "name": "stdout",
     "output_type": "stream",
     "text": [
      "\n",
      "Train Accuracy: D[0.968] --> B[0.988] | MSE(D): 7.255157e-04\n",
      "Test Accuracy:  D[0.969] --> B[0.988] | MSE(D): 1.032224e-03\n",
      "\n",
      "Overwrote weights for e25\n",
      "========================================\n",
      "INFO:tensorflow:Restoring parameters from ./discriminator_checkpoints/null\\discriminator_checkpoint.ckpt\n",
      "Reset graph to its initial state\n",
      "\n",
      "========================================\n",
      "Loading previous blackbox_e6 evaluation\n",
      "\n",
      "========================================\n",
      "Training on blackbox_e6\n",
      "..........\n",
      "Epoch 1:\n"
     ]
    },
    {
     "data": {
      "application/vnd.jupyter.widget-view+json": {
       "model_id": "462f6eb82b374b1691b1b06ab7b2bb62",
       "version_major": 2,
       "version_minor": 0
      },
      "text/plain": [
       "HBox(children=(IntProgress(value=0, max=60000), HTML(value='')))"
      ]
     },
     "metadata": {},
     "output_type": "display_data"
    },
    {
     "name": "stdout",
     "output_type": "stream",
     "text": [
      "\n",
      "Train Accuracy: D[0.510] --> B[0.990] | MSE(D): 3.962496e-02\n",
      "Test Accuracy:  D[0.725] --> B[0.990] | MSE(D): 1.508155e-02\n",
      "\n",
      "..........\n",
      "Epoch 2:\n"
     ]
    },
    {
     "data": {
      "application/vnd.jupyter.widget-view+json": {
       "model_id": "1ccda71f2b4f420f892dec8a3e1c7032",
       "version_major": 2,
       "version_minor": 0
      },
      "text/plain": [
       "HBox(children=(IntProgress(value=0, max=60000), HTML(value='')))"
      ]
     },
     "metadata": {},
     "output_type": "display_data"
    },
    {
     "name": "stdout",
     "output_type": "stream",
     "text": [
      "\n",
      "Train Accuracy: D[0.775] --> B[0.990] | MSE(D): 1.021866e-02\n",
      "Test Accuracy:  D[0.823] --> B[0.990] | MSE(D): 6.098860e-03\n",
      "\n",
      "..........\n",
      "Epoch 3:\n"
     ]
    },
    {
     "data": {
      "application/vnd.jupyter.widget-view+json": {
       "model_id": "1affc9d1a52040c0ac6ffba91a6bf1e3",
       "version_major": 2,
       "version_minor": 0
      },
      "text/plain": [
       "HBox(children=(IntProgress(value=0, max=60000), HTML(value='')))"
      ]
     },
     "metadata": {},
     "output_type": "display_data"
    },
    {
     "name": "stdout",
     "output_type": "stream",
     "text": [
      "\n",
      "Train Accuracy: D[0.844] --> B[0.990] | MSE(D): 5.175494e-03\n",
      "Test Accuracy:  D[0.867] --> B[0.990] | MSE(D): 3.701666e-03\n",
      "\n",
      "..........\n",
      "Epoch 4:\n"
     ]
    },
    {
     "data": {
      "application/vnd.jupyter.widget-view+json": {
       "model_id": "17fcfd7bcf224b798c66ecd09f21aa45",
       "version_major": 2,
       "version_minor": 0
      },
      "text/plain": [
       "HBox(children=(IntProgress(value=0, max=60000), HTML(value='')))"
      ]
     },
     "metadata": {},
     "output_type": "display_data"
    },
    {
     "name": "stdout",
     "output_type": "stream",
     "text": [
      "\n",
      "Train Accuracy: D[0.878] --> B[0.990] | MSE(D): 3.480420e-03\n",
      "Test Accuracy:  D[0.891] --> B[0.990] | MSE(D): 2.638121e-03\n",
      "\n",
      "..........\n",
      "Epoch 5:\n"
     ]
    },
    {
     "data": {
      "application/vnd.jupyter.widget-view+json": {
       "model_id": "4585d5e44e9c44518eeef39c32788e21",
       "version_major": 2,
       "version_minor": 0
      },
      "text/plain": [
       "HBox(children=(IntProgress(value=0, max=60000), HTML(value='')))"
      ]
     },
     "metadata": {},
     "output_type": "display_data"
    },
    {
     "name": "stdout",
     "output_type": "stream",
     "text": [
      "\n",
      "Train Accuracy: D[0.898] --> B[0.990] | MSE(D): 2.573420e-03\n",
      "Test Accuracy:  D[0.907] --> B[0.990] | MSE(D): 2.150068e-03\n",
      "\n",
      "..........\n",
      "Epoch 6:\n"
     ]
    },
    {
     "data": {
      "application/vnd.jupyter.widget-view+json": {
       "model_id": "89b9962f3563419f86a8968bf5627fc5",
       "version_major": 2,
       "version_minor": 0
      },
      "text/plain": [
       "HBox(children=(IntProgress(value=0, max=60000), HTML(value='')))"
      ]
     },
     "metadata": {},
     "output_type": "display_data"
    },
    {
     "name": "stdout",
     "output_type": "stream",
     "text": [
      "\n",
      "Train Accuracy: D[0.912] --> B[0.990] | MSE(D): 2.189899e-03\n",
      "Test Accuracy:  D[0.918] --> B[0.990] | MSE(D): 1.820648e-03\n",
      "\n",
      "..........\n",
      "Epoch 7:\n"
     ]
    },
    {
     "data": {
      "application/vnd.jupyter.widget-view+json": {
       "model_id": "70d0438d295a4656a6081ace2ca69244",
       "version_major": 2,
       "version_minor": 0
      },
      "text/plain": [
       "HBox(children=(IntProgress(value=0, max=60000), HTML(value='')))"
      ]
     },
     "metadata": {},
     "output_type": "display_data"
    },
    {
     "name": "stdout",
     "output_type": "stream",
     "text": [
      "\n",
      "Train Accuracy: D[0.922] --> B[0.990] | MSE(D): 1.902228e-03\n",
      "Test Accuracy:  D[0.926] --> B[0.990] | MSE(D): 1.694474e-03\n",
      "\n",
      "..........\n",
      "Epoch 8:\n"
     ]
    },
    {
     "data": {
      "application/vnd.jupyter.widget-view+json": {
       "model_id": "95564a46e79c4a7bbdbda50a44534b3c",
       "version_major": 2,
       "version_minor": 0
      },
      "text/plain": [
       "HBox(children=(IntProgress(value=0, max=60000), HTML(value='')))"
      ]
     },
     "metadata": {},
     "output_type": "display_data"
    },
    {
     "name": "stdout",
     "output_type": "stream",
     "text": [
      "\n",
      "Train Accuracy: D[0.929] --> B[0.990] | MSE(D): 1.620039e-03\n",
      "Test Accuracy:  D[0.933] --> B[0.990] | MSE(D): 1.400934e-03\n",
      "\n",
      "..........\n",
      "Epoch 9:\n"
     ]
    },
    {
     "data": {
      "application/vnd.jupyter.widget-view+json": {
       "model_id": "303b36f8f6ea45b98cfd47972d2bb2cb",
       "version_major": 2,
       "version_minor": 0
      },
      "text/plain": [
       "HBox(children=(IntProgress(value=0, max=60000), HTML(value='')))"
      ]
     },
     "metadata": {},
     "output_type": "display_data"
    },
    {
     "name": "stdout",
     "output_type": "stream",
     "text": [
      "\n",
      "Train Accuracy: D[0.935] --> B[0.990] | MSE(D): 1.418980e-03\n",
      "Test Accuracy:  D[0.938] --> B[0.990] | MSE(D): 1.511427e-03\n",
      "\n",
      "..........\n",
      "Epoch 10:\n"
     ]
    },
    {
     "data": {
      "application/vnd.jupyter.widget-view+json": {
       "model_id": "1e67076b9c094254812dce3b33c72b88",
       "version_major": 2,
       "version_minor": 0
      },
      "text/plain": [
       "HBox(children=(IntProgress(value=0, max=60000), HTML(value='')))"
      ]
     },
     "metadata": {},
     "output_type": "display_data"
    },
    {
     "name": "stdout",
     "output_type": "stream",
     "text": [
      "\n",
      "Train Accuracy: D[0.940] --> B[0.990] | MSE(D): 1.372001e-03\n",
      "Test Accuracy:  D[0.942] --> B[0.990] | MSE(D): 1.521780e-03\n",
      "\n",
      "..........\n",
      "Epoch 11:\n"
     ]
    },
    {
     "data": {
      "application/vnd.jupyter.widget-view+json": {
       "model_id": "e6fcd09e52ee4eb096096959259a3b54",
       "version_major": 2,
       "version_minor": 0
      },
      "text/plain": [
       "HBox(children=(IntProgress(value=0, max=60000), HTML(value='')))"
      ]
     },
     "metadata": {},
     "output_type": "display_data"
    },
    {
     "name": "stdout",
     "output_type": "stream",
     "text": [
      "\n",
      "Train Accuracy: D[0.944] --> B[0.990] | MSE(D): 1.254067e-03\n",
      "Test Accuracy:  D[0.946] --> B[0.990] | MSE(D): 1.393299e-03\n",
      "\n",
      "..........\n",
      "Epoch 12:\n"
     ]
    },
    {
     "data": {
      "application/vnd.jupyter.widget-view+json": {
       "model_id": "604501dd03eb4eb499794a7f9835ad5a",
       "version_major": 2,
       "version_minor": 0
      },
      "text/plain": [
       "HBox(children=(IntProgress(value=0, max=60000), HTML(value='')))"
      ]
     },
     "metadata": {},
     "output_type": "display_data"
    },
    {
     "name": "stdout",
     "output_type": "stream",
     "text": [
      "\n",
      "Train Accuracy: D[0.947] --> B[0.990] | MSE(D): 1.187639e-03\n",
      "Test Accuracy:  D[0.949] --> B[0.990] | MSE(D): 1.177168e-03\n",
      "\n",
      "..........\n",
      "Epoch 13:\n"
     ]
    },
    {
     "data": {
      "application/vnd.jupyter.widget-view+json": {
       "model_id": "07b4fac6face44d4a1896f3a520ac43f",
       "version_major": 2,
       "version_minor": 0
      },
      "text/plain": [
       "HBox(children=(IntProgress(value=0, max=60000), HTML(value='')))"
      ]
     },
     "metadata": {},
     "output_type": "display_data"
    },
    {
     "name": "stdout",
     "output_type": "stream",
     "text": [
      "\n",
      "Train Accuracy: D[0.950] --> B[0.990] | MSE(D): 1.139910e-03\n",
      "Test Accuracy:  D[0.951] --> B[0.990] | MSE(D): 1.301350e-03\n",
      "\n",
      "..........\n",
      "Epoch 14:\n"
     ]
    },
    {
     "data": {
      "application/vnd.jupyter.widget-view+json": {
       "model_id": "b2a635a9bc8c49b4833b67765017217f",
       "version_major": 2,
       "version_minor": 0
      },
      "text/plain": [
       "HBox(children=(IntProgress(value=0, max=60000), HTML(value='')))"
      ]
     },
     "metadata": {},
     "output_type": "display_data"
    },
    {
     "name": "stdout",
     "output_type": "stream",
     "text": [
      "\n",
      "Train Accuracy: D[0.952] --> B[0.990] | MSE(D): 1.064948e-03\n",
      "Test Accuracy:  D[0.953] --> B[0.990] | MSE(D): 1.250052e-03\n",
      "\n",
      "..........\n",
      "Epoch 15:\n"
     ]
    },
    {
     "data": {
      "application/vnd.jupyter.widget-view+json": {
       "model_id": "207e44bccfa04450baa3f6d83b6a7ac1",
       "version_major": 2,
       "version_minor": 0
      },
      "text/plain": [
       "HBox(children=(IntProgress(value=0, max=60000), HTML(value='')))"
      ]
     },
     "metadata": {},
     "output_type": "display_data"
    },
    {
     "name": "stdout",
     "output_type": "stream",
     "text": [
      "\n",
      "Train Accuracy: D[0.954] --> B[0.990] | MSE(D): 9.865257e-04\n",
      "Test Accuracy:  D[0.955] --> B[0.990] | MSE(D): 1.133335e-03\n",
      "\n",
      "..........\n",
      "Epoch 16:\n"
     ]
    },
    {
     "data": {
      "application/vnd.jupyter.widget-view+json": {
       "model_id": "c413ddab84c24d39b69e7e48225ae2fd",
       "version_major": 2,
       "version_minor": 0
      },
      "text/plain": [
       "HBox(children=(IntProgress(value=0, max=60000), HTML(value='')))"
      ]
     },
     "metadata": {},
     "output_type": "display_data"
    },
    {
     "name": "stdout",
     "output_type": "stream",
     "text": [
      "\n",
      "Train Accuracy: D[0.956] --> B[0.990] | MSE(D): 9.573342e-04\n",
      "Test Accuracy:  D[0.957] --> B[0.990] | MSE(D): 1.212038e-03\n",
      "\n",
      "..........\n",
      "Epoch 17:\n"
     ]
    },
    {
     "data": {
      "application/vnd.jupyter.widget-view+json": {
       "model_id": "ec3fce0a852d4caf952f58746b3fffa4",
       "version_major": 2,
       "version_minor": 0
      },
      "text/plain": [
       "HBox(children=(IntProgress(value=0, max=60000), HTML(value='')))"
      ]
     },
     "metadata": {},
     "output_type": "display_data"
    },
    {
     "name": "stdout",
     "output_type": "stream",
     "text": [
      "\n",
      "Train Accuracy: D[0.958] --> B[0.990] | MSE(D): 9.035349e-04\n",
      "Test Accuracy:  D[0.959] --> B[0.990] | MSE(D): 1.279595e-03\n",
      "\n",
      "..........\n",
      "Epoch 18:\n"
     ]
    },
    {
     "data": {
      "application/vnd.jupyter.widget-view+json": {
       "model_id": "6fd6008009544a66ba73e044458e59bc",
       "version_major": 2,
       "version_minor": 0
      },
      "text/plain": [
       "HBox(children=(IntProgress(value=0, max=60000), HTML(value='')))"
      ]
     },
     "metadata": {},
     "output_type": "display_data"
    },
    {
     "name": "stdout",
     "output_type": "stream",
     "text": [
      "\n",
      "Train Accuracy: D[0.959] --> B[0.990] | MSE(D): 8.885005e-04\n",
      "Test Accuracy:  D[0.960] --> B[0.990] | MSE(D): 1.227931e-03\n",
      "\n",
      "..........\n",
      "Epoch 19:\n"
     ]
    },
    {
     "data": {
      "application/vnd.jupyter.widget-view+json": {
       "model_id": "08cbab0f9a0b4cbc8d949fdc85c95a8f",
       "version_major": 2,
       "version_minor": 0
      },
      "text/plain": [
       "HBox(children=(IntProgress(value=0, max=60000), HTML(value='')))"
      ]
     },
     "metadata": {},
     "output_type": "display_data"
    },
    {
     "name": "stdout",
     "output_type": "stream",
     "text": [
      "\n",
      "Train Accuracy: D[0.961] --> B[0.990] | MSE(D): 8.401994e-04\n",
      "Test Accuracy:  D[0.961] --> B[0.990] | MSE(D): 1.131024e-03\n",
      "\n",
      "..........\n",
      "Epoch 20:\n"
     ]
    },
    {
     "data": {
      "application/vnd.jupyter.widget-view+json": {
       "model_id": "6cec1902cdbd427ab07997ec274d9859",
       "version_major": 2,
       "version_minor": 0
      },
      "text/plain": [
       "HBox(children=(IntProgress(value=0, max=60000), HTML(value='')))"
      ]
     },
     "metadata": {},
     "output_type": "display_data"
    },
    {
     "name": "stdout",
     "output_type": "stream",
     "text": [
      "\n",
      "Train Accuracy: D[0.962] --> B[0.990] | MSE(D): 8.137400e-04\n",
      "Test Accuracy:  D[0.963] --> B[0.990] | MSE(D): 1.165868e-03\n",
      "\n",
      "..........\n",
      "Epoch 21:\n"
     ]
    },
    {
     "data": {
      "application/vnd.jupyter.widget-view+json": {
       "model_id": "a39e93fb05ae4a8c83d8aa99493f6886",
       "version_major": 2,
       "version_minor": 0
      },
      "text/plain": [
       "HBox(children=(IntProgress(value=0, max=60000), HTML(value='')))"
      ]
     },
     "metadata": {},
     "output_type": "display_data"
    },
    {
     "name": "stdout",
     "output_type": "stream",
     "text": [
      "\n",
      "Train Accuracy: D[0.963] --> B[0.990] | MSE(D): 8.219234e-04\n",
      "Test Accuracy:  D[0.964] --> B[0.990] | MSE(D): 1.003385e-03\n",
      "\n",
      "..........\n",
      "Epoch 22:\n"
     ]
    },
    {
     "data": {
      "application/vnd.jupyter.widget-view+json": {
       "model_id": "9ff910bf8f104b0b95298cdc3cd478fa",
       "version_major": 2,
       "version_minor": 0
      },
      "text/plain": [
       "HBox(children=(IntProgress(value=0, max=60000), HTML(value='')))"
      ]
     },
     "metadata": {},
     "output_type": "display_data"
    },
    {
     "name": "stdout",
     "output_type": "stream",
     "text": [
      "\n",
      "Train Accuracy: D[0.964] --> B[0.990] | MSE(D): 7.784270e-04\n",
      "Test Accuracy:  D[0.965] --> B[0.990] | MSE(D): 1.004280e-03\n",
      "\n",
      "..........\n",
      "Epoch 23:\n"
     ]
    },
    {
     "data": {
      "application/vnd.jupyter.widget-view+json": {
       "model_id": "b524f1e397874831a2f325df08af5dcc",
       "version_major": 2,
       "version_minor": 0
      },
      "text/plain": [
       "HBox(children=(IntProgress(value=0, max=60000), HTML(value='')))"
      ]
     },
     "metadata": {},
     "output_type": "display_data"
    },
    {
     "name": "stdout",
     "output_type": "stream",
     "text": [
      "\n",
      "Train Accuracy: D[0.965] --> B[0.990] | MSE(D): 7.756682e-04\n",
      "Test Accuracy:  D[0.965] --> B[0.990] | MSE(D): 1.031929e-03\n",
      "\n",
      "..........\n",
      "Epoch 24:\n"
     ]
    },
    {
     "data": {
      "application/vnd.jupyter.widget-view+json": {
       "model_id": "033d1f81436f47e9af37fd168e939b71",
       "version_major": 2,
       "version_minor": 0
      },
      "text/plain": [
       "HBox(children=(IntProgress(value=0, max=60000), HTML(value='')))"
      ]
     },
     "metadata": {},
     "output_type": "display_data"
    },
    {
     "name": "stdout",
     "output_type": "stream",
     "text": [
      "\n",
      "Train Accuracy: D[0.966] --> B[0.990] | MSE(D): 7.641651e-04\n",
      "Test Accuracy:  D[0.966] --> B[0.990] | MSE(D): 1.088055e-03\n",
      "\n",
      "..........\n",
      "Epoch 25:\n"
     ]
    },
    {
     "data": {
      "application/vnd.jupyter.widget-view+json": {
       "model_id": "33c45ad477f24e2aaabd212a45bdda99",
       "version_major": 2,
       "version_minor": 0
      },
      "text/plain": [
       "HBox(children=(IntProgress(value=0, max=60000), HTML(value='')))"
      ]
     },
     "metadata": {},
     "output_type": "display_data"
    },
    {
     "name": "stdout",
     "output_type": "stream",
     "text": [
      "\n",
      "Train Accuracy: D[0.967] --> B[0.990] | MSE(D): 7.505315e-04\n",
      "Test Accuracy:  D[0.967] --> B[0.990] | MSE(D): 1.041796e-03\n",
      "\n",
      "Overwrote weights for e25\n",
      "========================================\n",
      "INFO:tensorflow:Restoring parameters from ./discriminator_checkpoints/null\\discriminator_checkpoint.ckpt\n",
      "Reset graph to its initial state\n",
      "\n",
      "========================================\n",
      "Loading previous blackbox_e7 evaluation\n",
      "\n",
      "========================================\n",
      "Training on blackbox_e7\n",
      "..........\n",
      "Epoch 1:\n"
     ]
    },
    {
     "data": {
      "application/vnd.jupyter.widget-view+json": {
       "model_id": "421463874c8644b490d9e45082b0b2ab",
       "version_major": 2,
       "version_minor": 0
      },
      "text/plain": [
       "HBox(children=(IntProgress(value=0, max=60000), HTML(value='')))"
      ]
     },
     "metadata": {},
     "output_type": "display_data"
    },
    {
     "name": "stdout",
     "output_type": "stream",
     "text": [
      "\n",
      "Train Accuracy: D[0.525] --> B[0.991] | MSE(D): 3.627092e-02\n",
      "Test Accuracy:  D[0.750] --> B[0.990] | MSE(D): 1.083259e-02\n",
      "\n",
      "..........\n",
      "Epoch 2:\n"
     ]
    },
    {
     "data": {
      "application/vnd.jupyter.widget-view+json": {
       "model_id": "de538c9705924e8d81adcd8bc53b2249",
       "version_major": 2,
       "version_minor": 0
      },
      "text/plain": [
       "HBox(children=(IntProgress(value=0, max=60000), HTML(value='')))"
      ]
     },
     "metadata": {},
     "output_type": "display_data"
    },
    {
     "name": "stdout",
     "output_type": "stream",
     "text": [
      "\n",
      "Train Accuracy: D[0.800] --> B[0.991] | MSE(D): 8.261000e-03\n",
      "Test Accuracy:  D[0.843] --> B[0.990] | MSE(D): 5.953654e-03\n",
      "\n",
      "..........\n",
      "Epoch 3:\n"
     ]
    },
    {
     "data": {
      "application/vnd.jupyter.widget-view+json": {
       "model_id": "33498f9e1f1149bdb0373f9b0cc7f90a",
       "version_major": 2,
       "version_minor": 0
      },
      "text/plain": [
       "HBox(children=(IntProgress(value=0, max=60000), HTML(value='')))"
      ]
     },
     "metadata": {},
     "output_type": "display_data"
    },
    {
     "name": "stdout",
     "output_type": "stream",
     "text": [
      "\n",
      "Train Accuracy: D[0.862] --> B[0.991] | MSE(D): 4.715377e-03\n",
      "Test Accuracy:  D[0.882] --> B[0.990] | MSE(D): 3.282783e-03\n",
      "\n",
      "..........\n",
      "Epoch 4:\n"
     ]
    },
    {
     "data": {
      "application/vnd.jupyter.widget-view+json": {
       "model_id": "948076cca12f4dabb801bee6d02b5934",
       "version_major": 2,
       "version_minor": 0
      },
      "text/plain": [
       "HBox(children=(IntProgress(value=0, max=60000), HTML(value='')))"
      ]
     },
     "metadata": {},
     "output_type": "display_data"
    },
    {
     "name": "stdout",
     "output_type": "stream",
     "text": [
      "\n",
      "Train Accuracy: D[0.892] --> B[0.990] | MSE(D): 3.264634e-03\n",
      "Test Accuracy:  D[0.903] --> B[0.990] | MSE(D): 2.504946e-03\n",
      "\n",
      "..........\n",
      "Epoch 5:\n"
     ]
    },
    {
     "data": {
      "application/vnd.jupyter.widget-view+json": {
       "model_id": "20421239872644feaebdac6904043e93",
       "version_major": 2,
       "version_minor": 0
      },
      "text/plain": [
       "HBox(children=(IntProgress(value=0, max=60000), HTML(value='')))"
      ]
     },
     "metadata": {},
     "output_type": "display_data"
    },
    {
     "name": "stdout",
     "output_type": "stream",
     "text": [
      "\n",
      "Train Accuracy: D[0.910] --> B[0.991] | MSE(D): 2.480539e-03\n",
      "Test Accuracy:  D[0.917] --> B[0.990] | MSE(D): 2.131006e-03\n",
      "\n",
      "..........\n",
      "Epoch 6:\n"
     ]
    },
    {
     "data": {
      "application/vnd.jupyter.widget-view+json": {
       "model_id": "c651c83d449144b3ab21f33bcda2f17d",
       "version_major": 2,
       "version_minor": 0
      },
      "text/plain": [
       "HBox(children=(IntProgress(value=0, max=60000), HTML(value='')))"
      ]
     },
     "metadata": {},
     "output_type": "display_data"
    },
    {
     "name": "stdout",
     "output_type": "stream",
     "text": [
      "\n",
      "Train Accuracy: D[0.921] --> B[0.990] | MSE(D): 2.197435e-03\n",
      "Test Accuracy:  D[0.927] --> B[0.990] | MSE(D): 2.009444e-03\n",
      "\n",
      "..........\n",
      "Epoch 7:\n"
     ]
    },
    {
     "data": {
      "application/vnd.jupyter.widget-view+json": {
       "model_id": "f3121b2b263244dba6f0df5510ae3217",
       "version_major": 2,
       "version_minor": 0
      },
      "text/plain": [
       "HBox(children=(IntProgress(value=0, max=60000), HTML(value='')))"
      ]
     },
     "metadata": {},
     "output_type": "display_data"
    },
    {
     "name": "stdout",
     "output_type": "stream",
     "text": [
      "\n",
      "Train Accuracy: D[0.930] --> B[0.990] | MSE(D): 1.794969e-03\n",
      "Test Accuracy:  D[0.934] --> B[0.990] | MSE(D): 1.619612e-03\n",
      "\n",
      "..........\n",
      "Epoch 8:\n"
     ]
    },
    {
     "data": {
      "application/vnd.jupyter.widget-view+json": {
       "model_id": "44578e06501944b2bd6613d4a5f3fb1e",
       "version_major": 2,
       "version_minor": 0
      },
      "text/plain": [
       "HBox(children=(IntProgress(value=0, max=60000), HTML(value='')))"
      ]
     },
     "metadata": {},
     "output_type": "display_data"
    },
    {
     "name": "stdout",
     "output_type": "stream",
     "text": [
      "\n",
      "Train Accuracy: D[0.936] --> B[0.990] | MSE(D): 1.592283e-03\n",
      "Test Accuracy:  D[0.939] --> B[0.990] | MSE(D): 1.646381e-03\n",
      "\n",
      "..........\n",
      "Epoch 9:\n"
     ]
    },
    {
     "data": {
      "application/vnd.jupyter.widget-view+json": {
       "model_id": "a4bfc6b30cb347cbaed5bcabaf1f65a7",
       "version_major": 2,
       "version_minor": 0
      },
      "text/plain": [
       "HBox(children=(IntProgress(value=0, max=60000), HTML(value='')))"
      ]
     },
     "metadata": {},
     "output_type": "display_data"
    },
    {
     "name": "stdout",
     "output_type": "stream",
     "text": [
      "\n",
      "Train Accuracy: D[0.941] --> B[0.990] | MSE(D): 1.422888e-03\n",
      "Test Accuracy:  D[0.944] --> B[0.990] | MSE(D): 1.408118e-03\n",
      "\n",
      "..........\n",
      "Epoch 10:\n"
     ]
    },
    {
     "data": {
      "application/vnd.jupyter.widget-view+json": {
       "model_id": "294be1204fa04ba9ba2d8542ee7b84fa",
       "version_major": 2,
       "version_minor": 0
      },
      "text/plain": [
       "HBox(children=(IntProgress(value=0, max=60000), HTML(value='')))"
      ]
     },
     "metadata": {},
     "output_type": "display_data"
    },
    {
     "name": "stdout",
     "output_type": "stream",
     "text": [
      "\n",
      "Train Accuracy: D[0.946] --> B[0.990] | MSE(D): 1.346183e-03\n",
      "Test Accuracy:  D[0.948] --> B[0.990] | MSE(D): 1.386663e-03\n",
      "\n",
      "..........\n",
      "Epoch 11:\n"
     ]
    },
    {
     "data": {
      "application/vnd.jupyter.widget-view+json": {
       "model_id": "e1de06a2d1634a649ec22c96418644ff",
       "version_major": 2,
       "version_minor": 0
      },
      "text/plain": [
       "HBox(children=(IntProgress(value=0, max=60000), HTML(value='')))"
      ]
     },
     "metadata": {},
     "output_type": "display_data"
    },
    {
     "name": "stdout",
     "output_type": "stream",
     "text": [
      "\n",
      "Train Accuracy: D[0.949] --> B[0.990] | MSE(D): 1.198093e-03\n",
      "Test Accuracy:  D[0.951] --> B[0.990] | MSE(D): 1.427825e-03\n",
      "\n",
      "..........\n",
      "Epoch 12:\n"
     ]
    },
    {
     "data": {
      "application/vnd.jupyter.widget-view+json": {
       "model_id": "c52cd8a0957f4dc0933e3cd9ca5e2412",
       "version_major": 2,
       "version_minor": 0
      },
      "text/plain": [
       "HBox(children=(IntProgress(value=0, max=60000), HTML(value='')))"
      ]
     },
     "metadata": {},
     "output_type": "display_data"
    },
    {
     "name": "stdout",
     "output_type": "stream",
     "text": [
      "\n",
      "Train Accuracy: D[0.952] --> B[0.990] | MSE(D): 1.107328e-03\n",
      "Test Accuracy:  D[0.954] --> B[0.990] | MSE(D): 1.314247e-03\n",
      "\n",
      "..........\n",
      "Epoch 13:\n"
     ]
    },
    {
     "data": {
      "application/vnd.jupyter.widget-view+json": {
       "model_id": "70c5ac91a6174d80b43ff0f0eaafac35",
       "version_major": 2,
       "version_minor": 0
      },
      "text/plain": [
       "HBox(children=(IntProgress(value=0, max=60000), HTML(value='')))"
      ]
     },
     "metadata": {},
     "output_type": "display_data"
    },
    {
     "name": "stdout",
     "output_type": "stream",
     "text": [
      "\n",
      "Train Accuracy: D[0.955] --> B[0.990] | MSE(D): 9.966856e-04\n",
      "Test Accuracy:  D[0.956] --> B[0.990] | MSE(D): 1.341634e-03\n",
      "\n",
      "..........\n",
      "Epoch 14:\n"
     ]
    },
    {
     "data": {
      "application/vnd.jupyter.widget-view+json": {
       "model_id": "d8f7c0f17ffa4cf8ab2227134c5457a8",
       "version_major": 2,
       "version_minor": 0
      },
      "text/plain": [
       "HBox(children=(IntProgress(value=0, max=60000), HTML(value='')))"
      ]
     },
     "metadata": {},
     "output_type": "display_data"
    },
    {
     "name": "stdout",
     "output_type": "stream",
     "text": [
      "\n",
      "Train Accuracy: D[0.957] --> B[0.990] | MSE(D): 1.013105e-03\n",
      "Test Accuracy:  D[0.958] --> B[0.990] | MSE(D): 1.128598e-03\n",
      "\n",
      "..........\n",
      "Epoch 15:\n"
     ]
    },
    {
     "data": {
      "application/vnd.jupyter.widget-view+json": {
       "model_id": "0a67c545643b4f5a8af53460c079a8fc",
       "version_major": 2,
       "version_minor": 0
      },
      "text/plain": [
       "HBox(children=(IntProgress(value=0, max=60000), HTML(value='')))"
      ]
     },
     "metadata": {},
     "output_type": "display_data"
    },
    {
     "name": "stdout",
     "output_type": "stream",
     "text": [
      "\n",
      "Train Accuracy: D[0.959] --> B[0.990] | MSE(D): 1.027716e-03\n",
      "Test Accuracy:  D[0.960] --> B[0.990] | MSE(D): 1.119269e-03\n",
      "\n",
      "..........\n",
      "Epoch 16:\n"
     ]
    },
    {
     "data": {
      "application/vnd.jupyter.widget-view+json": {
       "model_id": "27c0ef23f80a458e96f2def8e571005f",
       "version_major": 2,
       "version_minor": 0
      },
      "text/plain": [
       "HBox(children=(IntProgress(value=0, max=60000), HTML(value='')))"
      ]
     },
     "metadata": {},
     "output_type": "display_data"
    },
    {
     "name": "stdout",
     "output_type": "stream",
     "text": [
      "\n",
      "Train Accuracy: D[0.960] --> B[0.990] | MSE(D): 9.481463e-04\n",
      "Test Accuracy:  D[0.961] --> B[0.990] | MSE(D): 1.203045e-03\n",
      "\n",
      "..........\n",
      "Epoch 17:\n"
     ]
    },
    {
     "data": {
      "application/vnd.jupyter.widget-view+json": {
       "model_id": "a3201c725d814121b839af7bdef23ce2",
       "version_major": 2,
       "version_minor": 0
      },
      "text/plain": [
       "HBox(children=(IntProgress(value=0, max=60000), HTML(value='')))"
      ]
     },
     "metadata": {},
     "output_type": "display_data"
    },
    {
     "name": "stdout",
     "output_type": "stream",
     "text": [
      "\n",
      "Train Accuracy: D[0.962] --> B[0.990] | MSE(D): 9.241196e-04\n",
      "Test Accuracy:  D[0.963] --> B[0.990] | MSE(D): 1.182765e-03\n",
      "\n",
      "..........\n",
      "Epoch 18:\n"
     ]
    },
    {
     "data": {
      "application/vnd.jupyter.widget-view+json": {
       "model_id": "b589d3c4cf064bf9bc464495f4f57175",
       "version_major": 2,
       "version_minor": 0
      },
      "text/plain": [
       "HBox(children=(IntProgress(value=0, max=60000), HTML(value='')))"
      ]
     },
     "metadata": {},
     "output_type": "display_data"
    },
    {
     "name": "stdout",
     "output_type": "stream",
     "text": [
      "\n",
      "Train Accuracy: D[0.963] --> B[0.990] | MSE(D): 8.099981e-04\n",
      "Test Accuracy:  D[0.964] --> B[0.990] | MSE(D): 9.770698e-04\n",
      "\n",
      "..........\n",
      "Epoch 19:\n"
     ]
    },
    {
     "data": {
      "application/vnd.jupyter.widget-view+json": {
       "model_id": "f985857182304792a3444250f534894f",
       "version_major": 2,
       "version_minor": 0
      },
      "text/plain": [
       "HBox(children=(IntProgress(value=0, max=60000), HTML(value='')))"
      ]
     },
     "metadata": {},
     "output_type": "display_data"
    },
    {
     "name": "stdout",
     "output_type": "stream",
     "text": [
      "\n",
      "Train Accuracy: D[0.964] --> B[0.990] | MSE(D): 7.456908e-04\n",
      "Test Accuracy:  D[0.965] --> B[0.990] | MSE(D): 1.002639e-03\n",
      "\n",
      "..........\n",
      "Epoch 20:\n"
     ]
    },
    {
     "data": {
      "application/vnd.jupyter.widget-view+json": {
       "model_id": "8da1be608d5d4f70b3f0d3759b097ef4",
       "version_major": 2,
       "version_minor": 0
      },
      "text/plain": [
       "HBox(children=(IntProgress(value=0, max=60000), HTML(value='')))"
      ]
     },
     "metadata": {},
     "output_type": "display_data"
    },
    {
     "name": "stdout",
     "output_type": "stream",
     "text": [
      "\n",
      "Train Accuracy: D[0.965] --> B[0.990] | MSE(D): 7.913933e-04\n",
      "Test Accuracy:  D[0.966] --> B[0.990] | MSE(D): 1.218094e-03\n",
      "\n",
      "..........\n",
      "Epoch 21:\n"
     ]
    },
    {
     "data": {
      "application/vnd.jupyter.widget-view+json": {
       "model_id": "790f31b68f34497c8a79895b03682161",
       "version_major": 2,
       "version_minor": 0
      },
      "text/plain": [
       "HBox(children=(IntProgress(value=0, max=60000), HTML(value='')))"
      ]
     },
     "metadata": {},
     "output_type": "display_data"
    },
    {
     "name": "stdout",
     "output_type": "stream",
     "text": [
      "\n",
      "Train Accuracy: D[0.966] --> B[0.990] | MSE(D): 7.153515e-04\n",
      "Test Accuracy:  D[0.967] --> B[0.990] | MSE(D): 1.046705e-03\n",
      "\n",
      "..........\n",
      "Epoch 22:\n"
     ]
    },
    {
     "data": {
      "application/vnd.jupyter.widget-view+json": {
       "model_id": "23a3abffcf7f4fa8bf96428032c996ed",
       "version_major": 2,
       "version_minor": 0
      },
      "text/plain": [
       "HBox(children=(IntProgress(value=0, max=60000), HTML(value='')))"
      ]
     },
     "metadata": {},
     "output_type": "display_data"
    },
    {
     "name": "stdout",
     "output_type": "stream",
     "text": [
      "\n",
      "Train Accuracy: D[0.967] --> B[0.990] | MSE(D): 7.049043e-04\n",
      "Test Accuracy:  D[0.968] --> B[0.990] | MSE(D): 1.039992e-03\n",
      "\n",
      "..........\n",
      "Epoch 23:\n"
     ]
    },
    {
     "data": {
      "application/vnd.jupyter.widget-view+json": {
       "model_id": "5efc4d61417e4ba0905dd62bcf7a89a5",
       "version_major": 2,
       "version_minor": 0
      },
      "text/plain": [
       "HBox(children=(IntProgress(value=0, max=60000), HTML(value='')))"
      ]
     },
     "metadata": {},
     "output_type": "display_data"
    },
    {
     "name": "stdout",
     "output_type": "stream",
     "text": [
      "\n",
      "Train Accuracy: D[0.968] --> B[0.990] | MSE(D): 7.077732e-04\n",
      "Test Accuracy:  D[0.969] --> B[0.990] | MSE(D): 9.061126e-04\n",
      "\n",
      "..........\n",
      "Epoch 24:\n"
     ]
    },
    {
     "data": {
      "application/vnd.jupyter.widget-view+json": {
       "model_id": "9b4a0bdb1fa54ff58685c66fc77f447f",
       "version_major": 2,
       "version_minor": 0
      },
      "text/plain": [
       "HBox(children=(IntProgress(value=0, max=60000), HTML(value='')))"
      ]
     },
     "metadata": {},
     "output_type": "display_data"
    },
    {
     "name": "stdout",
     "output_type": "stream",
     "text": [
      "\n",
      "Train Accuracy: D[0.969] --> B[0.990] | MSE(D): 6.927987e-04\n",
      "Test Accuracy:  D[0.969] --> B[0.990] | MSE(D): 9.671884e-04\n",
      "\n",
      "..........\n",
      "Epoch 25:\n"
     ]
    },
    {
     "data": {
      "application/vnd.jupyter.widget-view+json": {
       "model_id": "d874aef9143142998f115080a5eae9aa",
       "version_major": 2,
       "version_minor": 0
      },
      "text/plain": [
       "HBox(children=(IntProgress(value=0, max=60000), HTML(value='')))"
      ]
     },
     "metadata": {},
     "output_type": "display_data"
    },
    {
     "name": "stdout",
     "output_type": "stream",
     "text": [
      "\n",
      "Train Accuracy: D[0.970] --> B[0.990] | MSE(D): 6.681643e-04\n",
      "Test Accuracy:  D[0.970] --> B[0.990] | MSE(D): 1.045611e-03\n",
      "\n",
      "Overwrote weights for e25\n",
      "========================================\n",
      "INFO:tensorflow:Restoring parameters from ./discriminator_checkpoints/null\\discriminator_checkpoint.ckpt\n",
      "Reset graph to its initial state\n",
      "\n",
      "========================================\n",
      "Loading previous blackbox_e8 evaluation\n",
      "\n",
      "========================================\n",
      "Training on blackbox_e8\n",
      "..........\n",
      "Epoch 1:\n"
     ]
    },
    {
     "data": {
      "application/vnd.jupyter.widget-view+json": {
       "model_id": "7664dbc2852745f498bbf6c131140ce1",
       "version_major": 2,
       "version_minor": 0
      },
      "text/plain": [
       "HBox(children=(IntProgress(value=0, max=60000), HTML(value='')))"
      ]
     },
     "metadata": {},
     "output_type": "display_data"
    },
    {
     "name": "stdout",
     "output_type": "stream",
     "text": [
      "\n",
      "Train Accuracy: D[0.496] --> B[0.992] | MSE(D): 4.098536e-02\n",
      "Test Accuracy:  D[0.714] --> B[0.991] | MSE(D): 1.374528e-02\n",
      "\n",
      "..........\n",
      "Epoch 2:\n"
     ]
    },
    {
     "data": {
      "application/vnd.jupyter.widget-view+json": {
       "model_id": "563e8f4b285a465c971939ea2fa74dae",
       "version_major": 2,
       "version_minor": 0
      },
      "text/plain": [
       "HBox(children=(IntProgress(value=0, max=60000), HTML(value='')))"
      ]
     },
     "metadata": {},
     "output_type": "display_data"
    },
    {
     "name": "stdout",
     "output_type": "stream",
     "text": [
      "\n",
      "Train Accuracy: D[0.769] --> B[0.991] | MSE(D): 1.006009e-02\n",
      "Test Accuracy:  D[0.820] --> B[0.991] | MSE(D): 5.883629e-03\n",
      "\n",
      "..........\n",
      "Epoch 3:\n"
     ]
    },
    {
     "data": {
      "application/vnd.jupyter.widget-view+json": {
       "model_id": "99792615f74941ecaa0e6e91e2ce7cd9",
       "version_major": 2,
       "version_minor": 0
      },
      "text/plain": [
       "HBox(children=(IntProgress(value=0, max=60000), HTML(value='')))"
      ]
     },
     "metadata": {},
     "output_type": "display_data"
    },
    {
     "name": "stdout",
     "output_type": "stream",
     "text": [
      "\n",
      "Train Accuracy: D[0.842] --> B[0.991] | MSE(D): 5.267350e-03\n",
      "Test Accuracy:  D[0.865] --> B[0.991] | MSE(D): 3.597155e-03\n",
      "\n",
      "..........\n",
      "Epoch 4:\n"
     ]
    },
    {
     "data": {
      "application/vnd.jupyter.widget-view+json": {
       "model_id": "fab2d8897211470598615cec78cf5fc4",
       "version_major": 2,
       "version_minor": 0
      },
      "text/plain": [
       "HBox(children=(IntProgress(value=0, max=60000), HTML(value='')))"
      ]
     },
     "metadata": {},
     "output_type": "display_data"
    },
    {
     "name": "stdout",
     "output_type": "stream",
     "text": [
      "\n",
      "Train Accuracy: D[0.877] --> B[0.991] | MSE(D): 3.574432e-03\n",
      "Test Accuracy:  D[0.890] --> B[0.991] | MSE(D): 2.745426e-03\n",
      "\n",
      "..........\n",
      "Epoch 5:\n"
     ]
    },
    {
     "data": {
      "application/vnd.jupyter.widget-view+json": {
       "model_id": "3c5acc7e592d4b75a64f6dbf6224c9c1",
       "version_major": 2,
       "version_minor": 0
      },
      "text/plain": [
       "HBox(children=(IntProgress(value=0, max=60000), HTML(value='')))"
      ]
     },
     "metadata": {},
     "output_type": "display_data"
    },
    {
     "name": "stdout",
     "output_type": "stream",
     "text": [
      "\n",
      "Train Accuracy: D[0.898] --> B[0.991] | MSE(D): 2.793489e-03\n",
      "Test Accuracy:  D[0.907] --> B[0.991] | MSE(D): 2.038236e-03\n",
      "\n",
      "..........\n",
      "Epoch 6:\n"
     ]
    },
    {
     "data": {
      "application/vnd.jupyter.widget-view+json": {
       "model_id": "1e1b9eb8f0b94b23ba8430a67b7ad61e",
       "version_major": 2,
       "version_minor": 0
      },
      "text/plain": [
       "HBox(children=(IntProgress(value=0, max=60000), HTML(value='')))"
      ]
     },
     "metadata": {},
     "output_type": "display_data"
    },
    {
     "name": "stdout",
     "output_type": "stream",
     "text": [
      "\n",
      "Train Accuracy: D[0.912] --> B[0.991] | MSE(D): 2.204128e-03\n",
      "Test Accuracy:  D[0.918] --> B[0.991] | MSE(D): 2.016170e-03\n",
      "\n",
      "..........\n",
      "Epoch 7:\n"
     ]
    },
    {
     "data": {
      "application/vnd.jupyter.widget-view+json": {
       "model_id": "f3a1e8b1caf34c3c9fad9bd1b0395e6e",
       "version_major": 2,
       "version_minor": 0
      },
      "text/plain": [
       "HBox(children=(IntProgress(value=0, max=60000), HTML(value='')))"
      ]
     },
     "metadata": {},
     "output_type": "display_data"
    },
    {
     "name": "stdout",
     "output_type": "stream",
     "text": [
      "\n",
      "Train Accuracy: D[0.922] --> B[0.991] | MSE(D): 1.981245e-03\n",
      "Test Accuracy:  D[0.927] --> B[0.991] | MSE(D): 1.608813e-03\n",
      "\n",
      "..........\n",
      "Epoch 8:\n"
     ]
    },
    {
     "data": {
      "application/vnd.jupyter.widget-view+json": {
       "model_id": "872910d42e874e15867a884ca8e751c4",
       "version_major": 2,
       "version_minor": 0
      },
      "text/plain": [
       "HBox(children=(IntProgress(value=0, max=60000), HTML(value='')))"
      ]
     },
     "metadata": {},
     "output_type": "display_data"
    },
    {
     "name": "stdout",
     "output_type": "stream",
     "text": [
      "\n",
      "Train Accuracy: D[0.929] --> B[0.991] | MSE(D): 1.784086e-03\n",
      "Test Accuracy:  D[0.933] --> B[0.991] | MSE(D): 1.828566e-03\n",
      "\n",
      "..........\n",
      "Epoch 9:\n"
     ]
    },
    {
     "data": {
      "application/vnd.jupyter.widget-view+json": {
       "model_id": "c682b31ed0274acf82aa85a1373a7ae9",
       "version_major": 2,
       "version_minor": 0
      },
      "text/plain": [
       "HBox(children=(IntProgress(value=0, max=60000), HTML(value='')))"
      ]
     },
     "metadata": {},
     "output_type": "display_data"
    },
    {
     "name": "stdout",
     "output_type": "stream",
     "text": [
      "\n",
      "Train Accuracy: D[0.935] --> B[0.991] | MSE(D): 1.517072e-03\n",
      "Test Accuracy:  D[0.938] --> B[0.991] | MSE(D): 1.425263e-03\n",
      "\n",
      "..........\n",
      "Epoch 10:\n"
     ]
    },
    {
     "data": {
      "application/vnd.jupyter.widget-view+json": {
       "model_id": "0496f445a0c44c1f8e09f73737ec5320",
       "version_major": 2,
       "version_minor": 0
      },
      "text/plain": [
       "HBox(children=(IntProgress(value=0, max=60000), HTML(value='')))"
      ]
     },
     "metadata": {},
     "output_type": "display_data"
    },
    {
     "name": "stdout",
     "output_type": "stream",
     "text": [
      "\n",
      "Train Accuracy: D[0.940] --> B[0.991] | MSE(D): 1.331762e-03\n",
      "Test Accuracy:  D[0.943] --> B[0.991] | MSE(D): 1.289622e-03\n",
      "\n",
      "..........\n",
      "Epoch 11:\n"
     ]
    },
    {
     "data": {
      "application/vnd.jupyter.widget-view+json": {
       "model_id": "f84760864ced4059b9d799b4f013c401",
       "version_major": 2,
       "version_minor": 0
      },
      "text/plain": [
       "HBox(children=(IntProgress(value=0, max=60000), HTML(value='')))"
      ]
     },
     "metadata": {},
     "output_type": "display_data"
    },
    {
     "name": "stdout",
     "output_type": "stream",
     "text": [
      "\n",
      "Train Accuracy: D[0.944] --> B[0.991] | MSE(D): 1.274738e-03\n",
      "Test Accuracy:  D[0.946] --> B[0.991] | MSE(D): 1.417513e-03\n",
      "\n",
      "..........\n",
      "Epoch 12:\n"
     ]
    },
    {
     "data": {
      "application/vnd.jupyter.widget-view+json": {
       "model_id": "355a1f5212164c65bced3b2fe47a6385",
       "version_major": 2,
       "version_minor": 0
      },
      "text/plain": [
       "HBox(children=(IntProgress(value=0, max=60000), HTML(value='')))"
      ]
     },
     "metadata": {},
     "output_type": "display_data"
    },
    {
     "name": "stdout",
     "output_type": "stream",
     "text": [
      "\n",
      "Train Accuracy: D[0.948] --> B[0.991] | MSE(D): 1.223086e-03\n",
      "Test Accuracy:  D[0.949] --> B[0.991] | MSE(D): 1.297586e-03\n",
      "\n",
      "..........\n",
      "Epoch 13:\n"
     ]
    },
    {
     "data": {
      "application/vnd.jupyter.widget-view+json": {
       "model_id": "c452bc5cf4424abe840ec4b183a5fafd",
       "version_major": 2,
       "version_minor": 0
      },
      "text/plain": [
       "HBox(children=(IntProgress(value=0, max=60000), HTML(value='')))"
      ]
     },
     "metadata": {},
     "output_type": "display_data"
    },
    {
     "name": "stdout",
     "output_type": "stream",
     "text": [
      "\n",
      "Train Accuracy: D[0.950] --> B[0.991] | MSE(D): 1.107535e-03\n",
      "Test Accuracy:  D[0.952] --> B[0.991] | MSE(D): 1.222372e-03\n",
      "\n",
      "..........\n",
      "Epoch 14:\n"
     ]
    },
    {
     "data": {
      "application/vnd.jupyter.widget-view+json": {
       "model_id": "b06b5892daa84057ae5ded23120e877e",
       "version_major": 2,
       "version_minor": 0
      },
      "text/plain": [
       "HBox(children=(IntProgress(value=0, max=60000), HTML(value='')))"
      ]
     },
     "metadata": {},
     "output_type": "display_data"
    },
    {
     "name": "stdout",
     "output_type": "stream",
     "text": [
      "\n",
      "Train Accuracy: D[0.953] --> B[0.991] | MSE(D): 1.072614e-03\n",
      "Test Accuracy:  D[0.954] --> B[0.991] | MSE(D): 1.241597e-03\n",
      "\n",
      "..........\n",
      "Epoch 15:\n"
     ]
    },
    {
     "data": {
      "application/vnd.jupyter.widget-view+json": {
       "model_id": "0a0baef04f1a4f77aaa956ed45c6071a",
       "version_major": 2,
       "version_minor": 0
      },
      "text/plain": [
       "HBox(children=(IntProgress(value=0, max=60000), HTML(value='')))"
      ]
     },
     "metadata": {},
     "output_type": "display_data"
    },
    {
     "name": "stdout",
     "output_type": "stream",
     "text": [
      "\n",
      "Train Accuracy: D[0.955] --> B[0.991] | MSE(D): 1.001897e-03\n",
      "Test Accuracy:  D[0.956] --> B[0.991] | MSE(D): 1.253061e-03\n",
      "\n",
      "..........\n",
      "Epoch 16:\n"
     ]
    },
    {
     "data": {
      "application/vnd.jupyter.widget-view+json": {
       "model_id": "d0d7aae0f2f24e7b912898c57fe646af",
       "version_major": 2,
       "version_minor": 0
      },
      "text/plain": [
       "HBox(children=(IntProgress(value=0, max=60000), HTML(value='')))"
      ]
     },
     "metadata": {},
     "output_type": "display_data"
    },
    {
     "name": "stdout",
     "output_type": "stream",
     "text": [
      "\n",
      "Train Accuracy: D[0.957] --> B[0.991] | MSE(D): 9.681102e-04\n",
      "Test Accuracy:  D[0.958] --> B[0.991] | MSE(D): 1.130940e-03\n",
      "\n",
      "..........\n",
      "Epoch 17:\n"
     ]
    },
    {
     "data": {
      "application/vnd.jupyter.widget-view+json": {
       "model_id": "1578a4b9ab7b46799732e4844a04661b",
       "version_major": 2,
       "version_minor": 0
      },
      "text/plain": [
       "HBox(children=(IntProgress(value=0, max=60000), HTML(value='')))"
      ]
     },
     "metadata": {},
     "output_type": "display_data"
    },
    {
     "name": "stdout",
     "output_type": "stream",
     "text": [
      "\n",
      "Train Accuracy: D[0.959] --> B[0.991] | MSE(D): 9.197465e-04\n",
      "Test Accuracy:  D[0.960] --> B[0.991] | MSE(D): 1.222294e-03\n",
      "\n",
      "..........\n",
      "Epoch 18:\n"
     ]
    },
    {
     "data": {
      "application/vnd.jupyter.widget-view+json": {
       "model_id": "f1ae944c3cbc445e9fcda1c427d5e00f",
       "version_major": 2,
       "version_minor": 0
      },
      "text/plain": [
       "HBox(children=(IntProgress(value=0, max=60000), HTML(value='')))"
      ]
     },
     "metadata": {},
     "output_type": "display_data"
    },
    {
     "name": "stdout",
     "output_type": "stream",
     "text": [
      "\n",
      "Train Accuracy: D[0.960] --> B[0.991] | MSE(D): 8.955656e-04\n",
      "Test Accuracy:  D[0.961] --> B[0.991] | MSE(D): 1.016965e-03\n",
      "\n",
      "..........\n",
      "Epoch 19:\n"
     ]
    },
    {
     "data": {
      "application/vnd.jupyter.widget-view+json": {
       "model_id": "6294d06e8beb479681d22b0065312d6d",
       "version_major": 2,
       "version_minor": 0
      },
      "text/plain": [
       "HBox(children=(IntProgress(value=0, max=60000), HTML(value='')))"
      ]
     },
     "metadata": {},
     "output_type": "display_data"
    },
    {
     "name": "stdout",
     "output_type": "stream",
     "text": [
      "\n",
      "Train Accuracy: D[0.962] --> B[0.991] | MSE(D): 8.697130e-04\n",
      "Test Accuracy:  D[0.962] --> B[0.991] | MSE(D): 1.133327e-03\n",
      "\n",
      "..........\n",
      "Epoch 20:\n"
     ]
    },
    {
     "data": {
      "application/vnd.jupyter.widget-view+json": {
       "model_id": "6b4f9f59746c44c19b0bf61b19fb7114",
       "version_major": 2,
       "version_minor": 0
      },
      "text/plain": [
       "HBox(children=(IntProgress(value=0, max=60000), HTML(value='')))"
      ]
     },
     "metadata": {},
     "output_type": "display_data"
    },
    {
     "name": "stdout",
     "output_type": "stream",
     "text": [
      "\n",
      "Train Accuracy: D[0.963] --> B[0.991] | MSE(D): 8.353881e-04\n",
      "Test Accuracy:  D[0.964] --> B[0.991] | MSE(D): 1.064645e-03\n",
      "\n",
      "..........\n",
      "Epoch 21:\n"
     ]
    },
    {
     "data": {
      "application/vnd.jupyter.widget-view+json": {
       "model_id": "d6ddea4d79bc45fabc0a469ee65042ba",
       "version_major": 2,
       "version_minor": 0
      },
      "text/plain": [
       "HBox(children=(IntProgress(value=0, max=60000), HTML(value='')))"
      ]
     },
     "metadata": {},
     "output_type": "display_data"
    },
    {
     "name": "stdout",
     "output_type": "stream",
     "text": [
      "\n",
      "Train Accuracy: D[0.964] --> B[0.991] | MSE(D): 8.306390e-04\n",
      "Test Accuracy:  D[0.965] --> B[0.991] | MSE(D): 1.048672e-03\n",
      "\n",
      "..........\n",
      "Epoch 22:\n"
     ]
    },
    {
     "data": {
      "application/vnd.jupyter.widget-view+json": {
       "model_id": "3c448cfee5b840b98ddd95d16ff46a33",
       "version_major": 2,
       "version_minor": 0
      },
      "text/plain": [
       "HBox(children=(IntProgress(value=0, max=60000), HTML(value='')))"
      ]
     },
     "metadata": {},
     "output_type": "display_data"
    },
    {
     "name": "stdout",
     "output_type": "stream",
     "text": [
      "\n",
      "Train Accuracy: D[0.965] --> B[0.991] | MSE(D): 8.295738e-04\n",
      "Test Accuracy:  D[0.966] --> B[0.991] | MSE(D): 9.791766e-04\n",
      "\n",
      "..........\n",
      "Epoch 23:\n"
     ]
    },
    {
     "data": {
      "application/vnd.jupyter.widget-view+json": {
       "model_id": "48f9ae6cb4194613b9c1b2a3e6b8bdd4",
       "version_major": 2,
       "version_minor": 0
      },
      "text/plain": [
       "HBox(children=(IntProgress(value=0, max=60000), HTML(value='')))"
      ]
     },
     "metadata": {},
     "output_type": "display_data"
    },
    {
     "name": "stdout",
     "output_type": "stream",
     "text": [
      "\n",
      "Train Accuracy: D[0.966] --> B[0.991] | MSE(D): 7.762085e-04\n",
      "Test Accuracy:  D[0.967] --> B[0.991] | MSE(D): 1.154907e-03\n",
      "\n",
      "..........\n",
      "Epoch 24:\n"
     ]
    },
    {
     "data": {
      "application/vnd.jupyter.widget-view+json": {
       "model_id": "b6255ca90a044142ab78b181d6a00148",
       "version_major": 2,
       "version_minor": 0
      },
      "text/plain": [
       "HBox(children=(IntProgress(value=0, max=60000), HTML(value='')))"
      ]
     },
     "metadata": {},
     "output_type": "display_data"
    },
    {
     "name": "stdout",
     "output_type": "stream",
     "text": [
      "\n",
      "Train Accuracy: D[0.967] --> B[0.991] | MSE(D): 7.405462e-04\n",
      "Test Accuracy:  D[0.967] --> B[0.991] | MSE(D): 9.468212e-04\n",
      "\n",
      "..........\n",
      "Epoch 25:\n"
     ]
    },
    {
     "data": {
      "application/vnd.jupyter.widget-view+json": {
       "model_id": "d2ab84f5cf504ed7b962fdd69ed8a329",
       "version_major": 2,
       "version_minor": 0
      },
      "text/plain": [
       "HBox(children=(IntProgress(value=0, max=60000), HTML(value='')))"
      ]
     },
     "metadata": {},
     "output_type": "display_data"
    },
    {
     "name": "stdout",
     "output_type": "stream",
     "text": [
      "\n",
      "Train Accuracy: D[0.968] --> B[0.991] | MSE(D): 7.181844e-04\n",
      "Test Accuracy:  D[0.968] --> B[0.991] | MSE(D): 9.736171e-04\n",
      "\n",
      "Overwrote weights for e25\n",
      "========================================\n",
      "INFO:tensorflow:Restoring parameters from ./discriminator_checkpoints/null\\discriminator_checkpoint.ckpt\n",
      "Reset graph to its initial state\n",
      "\n",
      "========================================\n",
      "Loading previous blackbox_e9 evaluation\n",
      "\n",
      "========================================\n",
      "Training on blackbox_e9\n",
      "..........\n",
      "Epoch 1:\n"
     ]
    },
    {
     "data": {
      "application/vnd.jupyter.widget-view+json": {
       "model_id": "0ffa758e0d344ec7911cb943f957641e",
       "version_major": 2,
       "version_minor": 0
      },
      "text/plain": [
       "HBox(children=(IntProgress(value=0, max=60000), HTML(value='')))"
      ]
     },
     "metadata": {},
     "output_type": "display_data"
    },
    {
     "name": "stdout",
     "output_type": "stream",
     "text": [
      "\n",
      "Train Accuracy: D[0.514] --> B[0.993] | MSE(D): 3.640240e-02\n",
      "Test Accuracy:  D[0.746] --> B[0.993] | MSE(D): 1.221847e-02\n",
      "\n",
      "..........\n",
      "Epoch 2:\n"
     ]
    },
    {
     "data": {
      "application/vnd.jupyter.widget-view+json": {
       "model_id": "568510f079c84fc380ac6adb2467345d",
       "version_major": 2,
       "version_minor": 0
      },
      "text/plain": [
       "HBox(children=(IntProgress(value=0, max=60000), HTML(value='')))"
      ]
     },
     "metadata": {},
     "output_type": "display_data"
    },
    {
     "name": "stdout",
     "output_type": "stream",
     "text": [
      "\n",
      "Train Accuracy: D[0.795] --> B[0.993] | MSE(D): 9.082046e-03\n",
      "Test Accuracy:  D[0.840] --> B[0.993] | MSE(D): 5.687511e-03\n",
      "\n",
      "..........\n",
      "Epoch 3:\n"
     ]
    },
    {
     "data": {
      "application/vnd.jupyter.widget-view+json": {
       "model_id": "acb53da6330b4a0599d02fb768d990f3",
       "version_major": 2,
       "version_minor": 0
      },
      "text/plain": [
       "HBox(children=(IntProgress(value=0, max=60000), HTML(value='')))"
      ]
     },
     "metadata": {},
     "output_type": "display_data"
    },
    {
     "name": "stdout",
     "output_type": "stream",
     "text": [
      "\n",
      "Train Accuracy: D[0.859] --> B[0.993] | MSE(D): 5.267430e-03\n",
      "Test Accuracy:  D[0.879] --> B[0.993] | MSE(D): 3.466220e-03\n",
      "\n",
      "..........\n",
      "Epoch 4:\n"
     ]
    },
    {
     "data": {
      "application/vnd.jupyter.widget-view+json": {
       "model_id": "42ed5d19e3af40d69859dd77e48918fd",
       "version_major": 2,
       "version_minor": 0
      },
      "text/plain": [
       "HBox(children=(IntProgress(value=0, max=60000), HTML(value='')))"
      ]
     },
     "metadata": {},
     "output_type": "display_data"
    },
    {
     "name": "stdout",
     "output_type": "stream",
     "text": [
      "\n",
      "Train Accuracy: D[0.889] --> B[0.993] | MSE(D): 3.656484e-03\n",
      "Test Accuracy:  D[0.901] --> B[0.993] | MSE(D): 2.810374e-03\n",
      "\n",
      "..........\n",
      "Epoch 5:\n"
     ]
    },
    {
     "data": {
      "application/vnd.jupyter.widget-view+json": {
       "model_id": "58646342733f49d3add27ec07c74f702",
       "version_major": 2,
       "version_minor": 0
      },
      "text/plain": [
       "HBox(children=(IntProgress(value=0, max=60000), HTML(value='')))"
      ]
     },
     "metadata": {},
     "output_type": "display_data"
    },
    {
     "name": "stdout",
     "output_type": "stream",
     "text": [
      "\n",
      "Train Accuracy: D[0.908] --> B[0.993] | MSE(D): 2.892496e-03\n",
      "Test Accuracy:  D[0.915] --> B[0.993] | MSE(D): 1.970778e-03\n",
      "\n",
      "..........\n",
      "Epoch 6:\n"
     ]
    },
    {
     "data": {
      "application/vnd.jupyter.widget-view+json": {
       "model_id": "cb44f66bb98941219f3e9f42cdcda64d",
       "version_major": 2,
       "version_minor": 0
      },
      "text/plain": [
       "HBox(children=(IntProgress(value=0, max=60000), HTML(value='')))"
      ]
     },
     "metadata": {},
     "output_type": "display_data"
    },
    {
     "name": "stdout",
     "output_type": "stream",
     "text": [
      "\n",
      "Train Accuracy: D[0.920] --> B[0.993] | MSE(D): 2.362169e-03\n",
      "Test Accuracy:  D[0.925] --> B[0.993] | MSE(D): 1.811306e-03\n",
      "\n",
      "..........\n",
      "Epoch 7:\n"
     ]
    },
    {
     "data": {
      "application/vnd.jupyter.widget-view+json": {
       "model_id": "df7227cf59584087a3458150d9e8e17a",
       "version_major": 2,
       "version_minor": 0
      },
      "text/plain": [
       "HBox(children=(IntProgress(value=0, max=60000), HTML(value='')))"
      ]
     },
     "metadata": {},
     "output_type": "display_data"
    },
    {
     "name": "stdout",
     "output_type": "stream",
     "text": [
      "\n",
      "Train Accuracy: D[0.929] --> B[0.993] | MSE(D): 1.965239e-03\n",
      "Test Accuracy:  D[0.933] --> B[0.993] | MSE(D): 1.707737e-03\n",
      "\n",
      "..........\n",
      "Epoch 8:\n"
     ]
    },
    {
     "data": {
      "application/vnd.jupyter.widget-view+json": {
       "model_id": "93260f62118b45bb82d7100b583a93a4",
       "version_major": 2,
       "version_minor": 0
      },
      "text/plain": [
       "HBox(children=(IntProgress(value=0, max=60000), HTML(value='')))"
      ]
     },
     "metadata": {},
     "output_type": "display_data"
    },
    {
     "name": "stdout",
     "output_type": "stream",
     "text": [
      "\n",
      "Train Accuracy: D[0.936] --> B[0.993] | MSE(D): 1.753707e-03\n",
      "Test Accuracy:  D[0.939] --> B[0.993] | MSE(D): 1.593517e-03\n",
      "\n",
      "..........\n",
      "Epoch 9:\n"
     ]
    },
    {
     "data": {
      "application/vnd.jupyter.widget-view+json": {
       "model_id": "daaad83a80964de8a9fb93c01f33b731",
       "version_major": 2,
       "version_minor": 0
      },
      "text/plain": [
       "HBox(children=(IntProgress(value=0, max=60000), HTML(value='')))"
      ]
     },
     "metadata": {},
     "output_type": "display_data"
    },
    {
     "name": "stdout",
     "output_type": "stream",
     "text": [
      "\n",
      "Train Accuracy: D[0.941] --> B[0.993] | MSE(D): 1.470708e-03\n",
      "Test Accuracy:  D[0.944] --> B[0.993] | MSE(D): 1.463277e-03\n",
      "\n",
      "..........\n",
      "Epoch 10:\n"
     ]
    },
    {
     "data": {
      "application/vnd.jupyter.widget-view+json": {
       "model_id": "88dc4d2c31974d1abac29ada6fee05dd",
       "version_major": 2,
       "version_minor": 0
      },
      "text/plain": [
       "HBox(children=(IntProgress(value=0, max=60000), HTML(value='')))"
      ]
     },
     "metadata": {},
     "output_type": "display_data"
    },
    {
     "name": "stdout",
     "output_type": "stream",
     "text": [
      "\n",
      "Train Accuracy: D[0.945] --> B[0.993] | MSE(D): 1.435856e-03\n",
      "Test Accuracy:  D[0.947] --> B[0.993] | MSE(D): 1.362661e-03\n",
      "\n",
      "..........\n",
      "Epoch 11:\n"
     ]
    },
    {
     "data": {
      "application/vnd.jupyter.widget-view+json": {
       "model_id": "2025a1c252b94efb92c5251fdf9d9891",
       "version_major": 2,
       "version_minor": 0
      },
      "text/plain": [
       "HBox(children=(IntProgress(value=0, max=60000), HTML(value='')))"
      ]
     },
     "metadata": {},
     "output_type": "display_data"
    },
    {
     "name": "stdout",
     "output_type": "stream",
     "text": [
      "\n",
      "Train Accuracy: D[0.949] --> B[0.993] | MSE(D): 1.237194e-03\n",
      "Test Accuracy:  D[0.951] --> B[0.993] | MSE(D): 1.415878e-03\n",
      "\n",
      "..........\n",
      "Epoch 12:\n"
     ]
    },
    {
     "data": {
      "application/vnd.jupyter.widget-view+json": {
       "model_id": "e78f04ae527449b28b1f160dbfc9a25f",
       "version_major": 2,
       "version_minor": 0
      },
      "text/plain": [
       "HBox(children=(IntProgress(value=0, max=60000), HTML(value='')))"
      ]
     },
     "metadata": {},
     "output_type": "display_data"
    },
    {
     "name": "stdout",
     "output_type": "stream",
     "text": [
      "\n",
      "Train Accuracy: D[0.952] --> B[0.993] | MSE(D): 1.225240e-03\n",
      "Test Accuracy:  D[0.953] --> B[0.993] | MSE(D): 1.460598e-03\n",
      "\n",
      "..........\n",
      "Epoch 13:\n"
     ]
    },
    {
     "data": {
      "application/vnd.jupyter.widget-view+json": {
       "model_id": "59711f58f432458dbdfc7ad52a538476",
       "version_major": 2,
       "version_minor": 0
      },
      "text/plain": [
       "HBox(children=(IntProgress(value=0, max=60000), HTML(value='')))"
      ]
     },
     "metadata": {},
     "output_type": "display_data"
    },
    {
     "name": "stdout",
     "output_type": "stream",
     "text": [
      "\n",
      "Train Accuracy: D[0.955] --> B[0.993] | MSE(D): 1.149765e-03\n",
      "Test Accuracy:  D[0.956] --> B[0.993] | MSE(D): 1.261029e-03\n",
      "\n",
      "..........\n",
      "Epoch 14:\n"
     ]
    },
    {
     "data": {
      "application/vnd.jupyter.widget-view+json": {
       "model_id": "e4eda6d01d6742d29fe435d655ac34fa",
       "version_major": 2,
       "version_minor": 0
      },
      "text/plain": [
       "HBox(children=(IntProgress(value=0, max=60000), HTML(value='')))"
      ]
     },
     "metadata": {},
     "output_type": "display_data"
    },
    {
     "name": "stdout",
     "output_type": "stream",
     "text": [
      "\n",
      "Train Accuracy: D[0.957] --> B[0.993] | MSE(D): 1.096784e-03\n",
      "Test Accuracy:  D[0.958] --> B[0.993] | MSE(D): 1.176854e-03\n",
      "\n",
      "..........\n",
      "Epoch 15:\n"
     ]
    },
    {
     "data": {
      "application/vnd.jupyter.widget-view+json": {
       "model_id": "83f4d6cbcb074488a76fda7e89152dd3",
       "version_major": 2,
       "version_minor": 0
      },
      "text/plain": [
       "HBox(children=(IntProgress(value=0, max=60000), HTML(value='')))"
      ]
     },
     "metadata": {},
     "output_type": "display_data"
    },
    {
     "name": "stdout",
     "output_type": "stream",
     "text": [
      "\n",
      "Train Accuracy: D[0.959] --> B[0.993] | MSE(D): 1.005857e-03\n",
      "Test Accuracy:  D[0.960] --> B[0.993] | MSE(D): 1.170120e-03\n",
      "\n",
      "..........\n",
      "Epoch 16:\n"
     ]
    },
    {
     "data": {
      "application/vnd.jupyter.widget-view+json": {
       "model_id": "f98aff5e004848bf8ac6f05306929946",
       "version_major": 2,
       "version_minor": 0
      },
      "text/plain": [
       "HBox(children=(IntProgress(value=0, max=60000), HTML(value='')))"
      ]
     },
     "metadata": {},
     "output_type": "display_data"
    },
    {
     "name": "stdout",
     "output_type": "stream",
     "text": [
      "\n",
      "Train Accuracy: D[0.960] --> B[0.993] | MSE(D): 9.604875e-04\n",
      "Test Accuracy:  D[0.961] --> B[0.993] | MSE(D): 1.145284e-03\n",
      "\n",
      "..........\n",
      "Epoch 17:\n"
     ]
    },
    {
     "data": {
      "application/vnd.jupyter.widget-view+json": {
       "model_id": "3db4d9c942df459193112c6ad9eabe6b",
       "version_major": 2,
       "version_minor": 0
      },
      "text/plain": [
       "HBox(children=(IntProgress(value=0, max=60000), HTML(value='')))"
      ]
     },
     "metadata": {},
     "output_type": "display_data"
    },
    {
     "name": "stdout",
     "output_type": "stream",
     "text": [
      "\n",
      "Train Accuracy: D[0.962] --> B[0.993] | MSE(D): 9.220648e-04\n",
      "Test Accuracy:  D[0.963] --> B[0.993] | MSE(D): 1.123081e-03\n",
      "\n",
      "..........\n",
      "Epoch 18:\n"
     ]
    },
    {
     "data": {
      "application/vnd.jupyter.widget-view+json": {
       "model_id": "3738743fca704979811757975ff5823f",
       "version_major": 2,
       "version_minor": 0
      },
      "text/plain": [
       "HBox(children=(IntProgress(value=0, max=60000), HTML(value='')))"
      ]
     },
     "metadata": {},
     "output_type": "display_data"
    },
    {
     "name": "stdout",
     "output_type": "stream",
     "text": [
      "\n",
      "Train Accuracy: D[0.964] --> B[0.993] | MSE(D): 8.985838e-04\n",
      "Test Accuracy:  D[0.964] --> B[0.993] | MSE(D): 1.092053e-03\n",
      "\n",
      "..........\n",
      "Epoch 19:\n"
     ]
    },
    {
     "data": {
      "application/vnd.jupyter.widget-view+json": {
       "model_id": "43cf7d6a2676439aa70653e1c2f99ee0",
       "version_major": 2,
       "version_minor": 0
      },
      "text/plain": [
       "HBox(children=(IntProgress(value=0, max=60000), HTML(value='')))"
      ]
     },
     "metadata": {},
     "output_type": "display_data"
    },
    {
     "name": "stdout",
     "output_type": "stream",
     "text": [
      "\n",
      "Train Accuracy: D[0.965] --> B[0.993] | MSE(D): 8.641587e-04\n",
      "Test Accuracy:  D[0.965] --> B[0.993] | MSE(D): 1.061983e-03\n",
      "\n",
      "..........\n",
      "Epoch 20:\n"
     ]
    },
    {
     "data": {
      "application/vnd.jupyter.widget-view+json": {
       "model_id": "e7a77d2c65ae4945a5bb79b96e910aea",
       "version_major": 2,
       "version_minor": 0
      },
      "text/plain": [
       "HBox(children=(IntProgress(value=0, max=60000), HTML(value='')))"
      ]
     },
     "metadata": {},
     "output_type": "display_data"
    },
    {
     "name": "stdout",
     "output_type": "stream",
     "text": [
      "\n",
      "Train Accuracy: D[0.966] --> B[0.993] | MSE(D): 8.216280e-04\n",
      "Test Accuracy:  D[0.966] --> B[0.993] | MSE(D): 1.058881e-03\n",
      "\n",
      "..........\n",
      "Epoch 21:\n"
     ]
    },
    {
     "data": {
      "application/vnd.jupyter.widget-view+json": {
       "model_id": "55c16b181b1c4f87be5058aed09d2913",
       "version_major": 2,
       "version_minor": 0
      },
      "text/plain": [
       "HBox(children=(IntProgress(value=0, max=60000), HTML(value='')))"
      ]
     },
     "metadata": {},
     "output_type": "display_data"
    },
    {
     "name": "stdout",
     "output_type": "stream",
     "text": [
      "\n",
      "Train Accuracy: D[0.967] --> B[0.993] | MSE(D): 8.291980e-04\n",
      "Test Accuracy:  D[0.967] --> B[0.993] | MSE(D): 1.007543e-03\n",
      "\n",
      "..........\n",
      "Epoch 22:\n"
     ]
    },
    {
     "data": {
      "application/vnd.jupyter.widget-view+json": {
       "model_id": "17c1c22d26ec49838fb5585f2db3ad7a",
       "version_major": 2,
       "version_minor": 0
      },
      "text/plain": [
       "HBox(children=(IntProgress(value=0, max=60000), HTML(value='')))"
      ]
     },
     "metadata": {},
     "output_type": "display_data"
    },
    {
     "name": "stdout",
     "output_type": "stream",
     "text": [
      "\n",
      "Train Accuracy: D[0.968] --> B[0.993] | MSE(D): 7.842855e-04\n",
      "Test Accuracy:  D[0.968] --> B[0.993] | MSE(D): 1.068751e-03\n",
      "\n",
      "..........\n",
      "Epoch 23:\n"
     ]
    },
    {
     "data": {
      "application/vnd.jupyter.widget-view+json": {
       "model_id": "58f03b5674804811a7cd063f17dfb3fa",
       "version_major": 2,
       "version_minor": 0
      },
      "text/plain": [
       "HBox(children=(IntProgress(value=0, max=60000), HTML(value='')))"
      ]
     },
     "metadata": {},
     "output_type": "display_data"
    },
    {
     "name": "stdout",
     "output_type": "stream",
     "text": [
      "\n",
      "Train Accuracy: D[0.969] --> B[0.993] | MSE(D): 7.258037e-04\n",
      "Test Accuracy:  D[0.969] --> B[0.993] | MSE(D): 9.961635e-04\n",
      "\n",
      "..........\n",
      "Epoch 24:\n"
     ]
    },
    {
     "data": {
      "application/vnd.jupyter.widget-view+json": {
       "model_id": "41a10928393a4d07b598277a0b34ea0f",
       "version_major": 2,
       "version_minor": 0
      },
      "text/plain": [
       "HBox(children=(IntProgress(value=0, max=60000), HTML(value='')))"
      ]
     },
     "metadata": {},
     "output_type": "display_data"
    },
    {
     "name": "stdout",
     "output_type": "stream",
     "text": [
      "\n",
      "Train Accuracy: D[0.970] --> B[0.993] | MSE(D): 7.307123e-04\n",
      "Test Accuracy:  D[0.970] --> B[0.993] | MSE(D): 1.117249e-03\n",
      "\n",
      "..........\n",
      "Epoch 25:\n"
     ]
    },
    {
     "data": {
      "application/vnd.jupyter.widget-view+json": {
       "model_id": "79fd3557f5134d8daa6ef6842cb57bde",
       "version_major": 2,
       "version_minor": 0
      },
      "text/plain": [
       "HBox(children=(IntProgress(value=0, max=60000), HTML(value='')))"
      ]
     },
     "metadata": {},
     "output_type": "display_data"
    },
    {
     "name": "stdout",
     "output_type": "stream",
     "text": [
      "\n",
      "Train Accuracy: D[0.970] --> B[0.993] | MSE(D): 7.016471e-04\n",
      "Test Accuracy:  D[0.971] --> B[0.993] | MSE(D): 9.925001e-04\n",
      "\n",
      "Saved weights for e25\n",
      "========================================\n",
      "INFO:tensorflow:Restoring parameters from ./discriminator_checkpoints/null\\discriminator_checkpoint.ckpt\n",
      "Reset graph to its initial state\n",
      "\n",
      "========================================\n",
      "Loading previous blackbox_e10 evaluation\n",
      "\n",
      "========================================\n",
      "Training on blackbox_e10\n",
      "..........\n",
      "Epoch 1:\n"
     ]
    },
    {
     "data": {
      "application/vnd.jupyter.widget-view+json": {
       "model_id": "ca2c54d9802c451a9a3d2bcc4727f24e",
       "version_major": 2,
       "version_minor": 0
      },
      "text/plain": [
       "HBox(children=(IntProgress(value=0, max=60000), HTML(value='')))"
      ]
     },
     "metadata": {},
     "output_type": "display_data"
    },
    {
     "name": "stdout",
     "output_type": "stream",
     "text": [
      "\n",
      "Train Accuracy: D[0.457] --> B[0.994] | MSE(D): 4.150490e-02\n",
      "Test Accuracy:  D[0.704] --> B[0.994] | MSE(D): 1.362414e-02\n",
      "\n",
      "..........\n",
      "Epoch 2:\n"
     ]
    },
    {
     "data": {
      "application/vnd.jupyter.widget-view+json": {
       "model_id": "3c7fa826be8243c391d5eff15b0ce31b",
       "version_major": 2,
       "version_minor": 0
      },
      "text/plain": [
       "HBox(children=(IntProgress(value=0, max=60000), HTML(value='')))"
      ]
     },
     "metadata": {},
     "output_type": "display_data"
    },
    {
     "name": "stdout",
     "output_type": "stream",
     "text": [
      "\n",
      "Train Accuracy: D[0.762] --> B[0.994] | MSE(D): 1.079207e-02\n",
      "Test Accuracy:  D[0.815] --> B[0.994] | MSE(D): 6.361840e-03\n",
      "\n",
      "..........\n",
      "Epoch 3:\n"
     ]
    },
    {
     "data": {
      "application/vnd.jupyter.widget-view+json": {
       "model_id": "c4ded4720c5b414e961adcca7ee9dd04",
       "version_major": 2,
       "version_minor": 0
      },
      "text/plain": [
       "HBox(children=(IntProgress(value=0, max=60000), HTML(value='')))"
      ]
     },
     "metadata": {},
     "output_type": "display_data"
    },
    {
     "name": "stdout",
     "output_type": "stream",
     "text": [
      "\n",
      "Train Accuracy: D[0.837] --> B[0.994] | MSE(D): 5.924108e-03\n",
      "Test Accuracy:  D[0.861] --> B[0.994] | MSE(D): 3.998979e-03\n",
      "\n",
      "..........\n",
      "Epoch 4:\n"
     ]
    },
    {
     "data": {
      "application/vnd.jupyter.widget-view+json": {
       "model_id": "9866b99ecb2247b4b60ae97285fb4582",
       "version_major": 2,
       "version_minor": 0
      },
      "text/plain": [
       "HBox(children=(IntProgress(value=0, max=60000), HTML(value='')))"
      ]
     },
     "metadata": {},
     "output_type": "display_data"
    },
    {
     "name": "stdout",
     "output_type": "stream",
     "text": [
      "\n",
      "Train Accuracy: D[0.873] --> B[0.994] | MSE(D): 4.156927e-03\n",
      "Test Accuracy:  D[0.887] --> B[0.994] | MSE(D): 3.190946e-03\n",
      "\n",
      "..........\n",
      "Epoch 5:\n"
     ]
    },
    {
     "data": {
      "application/vnd.jupyter.widget-view+json": {
       "model_id": "d34476434442428d9382fcd64a5df042",
       "version_major": 2,
       "version_minor": 0
      },
      "text/plain": [
       "HBox(children=(IntProgress(value=0, max=60000), HTML(value='')))"
      ]
     },
     "metadata": {},
     "output_type": "display_data"
    },
    {
     "name": "stdout",
     "output_type": "stream",
     "text": [
      "\n",
      "Train Accuracy: D[0.895] --> B[0.994] | MSE(D): 3.219570e-03\n",
      "Test Accuracy:  D[0.904] --> B[0.994] | MSE(D): 2.365913e-03\n",
      "\n",
      "..........\n",
      "Epoch 6:\n"
     ]
    },
    {
     "data": {
      "application/vnd.jupyter.widget-view+json": {
       "model_id": "cdefa1c7937449e2a8c20a05d9827554",
       "version_major": 2,
       "version_minor": 0
      },
      "text/plain": [
       "HBox(children=(IntProgress(value=0, max=60000), HTML(value='')))"
      ]
     },
     "metadata": {},
     "output_type": "display_data"
    },
    {
     "name": "stdout",
     "output_type": "stream",
     "text": [
      "\n",
      "Train Accuracy: D[0.909] --> B[0.994] | MSE(D): 2.613911e-03\n",
      "Test Accuracy:  D[0.916] --> B[0.994] | MSE(D): 2.409889e-03\n",
      "\n",
      "..........\n",
      "Epoch 7:\n"
     ]
    },
    {
     "data": {
      "application/vnd.jupyter.widget-view+json": {
       "model_id": "137f2de468b34600ac57cddedf440f39",
       "version_major": 2,
       "version_minor": 0
      },
      "text/plain": [
       "HBox(children=(IntProgress(value=0, max=60000), HTML(value='')))"
      ]
     },
     "metadata": {},
     "output_type": "display_data"
    },
    {
     "name": "stdout",
     "output_type": "stream",
     "text": [
      "\n",
      "Train Accuracy: D[0.920] --> B[0.994] | MSE(D): 2.339208e-03\n",
      "Test Accuracy:  D[0.924] --> B[0.994] | MSE(D): 2.042481e-03\n",
      "\n",
      "..........\n",
      "Epoch 8:\n"
     ]
    },
    {
     "data": {
      "application/vnd.jupyter.widget-view+json": {
       "model_id": "c51c5c03ea7b42a5a719fe6c841d98fb",
       "version_major": 2,
       "version_minor": 0
      },
      "text/plain": [
       "HBox(children=(IntProgress(value=0, max=60000), HTML(value='')))"
      ]
     },
     "metadata": {},
     "output_type": "display_data"
    },
    {
     "name": "stdout",
     "output_type": "stream",
     "text": [
      "\n",
      "Train Accuracy: D[0.927] --> B[0.994] | MSE(D): 2.012961e-03\n",
      "Test Accuracy:  D[0.931] --> B[0.994] | MSE(D): 1.556906e-03\n",
      "\n",
      "..........\n",
      "Epoch 9:\n"
     ]
    },
    {
     "data": {
      "application/vnd.jupyter.widget-view+json": {
       "model_id": "4933d04ae5814f8eb70d626553ba840d",
       "version_major": 2,
       "version_minor": 0
      },
      "text/plain": [
       "HBox(children=(IntProgress(value=0, max=60000), HTML(value='')))"
      ]
     },
     "metadata": {},
     "output_type": "display_data"
    },
    {
     "name": "stdout",
     "output_type": "stream",
     "text": [
      "\n",
      "Train Accuracy: D[0.933] --> B[0.994] | MSE(D): 1.833021e-03\n",
      "Test Accuracy:  D[0.936] --> B[0.994] | MSE(D): 1.665183e-03\n",
      "\n",
      "..........\n",
      "Epoch 10:\n"
     ]
    },
    {
     "data": {
      "application/vnd.jupyter.widget-view+json": {
       "model_id": "76484342bac54b9599eaa674fe02aebe",
       "version_major": 2,
       "version_minor": 0
      },
      "text/plain": [
       "HBox(children=(IntProgress(value=0, max=60000), HTML(value='')))"
      ]
     },
     "metadata": {},
     "output_type": "display_data"
    },
    {
     "name": "stdout",
     "output_type": "stream",
     "text": [
      "\n",
      "Train Accuracy: D[0.938] --> B[0.994] | MSE(D): 1.648388e-03\n",
      "Test Accuracy:  D[0.941] --> B[0.994] | MSE(D): 1.627786e-03\n",
      "\n",
      "..........\n",
      "Epoch 11:\n"
     ]
    },
    {
     "data": {
      "application/vnd.jupyter.widget-view+json": {
       "model_id": "e980cc3e75f045c5a097d180ddc29f6e",
       "version_major": 2,
       "version_minor": 0
      },
      "text/plain": [
       "HBox(children=(IntProgress(value=0, max=60000), HTML(value='')))"
      ]
     },
     "metadata": {},
     "output_type": "display_data"
    },
    {
     "name": "stdout",
     "output_type": "stream",
     "text": [
      "\n",
      "Train Accuracy: D[0.943] --> B[0.994] | MSE(D): 1.429990e-03\n",
      "Test Accuracy:  D[0.945] --> B[0.994] | MSE(D): 1.567098e-03\n",
      "\n",
      "..........\n",
      "Epoch 12:\n"
     ]
    },
    {
     "data": {
      "application/vnd.jupyter.widget-view+json": {
       "model_id": "08b1a1e434d54737a4a656695392af78",
       "version_major": 2,
       "version_minor": 0
      },
      "text/plain": [
       "HBox(children=(IntProgress(value=0, max=60000), HTML(value='')))"
      ]
     },
     "metadata": {},
     "output_type": "display_data"
    },
    {
     "name": "stdout",
     "output_type": "stream",
     "text": [
      "\n",
      "Train Accuracy: D[0.946] --> B[0.994] | MSE(D): 1.399160e-03\n",
      "Test Accuracy:  D[0.948] --> B[0.994] | MSE(D): 1.418842e-03\n",
      "\n",
      "..........\n",
      "Epoch 13:\n"
     ]
    },
    {
     "data": {
      "application/vnd.jupyter.widget-view+json": {
       "model_id": "89123a44c54b4fd1aaa8f2194ff0fbf2",
       "version_major": 2,
       "version_minor": 0
      },
      "text/plain": [
       "HBox(children=(IntProgress(value=0, max=60000), HTML(value='')))"
      ]
     },
     "metadata": {},
     "output_type": "display_data"
    },
    {
     "name": "stdout",
     "output_type": "stream",
     "text": [
      "\n",
      "Train Accuracy: D[0.949] --> B[0.994] | MSE(D): 1.284330e-03\n",
      "Test Accuracy:  D[0.951] --> B[0.994] | MSE(D): 1.485038e-03\n",
      "\n",
      "..........\n",
      "Epoch 14:\n"
     ]
    },
    {
     "data": {
      "application/vnd.jupyter.widget-view+json": {
       "model_id": "bc38fe3b0b344bf5a60489eed918185c",
       "version_major": 2,
       "version_minor": 0
      },
      "text/plain": [
       "HBox(children=(IntProgress(value=0, max=60000), HTML(value='')))"
      ]
     },
     "metadata": {},
     "output_type": "display_data"
    },
    {
     "name": "stdout",
     "output_type": "stream",
     "text": [
      "\n",
      "Train Accuracy: D[0.952] --> B[0.994] | MSE(D): 1.135988e-03\n",
      "Test Accuracy:  D[0.953] --> B[0.994] | MSE(D): 1.301156e-03\n",
      "\n",
      "..........\n",
      "Epoch 15:\n"
     ]
    },
    {
     "data": {
      "application/vnd.jupyter.widget-view+json": {
       "model_id": "74b11e9494284b71b53cdfdaaea95845",
       "version_major": 2,
       "version_minor": 0
      },
      "text/plain": [
       "HBox(children=(IntProgress(value=0, max=60000), HTML(value='')))"
      ]
     },
     "metadata": {},
     "output_type": "display_data"
    },
    {
     "name": "stdout",
     "output_type": "stream",
     "text": [
      "\n",
      "Train Accuracy: D[0.954] --> B[0.994] | MSE(D): 1.056141e-03\n",
      "Test Accuracy:  D[0.955] --> B[0.994] | MSE(D): 1.487659e-03\n",
      "\n",
      "..........\n",
      "Epoch 16:\n"
     ]
    },
    {
     "data": {
      "application/vnd.jupyter.widget-view+json": {
       "model_id": "ea7fb90e850a4d63a997b49e423a2282",
       "version_major": 2,
       "version_minor": 0
      },
      "text/plain": [
       "HBox(children=(IntProgress(value=0, max=60000), HTML(value='')))"
      ]
     },
     "metadata": {},
     "output_type": "display_data"
    },
    {
     "name": "stdout",
     "output_type": "stream",
     "text": [
      "\n",
      "Train Accuracy: D[0.956] --> B[0.994] | MSE(D): 1.058335e-03\n",
      "Test Accuracy:  D[0.957] --> B[0.994] | MSE(D): 1.207034e-03\n",
      "\n",
      "..........\n",
      "Epoch 17:\n"
     ]
    },
    {
     "data": {
      "application/vnd.jupyter.widget-view+json": {
       "model_id": "bd32ac59af424fa6a16a632ba136675d",
       "version_major": 2,
       "version_minor": 0
      },
      "text/plain": [
       "HBox(children=(IntProgress(value=0, max=60000), HTML(value='')))"
      ]
     },
     "metadata": {},
     "output_type": "display_data"
    },
    {
     "name": "stdout",
     "output_type": "stream",
     "text": [
      "\n",
      "Train Accuracy: D[0.958] --> B[0.994] | MSE(D): 1.030361e-03\n",
      "Test Accuracy:  D[0.959] --> B[0.994] | MSE(D): 1.177419e-03\n",
      "\n",
      "..........\n",
      "Epoch 18:\n"
     ]
    },
    {
     "data": {
      "application/vnd.jupyter.widget-view+json": {
       "model_id": "d1f554fd04a14257917c7c96b3d87baa",
       "version_major": 2,
       "version_minor": 0
      },
      "text/plain": [
       "HBox(children=(IntProgress(value=0, max=60000), HTML(value='')))"
      ]
     },
     "metadata": {},
     "output_type": "display_data"
    },
    {
     "name": "stdout",
     "output_type": "stream",
     "text": [
      "\n",
      "Train Accuracy: D[0.960] --> B[0.994] | MSE(D): 1.029487e-03\n",
      "Test Accuracy:  D[0.960] --> B[0.994] | MSE(D): 1.136309e-03\n",
      "\n",
      "..........\n",
      "Epoch 19:\n"
     ]
    },
    {
     "data": {
      "application/vnd.jupyter.widget-view+json": {
       "model_id": "5d9a3a041dc94e62b007119ec4ac40a4",
       "version_major": 2,
       "version_minor": 0
      },
      "text/plain": [
       "HBox(children=(IntProgress(value=0, max=60000), HTML(value='')))"
      ]
     },
     "metadata": {},
     "output_type": "display_data"
    },
    {
     "name": "stdout",
     "output_type": "stream",
     "text": [
      "\n",
      "Train Accuracy: D[0.961] --> B[0.994] | MSE(D): 9.113664e-04\n",
      "Test Accuracy:  D[0.962] --> B[0.994] | MSE(D): 1.214088e-03\n",
      "\n",
      "..........\n",
      "Epoch 20:\n"
     ]
    },
    {
     "data": {
      "application/vnd.jupyter.widget-view+json": {
       "model_id": "f31324fc0378483683d3cfa3449b793b",
       "version_major": 2,
       "version_minor": 0
      },
      "text/plain": [
       "HBox(children=(IntProgress(value=0, max=60000), HTML(value='')))"
      ]
     },
     "metadata": {},
     "output_type": "display_data"
    },
    {
     "name": "stdout",
     "output_type": "stream",
     "text": [
      "\n",
      "Train Accuracy: D[0.962] --> B[0.994] | MSE(D): 8.488412e-04\n",
      "Test Accuracy:  D[0.963] --> B[0.994] | MSE(D): 1.224537e-03\n",
      "\n",
      "..........\n",
      "Epoch 21:\n"
     ]
    },
    {
     "data": {
      "application/vnd.jupyter.widget-view+json": {
       "model_id": "8bd01a7192174660b2b2092abe51ff1b",
       "version_major": 2,
       "version_minor": 0
      },
      "text/plain": [
       "HBox(children=(IntProgress(value=0, max=60000), HTML(value='')))"
      ]
     },
     "metadata": {},
     "output_type": "display_data"
    },
    {
     "name": "stdout",
     "output_type": "stream",
     "text": [
      "\n",
      "Train Accuracy: D[0.964] --> B[0.994] | MSE(D): 8.700634e-04\n",
      "Test Accuracy:  D[0.964] --> B[0.994] | MSE(D): 1.142406e-03\n",
      "\n",
      "..........\n",
      "Epoch 22:\n"
     ]
    },
    {
     "data": {
      "application/vnd.jupyter.widget-view+json": {
       "model_id": "82585231c15749ad9475275a70119ce8",
       "version_major": 2,
       "version_minor": 0
      },
      "text/plain": [
       "HBox(children=(IntProgress(value=0, max=60000), HTML(value='')))"
      ]
     },
     "metadata": {},
     "output_type": "display_data"
    },
    {
     "name": "stdout",
     "output_type": "stream",
     "text": [
      "\n",
      "Train Accuracy: D[0.965] --> B[0.994] | MSE(D): 8.397700e-04\n",
      "Test Accuracy:  D[0.965] --> B[0.994] | MSE(D): 1.161953e-03\n",
      "\n",
      "..........\n",
      "Epoch 23:\n"
     ]
    },
    {
     "data": {
      "application/vnd.jupyter.widget-view+json": {
       "model_id": "1b330750c7fa460ba1b8b4d1f59d2cd9",
       "version_major": 2,
       "version_minor": 0
      },
      "text/plain": [
       "HBox(children=(IntProgress(value=0, max=60000), HTML(value='')))"
      ]
     },
     "metadata": {},
     "output_type": "display_data"
    },
    {
     "name": "stdout",
     "output_type": "stream",
     "text": [
      "\n",
      "Train Accuracy: D[0.966] --> B[0.994] | MSE(D): 8.618981e-04\n",
      "Test Accuracy:  D[0.966] --> B[0.994] | MSE(D): 1.103692e-03\n",
      "\n",
      "..........\n",
      "Epoch 24:\n"
     ]
    },
    {
     "data": {
      "application/vnd.jupyter.widget-view+json": {
       "model_id": "f516c90e655c4f32909d39708860a3ff",
       "version_major": 2,
       "version_minor": 0
      },
      "text/plain": [
       "HBox(children=(IntProgress(value=0, max=60000), HTML(value='')))"
      ]
     },
     "metadata": {},
     "output_type": "display_data"
    },
    {
     "name": "stdout",
     "output_type": "stream",
     "text": [
      "\n",
      "Train Accuracy: D[0.967] --> B[0.994] | MSE(D): 7.821466e-04\n",
      "Test Accuracy:  D[0.967] --> B[0.994] | MSE(D): 1.052647e-03\n",
      "\n",
      "..........\n",
      "Epoch 25:\n"
     ]
    },
    {
     "data": {
      "application/vnd.jupyter.widget-view+json": {
       "model_id": "8c4c6c3d36b74367b8a0be3e813c32c0",
       "version_major": 2,
       "version_minor": 0
      },
      "text/plain": [
       "HBox(children=(IntProgress(value=0, max=60000), HTML(value='')))"
      ]
     },
     "metadata": {},
     "output_type": "display_data"
    },
    {
     "name": "stdout",
     "output_type": "stream",
     "text": [
      "\n",
      "Train Accuracy: D[0.968] --> B[0.994] | MSE(D): 7.695275e-04\n",
      "Test Accuracy:  D[0.968] --> B[0.994] | MSE(D): 1.111826e-03\n",
      "\n",
      "Saved weights for e25\n",
      "========================================\n",
      "INFO:tensorflow:Restoring parameters from ./discriminator_checkpoints/null\\discriminator_checkpoint.ckpt\n",
      "Reset graph to its initial state\n",
      "\n",
      "========================================\n",
      "Loading previous blackbox_e11 evaluation\n",
      "\n",
      "========================================\n",
      "Training on blackbox_e11\n",
      "..........\n",
      "Epoch 1:\n"
     ]
    },
    {
     "data": {
      "application/vnd.jupyter.widget-view+json": {
       "model_id": "8bc11f7e24494e70afe35a8caea35ff8",
       "version_major": 2,
       "version_minor": 0
      },
      "text/plain": [
       "HBox(children=(IntProgress(value=0, max=60000), HTML(value='')))"
      ]
     },
     "metadata": {},
     "output_type": "display_data"
    },
    {
     "name": "stdout",
     "output_type": "stream",
     "text": [
      "\n",
      "Train Accuracy: D[0.525] --> B[0.995] | MSE(D): 3.821934e-02\n",
      "Test Accuracy:  D[0.738] --> B[0.994] | MSE(D): 1.339108e-02\n",
      "\n",
      "..........\n",
      "Epoch 2:\n"
     ]
    },
    {
     "data": {
      "application/vnd.jupyter.widget-view+json": {
       "model_id": "c7e99557d2594f718e821ebda54c5bf6",
       "version_major": 2,
       "version_minor": 0
      },
      "text/plain": [
       "HBox(children=(IntProgress(value=0, max=60000), HTML(value='')))"
      ]
     },
     "metadata": {},
     "output_type": "display_data"
    },
    {
     "name": "stdout",
     "output_type": "stream",
     "text": [
      "\n",
      "Train Accuracy: D[0.787] --> B[0.994] | MSE(D): 1.032595e-02\n",
      "Test Accuracy:  D[0.833] --> B[0.994] | MSE(D): 6.160298e-03\n",
      "\n",
      "..........\n",
      "Epoch 3:\n"
     ]
    },
    {
     "data": {
      "application/vnd.jupyter.widget-view+json": {
       "model_id": "0d9d07195e744dae8eff4df6429c1edb",
       "version_major": 2,
       "version_minor": 0
      },
      "text/plain": [
       "HBox(children=(IntProgress(value=0, max=60000), HTML(value='')))"
      ]
     },
     "metadata": {},
     "output_type": "display_data"
    },
    {
     "name": "stdout",
     "output_type": "stream",
     "text": [
      "\n",
      "Train Accuracy: D[0.853] --> B[0.994] | MSE(D): 5.459282e-03\n",
      "Test Accuracy:  D[0.874] --> B[0.994] | MSE(D): 3.763187e-03\n",
      "\n",
      "..........\n",
      "Epoch 4:\n"
     ]
    },
    {
     "data": {
      "application/vnd.jupyter.widget-view+json": {
       "model_id": "8f5c88670aef4fc1926a6500d51e6ef4",
       "version_major": 2,
       "version_minor": 0
      },
      "text/plain": [
       "HBox(children=(IntProgress(value=0, max=60000), HTML(value='')))"
      ]
     },
     "metadata": {},
     "output_type": "display_data"
    },
    {
     "name": "stdout",
     "output_type": "stream",
     "text": [
      "\n",
      "Train Accuracy: D[0.885] --> B[0.994] | MSE(D): 3.977753e-03\n",
      "Test Accuracy:  D[0.897] --> B[0.994] | MSE(D): 2.931543e-03\n",
      "\n",
      "..........\n",
      "Epoch 5:\n"
     ]
    },
    {
     "data": {
      "application/vnd.jupyter.widget-view+json": {
       "model_id": "887197bd97e24a3795b2e4fe7062723f",
       "version_major": 2,
       "version_minor": 0
      },
      "text/plain": [
       "HBox(children=(IntProgress(value=0, max=60000), HTML(value='')))"
      ]
     },
     "metadata": {},
     "output_type": "display_data"
    },
    {
     "name": "stdout",
     "output_type": "stream",
     "text": [
      "\n",
      "Train Accuracy: D[0.904] --> B[0.994] | MSE(D): 3.022483e-03\n",
      "Test Accuracy:  D[0.913] --> B[0.994] | MSE(D): 2.402644e-03\n",
      "\n",
      "..........\n",
      "Epoch 6:\n"
     ]
    },
    {
     "data": {
      "application/vnd.jupyter.widget-view+json": {
       "model_id": "cb44503d3ba34eeeb2fc67f9844a3615",
       "version_major": 2,
       "version_minor": 0
      },
      "text/plain": [
       "HBox(children=(IntProgress(value=0, max=60000), HTML(value='')))"
      ]
     },
     "metadata": {},
     "output_type": "display_data"
    },
    {
     "name": "stdout",
     "output_type": "stream",
     "text": [
      "\n",
      "Train Accuracy: D[0.917] --> B[0.994] | MSE(D): 2.678525e-03\n",
      "Test Accuracy:  D[0.923] --> B[0.994] | MSE(D): 1.978623e-03\n",
      "\n",
      "..........\n",
      "Epoch 7:\n"
     ]
    },
    {
     "data": {
      "application/vnd.jupyter.widget-view+json": {
       "model_id": "71eef3ebead0419daeb1d706f5b5611e",
       "version_major": 2,
       "version_minor": 0
      },
      "text/plain": [
       "HBox(children=(IntProgress(value=0, max=60000), HTML(value='')))"
      ]
     },
     "metadata": {},
     "output_type": "display_data"
    },
    {
     "name": "stdout",
     "output_type": "stream",
     "text": [
      "\n",
      "Train Accuracy: D[0.926] --> B[0.994] | MSE(D): 2.119116e-03\n",
      "Test Accuracy:  D[0.931] --> B[0.994] | MSE(D): 1.653618e-03\n",
      "\n",
      "..........\n",
      "Epoch 8:\n"
     ]
    },
    {
     "data": {
      "application/vnd.jupyter.widget-view+json": {
       "model_id": "d3c3ea6a87bd4cf8b7deab0ba2e5a674",
       "version_major": 2,
       "version_minor": 0
      },
      "text/plain": [
       "HBox(children=(IntProgress(value=0, max=60000), HTML(value='')))"
      ]
     },
     "metadata": {},
     "output_type": "display_data"
    },
    {
     "name": "stdout",
     "output_type": "stream",
     "text": [
      "\n",
      "Train Accuracy: D[0.934] --> B[0.994] | MSE(D): 1.872954e-03\n",
      "Test Accuracy:  D[0.937] --> B[0.994] | MSE(D): 1.763618e-03\n",
      "\n",
      "..........\n",
      "Epoch 9:\n"
     ]
    },
    {
     "data": {
      "application/vnd.jupyter.widget-view+json": {
       "model_id": "032bfc3be8bc45618d0e2c9be2767507",
       "version_major": 2,
       "version_minor": 0
      },
      "text/plain": [
       "HBox(children=(IntProgress(value=0, max=60000), HTML(value='')))"
      ]
     },
     "metadata": {},
     "output_type": "display_data"
    },
    {
     "name": "stdout",
     "output_type": "stream",
     "text": [
      "\n",
      "Train Accuracy: D[0.939] --> B[0.994] | MSE(D): 1.734909e-03\n",
      "Test Accuracy:  D[0.942] --> B[0.994] | MSE(D): 1.597150e-03\n",
      "\n",
      "..........\n",
      "Epoch 10:\n"
     ]
    },
    {
     "data": {
      "application/vnd.jupyter.widget-view+json": {
       "model_id": "a7e2f8062a4b41d3b5f08c94377f7fb4",
       "version_major": 2,
       "version_minor": 0
      },
      "text/plain": [
       "HBox(children=(IntProgress(value=0, max=60000), HTML(value='')))"
      ]
     },
     "metadata": {},
     "output_type": "display_data"
    },
    {
     "name": "stdout",
     "output_type": "stream",
     "text": [
      "\n",
      "Train Accuracy: D[0.944] --> B[0.994] | MSE(D): 1.463577e-03\n",
      "Test Accuracy:  D[0.946] --> B[0.994] | MSE(D): 1.698703e-03\n",
      "\n",
      "..........\n",
      "Epoch 11:\n"
     ]
    },
    {
     "data": {
      "application/vnd.jupyter.widget-view+json": {
       "model_id": "3e129d6d8948417ea61ee4d3bb0203a2",
       "version_major": 2,
       "version_minor": 0
      },
      "text/plain": [
       "HBox(children=(IntProgress(value=0, max=60000), HTML(value='')))"
      ]
     },
     "metadata": {},
     "output_type": "display_data"
    },
    {
     "name": "stdout",
     "output_type": "stream",
     "text": [
      "\n",
      "Train Accuracy: D[0.948] --> B[0.994] | MSE(D): 1.359795e-03\n",
      "Test Accuracy:  D[0.949] --> B[0.994] | MSE(D): 1.453774e-03\n",
      "\n",
      "..........\n",
      "Epoch 12:\n"
     ]
    },
    {
     "data": {
      "application/vnd.jupyter.widget-view+json": {
       "model_id": "d6ae686f61f74f3a9df0ffb5380031b3",
       "version_major": 2,
       "version_minor": 0
      },
      "text/plain": [
       "HBox(children=(IntProgress(value=0, max=60000), HTML(value='')))"
      ]
     },
     "metadata": {},
     "output_type": "display_data"
    },
    {
     "name": "stdout",
     "output_type": "stream",
     "text": [
      "\n",
      "Train Accuracy: D[0.951] --> B[0.994] | MSE(D): 1.356579e-03\n",
      "Test Accuracy:  D[0.952] --> B[0.994] | MSE(D): 1.429622e-03\n",
      "\n",
      "..........\n",
      "Epoch 13:\n"
     ]
    },
    {
     "data": {
      "application/vnd.jupyter.widget-view+json": {
       "model_id": "744b572604ad4c6f9cc709466ebc960f",
       "version_major": 2,
       "version_minor": 0
      },
      "text/plain": [
       "HBox(children=(IntProgress(value=0, max=60000), HTML(value='')))"
      ]
     },
     "metadata": {},
     "output_type": "display_data"
    },
    {
     "name": "stdout",
     "output_type": "stream",
     "text": [
      "\n",
      "Train Accuracy: D[0.953] --> B[0.994] | MSE(D): 1.237023e-03\n",
      "Test Accuracy:  D[0.955] --> B[0.994] | MSE(D): 1.360117e-03\n",
      "\n",
      "..........\n",
      "Epoch 14:\n"
     ]
    },
    {
     "data": {
      "application/vnd.jupyter.widget-view+json": {
       "model_id": "afe247269f85452c89557fce35775d0b",
       "version_major": 2,
       "version_minor": 0
      },
      "text/plain": [
       "HBox(children=(IntProgress(value=0, max=60000), HTML(value='')))"
      ]
     },
     "metadata": {},
     "output_type": "display_data"
    },
    {
     "name": "stdout",
     "output_type": "stream",
     "text": [
      "\n",
      "Train Accuracy: D[0.956] --> B[0.994] | MSE(D): 1.132182e-03\n",
      "Test Accuracy:  D[0.957] --> B[0.994] | MSE(D): 1.398928e-03\n",
      "\n",
      "..........\n",
      "Epoch 15:\n"
     ]
    },
    {
     "data": {
      "application/vnd.jupyter.widget-view+json": {
       "model_id": "6bdb26112d17404abe683789834f72a1",
       "version_major": 2,
       "version_minor": 0
      },
      "text/plain": [
       "HBox(children=(IntProgress(value=0, max=60000), HTML(value='')))"
      ]
     },
     "metadata": {},
     "output_type": "display_data"
    },
    {
     "name": "stdout",
     "output_type": "stream",
     "text": [
      "\n",
      "Train Accuracy: D[0.958] --> B[0.994] | MSE(D): 1.049742e-03\n",
      "Test Accuracy:  D[0.959] --> B[0.994] | MSE(D): 1.196256e-03\n",
      "\n",
      "..........\n",
      "Epoch 16:\n"
     ]
    },
    {
     "data": {
      "application/vnd.jupyter.widget-view+json": {
       "model_id": "78ed211a496d48abb2914df59640d50a",
       "version_major": 2,
       "version_minor": 0
      },
      "text/plain": [
       "HBox(children=(IntProgress(value=0, max=60000), HTML(value='')))"
      ]
     },
     "metadata": {},
     "output_type": "display_data"
    },
    {
     "name": "stdout",
     "output_type": "stream",
     "text": [
      "\n",
      "Train Accuracy: D[0.960] --> B[0.994] | MSE(D): 1.031474e-03\n",
      "Test Accuracy:  D[0.961] --> B[0.994] | MSE(D): 1.168676e-03\n",
      "\n",
      "..........\n",
      "Epoch 17:\n"
     ]
    },
    {
     "data": {
      "application/vnd.jupyter.widget-view+json": {
       "model_id": "250e840d82904488ab72ceb8890c1c0d",
       "version_major": 2,
       "version_minor": 0
      },
      "text/plain": [
       "HBox(children=(IntProgress(value=0, max=60000), HTML(value='')))"
      ]
     },
     "metadata": {},
     "output_type": "display_data"
    },
    {
     "name": "stdout",
     "output_type": "stream",
     "text": [
      "\n",
      "Train Accuracy: D[0.961] --> B[0.994] | MSE(D): 9.949406e-04\n",
      "Test Accuracy:  D[0.962] --> B[0.994] | MSE(D): 1.255940e-03\n",
      "\n",
      "..........\n",
      "Epoch 18:\n"
     ]
    },
    {
     "data": {
      "application/vnd.jupyter.widget-view+json": {
       "model_id": "89b25f97c0d144cfbec8c7b3c800d0ba",
       "version_major": 2,
       "version_minor": 0
      },
      "text/plain": [
       "HBox(children=(IntProgress(value=0, max=60000), HTML(value='')))"
      ]
     },
     "metadata": {},
     "output_type": "display_data"
    },
    {
     "name": "stdout",
     "output_type": "stream",
     "text": [
      "\n",
      "Train Accuracy: D[0.963] --> B[0.994] | MSE(D): 9.700413e-04\n",
      "Test Accuracy:  D[0.964] --> B[0.994] | MSE(D): 1.240554e-03\n",
      "\n",
      "..........\n",
      "Epoch 19:\n"
     ]
    },
    {
     "data": {
      "application/vnd.jupyter.widget-view+json": {
       "model_id": "21709a017dc644968203a15983a0269a",
       "version_major": 2,
       "version_minor": 0
      },
      "text/plain": [
       "HBox(children=(IntProgress(value=0, max=60000), HTML(value='')))"
      ]
     },
     "metadata": {},
     "output_type": "display_data"
    },
    {
     "name": "stdout",
     "output_type": "stream",
     "text": [
      "\n",
      "Train Accuracy: D[0.964] --> B[0.994] | MSE(D): 8.954569e-04\n",
      "Test Accuracy:  D[0.965] --> B[0.994] | MSE(D): 1.299400e-03\n",
      "\n",
      "..........\n",
      "Epoch 20:\n"
     ]
    },
    {
     "data": {
      "application/vnd.jupyter.widget-view+json": {
       "model_id": "1bf45ec63f834411a1485590e71ac19e",
       "version_major": 2,
       "version_minor": 0
      },
      "text/plain": [
       "HBox(children=(IntProgress(value=0, max=60000), HTML(value='')))"
      ]
     },
     "metadata": {},
     "output_type": "display_data"
    },
    {
     "name": "stdout",
     "output_type": "stream",
     "text": [
      "\n",
      "Train Accuracy: D[0.965] --> B[0.994] | MSE(D): 8.408081e-04\n",
      "Test Accuracy:  D[0.966] --> B[0.994] | MSE(D): 1.183089e-03\n",
      "\n",
      "..........\n",
      "Epoch 21:\n"
     ]
    },
    {
     "data": {
      "application/vnd.jupyter.widget-view+json": {
       "model_id": "8e2387bf740b42949558fd2beeb04f1a",
       "version_major": 2,
       "version_minor": 0
      },
      "text/plain": [
       "HBox(children=(IntProgress(value=0, max=60000), HTML(value='')))"
      ]
     },
     "metadata": {},
     "output_type": "display_data"
    },
    {
     "name": "stdout",
     "output_type": "stream",
     "text": [
      "\n",
      "Train Accuracy: D[0.966] --> B[0.994] | MSE(D): 8.290138e-04\n",
      "Test Accuracy:  D[0.967] --> B[0.994] | MSE(D): 1.211186e-03\n",
      "\n",
      "..........\n",
      "Epoch 22:\n"
     ]
    },
    {
     "data": {
      "application/vnd.jupyter.widget-view+json": {
       "model_id": "be81d2675d7147d49793cdbcade39988",
       "version_major": 2,
       "version_minor": 0
      },
      "text/plain": [
       "HBox(children=(IntProgress(value=0, max=60000), HTML(value='')))"
      ]
     },
     "metadata": {},
     "output_type": "display_data"
    },
    {
     "name": "stdout",
     "output_type": "stream",
     "text": [
      "\n",
      "Train Accuracy: D[0.967] --> B[0.994] | MSE(D): 8.136953e-04\n",
      "Test Accuracy:  D[0.968] --> B[0.994] | MSE(D): 1.202267e-03\n",
      "\n",
      "..........\n",
      "Epoch 23:\n"
     ]
    },
    {
     "data": {
      "application/vnd.jupyter.widget-view+json": {
       "model_id": "4d2adf24de774506900448577ac56cd7",
       "version_major": 2,
       "version_minor": 0
      },
      "text/plain": [
       "HBox(children=(IntProgress(value=0, max=60000), HTML(value='')))"
      ]
     },
     "metadata": {},
     "output_type": "display_data"
    },
    {
     "name": "stdout",
     "output_type": "stream",
     "text": [
      "\n",
      "Train Accuracy: D[0.968] --> B[0.994] | MSE(D): 8.307319e-04\n",
      "Test Accuracy:  D[0.969] --> B[0.994] | MSE(D): 1.194011e-03\n",
      "\n",
      "..........\n",
      "Epoch 24:\n"
     ]
    },
    {
     "data": {
      "application/vnd.jupyter.widget-view+json": {
       "model_id": "a2f17c6e2177487c8f6d72156583fd7a",
       "version_major": 2,
       "version_minor": 0
      },
      "text/plain": [
       "HBox(children=(IntProgress(value=0, max=60000), HTML(value='')))"
      ]
     },
     "metadata": {},
     "output_type": "display_data"
    },
    {
     "name": "stdout",
     "output_type": "stream",
     "text": [
      "\n",
      "Train Accuracy: D[0.969] --> B[0.994] | MSE(D): 8.112417e-04\n",
      "Test Accuracy:  D[0.970] --> B[0.994] | MSE(D): 1.108030e-03\n",
      "\n",
      "..........\n",
      "Epoch 25:\n"
     ]
    },
    {
     "data": {
      "application/vnd.jupyter.widget-view+json": {
       "model_id": "b94bc92c96bb4e1ab94acb27a319c9e9",
       "version_major": 2,
       "version_minor": 0
      },
      "text/plain": [
       "HBox(children=(IntProgress(value=0, max=60000), HTML(value='')))"
      ]
     },
     "metadata": {},
     "output_type": "display_data"
    },
    {
     "name": "stdout",
     "output_type": "stream",
     "text": [
      "\n",
      "Train Accuracy: D[0.970] --> B[0.994] | MSE(D): 7.209349e-04\n",
      "Test Accuracy:  D[0.970] --> B[0.994] | MSE(D): 1.149770e-03\n",
      "\n",
      "Saved weights for e25\n",
      "========================================\n",
      "INFO:tensorflow:Restoring parameters from ./discriminator_checkpoints/null\\discriminator_checkpoint.ckpt\n",
      "Reset graph to its initial state\n",
      "\n",
      "========================================\n",
      "Loading previous blackbox_e12 evaluation\n",
      "\n",
      "========================================\n",
      "Training on blackbox_e12\n",
      "..........\n",
      "Epoch 1:\n"
     ]
    },
    {
     "data": {
      "application/vnd.jupyter.widget-view+json": {
       "model_id": "e9acd37a04074c50aaee265e903e0b7b",
       "version_major": 2,
       "version_minor": 0
      },
      "text/plain": [
       "HBox(children=(IntProgress(value=0, max=60000), HTML(value='')))"
      ]
     },
     "metadata": {},
     "output_type": "display_data"
    },
    {
     "name": "stdout",
     "output_type": "stream",
     "text": [
      "\n",
      "Train Accuracy: D[0.446] --> B[0.995] | MSE(D): 4.485829e-02\n",
      "Test Accuracy:  D[0.687] --> B[0.995] | MSE(D): 1.544630e-02\n",
      "\n",
      "..........\n",
      "Epoch 2:\n"
     ]
    },
    {
     "data": {
      "application/vnd.jupyter.widget-view+json": {
       "model_id": "1f60b29398e14890aa8512c831779d6f",
       "version_major": 2,
       "version_minor": 0
      },
      "text/plain": [
       "HBox(children=(IntProgress(value=0, max=60000), HTML(value='')))"
      ]
     },
     "metadata": {},
     "output_type": "display_data"
    },
    {
     "name": "stdout",
     "output_type": "stream",
     "text": [
      "\n",
      "Train Accuracy: D[0.748] --> B[0.995] | MSE(D): 1.203839e-02\n",
      "Test Accuracy:  D[0.803] --> B[0.995] | MSE(D): 7.929987e-03\n",
      "\n",
      "..........\n",
      "Epoch 3:\n"
     ]
    },
    {
     "data": {
      "application/vnd.jupyter.widget-view+json": {
       "model_id": "675b7e093072416e8a8e570d986f19d8",
       "version_major": 2,
       "version_minor": 0
      },
      "text/plain": [
       "HBox(children=(IntProgress(value=0, max=60000), HTML(value='')))"
      ]
     },
     "metadata": {},
     "output_type": "display_data"
    },
    {
     "name": "stdout",
     "output_type": "stream",
     "text": [
      "\n",
      "Train Accuracy: D[0.827] --> B[0.995] | MSE(D): 6.600179e-03\n",
      "Test Accuracy:  D[0.852] --> B[0.995] | MSE(D): 4.458344e-03\n",
      "\n",
      "..........\n",
      "Epoch 4:\n"
     ]
    },
    {
     "data": {
      "application/vnd.jupyter.widget-view+json": {
       "model_id": "445ee88c9fd8432aa8592c2d8813b9d9",
       "version_major": 2,
       "version_minor": 0
      },
      "text/plain": [
       "HBox(children=(IntProgress(value=0, max=60000), HTML(value='')))"
      ]
     },
     "metadata": {},
     "output_type": "display_data"
    },
    {
     "name": "stdout",
     "output_type": "stream",
     "text": [
      "\n",
      "Train Accuracy: D[0.866] --> B[0.995] | MSE(D): 4.637143e-03\n",
      "Test Accuracy:  D[0.880] --> B[0.995] | MSE(D): 3.094827e-03\n",
      "\n",
      "..........\n",
      "Epoch 5:\n"
     ]
    },
    {
     "data": {
      "application/vnd.jupyter.widget-view+json": {
       "model_id": "2c80b5a14bca4345a197d5d5050abc5b",
       "version_major": 2,
       "version_minor": 0
      },
      "text/plain": [
       "HBox(children=(IntProgress(value=0, max=60000), HTML(value='')))"
      ]
     },
     "metadata": {},
     "output_type": "display_data"
    },
    {
     "name": "stdout",
     "output_type": "stream",
     "text": [
      "\n",
      "Train Accuracy: D[0.889] --> B[0.995] | MSE(D): 3.648787e-03\n",
      "Test Accuracy:  D[0.898] --> B[0.995] | MSE(D): 3.038298e-03\n",
      "\n",
      "..........\n",
      "Epoch 6:\n"
     ]
    },
    {
     "data": {
      "application/vnd.jupyter.widget-view+json": {
       "model_id": "97b3caf4cde94fdabfb1464a632c78b9",
       "version_major": 2,
       "version_minor": 0
      },
      "text/plain": [
       "HBox(children=(IntProgress(value=0, max=60000), HTML(value='')))"
      ]
     },
     "metadata": {},
     "output_type": "display_data"
    },
    {
     "name": "stdout",
     "output_type": "stream",
     "text": [
      "\n",
      "Train Accuracy: D[0.904] --> B[0.995] | MSE(D): 2.999092e-03\n",
      "Test Accuracy:  D[0.911] --> B[0.995] | MSE(D): 2.334681e-03\n",
      "\n",
      "..........\n",
      "Epoch 7:\n"
     ]
    },
    {
     "data": {
      "application/vnd.jupyter.widget-view+json": {
       "model_id": "a2185b33343d495296a89aec4c536205",
       "version_major": 2,
       "version_minor": 0
      },
      "text/plain": [
       "HBox(children=(IntProgress(value=0, max=60000), HTML(value='')))"
      ]
     },
     "metadata": {},
     "output_type": "display_data"
    },
    {
     "name": "stdout",
     "output_type": "stream",
     "text": [
      "\n",
      "Train Accuracy: D[0.915] --> B[0.995] | MSE(D): 2.666205e-03\n",
      "Test Accuracy:  D[0.920] --> B[0.995] | MSE(D): 2.169816e-03\n",
      "\n",
      "..........\n",
      "Epoch 8:\n"
     ]
    },
    {
     "data": {
      "application/vnd.jupyter.widget-view+json": {
       "model_id": "93179760df544e86a94a9c81433cdac3",
       "version_major": 2,
       "version_minor": 0
      },
      "text/plain": [
       "HBox(children=(IntProgress(value=0, max=60000), HTML(value='')))"
      ]
     },
     "metadata": {},
     "output_type": "display_data"
    },
    {
     "name": "stdout",
     "output_type": "stream",
     "text": [
      "\n",
      "Train Accuracy: D[0.923] --> B[0.995] | MSE(D): 2.372582e-03\n",
      "Test Accuracy:  D[0.927] --> B[0.995] | MSE(D): 2.096545e-03\n",
      "\n",
      "..........\n",
      "Epoch 9:\n"
     ]
    },
    {
     "data": {
      "application/vnd.jupyter.widget-view+json": {
       "model_id": "6d7a5218d5384b68a6b042e826acf376",
       "version_major": 2,
       "version_minor": 0
      },
      "text/plain": [
       "HBox(children=(IntProgress(value=0, max=60000), HTML(value='')))"
      ]
     },
     "metadata": {},
     "output_type": "display_data"
    },
    {
     "name": "stdout",
     "output_type": "stream",
     "text": [
      "\n",
      "Train Accuracy: D[0.930] --> B[0.995] | MSE(D): 2.113654e-03\n",
      "Test Accuracy:  D[0.933] --> B[0.995] | MSE(D): 1.888156e-03\n",
      "\n",
      "..........\n",
      "Epoch 10:\n"
     ]
    },
    {
     "data": {
      "application/vnd.jupyter.widget-view+json": {
       "model_id": "e11f94b1b6f4468c973d4ad3ad955e0f",
       "version_major": 2,
       "version_minor": 0
      },
      "text/plain": [
       "HBox(children=(IntProgress(value=0, max=60000), HTML(value='')))"
      ]
     },
     "metadata": {},
     "output_type": "display_data"
    },
    {
     "name": "stdout",
     "output_type": "stream",
     "text": [
      "\n",
      "Train Accuracy: D[0.935] --> B[0.995] | MSE(D): 1.922507e-03\n",
      "Test Accuracy:  D[0.938] --> B[0.995] | MSE(D): 2.020312e-03\n",
      "\n",
      "..........\n",
      "Epoch 11:\n"
     ]
    },
    {
     "data": {
      "application/vnd.jupyter.widget-view+json": {
       "model_id": "276dc48a314848369cc3770688f8d4e3",
       "version_major": 2,
       "version_minor": 0
      },
      "text/plain": [
       "HBox(children=(IntProgress(value=0, max=60000), HTML(value='')))"
      ]
     },
     "metadata": {},
     "output_type": "display_data"
    },
    {
     "name": "stdout",
     "output_type": "stream",
     "text": [
      "\n",
      "Train Accuracy: D[0.940] --> B[0.995] | MSE(D): 1.800827e-03\n",
      "Test Accuracy:  D[0.942] --> B[0.995] | MSE(D): 2.023679e-03\n",
      "\n",
      "..........\n",
      "Epoch 12:\n"
     ]
    },
    {
     "data": {
      "application/vnd.jupyter.widget-view+json": {
       "model_id": "06e713f933ca41d4933829a116dc1da1",
       "version_major": 2,
       "version_minor": 0
      },
      "text/plain": [
       "HBox(children=(IntProgress(value=0, max=60000), HTML(value='')))"
      ]
     },
     "metadata": {},
     "output_type": "display_data"
    },
    {
     "name": "stdout",
     "output_type": "stream",
     "text": [
      "\n",
      "Train Accuracy: D[0.943] --> B[0.995] | MSE(D): 1.658836e-03\n",
      "Test Accuracy:  D[0.945] --> B[0.995] | MSE(D): 1.506027e-03\n",
      "\n",
      "..........\n",
      "Epoch 13:\n"
     ]
    },
    {
     "data": {
      "application/vnd.jupyter.widget-view+json": {
       "model_id": "7a24d4e9194843bc98830c3f9b643c14",
       "version_major": 2,
       "version_minor": 0
      },
      "text/plain": [
       "HBox(children=(IntProgress(value=0, max=60000), HTML(value='')))"
      ]
     },
     "metadata": {},
     "output_type": "display_data"
    },
    {
     "name": "stdout",
     "output_type": "stream",
     "text": [
      "\n",
      "Train Accuracy: D[0.946] --> B[0.995] | MSE(D): 1.423213e-03\n",
      "Test Accuracy:  D[0.948] --> B[0.995] | MSE(D): 1.570821e-03\n",
      "\n",
      "..........\n",
      "Epoch 14:\n"
     ]
    },
    {
     "data": {
      "application/vnd.jupyter.widget-view+json": {
       "model_id": "4d6a52c387b94cd3aa447ebfa1c9ed01",
       "version_major": 2,
       "version_minor": 0
      },
      "text/plain": [
       "HBox(children=(IntProgress(value=0, max=60000), HTML(value='')))"
      ]
     },
     "metadata": {},
     "output_type": "display_data"
    },
    {
     "name": "stdout",
     "output_type": "stream",
     "text": [
      "\n",
      "Train Accuracy: D[0.949] --> B[0.995] | MSE(D): 1.393456e-03\n",
      "Test Accuracy:  D[0.951] --> B[0.995] | MSE(D): 1.455277e-03\n",
      "\n",
      "..........\n",
      "Epoch 15:\n"
     ]
    },
    {
     "data": {
      "application/vnd.jupyter.widget-view+json": {
       "model_id": "90a0c011a05a490ba87b846b7982bbde",
       "version_major": 2,
       "version_minor": 0
      },
      "text/plain": [
       "HBox(children=(IntProgress(value=0, max=60000), HTML(value='')))"
      ]
     },
     "metadata": {},
     "output_type": "display_data"
    },
    {
     "name": "stdout",
     "output_type": "stream",
     "text": [
      "\n",
      "Train Accuracy: D[0.952] --> B[0.995] | MSE(D): 1.328405e-03\n",
      "Test Accuracy:  D[0.953] --> B[0.995] | MSE(D): 1.382131e-03\n",
      "\n",
      "..........\n",
      "Epoch 16:\n"
     ]
    },
    {
     "data": {
      "application/vnd.jupyter.widget-view+json": {
       "model_id": "74de7a0a92d2479088fabba1d2786731",
       "version_major": 2,
       "version_minor": 0
      },
      "text/plain": [
       "HBox(children=(IntProgress(value=0, max=60000), HTML(value='')))"
      ]
     },
     "metadata": {},
     "output_type": "display_data"
    },
    {
     "name": "stdout",
     "output_type": "stream",
     "text": [
      "\n",
      "Train Accuracy: D[0.954] --> B[0.995] | MSE(D): 1.231577e-03\n",
      "Test Accuracy:  D[0.955] --> B[0.995] | MSE(D): 1.534615e-03\n",
      "\n",
      "..........\n",
      "Epoch 17:\n"
     ]
    },
    {
     "data": {
      "application/vnd.jupyter.widget-view+json": {
       "model_id": "b3b78be47ada462593dc8dbe9b9c65a3",
       "version_major": 2,
       "version_minor": 0
      },
      "text/plain": [
       "HBox(children=(IntProgress(value=0, max=60000), HTML(value='')))"
      ]
     },
     "metadata": {},
     "output_type": "display_data"
    },
    {
     "name": "stdout",
     "output_type": "stream",
     "text": [
      "\n",
      "Train Accuracy: D[0.956] --> B[0.995] | MSE(D): 1.180357e-03\n",
      "Test Accuracy:  D[0.957] --> B[0.995] | MSE(D): 1.511068e-03\n",
      "\n",
      "..........\n",
      "Epoch 18:\n"
     ]
    },
    {
     "data": {
      "application/vnd.jupyter.widget-view+json": {
       "model_id": "14024826b6f1452fb77c4e8698d8aa88",
       "version_major": 2,
       "version_minor": 0
      },
      "text/plain": [
       "HBox(children=(IntProgress(value=0, max=60000), HTML(value='')))"
      ]
     },
     "metadata": {},
     "output_type": "display_data"
    },
    {
     "name": "stdout",
     "output_type": "stream",
     "text": [
      "\n",
      "Train Accuracy: D[0.958] --> B[0.995] | MSE(D): 1.164094e-03\n",
      "Test Accuracy:  D[0.958] --> B[0.995] | MSE(D): 1.332249e-03\n",
      "\n",
      "..........\n",
      "Epoch 19:\n"
     ]
    },
    {
     "data": {
      "application/vnd.jupyter.widget-view+json": {
       "model_id": "a0342f01afad4cb1bad2d35851b032a9",
       "version_major": 2,
       "version_minor": 0
      },
      "text/plain": [
       "HBox(children=(IntProgress(value=0, max=60000), HTML(value='')))"
      ]
     },
     "metadata": {},
     "output_type": "display_data"
    },
    {
     "name": "stdout",
     "output_type": "stream",
     "text": [
      "\n",
      "Train Accuracy: D[0.959] --> B[0.995] | MSE(D): 1.034911e-03\n",
      "Test Accuracy:  D[0.960] --> B[0.995] | MSE(D): 1.393317e-03\n",
      "\n",
      "..........\n",
      "Epoch 20:\n"
     ]
    },
    {
     "data": {
      "application/vnd.jupyter.widget-view+json": {
       "model_id": "0a47c278e3f9422f91e3172ff796c246",
       "version_major": 2,
       "version_minor": 0
      },
      "text/plain": [
       "HBox(children=(IntProgress(value=0, max=60000), HTML(value='')))"
      ]
     },
     "metadata": {},
     "output_type": "display_data"
    },
    {
     "name": "stdout",
     "output_type": "stream",
     "text": [
      "\n",
      "Train Accuracy: D[0.961] --> B[0.995] | MSE(D): 1.044764e-03\n",
      "Test Accuracy:  D[0.961] --> B[0.995] | MSE(D): 1.288467e-03\n",
      "\n",
      "..........\n",
      "Epoch 21:\n"
     ]
    },
    {
     "data": {
      "application/vnd.jupyter.widget-view+json": {
       "model_id": "b75a9c781ad744ba8f4ef9c11c37f253",
       "version_major": 2,
       "version_minor": 0
      },
      "text/plain": [
       "HBox(children=(IntProgress(value=0, max=60000), HTML(value='')))"
      ]
     },
     "metadata": {},
     "output_type": "display_data"
    },
    {
     "name": "stdout",
     "output_type": "stream",
     "text": [
      "\n",
      "Train Accuracy: D[0.962] --> B[0.995] | MSE(D): 1.024510e-03\n",
      "Test Accuracy:  D[0.963] --> B[0.995] | MSE(D): 1.401332e-03\n",
      "\n",
      "..........\n",
      "Epoch 22:\n"
     ]
    },
    {
     "data": {
      "application/vnd.jupyter.widget-view+json": {
       "model_id": "27480c43aff34e5297c3c4996b6b89d6",
       "version_major": 2,
       "version_minor": 0
      },
      "text/plain": [
       "HBox(children=(IntProgress(value=0, max=60000), HTML(value='')))"
      ]
     },
     "metadata": {},
     "output_type": "display_data"
    },
    {
     "name": "stdout",
     "output_type": "stream",
     "text": [
      "\n",
      "Train Accuracy: D[0.963] --> B[0.995] | MSE(D): 1.012785e-03\n",
      "Test Accuracy:  D[0.964] --> B[0.995] | MSE(D): 1.505147e-03\n",
      "\n",
      "..........\n",
      "Epoch 23:\n"
     ]
    },
    {
     "data": {
      "application/vnd.jupyter.widget-view+json": {
       "model_id": "1aaaeccf09e44636b2146d3d4742b971",
       "version_major": 2,
       "version_minor": 0
      },
      "text/plain": [
       "HBox(children=(IntProgress(value=0, max=60000), HTML(value='')))"
      ]
     },
     "metadata": {},
     "output_type": "display_data"
    },
    {
     "name": "stdout",
     "output_type": "stream",
     "text": [
      "\n",
      "Train Accuracy: D[0.964] --> B[0.995] | MSE(D): 9.454280e-04\n",
      "Test Accuracy:  D[0.965] --> B[0.995] | MSE(D): 1.365990e-03\n",
      "\n",
      "..........\n",
      "Epoch 24:\n"
     ]
    },
    {
     "data": {
      "application/vnd.jupyter.widget-view+json": {
       "model_id": "85b0b4a3cffb4bf0b7bae3de1b34b146",
       "version_major": 2,
       "version_minor": 0
      },
      "text/plain": [
       "HBox(children=(IntProgress(value=0, max=60000), HTML(value='')))"
      ]
     },
     "metadata": {},
     "output_type": "display_data"
    },
    {
     "name": "stdout",
     "output_type": "stream",
     "text": [
      "\n",
      "Train Accuracy: D[0.965] --> B[0.995] | MSE(D): 9.038619e-04\n",
      "Test Accuracy:  D[0.966] --> B[0.995] | MSE(D): 1.396077e-03\n",
      "\n",
      "..........\n",
      "Epoch 25:\n"
     ]
    },
    {
     "data": {
      "application/vnd.jupyter.widget-view+json": {
       "model_id": "a63380e9bc2a4d31ba729bcb93018e62",
       "version_major": 2,
       "version_minor": 0
      },
      "text/plain": [
       "HBox(children=(IntProgress(value=0, max=60000), HTML(value='')))"
      ]
     },
     "metadata": {},
     "output_type": "display_data"
    },
    {
     "name": "stdout",
     "output_type": "stream",
     "text": [
      "\n",
      "Train Accuracy: D[0.966] --> B[0.995] | MSE(D): 8.466076e-04\n",
      "Test Accuracy:  D[0.967] --> B[0.995] | MSE(D): 1.206999e-03\n",
      "\n",
      "Saved weights for e25\n",
      "========================================\n",
      "INFO:tensorflow:Restoring parameters from ./discriminator_checkpoints/null\\discriminator_checkpoint.ckpt\n",
      "Reset graph to its initial state\n",
      "\n",
      "========================================\n",
      "Loading previous blackbox_e13 evaluation\n",
      "\n",
      "========================================\n",
      "Training on blackbox_e13\n",
      "..........\n",
      "Epoch 1:\n"
     ]
    },
    {
     "data": {
      "application/vnd.jupyter.widget-view+json": {
       "model_id": "aed58f639a0740b58d615ef3191f0f49",
       "version_major": 2,
       "version_minor": 0
      },
      "text/plain": [
       "HBox(children=(IntProgress(value=0, max=60000), HTML(value='')))"
      ]
     },
     "metadata": {},
     "output_type": "display_data"
    },
    {
     "name": "stdout",
     "output_type": "stream",
     "text": [
      "\n",
      "Train Accuracy: D[0.478] --> B[0.995] | MSE(D): 4.158722e-02\n",
      "Test Accuracy:  D[0.716] --> B[0.994] | MSE(D): 1.318941e-02\n",
      "\n",
      "..........\n",
      "Epoch 2:\n"
     ]
    },
    {
     "data": {
      "application/vnd.jupyter.widget-view+json": {
       "model_id": "34026acc9f8640c483c95ce123051a3b",
       "version_major": 2,
       "version_minor": 0
      },
      "text/plain": [
       "HBox(children=(IntProgress(value=0, max=60000), HTML(value='')))"
      ]
     },
     "metadata": {},
     "output_type": "display_data"
    },
    {
     "name": "stdout",
     "output_type": "stream",
     "text": [
      "\n",
      "Train Accuracy: D[0.772] --> B[0.995] | MSE(D): 1.038221e-02\n",
      "Test Accuracy:  D[0.822] --> B[0.994] | MSE(D): 6.306975e-03\n",
      "\n",
      "..........\n",
      "Epoch 3:\n"
     ]
    },
    {
     "data": {
      "application/vnd.jupyter.widget-view+json": {
       "model_id": "0e21c5ba5c59476cb5514aee00266649",
       "version_major": 2,
       "version_minor": 0
      },
      "text/plain": [
       "HBox(children=(IntProgress(value=0, max=60000), HTML(value='')))"
      ]
     },
     "metadata": {},
     "output_type": "display_data"
    },
    {
     "name": "stdout",
     "output_type": "stream",
     "text": [
      "\n",
      "Train Accuracy: D[0.844] --> B[0.994] | MSE(D): 6.046843e-03\n",
      "Test Accuracy:  D[0.866] --> B[0.994] | MSE(D): 4.341616e-03\n",
      "\n",
      "..........\n",
      "Epoch 4:\n"
     ]
    },
    {
     "data": {
      "application/vnd.jupyter.widget-view+json": {
       "model_id": "cc2f962c9bdd4a0590f5cb5128e016d4",
       "version_major": 2,
       "version_minor": 0
      },
      "text/plain": [
       "HBox(children=(IntProgress(value=0, max=60000), HTML(value='')))"
      ]
     },
     "metadata": {},
     "output_type": "display_data"
    },
    {
     "name": "stdout",
     "output_type": "stream",
     "text": [
      "\n",
      "Train Accuracy: D[0.878] --> B[0.994] | MSE(D): 4.225960e-03\n",
      "Test Accuracy:  D[0.891] --> B[0.994] | MSE(D): 3.287865e-03\n",
      "\n",
      "..........\n",
      "Epoch 5:\n"
     ]
    },
    {
     "data": {
      "application/vnd.jupyter.widget-view+json": {
       "model_id": "06914db34c15445ea48ccaecedd33605",
       "version_major": 2,
       "version_minor": 0
      },
      "text/plain": [
       "HBox(children=(IntProgress(value=0, max=60000), HTML(value='')))"
      ]
     },
     "metadata": {},
     "output_type": "display_data"
    },
    {
     "name": "stdout",
     "output_type": "stream",
     "text": [
      "\n",
      "Train Accuracy: D[0.899] --> B[0.994] | MSE(D): 3.223629e-03\n",
      "Test Accuracy:  D[0.907] --> B[0.994] | MSE(D): 2.757264e-03\n",
      "\n",
      "..........\n",
      "Epoch 6:\n"
     ]
    },
    {
     "data": {
      "application/vnd.jupyter.widget-view+json": {
       "model_id": "c7e3613600f34071a4f1da347a804c1c",
       "version_major": 2,
       "version_minor": 0
      },
      "text/plain": [
       "HBox(children=(IntProgress(value=0, max=60000), HTML(value='')))"
      ]
     },
     "metadata": {},
     "output_type": "display_data"
    },
    {
     "name": "stdout",
     "output_type": "stream",
     "text": [
      "\n",
      "Train Accuracy: D[0.913] --> B[0.994] | MSE(D): 2.701830e-03\n",
      "Test Accuracy:  D[0.919] --> B[0.994] | MSE(D): 2.329359e-03\n",
      "\n",
      "..........\n",
      "Epoch 7:\n"
     ]
    },
    {
     "data": {
      "application/vnd.jupyter.widget-view+json": {
       "model_id": "7f5b32f2c2c74b65ae2f6a841f010288",
       "version_major": 2,
       "version_minor": 0
      },
      "text/plain": [
       "HBox(children=(IntProgress(value=0, max=60000), HTML(value='')))"
      ]
     },
     "metadata": {},
     "output_type": "display_data"
    },
    {
     "name": "stdout",
     "output_type": "stream",
     "text": [
      "\n",
      "Train Accuracy: D[0.923] --> B[0.994] | MSE(D): 2.351753e-03\n",
      "Test Accuracy:  D[0.927] --> B[0.994] | MSE(D): 2.289934e-03\n",
      "\n",
      "..........\n",
      "Epoch 8:\n"
     ]
    },
    {
     "data": {
      "application/vnd.jupyter.widget-view+json": {
       "model_id": "3841665d1f0c4a59a803c841a2ecb938",
       "version_major": 2,
       "version_minor": 0
      },
      "text/plain": [
       "HBox(children=(IntProgress(value=0, max=60000), HTML(value='')))"
      ]
     },
     "metadata": {},
     "output_type": "display_data"
    },
    {
     "name": "stdout",
     "output_type": "stream",
     "text": [
      "\n",
      "Train Accuracy: D[0.930] --> B[0.994] | MSE(D): 2.057759e-03\n",
      "Test Accuracy:  D[0.934] --> B[0.994] | MSE(D): 2.110925e-03\n",
      "\n",
      "..........\n",
      "Epoch 9:\n"
     ]
    },
    {
     "data": {
      "application/vnd.jupyter.widget-view+json": {
       "model_id": "1d349e6e564a42ac9969c8eaf6a89f99",
       "version_major": 2,
       "version_minor": 0
      },
      "text/plain": [
       "HBox(children=(IntProgress(value=0, max=60000), HTML(value='')))"
      ]
     },
     "metadata": {},
     "output_type": "display_data"
    },
    {
     "name": "stdout",
     "output_type": "stream",
     "text": [
      "\n",
      "Train Accuracy: D[0.936] --> B[0.994] | MSE(D): 1.860451e-03\n",
      "Test Accuracy:  D[0.939] --> B[0.994] | MSE(D): 1.889992e-03\n",
      "\n",
      "..........\n",
      "Epoch 10:\n"
     ]
    },
    {
     "data": {
      "application/vnd.jupyter.widget-view+json": {
       "model_id": "da9c783f1eaf465d96df745fa9980b97",
       "version_major": 2,
       "version_minor": 0
      },
      "text/plain": [
       "HBox(children=(IntProgress(value=0, max=60000), HTML(value='')))"
      ]
     },
     "metadata": {},
     "output_type": "display_data"
    },
    {
     "name": "stdout",
     "output_type": "stream",
     "text": [
      "\n",
      "Train Accuracy: D[0.941] --> B[0.994] | MSE(D): 1.623980e-03\n",
      "Test Accuracy:  D[0.943] --> B[0.994] | MSE(D): 1.840405e-03\n",
      "\n",
      "..........\n",
      "Epoch 11:\n"
     ]
    },
    {
     "data": {
      "application/vnd.jupyter.widget-view+json": {
       "model_id": "f86cdd4580854f66908f9cbf10e82fe1",
       "version_major": 2,
       "version_minor": 0
      },
      "text/plain": [
       "HBox(children=(IntProgress(value=0, max=60000), HTML(value='')))"
      ]
     },
     "metadata": {},
     "output_type": "display_data"
    },
    {
     "name": "stdout",
     "output_type": "stream",
     "text": [
      "\n",
      "Train Accuracy: D[0.945] --> B[0.994] | MSE(D): 1.468845e-03\n",
      "Test Accuracy:  D[0.947] --> B[0.994] | MSE(D): 1.810652e-03\n",
      "\n",
      "..........\n",
      "Epoch 12:\n"
     ]
    },
    {
     "data": {
      "application/vnd.jupyter.widget-view+json": {
       "model_id": "30afdf9a191f40d290d2fceaebd7c0ce",
       "version_major": 2,
       "version_minor": 0
      },
      "text/plain": [
       "HBox(children=(IntProgress(value=0, max=60000), HTML(value='')))"
      ]
     },
     "metadata": {},
     "output_type": "display_data"
    },
    {
     "name": "stdout",
     "output_type": "stream",
     "text": [
      "\n",
      "Train Accuracy: D[0.948] --> B[0.994] | MSE(D): 1.406426e-03\n",
      "Test Accuracy:  D[0.950] --> B[0.994] | MSE(D): 1.911426e-03\n",
      "\n",
      "..........\n",
      "Epoch 13:\n"
     ]
    },
    {
     "data": {
      "application/vnd.jupyter.widget-view+json": {
       "model_id": "35ea97899d8f4c55a5820529d8b939e1",
       "version_major": 2,
       "version_minor": 0
      },
      "text/plain": [
       "HBox(children=(IntProgress(value=0, max=60000), HTML(value='')))"
      ]
     },
     "metadata": {},
     "output_type": "display_data"
    },
    {
     "name": "stdout",
     "output_type": "stream",
     "text": [
      "\n",
      "Train Accuracy: D[0.951] --> B[0.994] | MSE(D): 1.480138e-03\n",
      "Test Accuracy:  D[0.953] --> B[0.994] | MSE(D): 1.716912e-03\n",
      "\n",
      "..........\n",
      "Epoch 14:\n"
     ]
    },
    {
     "data": {
      "application/vnd.jupyter.widget-view+json": {
       "model_id": "3600c5d47caa493fbd9e7c3b81a8ba59",
       "version_major": 2,
       "version_minor": 0
      },
      "text/plain": [
       "HBox(children=(IntProgress(value=0, max=60000), HTML(value='')))"
      ]
     },
     "metadata": {},
     "output_type": "display_data"
    },
    {
     "name": "stdout",
     "output_type": "stream",
     "text": [
      "\n",
      "Train Accuracy: D[0.954] --> B[0.994] | MSE(D): 1.281192e-03\n",
      "Test Accuracy:  D[0.955] --> B[0.994] | MSE(D): 1.543739e-03\n",
      "\n",
      "..........\n",
      "Epoch 15:\n"
     ]
    },
    {
     "data": {
      "application/vnd.jupyter.widget-view+json": {
       "model_id": "820c75b787fa4410ba31a371cd03b72b",
       "version_major": 2,
       "version_minor": 0
      },
      "text/plain": [
       "HBox(children=(IntProgress(value=0, max=60000), HTML(value='')))"
      ]
     },
     "metadata": {},
     "output_type": "display_data"
    },
    {
     "name": "stdout",
     "output_type": "stream",
     "text": [
      "\n",
      "Train Accuracy: D[0.956] --> B[0.994] | MSE(D): 1.138691e-03\n",
      "Test Accuracy:  D[0.957] --> B[0.994] | MSE(D): 1.316764e-03\n",
      "\n",
      "..........\n",
      "Epoch 16:\n"
     ]
    },
    {
     "data": {
      "application/vnd.jupyter.widget-view+json": {
       "model_id": "779b7c5555d74da4b87d6a90180fc957",
       "version_major": 2,
       "version_minor": 0
      },
      "text/plain": [
       "HBox(children=(IntProgress(value=0, max=60000), HTML(value='')))"
      ]
     },
     "metadata": {},
     "output_type": "display_data"
    },
    {
     "name": "stdout",
     "output_type": "stream",
     "text": [
      "\n",
      "Train Accuracy: D[0.958] --> B[0.994] | MSE(D): 1.112108e-03\n",
      "Test Accuracy:  D[0.959] --> B[0.994] | MSE(D): 1.201068e-03\n",
      "\n",
      "..........\n",
      "Epoch 17:\n"
     ]
    },
    {
     "data": {
      "application/vnd.jupyter.widget-view+json": {
       "model_id": "5ce9846e5367460fade96f8c432ef677",
       "version_major": 2,
       "version_minor": 0
      },
      "text/plain": [
       "HBox(children=(IntProgress(value=0, max=60000), HTML(value='')))"
      ]
     },
     "metadata": {},
     "output_type": "display_data"
    },
    {
     "name": "stdout",
     "output_type": "stream",
     "text": [
      "\n",
      "Train Accuracy: D[0.960] --> B[0.994] | MSE(D): 1.050131e-03\n",
      "Test Accuracy:  D[0.961] --> B[0.994] | MSE(D): 1.350997e-03\n",
      "\n",
      "..........\n",
      "Epoch 18:\n"
     ]
    },
    {
     "data": {
      "application/vnd.jupyter.widget-view+json": {
       "model_id": "d165748f2c79435ab26203141cc6d314",
       "version_major": 2,
       "version_minor": 0
      },
      "text/plain": [
       "HBox(children=(IntProgress(value=0, max=60000), HTML(value='')))"
      ]
     },
     "metadata": {},
     "output_type": "display_data"
    },
    {
     "name": "stdout",
     "output_type": "stream",
     "text": [
      "\n",
      "Train Accuracy: D[0.961] --> B[0.994] | MSE(D): 9.753881e-04\n",
      "Test Accuracy:  D[0.962] --> B[0.994] | MSE(D): 1.352591e-03\n",
      "\n",
      "..........\n",
      "Epoch 19:\n"
     ]
    },
    {
     "data": {
      "application/vnd.jupyter.widget-view+json": {
       "model_id": "7220c6e118944ef2b5c701e504031d8b",
       "version_major": 2,
       "version_minor": 0
      },
      "text/plain": [
       "HBox(children=(IntProgress(value=0, max=60000), HTML(value='')))"
      ]
     },
     "metadata": {},
     "output_type": "display_data"
    },
    {
     "name": "stdout",
     "output_type": "stream",
     "text": [
      "\n",
      "Train Accuracy: D[0.963] --> B[0.994] | MSE(D): 9.561494e-04\n",
      "Test Accuracy:  D[0.963] --> B[0.994] | MSE(D): 1.315515e-03\n",
      "\n",
      "..........\n",
      "Epoch 20:\n"
     ]
    },
    {
     "data": {
      "application/vnd.jupyter.widget-view+json": {
       "model_id": "50108429991b40d792194abc27b8a729",
       "version_major": 2,
       "version_minor": 0
      },
      "text/plain": [
       "HBox(children=(IntProgress(value=0, max=60000), HTML(value='')))"
      ]
     },
     "metadata": {},
     "output_type": "display_data"
    },
    {
     "name": "stdout",
     "output_type": "stream",
     "text": [
      "\n",
      "Train Accuracy: D[0.964] --> B[0.994] | MSE(D): 9.202263e-04\n",
      "Test Accuracy:  D[0.965] --> B[0.994] | MSE(D): 1.363981e-03\n",
      "\n",
      "..........\n",
      "Epoch 21:\n"
     ]
    },
    {
     "data": {
      "application/vnd.jupyter.widget-view+json": {
       "model_id": "6e7a48f488ad4bfcb568ce8022c9f099",
       "version_major": 2,
       "version_minor": 0
      },
      "text/plain": [
       "HBox(children=(IntProgress(value=0, max=60000), HTML(value='')))"
      ]
     },
     "metadata": {},
     "output_type": "display_data"
    },
    {
     "name": "stdout",
     "output_type": "stream",
     "text": [
      "\n",
      "Train Accuracy: D[0.965] --> B[0.994] | MSE(D): 9.292219e-04\n",
      "Test Accuracy:  D[0.966] --> B[0.994] | MSE(D): 1.236720e-03\n",
      "\n",
      "..........\n",
      "Epoch 22:\n"
     ]
    },
    {
     "data": {
      "application/vnd.jupyter.widget-view+json": {
       "model_id": "b52f060f26d94783810e4d6941a227b9",
       "version_major": 2,
       "version_minor": 0
      },
      "text/plain": [
       "HBox(children=(IntProgress(value=0, max=60000), HTML(value='')))"
      ]
     },
     "metadata": {},
     "output_type": "display_data"
    },
    {
     "name": "stdout",
     "output_type": "stream",
     "text": [
      "\n",
      "Train Accuracy: D[0.966] --> B[0.994] | MSE(D): 8.296046e-04\n",
      "Test Accuracy:  D[0.967] --> B[0.994] | MSE(D): 1.324145e-03\n",
      "\n",
      "..........\n",
      "Epoch 23:\n"
     ]
    },
    {
     "data": {
      "application/vnd.jupyter.widget-view+json": {
       "model_id": "a6b4ffff6a4646068458427d878b4dbd",
       "version_major": 2,
       "version_minor": 0
      },
      "text/plain": [
       "HBox(children=(IntProgress(value=0, max=60000), HTML(value='')))"
      ]
     },
     "metadata": {},
     "output_type": "display_data"
    },
    {
     "name": "stdout",
     "output_type": "stream",
     "text": [
      "\n",
      "Train Accuracy: D[0.967] --> B[0.994] | MSE(D): 8.538705e-04\n",
      "Test Accuracy:  D[0.968] --> B[0.994] | MSE(D): 1.324007e-03\n",
      "\n",
      "..........\n",
      "Epoch 24:\n"
     ]
    },
    {
     "data": {
      "application/vnd.jupyter.widget-view+json": {
       "model_id": "4d5a2f10e47c4df485b5dd0a147051b4",
       "version_major": 2,
       "version_minor": 0
      },
      "text/plain": [
       "HBox(children=(IntProgress(value=0, max=60000), HTML(value='')))"
      ]
     },
     "metadata": {},
     "output_type": "display_data"
    },
    {
     "name": "stdout",
     "output_type": "stream",
     "text": [
      "\n",
      "Train Accuracy: D[0.968] --> B[0.994] | MSE(D): 7.925825e-04\n",
      "Test Accuracy:  D[0.969] --> B[0.994] | MSE(D): 1.200447e-03\n",
      "\n",
      "..........\n",
      "Epoch 25:\n"
     ]
    },
    {
     "data": {
      "application/vnd.jupyter.widget-view+json": {
       "model_id": "7d8a4899bfb341dba2f5d378146c3dd8",
       "version_major": 2,
       "version_minor": 0
      },
      "text/plain": [
       "HBox(children=(IntProgress(value=0, max=60000), HTML(value='')))"
      ]
     },
     "metadata": {},
     "output_type": "display_data"
    },
    {
     "name": "stdout",
     "output_type": "stream",
     "text": [
      "\n",
      "Train Accuracy: D[0.969] --> B[0.994] | MSE(D): 7.464375e-04\n",
      "Test Accuracy:  D[0.969] --> B[0.994] | MSE(D): 1.179929e-03\n",
      "\n",
      "Saved weights for e25\n",
      "========================================\n",
      "INFO:tensorflow:Restoring parameters from ./discriminator_checkpoints/null\\discriminator_checkpoint.ckpt\n",
      "Reset graph to its initial state\n",
      "\n",
      "========================================\n",
      "Loading previous blackbox_e14 evaluation\n",
      "\n",
      "========================================\n",
      "Training on blackbox_e14\n",
      "..........\n",
      "Epoch 1:\n"
     ]
    },
    {
     "data": {
      "application/vnd.jupyter.widget-view+json": {
       "model_id": "b4964dda00964cf09e74862de4d76b55",
       "version_major": 2,
       "version_minor": 0
      },
      "text/plain": [
       "HBox(children=(IntProgress(value=0, max=60000), HTML(value='')))"
      ]
     },
     "metadata": {},
     "output_type": "display_data"
    },
    {
     "name": "stdout",
     "output_type": "stream",
     "text": [
      "\n",
      "Train Accuracy: D[0.502] --> B[0.996] | MSE(D): 3.925099e-02\n",
      "Test Accuracy:  D[0.727] --> B[0.995] | MSE(D): 1.443549e-02\n",
      "\n",
      "..........\n",
      "Epoch 2:\n"
     ]
    },
    {
     "data": {
      "application/vnd.jupyter.widget-view+json": {
       "model_id": "5820140d127a4cbc985d5b6128936012",
       "version_major": 2,
       "version_minor": 0
      },
      "text/plain": [
       "HBox(children=(IntProgress(value=0, max=60000), HTML(value='')))"
      ]
     },
     "metadata": {},
     "output_type": "display_data"
    },
    {
     "name": "stdout",
     "output_type": "stream",
     "text": [
      "\n",
      "Train Accuracy: D[0.779] --> B[0.996] | MSE(D): 1.126084e-02\n",
      "Test Accuracy:  D[0.826] --> B[0.995] | MSE(D): 6.367850e-03\n",
      "\n",
      "..........\n",
      "Epoch 3:\n"
     ]
    },
    {
     "data": {
      "application/vnd.jupyter.widget-view+json": {
       "model_id": "f6945ea003b34dfca1c6f078260b44c8",
       "version_major": 2,
       "version_minor": 0
      },
      "text/plain": [
       "HBox(children=(IntProgress(value=0, max=60000), HTML(value='')))"
      ]
     },
     "metadata": {},
     "output_type": "display_data"
    },
    {
     "name": "stdout",
     "output_type": "stream",
     "text": [
      "\n",
      "Train Accuracy: D[0.847] --> B[0.996] | MSE(D): 6.275109e-03\n",
      "Test Accuracy:  D[0.869] --> B[0.995] | MSE(D): 4.211201e-03\n",
      "\n",
      "..........\n",
      "Epoch 4:\n"
     ]
    },
    {
     "data": {
      "application/vnd.jupyter.widget-view+json": {
       "model_id": "b7956c15f85e44cb92802616b3825c61",
       "version_major": 2,
       "version_minor": 0
      },
      "text/plain": [
       "HBox(children=(IntProgress(value=0, max=60000), HTML(value='')))"
      ]
     },
     "metadata": {},
     "output_type": "display_data"
    },
    {
     "name": "stdout",
     "output_type": "stream",
     "text": [
      "\n",
      "Train Accuracy: D[0.880] --> B[0.996] | MSE(D): 4.556088e-03\n",
      "Test Accuracy:  D[0.893] --> B[0.995] | MSE(D): 3.573867e-03\n",
      "\n",
      "..........\n",
      "Epoch 5:\n"
     ]
    },
    {
     "data": {
      "application/vnd.jupyter.widget-view+json": {
       "model_id": "5d7b7b0a800e4a799413e15c144ec060",
       "version_major": 2,
       "version_minor": 0
      },
      "text/plain": [
       "HBox(children=(IntProgress(value=0, max=60000), HTML(value='')))"
      ]
     },
     "metadata": {},
     "output_type": "display_data"
    },
    {
     "name": "stdout",
     "output_type": "stream",
     "text": [
      "\n",
      "Train Accuracy: D[0.900] --> B[0.996] | MSE(D): 3.483865e-03\n",
      "Test Accuracy:  D[0.909] --> B[0.995] | MSE(D): 3.012123e-03\n",
      "\n",
      "..........\n",
      "Epoch 6:\n"
     ]
    },
    {
     "data": {
      "application/vnd.jupyter.widget-view+json": {
       "model_id": "32326466b83f43f0a38e619fa95b5dae",
       "version_major": 2,
       "version_minor": 0
      },
      "text/plain": [
       "HBox(children=(IntProgress(value=0, max=60000), HTML(value='')))"
      ]
     },
     "metadata": {},
     "output_type": "display_data"
    },
    {
     "name": "stdout",
     "output_type": "stream",
     "text": [
      "\n",
      "Train Accuracy: D[0.914] --> B[0.996] | MSE(D): 2.939212e-03\n",
      "Test Accuracy:  D[0.920] --> B[0.995] | MSE(D): 2.428217e-03\n",
      "\n",
      "..........\n",
      "Epoch 7:\n"
     ]
    },
    {
     "data": {
      "application/vnd.jupyter.widget-view+json": {
       "model_id": "a50b767ac3b342088497f90121057f48",
       "version_major": 2,
       "version_minor": 0
      },
      "text/plain": [
       "HBox(children=(IntProgress(value=0, max=60000), HTML(value='')))"
      ]
     },
     "metadata": {},
     "output_type": "display_data"
    },
    {
     "name": "stdout",
     "output_type": "stream",
     "text": [
      "\n",
      "Train Accuracy: D[0.923] --> B[0.995] | MSE(D): 2.644958e-03\n",
      "Test Accuracy:  D[0.928] --> B[0.995] | MSE(D): 2.131052e-03\n",
      "\n",
      "..........\n",
      "Epoch 8:\n"
     ]
    },
    {
     "data": {
      "application/vnd.jupyter.widget-view+json": {
       "model_id": "2f4bbf2ad0564d0eadc5dc7026894e10",
       "version_major": 2,
       "version_minor": 0
      },
      "text/plain": [
       "HBox(children=(IntProgress(value=0, max=60000), HTML(value='')))"
      ]
     },
     "metadata": {},
     "output_type": "display_data"
    },
    {
     "name": "stdout",
     "output_type": "stream",
     "text": [
      "\n",
      "Train Accuracy: D[0.931] --> B[0.995] | MSE(D): 2.195668e-03\n",
      "Test Accuracy:  D[0.934] --> B[0.995] | MSE(D): 2.243285e-03\n",
      "\n",
      "..........\n",
      "Epoch 9:\n"
     ]
    },
    {
     "data": {
      "application/vnd.jupyter.widget-view+json": {
       "model_id": "a271dd5c67fb4bd782f746b432a64f20",
       "version_major": 2,
       "version_minor": 0
      },
      "text/plain": [
       "HBox(children=(IntProgress(value=0, max=60000), HTML(value='')))"
      ]
     },
     "metadata": {},
     "output_type": "display_data"
    },
    {
     "name": "stdout",
     "output_type": "stream",
     "text": [
      "\n",
      "Train Accuracy: D[0.937] --> B[0.995] | MSE(D): 1.952792e-03\n",
      "Test Accuracy:  D[0.940] --> B[0.995] | MSE(D): 1.625160e-03\n",
      "\n",
      "..........\n",
      "Epoch 10:\n"
     ]
    },
    {
     "data": {
      "application/vnd.jupyter.widget-view+json": {
       "model_id": "5c60ff6985eb40469e4e42b93f603ac9",
       "version_major": 2,
       "version_minor": 0
      },
      "text/plain": [
       "HBox(children=(IntProgress(value=0, max=60000), HTML(value='')))"
      ]
     },
     "metadata": {},
     "output_type": "display_data"
    },
    {
     "name": "stdout",
     "output_type": "stream",
     "text": [
      "\n",
      "Train Accuracy: D[0.942] --> B[0.995] | MSE(D): 1.749002e-03\n",
      "Test Accuracy:  D[0.944] --> B[0.995] | MSE(D): 1.545365e-03\n",
      "\n",
      "..........\n",
      "Epoch 11:\n"
     ]
    },
    {
     "data": {
      "application/vnd.jupyter.widget-view+json": {
       "model_id": "31e25d76362447ea953ff02fc09b10b8",
       "version_major": 2,
       "version_minor": 0
      },
      "text/plain": [
       "HBox(children=(IntProgress(value=0, max=60000), HTML(value='')))"
      ]
     },
     "metadata": {},
     "output_type": "display_data"
    },
    {
     "name": "stdout",
     "output_type": "stream",
     "text": [
      "\n",
      "Train Accuracy: D[0.946] --> B[0.995] | MSE(D): 1.704764e-03\n",
      "Test Accuracy:  D[0.948] --> B[0.995] | MSE(D): 1.641059e-03\n",
      "\n",
      "..........\n",
      "Epoch 12:\n"
     ]
    },
    {
     "data": {
      "application/vnd.jupyter.widget-view+json": {
       "model_id": "bf3463a77a2045dc81c0e9fd09ab29d6",
       "version_major": 2,
       "version_minor": 0
      },
      "text/plain": [
       "HBox(children=(IntProgress(value=0, max=60000), HTML(value='')))"
      ]
     },
     "metadata": {},
     "output_type": "display_data"
    },
    {
     "name": "stdout",
     "output_type": "stream",
     "text": [
      "\n",
      "Train Accuracy: D[0.949] --> B[0.995] | MSE(D): 1.471456e-03\n",
      "Test Accuracy:  D[0.951] --> B[0.995] | MSE(D): 1.585233e-03\n",
      "\n",
      "..........\n",
      "Epoch 13:\n"
     ]
    },
    {
     "data": {
      "application/vnd.jupyter.widget-view+json": {
       "model_id": "36e2992216984921910154888e1513a1",
       "version_major": 2,
       "version_minor": 0
      },
      "text/plain": [
       "HBox(children=(IntProgress(value=0, max=60000), HTML(value='')))"
      ]
     },
     "metadata": {},
     "output_type": "display_data"
    },
    {
     "name": "stdout",
     "output_type": "stream",
     "text": [
      "\n",
      "Train Accuracy: D[0.952] --> B[0.995] | MSE(D): 1.411211e-03\n",
      "Test Accuracy:  D[0.953] --> B[0.995] | MSE(D): 1.624160e-03\n",
      "\n",
      "..........\n",
      "Epoch 14:\n"
     ]
    },
    {
     "data": {
      "application/vnd.jupyter.widget-view+json": {
       "model_id": "19aac9203bf54702b283b7cce640fa6c",
       "version_major": 2,
       "version_minor": 0
      },
      "text/plain": [
       "HBox(children=(IntProgress(value=0, max=60000), HTML(value='')))"
      ]
     },
     "metadata": {},
     "output_type": "display_data"
    },
    {
     "name": "stdout",
     "output_type": "stream",
     "text": [
      "\n",
      "Train Accuracy: D[0.954] --> B[0.995] | MSE(D): 1.376969e-03\n",
      "Test Accuracy:  D[0.956] --> B[0.995] | MSE(D): 1.446034e-03\n",
      "\n",
      "..........\n",
      "Epoch 15:\n"
     ]
    },
    {
     "data": {
      "application/vnd.jupyter.widget-view+json": {
       "model_id": "1fc74362e7814959b0452b7a5fef2339",
       "version_major": 2,
       "version_minor": 0
      },
      "text/plain": [
       "HBox(children=(IntProgress(value=0, max=60000), HTML(value='')))"
      ]
     },
     "metadata": {},
     "output_type": "display_data"
    },
    {
     "name": "stdout",
     "output_type": "stream",
     "text": [
      "\n",
      "Train Accuracy: D[0.957] --> B[0.995] | MSE(D): 1.250008e-03\n",
      "Test Accuracy:  D[0.958] --> B[0.995] | MSE(D): 1.291348e-03\n",
      "\n",
      "..........\n",
      "Epoch 16:\n"
     ]
    },
    {
     "data": {
      "application/vnd.jupyter.widget-view+json": {
       "model_id": "8fb1eba72d28469a90ea040dd78b2c23",
       "version_major": 2,
       "version_minor": 0
      },
      "text/plain": [
       "HBox(children=(IntProgress(value=0, max=60000), HTML(value='')))"
      ]
     },
     "metadata": {},
     "output_type": "display_data"
    },
    {
     "name": "stdout",
     "output_type": "stream",
     "text": [
      "\n",
      "Train Accuracy: D[0.959] --> B[0.995] | MSE(D): 1.233392e-03\n",
      "Test Accuracy:  D[0.960] --> B[0.995] | MSE(D): 1.284708e-03\n",
      "\n",
      "..........\n",
      "Epoch 17:\n"
     ]
    },
    {
     "data": {
      "application/vnd.jupyter.widget-view+json": {
       "model_id": "76bd7c3690bd4d12b0d6731d11cd90f1",
       "version_major": 2,
       "version_minor": 0
      },
      "text/plain": [
       "HBox(children=(IntProgress(value=0, max=60000), HTML(value='')))"
      ]
     },
     "metadata": {},
     "output_type": "display_data"
    },
    {
     "name": "stdout",
     "output_type": "stream",
     "text": [
      "\n",
      "Train Accuracy: D[0.960] --> B[0.995] | MSE(D): 1.170956e-03\n",
      "Test Accuracy:  D[0.961] --> B[0.995] | MSE(D): 1.202052e-03\n",
      "\n",
      "..........\n",
      "Epoch 18:\n"
     ]
    },
    {
     "data": {
      "application/vnd.jupyter.widget-view+json": {
       "model_id": "a072e8c659eb451798deb8829e2b9cef",
       "version_major": 2,
       "version_minor": 0
      },
      "text/plain": [
       "HBox(children=(IntProgress(value=0, max=60000), HTML(value='')))"
      ]
     },
     "metadata": {},
     "output_type": "display_data"
    },
    {
     "name": "stdout",
     "output_type": "stream",
     "text": [
      "\n",
      "Train Accuracy: D[0.962] --> B[0.995] | MSE(D): 1.048222e-03\n",
      "Test Accuracy:  D[0.963] --> B[0.995] | MSE(D): 1.395194e-03\n",
      "\n",
      "..........\n",
      "Epoch 19:\n"
     ]
    },
    {
     "data": {
      "application/vnd.jupyter.widget-view+json": {
       "model_id": "d246e5222c9045a3aa3371ce01c01dcd",
       "version_major": 2,
       "version_minor": 0
      },
      "text/plain": [
       "HBox(children=(IntProgress(value=0, max=60000), HTML(value='')))"
      ]
     },
     "metadata": {},
     "output_type": "display_data"
    },
    {
     "name": "stdout",
     "output_type": "stream",
     "text": [
      "\n",
      "Train Accuracy: D[0.963] --> B[0.995] | MSE(D): 9.552254e-04\n",
      "Test Accuracy:  D[0.964] --> B[0.995] | MSE(D): 1.277159e-03\n",
      "\n",
      "..........\n",
      "Epoch 20:\n"
     ]
    },
    {
     "data": {
      "application/vnd.jupyter.widget-view+json": {
       "model_id": "814890add4424c0ba2e74c0c818f57c6",
       "version_major": 2,
       "version_minor": 0
      },
      "text/plain": [
       "HBox(children=(IntProgress(value=0, max=60000), HTML(value='')))"
      ]
     },
     "metadata": {},
     "output_type": "display_data"
    },
    {
     "name": "stdout",
     "output_type": "stream",
     "text": [
      "\n",
      "Train Accuracy: D[0.965] --> B[0.995] | MSE(D): 9.949456e-04\n",
      "Test Accuracy:  D[0.965] --> B[0.995] | MSE(D): 1.281177e-03\n",
      "\n",
      "..........\n",
      "Epoch 21:\n"
     ]
    },
    {
     "data": {
      "application/vnd.jupyter.widget-view+json": {
       "model_id": "cdf4818ae58f4c8ea82bf93a9c79a418",
       "version_major": 2,
       "version_minor": 0
      },
      "text/plain": [
       "HBox(children=(IntProgress(value=0, max=60000), HTML(value='')))"
      ]
     },
     "metadata": {},
     "output_type": "display_data"
    },
    {
     "name": "stdout",
     "output_type": "stream",
     "text": [
      "\n",
      "Train Accuracy: D[0.966] --> B[0.995] | MSE(D): 9.145628e-04\n",
      "Test Accuracy:  D[0.966] --> B[0.995] | MSE(D): 1.206708e-03\n",
      "\n",
      "..........\n",
      "Epoch 22:\n"
     ]
    },
    {
     "data": {
      "application/vnd.jupyter.widget-view+json": {
       "model_id": "a703945e00ff4ddea2a391db7e872dda",
       "version_major": 2,
       "version_minor": 0
      },
      "text/plain": [
       "HBox(children=(IntProgress(value=0, max=60000), HTML(value='')))"
      ]
     },
     "metadata": {},
     "output_type": "display_data"
    },
    {
     "name": "stdout",
     "output_type": "stream",
     "text": [
      "\n",
      "Train Accuracy: D[0.967] --> B[0.995] | MSE(D): 8.542594e-04\n",
      "Test Accuracy:  D[0.967] --> B[0.995] | MSE(D): 1.153734e-03\n",
      "\n",
      "..........\n",
      "Epoch 23:\n"
     ]
    },
    {
     "data": {
      "application/vnd.jupyter.widget-view+json": {
       "model_id": "8b540ed708004b7a8835db6435dea0db",
       "version_major": 2,
       "version_minor": 0
      },
      "text/plain": [
       "HBox(children=(IntProgress(value=0, max=60000), HTML(value='')))"
      ]
     },
     "metadata": {},
     "output_type": "display_data"
    },
    {
     "name": "stdout",
     "output_type": "stream",
     "text": [
      "\n",
      "Train Accuracy: D[0.968] --> B[0.995] | MSE(D): 8.576620e-04\n",
      "Test Accuracy:  D[0.968] --> B[0.995] | MSE(D): 1.200784e-03\n",
      "\n",
      "..........\n",
      "Epoch 24:\n"
     ]
    },
    {
     "data": {
      "application/vnd.jupyter.widget-view+json": {
       "model_id": "f58e7f4464ff45988d1fc8a4e646bce5",
       "version_major": 2,
       "version_minor": 0
      },
      "text/plain": [
       "HBox(children=(IntProgress(value=0, max=60000), HTML(value='')))"
      ]
     },
     "metadata": {},
     "output_type": "display_data"
    },
    {
     "name": "stdout",
     "output_type": "stream",
     "text": [
      "\n",
      "Train Accuracy: D[0.969] --> B[0.995] | MSE(D): 8.668987e-04\n",
      "Test Accuracy:  D[0.969] --> B[0.995] | MSE(D): 1.227831e-03\n",
      "\n",
      "..........\n",
      "Epoch 25:\n"
     ]
    },
    {
     "data": {
      "application/vnd.jupyter.widget-view+json": {
       "model_id": "ee7d993f15f74c9b8f67729e99aa5a0c",
       "version_major": 2,
       "version_minor": 0
      },
      "text/plain": [
       "HBox(children=(IntProgress(value=0, max=60000), HTML(value='')))"
      ]
     },
     "metadata": {},
     "output_type": "display_data"
    },
    {
     "name": "stdout",
     "output_type": "stream",
     "text": [
      "\n",
      "Train Accuracy: D[0.970] --> B[0.995] | MSE(D): 8.150865e-04\n",
      "Test Accuracy:  D[0.970] --> B[0.995] | MSE(D): 9.578701e-04\n",
      "\n",
      "Saved weights for e25\n",
      "========================================\n",
      "INFO:tensorflow:Restoring parameters from ./discriminator_checkpoints/null\\discriminator_checkpoint.ckpt\n",
      "Reset graph to its initial state\n",
      "\n",
      "========================================\n",
      "Loading previous blackbox_e15 evaluation\n",
      "\n",
      "========================================\n",
      "Training on blackbox_e15\n",
      "..........\n",
      "Epoch 1:\n"
     ]
    },
    {
     "data": {
      "application/vnd.jupyter.widget-view+json": {
       "model_id": "2af2ca3e879741a5b557c4fa0ced5c00",
       "version_major": 2,
       "version_minor": 0
      },
      "text/plain": [
       "HBox(children=(IntProgress(value=0, max=60000), HTML(value='')))"
      ]
     },
     "metadata": {},
     "output_type": "display_data"
    },
    {
     "name": "stdout",
     "output_type": "stream",
     "text": [
      "\n",
      "Train Accuracy: D[0.575] --> B[0.997] | MSE(D): 3.621918e-02\n",
      "Test Accuracy:  D[0.760] --> B[0.996] | MSE(D): 1.307933e-02\n",
      "\n",
      "..........\n",
      "Epoch 2:\n"
     ]
    },
    {
     "data": {
      "application/vnd.jupyter.widget-view+json": {
       "model_id": "d4e196c480d947c1b17017a2565cd6ab",
       "version_major": 2,
       "version_minor": 0
      },
      "text/plain": [
       "HBox(children=(IntProgress(value=0, max=60000), HTML(value='')))"
      ]
     },
     "metadata": {},
     "output_type": "display_data"
    },
    {
     "name": "stdout",
     "output_type": "stream",
     "text": [
      "\n",
      "Train Accuracy: D[0.804] --> B[0.996] | MSE(D): 1.057252e-02\n",
      "Test Accuracy:  D[0.845] --> B[0.996] | MSE(D): 6.406306e-03\n",
      "\n",
      "..........\n",
      "Epoch 3:\n"
     ]
    },
    {
     "data": {
      "application/vnd.jupyter.widget-view+json": {
       "model_id": "5777e0bab6b54901832941407e2f8d86",
       "version_major": 2,
       "version_minor": 0
      },
      "text/plain": [
       "HBox(children=(IntProgress(value=0, max=60000), HTML(value='')))"
      ]
     },
     "metadata": {},
     "output_type": "display_data"
    },
    {
     "name": "stdout",
     "output_type": "stream",
     "text": [
      "\n",
      "Train Accuracy: D[0.863] --> B[0.996] | MSE(D): 6.299907e-03\n",
      "Test Accuracy:  D[0.882] --> B[0.996] | MSE(D): 4.050141e-03\n",
      "\n",
      "..........\n",
      "Epoch 4:\n"
     ]
    },
    {
     "data": {
      "application/vnd.jupyter.widget-view+json": {
       "model_id": "9c11791d23b149d2973d3e4284f1b8e4",
       "version_major": 2,
       "version_minor": 0
      },
      "text/plain": [
       "HBox(children=(IntProgress(value=0, max=60000), HTML(value='')))"
      ]
     },
     "metadata": {},
     "output_type": "display_data"
    },
    {
     "name": "stdout",
     "output_type": "stream",
     "text": [
      "\n",
      "Train Accuracy: D[0.892] --> B[0.996] | MSE(D): 4.301765e-03\n",
      "Test Accuracy:  D[0.903] --> B[0.996] | MSE(D): 3.113242e-03\n",
      "\n",
      "..........\n",
      "Epoch 5:\n"
     ]
    },
    {
     "data": {
      "application/vnd.jupyter.widget-view+json": {
       "model_id": "a53bd00e2b2945ae8a699fc1a208516a",
       "version_major": 2,
       "version_minor": 0
      },
      "text/plain": [
       "HBox(children=(IntProgress(value=0, max=60000), HTML(value='')))"
      ]
     },
     "metadata": {},
     "output_type": "display_data"
    },
    {
     "name": "stdout",
     "output_type": "stream",
     "text": [
      "\n",
      "Train Accuracy: D[0.909] --> B[0.996] | MSE(D): 3.596875e-03\n",
      "Test Accuracy:  D[0.917] --> B[0.996] | MSE(D): 2.467739e-03\n",
      "\n",
      "..........\n",
      "Epoch 6:\n"
     ]
    },
    {
     "data": {
      "application/vnd.jupyter.widget-view+json": {
       "model_id": "2f0fdd1b98424f07b0396fa93f914b9c",
       "version_major": 2,
       "version_minor": 0
      },
      "text/plain": [
       "HBox(children=(IntProgress(value=0, max=60000), HTML(value='')))"
      ]
     },
     "metadata": {},
     "output_type": "display_data"
    },
    {
     "name": "stdout",
     "output_type": "stream",
     "text": [
      "\n",
      "Train Accuracy: D[0.921] --> B[0.996] | MSE(D): 2.959010e-03\n",
      "Test Accuracy:  D[0.927] --> B[0.996] | MSE(D): 2.412641e-03\n",
      "\n",
      "..........\n",
      "Epoch 7:\n"
     ]
    },
    {
     "data": {
      "application/vnd.jupyter.widget-view+json": {
       "model_id": "291de492a06c42ecacf8dce4c6542ea3",
       "version_major": 2,
       "version_minor": 0
      },
      "text/plain": [
       "HBox(children=(IntProgress(value=0, max=60000), HTML(value='')))"
      ]
     },
     "metadata": {},
     "output_type": "display_data"
    },
    {
     "name": "stdout",
     "output_type": "stream",
     "text": [
      "\n",
      "Train Accuracy: D[0.930] --> B[0.996] | MSE(D): 2.780498e-03\n",
      "Test Accuracy:  D[0.934] --> B[0.996] | MSE(D): 2.159686e-03\n",
      "\n",
      "..........\n",
      "Epoch 8:\n"
     ]
    },
    {
     "data": {
      "application/vnd.jupyter.widget-view+json": {
       "model_id": "fa23682924824dc1a509f0c294df4d31",
       "version_major": 2,
       "version_minor": 0
      },
      "text/plain": [
       "HBox(children=(IntProgress(value=0, max=60000), HTML(value='')))"
      ]
     },
     "metadata": {},
     "output_type": "display_data"
    },
    {
     "name": "stdout",
     "output_type": "stream",
     "text": [
      "\n",
      "Train Accuracy: D[0.936] --> B[0.996] | MSE(D): 2.301551e-03\n",
      "Test Accuracy:  D[0.939] --> B[0.996] | MSE(D): 1.986690e-03\n",
      "\n",
      "..........\n",
      "Epoch 9:\n"
     ]
    },
    {
     "data": {
      "application/vnd.jupyter.widget-view+json": {
       "model_id": "1c749269f139497f931ce004e5619f0e",
       "version_major": 2,
       "version_minor": 0
      },
      "text/plain": [
       "HBox(children=(IntProgress(value=0, max=60000), HTML(value='')))"
      ]
     },
     "metadata": {},
     "output_type": "display_data"
    },
    {
     "name": "stdout",
     "output_type": "stream",
     "text": [
      "\n",
      "Train Accuracy: D[0.942] --> B[0.996] | MSE(D): 1.984850e-03\n",
      "Test Accuracy:  D[0.944] --> B[0.996] | MSE(D): 1.943560e-03\n",
      "\n",
      "..........\n",
      "Epoch 10:\n"
     ]
    },
    {
     "data": {
      "application/vnd.jupyter.widget-view+json": {
       "model_id": "d741ff1bebac41faa90a91911fd110eb",
       "version_major": 2,
       "version_minor": 0
      },
      "text/plain": [
       "HBox(children=(IntProgress(value=0, max=60000), HTML(value='')))"
      ]
     },
     "metadata": {},
     "output_type": "display_data"
    },
    {
     "name": "stdout",
     "output_type": "stream",
     "text": [
      "\n",
      "Train Accuracy: D[0.946] --> B[0.996] | MSE(D): 1.889787e-03\n",
      "Test Accuracy:  D[0.948] --> B[0.996] | MSE(D): 1.785441e-03\n",
      "\n",
      "..........\n",
      "Epoch 11:\n"
     ]
    },
    {
     "data": {
      "application/vnd.jupyter.widget-view+json": {
       "model_id": "90102adaa33446c49f6186d80f01adb0",
       "version_major": 2,
       "version_minor": 0
      },
      "text/plain": [
       "HBox(children=(IntProgress(value=0, max=60000), HTML(value='')))"
      ]
     },
     "metadata": {},
     "output_type": "display_data"
    },
    {
     "name": "stdout",
     "output_type": "stream",
     "text": [
      "\n",
      "Train Accuracy: D[0.949] --> B[0.996] | MSE(D): 1.734906e-03\n",
      "Test Accuracy:  D[0.951] --> B[0.996] | MSE(D): 1.576543e-03\n",
      "\n",
      "..........\n",
      "Epoch 12:\n"
     ]
    },
    {
     "data": {
      "application/vnd.jupyter.widget-view+json": {
       "model_id": "a075ff2013514b6b861f6ceec533f95c",
       "version_major": 2,
       "version_minor": 0
      },
      "text/plain": [
       "HBox(children=(IntProgress(value=0, max=60000), HTML(value='')))"
      ]
     },
     "metadata": {},
     "output_type": "display_data"
    },
    {
     "name": "stdout",
     "output_type": "stream",
     "text": [
      "\n",
      "Train Accuracy: D[0.952] --> B[0.996] | MSE(D): 1.577039e-03\n",
      "Test Accuracy:  D[0.954] --> B[0.996] | MSE(D): 1.524478e-03\n",
      "\n",
      "..........\n",
      "Epoch 13:\n"
     ]
    },
    {
     "data": {
      "application/vnd.jupyter.widget-view+json": {
       "model_id": "66ae38e5550d4aed850212deafa309b3",
       "version_major": 2,
       "version_minor": 0
      },
      "text/plain": [
       "HBox(children=(IntProgress(value=0, max=60000), HTML(value='')))"
      ]
     },
     "metadata": {},
     "output_type": "display_data"
    },
    {
     "name": "stdout",
     "output_type": "stream",
     "text": [
      "\n",
      "Train Accuracy: D[0.955] --> B[0.996] | MSE(D): 1.454710e-03\n",
      "Test Accuracy:  D[0.956] --> B[0.996] | MSE(D): 1.523247e-03\n",
      "\n",
      "..........\n",
      "Epoch 14:\n"
     ]
    },
    {
     "data": {
      "application/vnd.jupyter.widget-view+json": {
       "model_id": "4ab96d04344041bf9519ecd7b470710d",
       "version_major": 2,
       "version_minor": 0
      },
      "text/plain": [
       "HBox(children=(IntProgress(value=0, max=60000), HTML(value='')))"
      ]
     },
     "metadata": {},
     "output_type": "display_data"
    },
    {
     "name": "stdout",
     "output_type": "stream",
     "text": [
      "\n",
      "Train Accuracy: D[0.957] --> B[0.996] | MSE(D): 1.322554e-03\n",
      "Test Accuracy:  D[0.958] --> B[0.996] | MSE(D): 1.515240e-03\n",
      "\n",
      "..........\n",
      "Epoch 15:\n"
     ]
    },
    {
     "data": {
      "application/vnd.jupyter.widget-view+json": {
       "model_id": "a84362f535b94c13be6a86fd7db62065",
       "version_major": 2,
       "version_minor": 0
      },
      "text/plain": [
       "HBox(children=(IntProgress(value=0, max=60000), HTML(value='')))"
      ]
     },
     "metadata": {},
     "output_type": "display_data"
    },
    {
     "name": "stdout",
     "output_type": "stream",
     "text": [
      "\n",
      "Train Accuracy: D[0.959] --> B[0.996] | MSE(D): 1.303043e-03\n",
      "Test Accuracy:  D[0.960] --> B[0.996] | MSE(D): 1.479783e-03\n",
      "\n",
      "..........\n",
      "Epoch 16:\n"
     ]
    },
    {
     "data": {
      "application/vnd.jupyter.widget-view+json": {
       "model_id": "8ea9efecad594e1cbcd2b97d15392205",
       "version_major": 2,
       "version_minor": 0
      },
      "text/plain": [
       "HBox(children=(IntProgress(value=0, max=60000), HTML(value='')))"
      ]
     },
     "metadata": {},
     "output_type": "display_data"
    },
    {
     "name": "stdout",
     "output_type": "stream",
     "text": [
      "\n",
      "Train Accuracy: D[0.961] --> B[0.996] | MSE(D): 1.274798e-03\n",
      "Test Accuracy:  D[0.962] --> B[0.996] | MSE(D): 1.531161e-03\n",
      "\n",
      "..........\n",
      "Epoch 17:\n"
     ]
    },
    {
     "data": {
      "application/vnd.jupyter.widget-view+json": {
       "model_id": "adcf3357038149afbf6cad4144a9e2cc",
       "version_major": 2,
       "version_minor": 0
      },
      "text/plain": [
       "HBox(children=(IntProgress(value=0, max=60000), HTML(value='')))"
      ]
     },
     "metadata": {},
     "output_type": "display_data"
    },
    {
     "name": "stdout",
     "output_type": "stream",
     "text": [
      "\n",
      "Train Accuracy: D[0.963] --> B[0.996] | MSE(D): 1.101491e-03\n",
      "Test Accuracy:  D[0.963] --> B[0.996] | MSE(D): 1.505792e-03\n",
      "\n",
      "..........\n",
      "Epoch 18:\n"
     ]
    },
    {
     "data": {
      "application/vnd.jupyter.widget-view+json": {
       "model_id": "f5d5ddbfc243437e86c4f5d6727c76ba",
       "version_major": 2,
       "version_minor": 0
      },
      "text/plain": [
       "HBox(children=(IntProgress(value=0, max=60000), HTML(value='')))"
      ]
     },
     "metadata": {},
     "output_type": "display_data"
    },
    {
     "name": "stdout",
     "output_type": "stream",
     "text": [
      "\n",
      "Train Accuracy: D[0.964] --> B[0.996] | MSE(D): 1.089347e-03\n",
      "Test Accuracy:  D[0.965] --> B[0.996] | MSE(D): 1.385707e-03\n",
      "\n",
      "..........\n",
      "Epoch 19:\n"
     ]
    },
    {
     "data": {
      "application/vnd.jupyter.widget-view+json": {
       "model_id": "bb10fdc0706a45c38761c259beb2e30d",
       "version_major": 2,
       "version_minor": 0
      },
      "text/plain": [
       "HBox(children=(IntProgress(value=0, max=60000), HTML(value='')))"
      ]
     },
     "metadata": {},
     "output_type": "display_data"
    },
    {
     "name": "stdout",
     "output_type": "stream",
     "text": [
      "\n",
      "Train Accuracy: D[0.965] --> B[0.996] | MSE(D): 1.071154e-03\n",
      "Test Accuracy:  D[0.966] --> B[0.996] | MSE(D): 1.238964e-03\n",
      "\n",
      "..........\n",
      "Epoch 20:\n"
     ]
    },
    {
     "data": {
      "application/vnd.jupyter.widget-view+json": {
       "model_id": "8ffb4c2d8a5e436fae346d547e798567",
       "version_major": 2,
       "version_minor": 0
      },
      "text/plain": [
       "HBox(children=(IntProgress(value=0, max=60000), HTML(value='')))"
      ]
     },
     "metadata": {},
     "output_type": "display_data"
    },
    {
     "name": "stdout",
     "output_type": "stream",
     "text": [
      "\n",
      "Train Accuracy: D[0.967] --> B[0.996] | MSE(D): 1.061641e-03\n",
      "Test Accuracy:  D[0.967] --> B[0.996] | MSE(D): 1.140274e-03\n",
      "\n",
      "..........\n",
      "Epoch 21:\n"
     ]
    },
    {
     "data": {
      "application/vnd.jupyter.widget-view+json": {
       "model_id": "785d4418cc9f4549b6af7ad2dccc5405",
       "version_major": 2,
       "version_minor": 0
      },
      "text/plain": [
       "HBox(children=(IntProgress(value=0, max=60000), HTML(value='')))"
      ]
     },
     "metadata": {},
     "output_type": "display_data"
    },
    {
     "name": "stdout",
     "output_type": "stream",
     "text": [
      "\n",
      "Train Accuracy: D[0.968] --> B[0.996] | MSE(D): 9.959155e-04\n",
      "Test Accuracy:  D[0.968] --> B[0.996] | MSE(D): 1.167111e-03\n",
      "\n",
      "..........\n",
      "Epoch 22:\n"
     ]
    },
    {
     "data": {
      "application/vnd.jupyter.widget-view+json": {
       "model_id": "7e02c41f36cc472e92fe2cf56a34c000",
       "version_major": 2,
       "version_minor": 0
      },
      "text/plain": [
       "HBox(children=(IntProgress(value=0, max=60000), HTML(value='')))"
      ]
     },
     "metadata": {},
     "output_type": "display_data"
    },
    {
     "name": "stdout",
     "output_type": "stream",
     "text": [
      "\n",
      "Train Accuracy: D[0.969] --> B[0.996] | MSE(D): 9.850276e-04\n",
      "Test Accuracy:  D[0.969] --> B[0.996] | MSE(D): 1.232803e-03\n",
      "\n",
      "..........\n",
      "Epoch 23:\n"
     ]
    },
    {
     "data": {
      "application/vnd.jupyter.widget-view+json": {
       "model_id": "4aa193e3e6ca41768fd1ed6360758ded",
       "version_major": 2,
       "version_minor": 0
      },
      "text/plain": [
       "HBox(children=(IntProgress(value=0, max=60000), HTML(value='')))"
      ]
     },
     "metadata": {},
     "output_type": "display_data"
    },
    {
     "name": "stdout",
     "output_type": "stream",
     "text": [
      "\n",
      "Train Accuracy: D[0.969] --> B[0.996] | MSE(D): 8.827412e-04\n",
      "Test Accuracy:  D[0.970] --> B[0.996] | MSE(D): 1.353491e-03\n",
      "\n",
      "..........\n",
      "Epoch 24:\n"
     ]
    },
    {
     "data": {
      "application/vnd.jupyter.widget-view+json": {
       "model_id": "d547ed8eaed244ab8c9fd24021557061",
       "version_major": 2,
       "version_minor": 0
      },
      "text/plain": [
       "HBox(children=(IntProgress(value=0, max=60000), HTML(value='')))"
      ]
     },
     "metadata": {},
     "output_type": "display_data"
    },
    {
     "name": "stdout",
     "output_type": "stream",
     "text": [
      "\n",
      "Train Accuracy: D[0.970] --> B[0.996] | MSE(D): 8.751046e-04\n",
      "Test Accuracy:  D[0.971] --> B[0.996] | MSE(D): 1.242322e-03\n",
      "\n",
      "..........\n",
      "Epoch 25:\n"
     ]
    },
    {
     "data": {
      "application/vnd.jupyter.widget-view+json": {
       "model_id": "f351dadf312e459b9378186eb6cb32eb",
       "version_major": 2,
       "version_minor": 0
      },
      "text/plain": [
       "HBox(children=(IntProgress(value=0, max=60000), HTML(value='')))"
      ]
     },
     "metadata": {},
     "output_type": "display_data"
    },
    {
     "name": "stdout",
     "output_type": "stream",
     "text": [
      "\n",
      "Train Accuracy: D[0.971] --> B[0.996] | MSE(D): 8.751067e-04\n",
      "Test Accuracy:  D[0.972] --> B[0.996] | MSE(D): 1.220833e-03\n",
      "\n",
      "Saved weights for e25\n",
      "========================================\n",
      "INFO:tensorflow:Restoring parameters from ./discriminator_checkpoints/null\\discriminator_checkpoint.ckpt\n",
      "Reset graph to its initial state\n",
      "\n",
      "========================================\n",
      "Loading previous blackbox_e16 evaluation\n",
      "\n",
      "========================================\n",
      "Training on blackbox_e16\n",
      "..........\n",
      "Epoch 1:\n"
     ]
    },
    {
     "data": {
      "application/vnd.jupyter.widget-view+json": {
       "model_id": "43f2d4040e2c47f7b4fe250331615794",
       "version_major": 2,
       "version_minor": 0
      },
      "text/plain": [
       "HBox(children=(IntProgress(value=0, max=60000), HTML(value='')))"
      ]
     },
     "metadata": {},
     "output_type": "display_data"
    },
    {
     "name": "stdout",
     "output_type": "stream",
     "text": [
      "\n",
      "Train Accuracy: D[0.517] --> B[0.998] | MSE(D): 3.876255e-02\n",
      "Test Accuracy:  D[0.742] --> B[0.996] | MSE(D): 1.275539e-02\n",
      "\n",
      "..........\n",
      "Epoch 2:\n"
     ]
    },
    {
     "data": {
      "application/vnd.jupyter.widget-view+json": {
       "model_id": "5a98e66b37244f8ba29eefd9cbb8a9fe",
       "version_major": 2,
       "version_minor": 0
      },
      "text/plain": [
       "HBox(children=(IntProgress(value=0, max=60000), HTML(value='')))"
      ]
     },
     "metadata": {},
     "output_type": "display_data"
    },
    {
     "name": "stdout",
     "output_type": "stream",
     "text": [
      "\n",
      "Train Accuracy: D[0.791] --> B[0.997] | MSE(D): 1.030958e-02\n",
      "Test Accuracy:  D[0.837] --> B[0.996] | MSE(D): 6.090277e-03\n",
      "\n",
      "..........\n",
      "Epoch 3:\n"
     ]
    },
    {
     "data": {
      "application/vnd.jupyter.widget-view+json": {
       "model_id": "9daee1624ca14d708d1996667d96a4f4",
       "version_major": 2,
       "version_minor": 0
      },
      "text/plain": [
       "HBox(children=(IntProgress(value=0, max=60000), HTML(value='')))"
      ]
     },
     "metadata": {},
     "output_type": "display_data"
    },
    {
     "name": "stdout",
     "output_type": "stream",
     "text": [
      "\n",
      "Train Accuracy: D[0.856] --> B[0.996] | MSE(D): 6.150889e-03\n",
      "Test Accuracy:  D[0.877] --> B[0.996] | MSE(D): 3.886685e-03\n",
      "\n",
      "..........\n",
      "Epoch 4:\n"
     ]
    },
    {
     "data": {
      "application/vnd.jupyter.widget-view+json": {
       "model_id": "c1de6838c92748738cee50e95afec51b",
       "version_major": 2,
       "version_minor": 0
      },
      "text/plain": [
       "HBox(children=(IntProgress(value=0, max=60000), HTML(value='')))"
      ]
     },
     "metadata": {},
     "output_type": "display_data"
    },
    {
     "name": "stdout",
     "output_type": "stream",
     "text": [
      "\n",
      "Train Accuracy: D[0.887] --> B[0.996] | MSE(D): 4.432243e-03\n",
      "Test Accuracy:  D[0.899] --> B[0.996] | MSE(D): 3.019169e-03\n",
      "\n",
      "..........\n",
      "Epoch 5:\n"
     ]
    },
    {
     "data": {
      "application/vnd.jupyter.widget-view+json": {
       "model_id": "7807feae7d2444eca68812517d3c9c70",
       "version_major": 2,
       "version_minor": 0
      },
      "text/plain": [
       "HBox(children=(IntProgress(value=0, max=60000), HTML(value='')))"
      ]
     },
     "metadata": {},
     "output_type": "display_data"
    },
    {
     "name": "stdout",
     "output_type": "stream",
     "text": [
      "\n",
      "Train Accuracy: D[0.906] --> B[0.996] | MSE(D): 3.514948e-03\n",
      "Test Accuracy:  D[0.914] --> B[0.996] | MSE(D): 2.763995e-03\n",
      "\n",
      "..........\n",
      "Epoch 6:\n"
     ]
    },
    {
     "data": {
      "application/vnd.jupyter.widget-view+json": {
       "model_id": "99f653673b244f84bbf834ff7fd597f4",
       "version_major": 2,
       "version_minor": 0
      },
      "text/plain": [
       "HBox(children=(IntProgress(value=0, max=60000), HTML(value='')))"
      ]
     },
     "metadata": {},
     "output_type": "display_data"
    },
    {
     "name": "stdout",
     "output_type": "stream",
     "text": [
      "\n",
      "Train Accuracy: D[0.919] --> B[0.996] | MSE(D): 2.899082e-03\n",
      "Test Accuracy:  D[0.924] --> B[0.996] | MSE(D): 2.568887e-03\n",
      "\n",
      "..........\n",
      "Epoch 7:\n"
     ]
    },
    {
     "data": {
      "application/vnd.jupyter.widget-view+json": {
       "model_id": "dca2b51ec92d470f8b25122550c4d4ed",
       "version_major": 2,
       "version_minor": 0
      },
      "text/plain": [
       "HBox(children=(IntProgress(value=0, max=60000), HTML(value='')))"
      ]
     },
     "metadata": {},
     "output_type": "display_data"
    },
    {
     "name": "stdout",
     "output_type": "stream",
     "text": [
      "\n",
      "Train Accuracy: D[0.928] --> B[0.996] | MSE(D): 2.557996e-03\n",
      "Test Accuracy:  D[0.932] --> B[0.996] | MSE(D): 2.019022e-03\n",
      "\n",
      "..........\n",
      "Epoch 8:\n"
     ]
    },
    {
     "data": {
      "application/vnd.jupyter.widget-view+json": {
       "model_id": "3ffca0bbcf1c4c8f8b073591d7bdaa0e",
       "version_major": 2,
       "version_minor": 0
      },
      "text/plain": [
       "HBox(children=(IntProgress(value=0, max=60000), HTML(value='')))"
      ]
     },
     "metadata": {},
     "output_type": "display_data"
    },
    {
     "name": "stdout",
     "output_type": "stream",
     "text": [
      "\n",
      "Train Accuracy: D[0.935] --> B[0.996] | MSE(D): 2.218366e-03\n",
      "Test Accuracy:  D[0.938] --> B[0.996] | MSE(D): 1.781476e-03\n",
      "\n",
      "..........\n",
      "Epoch 9:\n"
     ]
    },
    {
     "data": {
      "application/vnd.jupyter.widget-view+json": {
       "model_id": "36c60cd636dc4a67b9d0f503ef29edc6",
       "version_major": 2,
       "version_minor": 0
      },
      "text/plain": [
       "HBox(children=(IntProgress(value=0, max=60000), HTML(value='')))"
      ]
     },
     "metadata": {},
     "output_type": "display_data"
    },
    {
     "name": "stdout",
     "output_type": "stream",
     "text": [
      "\n",
      "Train Accuracy: D[0.940] --> B[0.996] | MSE(D): 1.951292e-03\n",
      "Test Accuracy:  D[0.943] --> B[0.996] | MSE(D): 1.808067e-03\n",
      "\n",
      "..........\n",
      "Epoch 10:\n"
     ]
    },
    {
     "data": {
      "application/vnd.jupyter.widget-view+json": {
       "model_id": "c8e5774c23e942538bf6d96f193ba5f1",
       "version_major": 2,
       "version_minor": 0
      },
      "text/plain": [
       "HBox(children=(IntProgress(value=0, max=60000), HTML(value='')))"
      ]
     },
     "metadata": {},
     "output_type": "display_data"
    },
    {
     "name": "stdout",
     "output_type": "stream",
     "text": [
      "\n",
      "Train Accuracy: D[0.945] --> B[0.996] | MSE(D): 1.807935e-03\n",
      "Test Accuracy:  D[0.947] --> B[0.996] | MSE(D): 1.553664e-03\n",
      "\n",
      "..........\n",
      "Epoch 11:\n"
     ]
    },
    {
     "data": {
      "application/vnd.jupyter.widget-view+json": {
       "model_id": "4d2bc73abb204e1082aa7e6b3114f638",
       "version_major": 2,
       "version_minor": 0
      },
      "text/plain": [
       "HBox(children=(IntProgress(value=0, max=60000), HTML(value='')))"
      ]
     },
     "metadata": {},
     "output_type": "display_data"
    },
    {
     "name": "stdout",
     "output_type": "stream",
     "text": [
      "\n",
      "Train Accuracy: D[0.949] --> B[0.996] | MSE(D): 1.665296e-03\n",
      "Test Accuracy:  D[0.950] --> B[0.996] | MSE(D): 1.449997e-03\n",
      "\n",
      "..........\n",
      "Epoch 12:\n"
     ]
    },
    {
     "data": {
      "application/vnd.jupyter.widget-view+json": {
       "model_id": "bb1807110ebc4cd5879e488a625aabd0",
       "version_major": 2,
       "version_minor": 0
      },
      "text/plain": [
       "HBox(children=(IntProgress(value=0, max=60000), HTML(value='')))"
      ]
     },
     "metadata": {},
     "output_type": "display_data"
    },
    {
     "name": "stdout",
     "output_type": "stream",
     "text": [
      "\n",
      "Train Accuracy: D[0.952] --> B[0.996] | MSE(D): 1.544562e-03\n",
      "Test Accuracy:  D[0.953] --> B[0.996] | MSE(D): 1.511705e-03\n",
      "\n",
      "..........\n",
      "Epoch 13:\n"
     ]
    },
    {
     "data": {
      "application/vnd.jupyter.widget-view+json": {
       "model_id": "6a5d20c97b604e3bbb8ea99c9e65f5f0",
       "version_major": 2,
       "version_minor": 0
      },
      "text/plain": [
       "HBox(children=(IntProgress(value=0, max=60000), HTML(value='')))"
      ]
     },
     "metadata": {},
     "output_type": "display_data"
    },
    {
     "name": "stdout",
     "output_type": "stream",
     "text": [
      "\n",
      "Train Accuracy: D[0.954] --> B[0.996] | MSE(D): 1.334881e-03\n",
      "Test Accuracy:  D[0.956] --> B[0.996] | MSE(D): 1.447878e-03\n",
      "\n",
      "..........\n",
      "Epoch 14:\n"
     ]
    },
    {
     "data": {
      "application/vnd.jupyter.widget-view+json": {
       "model_id": "bb95c26855594bc6ae0ef9c94c2d8623",
       "version_major": 2,
       "version_minor": 0
      },
      "text/plain": [
       "HBox(children=(IntProgress(value=0, max=60000), HTML(value='')))"
      ]
     },
     "metadata": {},
     "output_type": "display_data"
    },
    {
     "name": "stdout",
     "output_type": "stream",
     "text": [
      "\n",
      "Train Accuracy: D[0.957] --> B[0.996] | MSE(D): 1.317709e-03\n",
      "Test Accuracy:  D[0.958] --> B[0.996] | MSE(D): 1.362690e-03\n",
      "\n",
      "..........\n",
      "Epoch 15:\n"
     ]
    },
    {
     "data": {
      "application/vnd.jupyter.widget-view+json": {
       "model_id": "f93d7b6f9fc247679e33bd4d43bab4cf",
       "version_major": 2,
       "version_minor": 0
      },
      "text/plain": [
       "HBox(children=(IntProgress(value=0, max=60000), HTML(value='')))"
      ]
     },
     "metadata": {},
     "output_type": "display_data"
    },
    {
     "name": "stdout",
     "output_type": "stream",
     "text": [
      "\n",
      "Train Accuracy: D[0.959] --> B[0.996] | MSE(D): 1.288804e-03\n",
      "Test Accuracy:  D[0.960] --> B[0.996] | MSE(D): 1.524531e-03\n",
      "\n",
      "..........\n",
      "Epoch 16:\n"
     ]
    },
    {
     "data": {
      "application/vnd.jupyter.widget-view+json": {
       "model_id": "b3791edb33ce45a2bc6bf6fd4ab32358",
       "version_major": 2,
       "version_minor": 0
      },
      "text/plain": [
       "HBox(children=(IntProgress(value=0, max=60000), HTML(value='')))"
      ]
     },
     "metadata": {},
     "output_type": "display_data"
    },
    {
     "name": "stdout",
     "output_type": "stream",
     "text": [
      "\n",
      "Train Accuracy: D[0.961] --> B[0.996] | MSE(D): 1.184671e-03\n",
      "Test Accuracy:  D[0.962] --> B[0.996] | MSE(D): 1.305468e-03\n",
      "\n",
      "..........\n",
      "Epoch 17:\n"
     ]
    },
    {
     "data": {
      "application/vnd.jupyter.widget-view+json": {
       "model_id": "d343ddeb3f1640f7ad8eaeaea8f8ee1b",
       "version_major": 2,
       "version_minor": 0
      },
      "text/plain": [
       "HBox(children=(IntProgress(value=0, max=60000), HTML(value='')))"
      ]
     },
     "metadata": {},
     "output_type": "display_data"
    },
    {
     "name": "stdout",
     "output_type": "stream",
     "text": [
      "\n",
      "Train Accuracy: D[0.962] --> B[0.996] | MSE(D): 1.125390e-03\n",
      "Test Accuracy:  D[0.963] --> B[0.996] | MSE(D): 1.255638e-03\n",
      "\n",
      "..........\n",
      "Epoch 18:\n"
     ]
    },
    {
     "data": {
      "application/vnd.jupyter.widget-view+json": {
       "model_id": "82b11a82d0b844c3b1c1374c6a2e3a78",
       "version_major": 2,
       "version_minor": 0
      },
      "text/plain": [
       "HBox(children=(IntProgress(value=0, max=60000), HTML(value='')))"
      ]
     },
     "metadata": {},
     "output_type": "display_data"
    },
    {
     "name": "stdout",
     "output_type": "stream",
     "text": [
      "\n",
      "Train Accuracy: D[0.964] --> B[0.996] | MSE(D): 1.052153e-03\n",
      "Test Accuracy:  D[0.965] --> B[0.996] | MSE(D): 1.212590e-03\n",
      "\n",
      "..........\n",
      "Epoch 19:\n"
     ]
    },
    {
     "data": {
      "application/vnd.jupyter.widget-view+json": {
       "model_id": "a7892a9cd72145c4854757a41b982042",
       "version_major": 2,
       "version_minor": 0
      },
      "text/plain": [
       "HBox(children=(IntProgress(value=0, max=60000), HTML(value='')))"
      ]
     },
     "metadata": {},
     "output_type": "display_data"
    },
    {
     "name": "stdout",
     "output_type": "stream",
     "text": [
      "\n",
      "Train Accuracy: D[0.965] --> B[0.996] | MSE(D): 9.595167e-04\n",
      "Test Accuracy:  D[0.966] --> B[0.996] | MSE(D): 1.183757e-03\n",
      "\n",
      "..........\n",
      "Epoch 20:\n"
     ]
    },
    {
     "data": {
      "application/vnd.jupyter.widget-view+json": {
       "model_id": "bc1a8671b8d6462ba7cf698bed93097e",
       "version_major": 2,
       "version_minor": 0
      },
      "text/plain": [
       "HBox(children=(IntProgress(value=0, max=60000), HTML(value='')))"
      ]
     },
     "metadata": {},
     "output_type": "display_data"
    },
    {
     "name": "stdout",
     "output_type": "stream",
     "text": [
      "\n",
      "Train Accuracy: D[0.966] --> B[0.996] | MSE(D): 9.099442e-04\n",
      "Test Accuracy:  D[0.967] --> B[0.996] | MSE(D): 1.086490e-03\n",
      "\n",
      "..........\n",
      "Epoch 21:\n"
     ]
    },
    {
     "data": {
      "application/vnd.jupyter.widget-view+json": {
       "model_id": "2c4824454412465f9da5e89797f9697f",
       "version_major": 2,
       "version_minor": 0
      },
      "text/plain": [
       "HBox(children=(IntProgress(value=0, max=60000), HTML(value='')))"
      ]
     },
     "metadata": {},
     "output_type": "display_data"
    },
    {
     "name": "stdout",
     "output_type": "stream",
     "text": [
      "\n",
      "Train Accuracy: D[0.968] --> B[0.996] | MSE(D): 8.477856e-04\n",
      "Test Accuracy:  D[0.968] --> B[0.996] | MSE(D): 1.355602e-03\n",
      "\n",
      "..........\n",
      "Epoch 22:\n"
     ]
    },
    {
     "data": {
      "application/vnd.jupyter.widget-view+json": {
       "model_id": "1e92e9c9835949f5bb737a29217468f4",
       "version_major": 2,
       "version_minor": 0
      },
      "text/plain": [
       "HBox(children=(IntProgress(value=0, max=60000), HTML(value='')))"
      ]
     },
     "metadata": {},
     "output_type": "display_data"
    },
    {
     "name": "stdout",
     "output_type": "stream",
     "text": [
      "\n",
      "Train Accuracy: D[0.969] --> B[0.996] | MSE(D): 8.415003e-04\n",
      "Test Accuracy:  D[0.969] --> B[0.996] | MSE(D): 1.356945e-03\n",
      "\n",
      "..........\n",
      "Epoch 23:\n"
     ]
    },
    {
     "data": {
      "application/vnd.jupyter.widget-view+json": {
       "model_id": "8f42626aa47a45b8b1c7874523664157",
       "version_major": 2,
       "version_minor": 0
      },
      "text/plain": [
       "HBox(children=(IntProgress(value=0, max=60000), HTML(value='')))"
      ]
     },
     "metadata": {},
     "output_type": "display_data"
    },
    {
     "name": "stdout",
     "output_type": "stream",
     "text": [
      "\n",
      "Train Accuracy: D[0.970] --> B[0.996] | MSE(D): 8.244938e-04\n",
      "Test Accuracy:  D[0.970] --> B[0.996] | MSE(D): 1.234260e-03\n",
      "\n",
      "..........\n",
      "Epoch 24:\n"
     ]
    },
    {
     "data": {
      "application/vnd.jupyter.widget-view+json": {
       "model_id": "72fde403586e462eb0e0232803ed4a93",
       "version_major": 2,
       "version_minor": 0
      },
      "text/plain": [
       "HBox(children=(IntProgress(value=0, max=60000), HTML(value='')))"
      ]
     },
     "metadata": {},
     "output_type": "display_data"
    },
    {
     "name": "stdout",
     "output_type": "stream",
     "text": [
      "\n",
      "Train Accuracy: D[0.970] --> B[0.996] | MSE(D): 8.326765e-04\n",
      "Test Accuracy:  D[0.971] --> B[0.996] | MSE(D): 1.175732e-03\n",
      "\n",
      "..........\n",
      "Epoch 25:\n"
     ]
    },
    {
     "data": {
      "application/vnd.jupyter.widget-view+json": {
       "model_id": "5b28f9dfe52d4a32975d9017873adfcd",
       "version_major": 2,
       "version_minor": 0
      },
      "text/plain": [
       "HBox(children=(IntProgress(value=0, max=60000), HTML(value='')))"
      ]
     },
     "metadata": {},
     "output_type": "display_data"
    },
    {
     "name": "stdout",
     "output_type": "stream",
     "text": [
      "\n",
      "Train Accuracy: D[0.971] --> B[0.996] | MSE(D): 8.435401e-04\n",
      "Test Accuracy:  D[0.972] --> B[0.996] | MSE(D): 1.333554e-03\n",
      "\n",
      "Saved weights for e25\n",
      "========================================\n",
      "INFO:tensorflow:Restoring parameters from ./discriminator_checkpoints/null\\discriminator_checkpoint.ckpt\n",
      "Reset graph to its initial state\n",
      "\n",
      "========================================\n",
      "Loading previous blackbox_e17 evaluation\n",
      "\n",
      "========================================\n",
      "Training on blackbox_e17\n",
      "..........\n",
      "Epoch 1:\n"
     ]
    },
    {
     "data": {
      "application/vnd.jupyter.widget-view+json": {
       "model_id": "7202a1bb0eb14198b41490c02b8ef446",
       "version_major": 2,
       "version_minor": 0
      },
      "text/plain": [
       "HBox(children=(IntProgress(value=0, max=60000), HTML(value='')))"
      ]
     },
     "metadata": {},
     "output_type": "display_data"
    },
    {
     "name": "stdout",
     "output_type": "stream",
     "text": [
      "\n",
      "Train Accuracy: D[0.490] --> B[0.997] | MSE(D): 4.110549e-02\n",
      "Test Accuracy:  D[0.723] --> B[0.997] | MSE(D): 1.364360e-02\n",
      "\n",
      "..........\n",
      "Epoch 2:\n"
     ]
    },
    {
     "data": {
      "application/vnd.jupyter.widget-view+json": {
       "model_id": "03f537d369c3448c9a6e0ecaaee7364b",
       "version_major": 2,
       "version_minor": 0
      },
      "text/plain": [
       "HBox(children=(IntProgress(value=0, max=60000), HTML(value='')))"
      ]
     },
     "metadata": {},
     "output_type": "display_data"
    },
    {
     "name": "stdout",
     "output_type": "stream",
     "text": [
      "\n",
      "Train Accuracy: D[0.776] --> B[0.997] | MSE(D): 1.132384e-02\n",
      "Test Accuracy:  D[0.825] --> B[0.997] | MSE(D): 6.641539e-03\n",
      "\n",
      "..........\n",
      "Epoch 3:\n"
     ]
    },
    {
     "data": {
      "application/vnd.jupyter.widget-view+json": {
       "model_id": "54bc6251ce1948108e80ac7f7df4b8ee",
       "version_major": 2,
       "version_minor": 0
      },
      "text/plain": [
       "HBox(children=(IntProgress(value=0, max=60000), HTML(value='')))"
      ]
     },
     "metadata": {},
     "output_type": "display_data"
    },
    {
     "name": "stdout",
     "output_type": "stream",
     "text": [
      "\n",
      "Train Accuracy: D[0.846] --> B[0.997] | MSE(D): 6.548421e-03\n",
      "Test Accuracy:  D[0.868] --> B[0.997] | MSE(D): 4.493257e-03\n",
      "\n",
      "..........\n",
      "Epoch 4:\n"
     ]
    },
    {
     "data": {
      "application/vnd.jupyter.widget-view+json": {
       "model_id": "5483d81ee40c4471886d497771b9db98",
       "version_major": 2,
       "version_minor": 0
      },
      "text/plain": [
       "HBox(children=(IntProgress(value=0, max=60000), HTML(value='')))"
      ]
     },
     "metadata": {},
     "output_type": "display_data"
    },
    {
     "name": "stdout",
     "output_type": "stream",
     "text": [
      "\n",
      "Train Accuracy: D[0.879] --> B[0.997] | MSE(D): 4.891716e-03\n",
      "Test Accuracy:  D[0.892] --> B[0.997] | MSE(D): 3.286624e-03\n",
      "\n",
      "..........\n",
      "Epoch 5:\n"
     ]
    },
    {
     "data": {
      "application/vnd.jupyter.widget-view+json": {
       "model_id": "06eb165f7b4545edb40a5e6f6970fa76",
       "version_major": 2,
       "version_minor": 0
      },
      "text/plain": [
       "HBox(children=(IntProgress(value=0, max=60000), HTML(value='')))"
      ]
     },
     "metadata": {},
     "output_type": "display_data"
    },
    {
     "name": "stdout",
     "output_type": "stream",
     "text": [
      "\n",
      "Train Accuracy: D[0.899] --> B[0.997] | MSE(D): 3.658615e-03\n",
      "Test Accuracy:  D[0.908] --> B[0.997] | MSE(D): 2.909368e-03\n",
      "\n",
      "..........\n",
      "Epoch 6:\n"
     ]
    },
    {
     "data": {
      "application/vnd.jupyter.widget-view+json": {
       "model_id": "af78a52d5af2448588d39b9ef436cd47",
       "version_major": 2,
       "version_minor": 0
      },
      "text/plain": [
       "HBox(children=(IntProgress(value=0, max=60000), HTML(value='')))"
      ]
     },
     "metadata": {},
     "output_type": "display_data"
    },
    {
     "name": "stdout",
     "output_type": "stream",
     "text": [
      "\n",
      "Train Accuracy: D[0.913] --> B[0.997] | MSE(D): 3.211034e-03\n",
      "Test Accuracy:  D[0.919] --> B[0.997] | MSE(D): 2.448453e-03\n",
      "\n",
      "..........\n",
      "Epoch 7:\n"
     ]
    },
    {
     "data": {
      "application/vnd.jupyter.widget-view+json": {
       "model_id": "778977758aad4c2b9d48915a9c0c3cbd",
       "version_major": 2,
       "version_minor": 0
      },
      "text/plain": [
       "HBox(children=(IntProgress(value=0, max=60000), HTML(value='')))"
      ]
     },
     "metadata": {},
     "output_type": "display_data"
    },
    {
     "name": "stdout",
     "output_type": "stream",
     "text": [
      "\n",
      "Train Accuracy: D[0.923] --> B[0.997] | MSE(D): 2.927213e-03\n",
      "Test Accuracy:  D[0.927] --> B[0.997] | MSE(D): 2.339393e-03\n",
      "\n",
      "..........\n",
      "Epoch 8:\n"
     ]
    },
    {
     "data": {
      "application/vnd.jupyter.widget-view+json": {
       "model_id": "a38ea7778bc547e1bb3cc8e1e18bc9d5",
       "version_major": 2,
       "version_minor": 0
      },
      "text/plain": [
       "HBox(children=(IntProgress(value=0, max=60000), HTML(value='')))"
      ]
     },
     "metadata": {},
     "output_type": "display_data"
    },
    {
     "name": "stdout",
     "output_type": "stream",
     "text": [
      "\n",
      "Train Accuracy: D[0.930] --> B[0.997] | MSE(D): 2.519316e-03\n",
      "Test Accuracy:  D[0.934] --> B[0.997] | MSE(D): 1.913039e-03\n",
      "\n",
      "..........\n",
      "Epoch 9:\n"
     ]
    },
    {
     "data": {
      "application/vnd.jupyter.widget-view+json": {
       "model_id": "0a485ca9096f486593e12f7f8d2fb560",
       "version_major": 2,
       "version_minor": 0
      },
      "text/plain": [
       "HBox(children=(IntProgress(value=0, max=60000), HTML(value='')))"
      ]
     },
     "metadata": {},
     "output_type": "display_data"
    },
    {
     "name": "stdout",
     "output_type": "stream",
     "text": [
      "\n",
      "Train Accuracy: D[0.936] --> B[0.997] | MSE(D): 2.365427e-03\n",
      "Test Accuracy:  D[0.939] --> B[0.997] | MSE(D): 2.004133e-03\n",
      "\n",
      "..........\n",
      "Epoch 10:\n"
     ]
    },
    {
     "data": {
      "application/vnd.jupyter.widget-view+json": {
       "model_id": "0d540c02954345bbb68bd8b04ea217c4",
       "version_major": 2,
       "version_minor": 0
      },
      "text/plain": [
       "HBox(children=(IntProgress(value=0, max=60000), HTML(value='')))"
      ]
     },
     "metadata": {},
     "output_type": "display_data"
    },
    {
     "name": "stdout",
     "output_type": "stream",
     "text": [
      "\n",
      "Train Accuracy: D[0.941] --> B[0.997] | MSE(D): 2.098027e-03\n",
      "Test Accuracy:  D[0.943] --> B[0.997] | MSE(D): 1.793961e-03\n",
      "\n",
      "..........\n",
      "Epoch 11:\n"
     ]
    },
    {
     "data": {
      "application/vnd.jupyter.widget-view+json": {
       "model_id": "6f21568cb9da40a59cb54dc6ce8e1a79",
       "version_major": 2,
       "version_minor": 0
      },
      "text/plain": [
       "HBox(children=(IntProgress(value=0, max=60000), HTML(value='')))"
      ]
     },
     "metadata": {},
     "output_type": "display_data"
    },
    {
     "name": "stdout",
     "output_type": "stream",
     "text": [
      "\n",
      "Train Accuracy: D[0.945] --> B[0.997] | MSE(D): 1.922194e-03\n",
      "Test Accuracy:  D[0.947] --> B[0.997] | MSE(D): 1.684130e-03\n",
      "\n",
      "..........\n",
      "Epoch 12:\n"
     ]
    },
    {
     "data": {
      "application/vnd.jupyter.widget-view+json": {
       "model_id": "1e2c525eec7d4e289df424ef89367d41",
       "version_major": 2,
       "version_minor": 0
      },
      "text/plain": [
       "HBox(children=(IntProgress(value=0, max=60000), HTML(value='')))"
      ]
     },
     "metadata": {},
     "output_type": "display_data"
    },
    {
     "name": "stdout",
     "output_type": "stream",
     "text": [
      "\n",
      "Train Accuracy: D[0.948] --> B[0.997] | MSE(D): 1.690415e-03\n",
      "Test Accuracy:  D[0.950] --> B[0.997] | MSE(D): 1.766227e-03\n",
      "\n",
      "..........\n",
      "Epoch 13:\n"
     ]
    },
    {
     "data": {
      "application/vnd.jupyter.widget-view+json": {
       "model_id": "667aaa34e00a4c6e88d26a67cfabf218",
       "version_major": 2,
       "version_minor": 0
      },
      "text/plain": [
       "HBox(children=(IntProgress(value=0, max=60000), HTML(value='')))"
      ]
     },
     "metadata": {},
     "output_type": "display_data"
    },
    {
     "name": "stdout",
     "output_type": "stream",
     "text": [
      "\n",
      "Train Accuracy: D[0.951] --> B[0.997] | MSE(D): 1.620906e-03\n",
      "Test Accuracy:  D[0.953] --> B[0.997] | MSE(D): 1.661920e-03\n",
      "\n",
      "..........\n",
      "Epoch 14:\n"
     ]
    },
    {
     "data": {
      "application/vnd.jupyter.widget-view+json": {
       "model_id": "a6ec5ebc2f134811b89e9045890639a7",
       "version_major": 2,
       "version_minor": 0
      },
      "text/plain": [
       "HBox(children=(IntProgress(value=0, max=60000), HTML(value='')))"
      ]
     },
     "metadata": {},
     "output_type": "display_data"
    },
    {
     "name": "stdout",
     "output_type": "stream",
     "text": [
      "\n",
      "Train Accuracy: D[0.954] --> B[0.997] | MSE(D): 1.511346e-03\n",
      "Test Accuracy:  D[0.955] --> B[0.997] | MSE(D): 1.467767e-03\n",
      "\n",
      "..........\n",
      "Epoch 15:\n"
     ]
    },
    {
     "data": {
      "application/vnd.jupyter.widget-view+json": {
       "model_id": "df78bd11f30c43c3a6b4348327130699",
       "version_major": 2,
       "version_minor": 0
      },
      "text/plain": [
       "HBox(children=(IntProgress(value=0, max=60000), HTML(value='')))"
      ]
     },
     "metadata": {},
     "output_type": "display_data"
    },
    {
     "name": "stdout",
     "output_type": "stream",
     "text": [
      "\n",
      "Train Accuracy: D[0.956] --> B[0.997] | MSE(D): 1.441878e-03\n",
      "Test Accuracy:  D[0.957] --> B[0.997] | MSE(D): 1.500009e-03\n",
      "\n",
      "..........\n",
      "Epoch 16:\n"
     ]
    },
    {
     "data": {
      "application/vnd.jupyter.widget-view+json": {
       "model_id": "21f531c18bcb4949b2a550ccf0a1f0c7",
       "version_major": 2,
       "version_minor": 0
      },
      "text/plain": [
       "HBox(children=(IntProgress(value=0, max=60000), HTML(value='')))"
      ]
     },
     "metadata": {},
     "output_type": "display_data"
    },
    {
     "name": "stdout",
     "output_type": "stream",
     "text": [
      "\n",
      "Train Accuracy: D[0.958] --> B[0.997] | MSE(D): 1.381887e-03\n",
      "Test Accuracy:  D[0.959] --> B[0.997] | MSE(D): 1.599873e-03\n",
      "\n",
      "..........\n",
      "Epoch 17:\n"
     ]
    },
    {
     "data": {
      "application/vnd.jupyter.widget-view+json": {
       "model_id": "18cd5a8b322542348d5bce2f86d35788",
       "version_major": 2,
       "version_minor": 0
      },
      "text/plain": [
       "HBox(children=(IntProgress(value=0, max=60000), HTML(value='')))"
      ]
     },
     "metadata": {},
     "output_type": "display_data"
    },
    {
     "name": "stdout",
     "output_type": "stream",
     "text": [
      "\n",
      "Train Accuracy: D[0.960] --> B[0.997] | MSE(D): 1.285304e-03\n",
      "Test Accuracy:  D[0.961] --> B[0.997] | MSE(D): 1.505615e-03\n",
      "\n",
      "..........\n",
      "Epoch 18:\n"
     ]
    },
    {
     "data": {
      "application/vnd.jupyter.widget-view+json": {
       "model_id": "ca62e14087e24e9da98891ead31167bb",
       "version_major": 2,
       "version_minor": 0
      },
      "text/plain": [
       "HBox(children=(IntProgress(value=0, max=60000), HTML(value='')))"
      ]
     },
     "metadata": {},
     "output_type": "display_data"
    },
    {
     "name": "stdout",
     "output_type": "stream",
     "text": [
      "\n",
      "Train Accuracy: D[0.961] --> B[0.997] | MSE(D): 1.239101e-03\n",
      "Test Accuracy:  D[0.962] --> B[0.997] | MSE(D): 1.456443e-03\n",
      "\n",
      "..........\n",
      "Epoch 19:\n"
     ]
    },
    {
     "data": {
      "application/vnd.jupyter.widget-view+json": {
       "model_id": "f62d8dc6cd104495858d6af1dadafea8",
       "version_major": 2,
       "version_minor": 0
      },
      "text/plain": [
       "HBox(children=(IntProgress(value=0, max=60000), HTML(value='')))"
      ]
     },
     "metadata": {},
     "output_type": "display_data"
    },
    {
     "name": "stdout",
     "output_type": "stream",
     "text": [
      "\n",
      "Train Accuracy: D[0.963] --> B[0.997] | MSE(D): 1.226684e-03\n",
      "Test Accuracy:  D[0.964] --> B[0.997] | MSE(D): 1.436905e-03\n",
      "\n",
      "..........\n",
      "Epoch 20:\n"
     ]
    },
    {
     "data": {
      "application/vnd.jupyter.widget-view+json": {
       "model_id": "3857eda3b2d54104b347ca22ef8ebdf6",
       "version_major": 2,
       "version_minor": 0
      },
      "text/plain": [
       "HBox(children=(IntProgress(value=0, max=60000), HTML(value='')))"
      ]
     },
     "metadata": {},
     "output_type": "display_data"
    },
    {
     "name": "stdout",
     "output_type": "stream",
     "text": [
      "\n",
      "Train Accuracy: D[0.964] --> B[0.997] | MSE(D): 1.127776e-03\n",
      "Test Accuracy:  D[0.965] --> B[0.997] | MSE(D): 1.397183e-03\n",
      "\n",
      "..........\n",
      "Epoch 21:\n"
     ]
    },
    {
     "data": {
      "application/vnd.jupyter.widget-view+json": {
       "model_id": "a8f5e5ceae20421ba47f0ec68ba00cfc",
       "version_major": 2,
       "version_minor": 0
      },
      "text/plain": [
       "HBox(children=(IntProgress(value=0, max=60000), HTML(value='')))"
      ]
     },
     "metadata": {},
     "output_type": "display_data"
    },
    {
     "name": "stdout",
     "output_type": "stream",
     "text": [
      "\n",
      "Train Accuracy: D[0.965] --> B[0.997] | MSE(D): 1.068437e-03\n",
      "Test Accuracy:  D[0.966] --> B[0.997] | MSE(D): 1.161033e-03\n",
      "\n",
      "..........\n",
      "Epoch 22:\n"
     ]
    },
    {
     "data": {
      "application/vnd.jupyter.widget-view+json": {
       "model_id": "c8f0108fddb34f558c49a0cbff5904ca",
       "version_major": 2,
       "version_minor": 0
      },
      "text/plain": [
       "HBox(children=(IntProgress(value=0, max=60000), HTML(value='')))"
      ]
     },
     "metadata": {},
     "output_type": "display_data"
    },
    {
     "name": "stdout",
     "output_type": "stream",
     "text": [
      "\n",
      "Train Accuracy: D[0.966] --> B[0.997] | MSE(D): 9.872597e-04\n",
      "Test Accuracy:  D[0.967] --> B[0.997] | MSE(D): 1.119939e-03\n",
      "\n",
      "..........\n",
      "Epoch 23:\n"
     ]
    },
    {
     "data": {
      "application/vnd.jupyter.widget-view+json": {
       "model_id": "2c75c0e2113c48ecad23240289372aa3",
       "version_major": 2,
       "version_minor": 0
      },
      "text/plain": [
       "HBox(children=(IntProgress(value=0, max=60000), HTML(value='')))"
      ]
     },
     "metadata": {},
     "output_type": "display_data"
    },
    {
     "name": "stdout",
     "output_type": "stream",
     "text": [
      "\n",
      "Train Accuracy: D[0.967] --> B[0.997] | MSE(D): 8.602912e-04\n",
      "Test Accuracy:  D[0.968] --> B[0.997] | MSE(D): 1.367949e-03\n",
      "\n",
      "..........\n",
      "Epoch 24:\n"
     ]
    },
    {
     "data": {
      "application/vnd.jupyter.widget-view+json": {
       "model_id": "07008fe650c14846ac714b607f264322",
       "version_major": 2,
       "version_minor": 0
      },
      "text/plain": [
       "HBox(children=(IntProgress(value=0, max=60000), HTML(value='')))"
      ]
     },
     "metadata": {},
     "output_type": "display_data"
    },
    {
     "name": "stdout",
     "output_type": "stream",
     "text": [
      "\n",
      "Train Accuracy: D[0.968] --> B[0.997] | MSE(D): 9.506287e-04\n",
      "Test Accuracy:  D[0.969] --> B[0.997] | MSE(D): 1.134657e-03\n",
      "\n",
      "..........\n",
      "Epoch 25:\n"
     ]
    },
    {
     "data": {
      "application/vnd.jupyter.widget-view+json": {
       "model_id": "a901d8130a4c417cbff7fd058b8c0858",
       "version_major": 2,
       "version_minor": 0
      },
      "text/plain": [
       "HBox(children=(IntProgress(value=0, max=60000), HTML(value='')))"
      ]
     },
     "metadata": {},
     "output_type": "display_data"
    },
    {
     "name": "stdout",
     "output_type": "stream",
     "text": [
      "\n",
      "Train Accuracy: D[0.969] --> B[0.997] | MSE(D): 9.779701e-04\n",
      "Test Accuracy:  D[0.970] --> B[0.997] | MSE(D): 1.455017e-03\n",
      "\n",
      "Saved weights for e25\n",
      "========================================\n",
      "INFO:tensorflow:Restoring parameters from ./discriminator_checkpoints/null\\discriminator_checkpoint.ckpt\n",
      "Reset graph to its initial state\n",
      "\n",
      "========================================\n",
      "Loading previous blackbox_e18 evaluation\n",
      "\n",
      "========================================\n",
      "Training on blackbox_e18\n",
      "..........\n",
      "Epoch 1:\n"
     ]
    },
    {
     "data": {
      "application/vnd.jupyter.widget-view+json": {
       "model_id": "8d4efe13ea18470e973695d856adf442",
       "version_major": 2,
       "version_minor": 0
      },
      "text/plain": [
       "HBox(children=(IntProgress(value=0, max=60000), HTML(value='')))"
      ]
     },
     "metadata": {},
     "output_type": "display_data"
    },
    {
     "name": "stdout",
     "output_type": "stream",
     "text": [
      "\n",
      "Train Accuracy: D[0.539] --> B[0.998] | MSE(D): 3.706564e-02\n",
      "Test Accuracy:  D[0.754] --> B[0.996] | MSE(D): 1.283527e-02\n",
      "\n",
      "..........\n",
      "Epoch 2:\n"
     ]
    },
    {
     "data": {
      "application/vnd.jupyter.widget-view+json": {
       "model_id": "501b9a3cd75748b89014e7d73c88e358",
       "version_major": 2,
       "version_minor": 0
      },
      "text/plain": [
       "HBox(children=(IntProgress(value=0, max=60000), HTML(value='')))"
      ]
     },
     "metadata": {},
     "output_type": "display_data"
    },
    {
     "name": "stdout",
     "output_type": "stream",
     "text": [
      "\n",
      "Train Accuracy: D[0.800] --> B[0.997] | MSE(D): 1.031317e-02\n",
      "Test Accuracy:  D[0.842] --> B[0.996] | MSE(D): 6.094199e-03\n",
      "\n",
      "..........\n",
      "Epoch 3:\n"
     ]
    },
    {
     "data": {
      "application/vnd.jupyter.widget-view+json": {
       "model_id": "cfe64f5437a241faa0c167977a2614bb",
       "version_major": 2,
       "version_minor": 0
      },
      "text/plain": [
       "HBox(children=(IntProgress(value=0, max=60000), HTML(value='')))"
      ]
     },
     "metadata": {},
     "output_type": "display_data"
    },
    {
     "name": "stdout",
     "output_type": "stream",
     "text": [
      "\n",
      "Train Accuracy: D[0.861] --> B[0.996] | MSE(D): 6.211012e-03\n",
      "Test Accuracy:  D[0.880] --> B[0.996] | MSE(D): 4.159116e-03\n",
      "\n",
      "..........\n",
      "Epoch 4:\n"
     ]
    },
    {
     "data": {
      "application/vnd.jupyter.widget-view+json": {
       "model_id": "2b70264017074488aeee24dbf8e08109",
       "version_major": 2,
       "version_minor": 0
      },
      "text/plain": [
       "HBox(children=(IntProgress(value=0, max=60000), HTML(value='')))"
      ]
     },
     "metadata": {},
     "output_type": "display_data"
    },
    {
     "name": "stdout",
     "output_type": "stream",
     "text": [
      "\n",
      "Train Accuracy: D[0.890] --> B[0.996] | MSE(D): 4.552469e-03\n",
      "Test Accuracy:  D[0.902] --> B[0.996] | MSE(D): 3.673427e-03\n",
      "\n",
      "..........\n",
      "Epoch 5:\n"
     ]
    },
    {
     "data": {
      "application/vnd.jupyter.widget-view+json": {
       "model_id": "50f0f50ad689402d8a95cbb40c72ae33",
       "version_major": 2,
       "version_minor": 0
      },
      "text/plain": [
       "HBox(children=(IntProgress(value=0, max=60000), HTML(value='')))"
      ]
     },
     "metadata": {},
     "output_type": "display_data"
    },
    {
     "name": "stdout",
     "output_type": "stream",
     "text": [
      "\n",
      "Train Accuracy: D[0.908] --> B[0.996] | MSE(D): 3.809260e-03\n",
      "Test Accuracy:  D[0.915] --> B[0.996] | MSE(D): 2.875276e-03\n",
      "\n",
      "..........\n",
      "Epoch 6:\n"
     ]
    },
    {
     "data": {
      "application/vnd.jupyter.widget-view+json": {
       "model_id": "0fdb121c752f48d8bcd853a48b8f7535",
       "version_major": 2,
       "version_minor": 0
      },
      "text/plain": [
       "HBox(children=(IntProgress(value=0, max=60000), HTML(value='')))"
      ]
     },
     "metadata": {},
     "output_type": "display_data"
    },
    {
     "name": "stdout",
     "output_type": "stream",
     "text": [
      "\n",
      "Train Accuracy: D[0.920] --> B[0.996] | MSE(D): 3.153474e-03\n",
      "Test Accuracy:  D[0.925] --> B[0.996] | MSE(D): 2.414434e-03\n",
      "\n",
      "..........\n",
      "Epoch 7:\n"
     ]
    },
    {
     "data": {
      "application/vnd.jupyter.widget-view+json": {
       "model_id": "f979536f3602488b9549fcfcc9424f94",
       "version_major": 2,
       "version_minor": 0
      },
      "text/plain": [
       "HBox(children=(IntProgress(value=0, max=60000), HTML(value='')))"
      ]
     },
     "metadata": {},
     "output_type": "display_data"
    },
    {
     "name": "stdout",
     "output_type": "stream",
     "text": [
      "\n",
      "Train Accuracy: D[0.929] --> B[0.996] | MSE(D): 2.673423e-03\n",
      "Test Accuracy:  D[0.933] --> B[0.996] | MSE(D): 2.169274e-03\n",
      "\n",
      "..........\n",
      "Epoch 8:\n"
     ]
    },
    {
     "data": {
      "application/vnd.jupyter.widget-view+json": {
       "model_id": "0c3535cc5e2546b39ad35978e2ebda21",
       "version_major": 2,
       "version_minor": 0
      },
      "text/plain": [
       "HBox(children=(IntProgress(value=0, max=60000), HTML(value='')))"
      ]
     },
     "metadata": {},
     "output_type": "display_data"
    },
    {
     "name": "stdout",
     "output_type": "stream",
     "text": [
      "\n",
      "Train Accuracy: D[0.935] --> B[0.996] | MSE(D): 2.417184e-03\n",
      "Test Accuracy:  D[0.939] --> B[0.996] | MSE(D): 2.221357e-03\n",
      "\n",
      "..........\n",
      "Epoch 9:\n"
     ]
    },
    {
     "data": {
      "application/vnd.jupyter.widget-view+json": {
       "model_id": "073e47e6c08943a5bb75b698f5968d3e",
       "version_major": 2,
       "version_minor": 0
      },
      "text/plain": [
       "HBox(children=(IntProgress(value=0, max=60000), HTML(value='')))"
      ]
     },
     "metadata": {},
     "output_type": "display_data"
    },
    {
     "name": "stdout",
     "output_type": "stream",
     "text": [
      "\n",
      "Train Accuracy: D[0.941] --> B[0.996] | MSE(D): 2.250355e-03\n",
      "Test Accuracy:  D[0.943] --> B[0.996] | MSE(D): 1.915073e-03\n",
      "\n",
      "..........\n",
      "Epoch 10:\n"
     ]
    },
    {
     "data": {
      "application/vnd.jupyter.widget-view+json": {
       "model_id": "8985510c5a984139b42875e9628ace64",
       "version_major": 2,
       "version_minor": 0
      },
      "text/plain": [
       "HBox(children=(IntProgress(value=0, max=60000), HTML(value='')))"
      ]
     },
     "metadata": {},
     "output_type": "display_data"
    },
    {
     "name": "stdout",
     "output_type": "stream",
     "text": [
      "\n",
      "Train Accuracy: D[0.945] --> B[0.996] | MSE(D): 1.989059e-03\n",
      "Test Accuracy:  D[0.947] --> B[0.996] | MSE(D): 1.971176e-03\n",
      "\n",
      "..........\n",
      "Epoch 11:\n"
     ]
    },
    {
     "data": {
      "application/vnd.jupyter.widget-view+json": {
       "model_id": "f93dc162e4be46a1b6a4a5be18e45d2f",
       "version_major": 2,
       "version_minor": 0
      },
      "text/plain": [
       "HBox(children=(IntProgress(value=0, max=60000), HTML(value='')))"
      ]
     },
     "metadata": {},
     "output_type": "display_data"
    },
    {
     "name": "stdout",
     "output_type": "stream",
     "text": [
      "\n",
      "Train Accuracy: D[0.949] --> B[0.996] | MSE(D): 1.848422e-03\n",
      "Test Accuracy:  D[0.950] --> B[0.996] | MSE(D): 1.970702e-03\n",
      "\n",
      "..........\n",
      "Epoch 12:\n"
     ]
    },
    {
     "data": {
      "application/vnd.jupyter.widget-view+json": {
       "model_id": "ceecf2c12a21405da17fb580bde54e90",
       "version_major": 2,
       "version_minor": 0
      },
      "text/plain": [
       "HBox(children=(IntProgress(value=0, max=60000), HTML(value='')))"
      ]
     },
     "metadata": {},
     "output_type": "display_data"
    },
    {
     "name": "stdout",
     "output_type": "stream",
     "text": [
      "\n",
      "Train Accuracy: D[0.952] --> B[0.996] | MSE(D): 1.669141e-03\n",
      "Test Accuracy:  D[0.953] --> B[0.996] | MSE(D): 1.877737e-03\n",
      "\n",
      "..........\n",
      "Epoch 13:\n"
     ]
    },
    {
     "data": {
      "application/vnd.jupyter.widget-view+json": {
       "model_id": "8b95c9c0dc6f4482a7d1e3658e1a7a7a",
       "version_major": 2,
       "version_minor": 0
      },
      "text/plain": [
       "HBox(children=(IntProgress(value=0, max=60000), HTML(value='')))"
      ]
     },
     "metadata": {},
     "output_type": "display_data"
    },
    {
     "name": "stdout",
     "output_type": "stream",
     "text": [
      "\n",
      "Train Accuracy: D[0.954] --> B[0.996] | MSE(D): 1.473241e-03\n",
      "Test Accuracy:  D[0.956] --> B[0.996] | MSE(D): 1.669843e-03\n",
      "\n",
      "..........\n",
      "Epoch 14:\n"
     ]
    },
    {
     "data": {
      "application/vnd.jupyter.widget-view+json": {
       "model_id": "cff3fec7d59945e58766c8f427881b42",
       "version_major": 2,
       "version_minor": 0
      },
      "text/plain": [
       "HBox(children=(IntProgress(value=0, max=60000), HTML(value='')))"
      ]
     },
     "metadata": {},
     "output_type": "display_data"
    },
    {
     "name": "stdout",
     "output_type": "stream",
     "text": [
      "\n",
      "Train Accuracy: D[0.957] --> B[0.996] | MSE(D): 1.553101e-03\n",
      "Test Accuracy:  D[0.958] --> B[0.996] | MSE(D): 1.719262e-03\n",
      "\n",
      "..........\n",
      "Epoch 15:\n"
     ]
    },
    {
     "data": {
      "application/vnd.jupyter.widget-view+json": {
       "model_id": "3a0c27058de24268bf526b282ddb041c",
       "version_major": 2,
       "version_minor": 0
      },
      "text/plain": [
       "HBox(children=(IntProgress(value=0, max=60000), HTML(value='')))"
      ]
     },
     "metadata": {},
     "output_type": "display_data"
    },
    {
     "name": "stdout",
     "output_type": "stream",
     "text": [
      "\n",
      "Train Accuracy: D[0.959] --> B[0.996] | MSE(D): 1.360233e-03\n",
      "Test Accuracy:  D[0.960] --> B[0.996] | MSE(D): 1.660926e-03\n",
      "\n",
      "..........\n",
      "Epoch 16:\n"
     ]
    },
    {
     "data": {
      "application/vnd.jupyter.widget-view+json": {
       "model_id": "04016f1569a0411885fce9c378f26ac8",
       "version_major": 2,
       "version_minor": 0
      },
      "text/plain": [
       "HBox(children=(IntProgress(value=0, max=60000), HTML(value='')))"
      ]
     },
     "metadata": {},
     "output_type": "display_data"
    },
    {
     "name": "stdout",
     "output_type": "stream",
     "text": [
      "\n",
      "Train Accuracy: D[0.960] --> B[0.996] | MSE(D): 1.310459e-03\n",
      "Test Accuracy:  D[0.961] --> B[0.996] | MSE(D): 1.377522e-03\n",
      "\n",
      "..........\n",
      "Epoch 17:\n"
     ]
    },
    {
     "data": {
      "application/vnd.jupyter.widget-view+json": {
       "model_id": "a7b6fac4c4b1406f85e9bb05aedad163",
       "version_major": 2,
       "version_minor": 0
      },
      "text/plain": [
       "HBox(children=(IntProgress(value=0, max=60000), HTML(value='')))"
      ]
     },
     "metadata": {},
     "output_type": "display_data"
    },
    {
     "name": "stdout",
     "output_type": "stream",
     "text": [
      "\n",
      "Train Accuracy: D[0.962] --> B[0.996] | MSE(D): 1.211616e-03\n",
      "Test Accuracy:  D[0.963] --> B[0.996] | MSE(D): 1.456308e-03\n",
      "\n",
      "..........\n",
      "Epoch 18:\n"
     ]
    },
    {
     "data": {
      "application/vnd.jupyter.widget-view+json": {
       "model_id": "ecae928f1ee84b9eb269f453cb380028",
       "version_major": 2,
       "version_minor": 0
      },
      "text/plain": [
       "HBox(children=(IntProgress(value=0, max=60000), HTML(value='')))"
      ]
     },
     "metadata": {},
     "output_type": "display_data"
    },
    {
     "name": "stdout",
     "output_type": "stream",
     "text": [
      "\n",
      "Train Accuracy: D[0.964] --> B[0.996] | MSE(D): 1.112222e-03\n",
      "Test Accuracy:  D[0.964] --> B[0.996] | MSE(D): 1.558549e-03\n",
      "\n",
      "..........\n",
      "Epoch 19:\n"
     ]
    },
    {
     "data": {
      "application/vnd.jupyter.widget-view+json": {
       "model_id": "5484990baf6d40d98c85c902c5934935",
       "version_major": 2,
       "version_minor": 0
      },
      "text/plain": [
       "HBox(children=(IntProgress(value=0, max=60000), HTML(value='')))"
      ]
     },
     "metadata": {},
     "output_type": "display_data"
    },
    {
     "name": "stdout",
     "output_type": "stream",
     "text": [
      "\n",
      "Train Accuracy: D[0.965] --> B[0.996] | MSE(D): 1.091392e-03\n",
      "Test Accuracy:  D[0.966] --> B[0.996] | MSE(D): 1.401397e-03\n",
      "\n",
      "..........\n",
      "Epoch 20:\n"
     ]
    },
    {
     "data": {
      "application/vnd.jupyter.widget-view+json": {
       "model_id": "d0758c46c3a742dca7231e17ca0098a1",
       "version_major": 2,
       "version_minor": 0
      },
      "text/plain": [
       "HBox(children=(IntProgress(value=0, max=60000), HTML(value='')))"
      ]
     },
     "metadata": {},
     "output_type": "display_data"
    },
    {
     "name": "stdout",
     "output_type": "stream",
     "text": [
      "\n",
      "Train Accuracy: D[0.966] --> B[0.996] | MSE(D): 1.030757e-03\n",
      "Test Accuracy:  D[0.967] --> B[0.996] | MSE(D): 1.385365e-03\n",
      "\n",
      "..........\n",
      "Epoch 21:\n"
     ]
    },
    {
     "data": {
      "application/vnd.jupyter.widget-view+json": {
       "model_id": "6fa2b5b7b001452b9829ee77ff45c48b",
       "version_major": 2,
       "version_minor": 0
      },
      "text/plain": [
       "HBox(children=(IntProgress(value=0, max=60000), HTML(value='')))"
      ]
     },
     "metadata": {},
     "output_type": "display_data"
    },
    {
     "name": "stdout",
     "output_type": "stream",
     "text": [
      "\n",
      "Train Accuracy: D[0.967] --> B[0.996] | MSE(D): 9.416800e-04\n",
      "Test Accuracy:  D[0.968] --> B[0.996] | MSE(D): 1.166071e-03\n",
      "\n",
      "..........\n",
      "Epoch 22:\n"
     ]
    },
    {
     "data": {
      "application/vnd.jupyter.widget-view+json": {
       "model_id": "78098edf1fd14a1a8c4a0d09bdec75c2",
       "version_major": 2,
       "version_minor": 0
      },
      "text/plain": [
       "HBox(children=(IntProgress(value=0, max=60000), HTML(value='')))"
      ]
     },
     "metadata": {},
     "output_type": "display_data"
    },
    {
     "name": "stdout",
     "output_type": "stream",
     "text": [
      "\n",
      "Train Accuracy: D[0.968] --> B[0.996] | MSE(D): 9.742103e-04\n",
      "Test Accuracy:  D[0.969] --> B[0.996] | MSE(D): 1.363486e-03\n",
      "\n",
      "..........\n",
      "Epoch 23:\n"
     ]
    },
    {
     "data": {
      "application/vnd.jupyter.widget-view+json": {
       "model_id": "706c8a3b475b4a84899b1af0c93b7c3f",
       "version_major": 2,
       "version_minor": 0
      },
      "text/plain": [
       "HBox(children=(IntProgress(value=0, max=60000), HTML(value='')))"
      ]
     },
     "metadata": {},
     "output_type": "display_data"
    },
    {
     "name": "stdout",
     "output_type": "stream",
     "text": [
      "\n",
      "Train Accuracy: D[0.969] --> B[0.996] | MSE(D): 9.295049e-04\n",
      "Test Accuracy:  D[0.970] --> B[0.996] | MSE(D): 1.268744e-03\n",
      "\n",
      "..........\n",
      "Epoch 24:\n"
     ]
    },
    {
     "data": {
      "application/vnd.jupyter.widget-view+json": {
       "model_id": "5b5272c1feba4f55bcb354a8d8493e75",
       "version_major": 2,
       "version_minor": 0
      },
      "text/plain": [
       "HBox(children=(IntProgress(value=0, max=60000), HTML(value='')))"
      ]
     },
     "metadata": {},
     "output_type": "display_data"
    },
    {
     "name": "stdout",
     "output_type": "stream",
     "text": [
      "\n",
      "Train Accuracy: D[0.970] --> B[0.996] | MSE(D): 9.345080e-04\n",
      "Test Accuracy:  D[0.970] --> B[0.996] | MSE(D): 1.209642e-03\n",
      "\n",
      "..........\n",
      "Epoch 25:\n"
     ]
    },
    {
     "data": {
      "application/vnd.jupyter.widget-view+json": {
       "model_id": "f32112dd4ae946e690fad375466c110b",
       "version_major": 2,
       "version_minor": 0
      },
      "text/plain": [
       "HBox(children=(IntProgress(value=0, max=60000), HTML(value='')))"
      ]
     },
     "metadata": {},
     "output_type": "display_data"
    },
    {
     "name": "stdout",
     "output_type": "stream",
     "text": [
      "\n",
      "Train Accuracy: D[0.971] --> B[0.996] | MSE(D): 8.990549e-04\n",
      "Test Accuracy:  D[0.971] --> B[0.996] | MSE(D): 1.286029e-03\n",
      "\n",
      "Saved weights for e25\n",
      "========================================\n",
      "INFO:tensorflow:Restoring parameters from ./discriminator_checkpoints/null\\discriminator_checkpoint.ckpt\n",
      "Reset graph to its initial state\n",
      "\n",
      "========================================\n",
      "Loading previous blackbox_e19 evaluation\n",
      "\n",
      "========================================\n",
      "Training on blackbox_e19\n",
      "..........\n",
      "Epoch 1:\n"
     ]
    },
    {
     "data": {
      "application/vnd.jupyter.widget-view+json": {
       "model_id": "6531af7e42644cbdabb24a88231af964",
       "version_major": 2,
       "version_minor": 0
      },
      "text/plain": [
       "HBox(children=(IntProgress(value=0, max=60000), HTML(value='')))"
      ]
     },
     "metadata": {},
     "output_type": "display_data"
    },
    {
     "name": "stdout",
     "output_type": "stream",
     "text": [
      "\n",
      "Train Accuracy: D[0.462] --> B[0.998] | MSE(D): 4.433541e-02\n",
      "Test Accuracy:  D[0.695] --> B[0.997] | MSE(D): 1.563804e-02\n",
      "\n",
      "..........\n",
      "Epoch 2:\n"
     ]
    },
    {
     "data": {
      "application/vnd.jupyter.widget-view+json": {
       "model_id": "821fc265a7d4402092c2f96a6608ccbb",
       "version_major": 2,
       "version_minor": 0
      },
      "text/plain": [
       "HBox(children=(IntProgress(value=0, max=60000), HTML(value='')))"
      ]
     },
     "metadata": {},
     "output_type": "display_data"
    },
    {
     "name": "stdout",
     "output_type": "stream",
     "text": [
      "\n",
      "Train Accuracy: D[0.754] --> B[0.997] | MSE(D): 1.180767e-02\n",
      "Test Accuracy:  D[0.809] --> B[0.997] | MSE(D): 6.661802e-03\n",
      "\n",
      "..........\n",
      "Epoch 3:\n"
     ]
    },
    {
     "data": {
      "application/vnd.jupyter.widget-view+json": {
       "model_id": "8ebfb843c63941ebb035b404fd2cc9e6",
       "version_major": 2,
       "version_minor": 0
      },
      "text/plain": [
       "HBox(children=(IntProgress(value=0, max=60000), HTML(value='')))"
      ]
     },
     "metadata": {},
     "output_type": "display_data"
    },
    {
     "name": "stdout",
     "output_type": "stream",
     "text": [
      "\n",
      "Train Accuracy: D[0.833] --> B[0.997] | MSE(D): 6.606069e-03\n",
      "Test Accuracy:  D[0.858] --> B[0.997] | MSE(D): 4.192185e-03\n",
      "\n",
      "..........\n",
      "Epoch 4:\n"
     ]
    },
    {
     "data": {
      "application/vnd.jupyter.widget-view+json": {
       "model_id": "a6a9d4392c384908a88ec4d705626422",
       "version_major": 2,
       "version_minor": 0
      },
      "text/plain": [
       "HBox(children=(IntProgress(value=0, max=60000), HTML(value='')))"
      ]
     },
     "metadata": {},
     "output_type": "display_data"
    },
    {
     "name": "stdout",
     "output_type": "stream",
     "text": [
      "\n",
      "Train Accuracy: D[0.871] --> B[0.997] | MSE(D): 4.846759e-03\n",
      "Test Accuracy:  D[0.885] --> B[0.997] | MSE(D): 3.399053e-03\n",
      "\n",
      "..........\n",
      "Epoch 5:\n"
     ]
    },
    {
     "data": {
      "application/vnd.jupyter.widget-view+json": {
       "model_id": "3a5d535aceb141eb8dfb14f9bd3f2dae",
       "version_major": 2,
       "version_minor": 0
      },
      "text/plain": [
       "HBox(children=(IntProgress(value=0, max=60000), HTML(value='')))"
      ]
     },
     "metadata": {},
     "output_type": "display_data"
    },
    {
     "name": "stdout",
     "output_type": "stream",
     "text": [
      "\n",
      "Train Accuracy: D[0.893] --> B[0.997] | MSE(D): 3.871677e-03\n",
      "Test Accuracy:  D[0.902] --> B[0.997] | MSE(D): 2.774518e-03\n",
      "\n",
      "..........\n",
      "Epoch 6:\n"
     ]
    },
    {
     "data": {
      "application/vnd.jupyter.widget-view+json": {
       "model_id": "e387424e94164463995790db73ba2bdf",
       "version_major": 2,
       "version_minor": 0
      },
      "text/plain": [
       "HBox(children=(IntProgress(value=0, max=60000), HTML(value='')))"
      ]
     },
     "metadata": {},
     "output_type": "display_data"
    },
    {
     "name": "stdout",
     "output_type": "stream",
     "text": [
      "\n",
      "Train Accuracy: D[0.908] --> B[0.997] | MSE(D): 3.318356e-03\n",
      "Test Accuracy:  D[0.914] --> B[0.997] | MSE(D): 2.341409e-03\n",
      "\n",
      "..........\n",
      "Epoch 7:\n"
     ]
    },
    {
     "data": {
      "application/vnd.jupyter.widget-view+json": {
       "model_id": "86de42c37df64491b45eefd9c6443e99",
       "version_major": 2,
       "version_minor": 0
      },
      "text/plain": [
       "HBox(children=(IntProgress(value=0, max=60000), HTML(value='')))"
      ]
     },
     "metadata": {},
     "output_type": "display_data"
    },
    {
     "name": "stdout",
     "output_type": "stream",
     "text": [
      "\n",
      "Train Accuracy: D[0.919] --> B[0.997] | MSE(D): 2.788651e-03\n",
      "Test Accuracy:  D[0.923] --> B[0.997] | MSE(D): 2.076190e-03\n",
      "\n",
      "..........\n",
      "Epoch 8:\n"
     ]
    },
    {
     "data": {
      "application/vnd.jupyter.widget-view+json": {
       "model_id": "652e97d0f0c8416fb9210b5c2c8c34e8",
       "version_major": 2,
       "version_minor": 0
      },
      "text/plain": [
       "HBox(children=(IntProgress(value=0, max=60000), HTML(value='')))"
      ]
     },
     "metadata": {},
     "output_type": "display_data"
    },
    {
     "name": "stdout",
     "output_type": "stream",
     "text": [
      "\n",
      "Train Accuracy: D[0.927] --> B[0.997] | MSE(D): 2.701952e-03\n",
      "Test Accuracy:  D[0.930] --> B[0.997] | MSE(D): 1.959411e-03\n",
      "\n",
      "..........\n",
      "Epoch 9:\n"
     ]
    },
    {
     "data": {
      "application/vnd.jupyter.widget-view+json": {
       "model_id": "7be3d29a9edf45128b0f68d4fbd3e54a",
       "version_major": 2,
       "version_minor": 0
      },
      "text/plain": [
       "HBox(children=(IntProgress(value=0, max=60000), HTML(value='')))"
      ]
     },
     "metadata": {},
     "output_type": "display_data"
    },
    {
     "name": "stdout",
     "output_type": "stream",
     "text": [
      "\n",
      "Train Accuracy: D[0.933] --> B[0.997] | MSE(D): 2.385097e-03\n",
      "Test Accuracy:  D[0.936] --> B[0.997] | MSE(D): 2.037996e-03\n",
      "\n",
      "..........\n",
      "Epoch 10:\n"
     ]
    },
    {
     "data": {
      "application/vnd.jupyter.widget-view+json": {
       "model_id": "15cb04ecd4ca40988438cca06c72d817",
       "version_major": 2,
       "version_minor": 0
      },
      "text/plain": [
       "HBox(children=(IntProgress(value=0, max=60000), HTML(value='')))"
      ]
     },
     "metadata": {},
     "output_type": "display_data"
    },
    {
     "name": "stdout",
     "output_type": "stream",
     "text": [
      "\n",
      "Train Accuracy: D[0.938] --> B[0.997] | MSE(D): 2.146241e-03\n",
      "Test Accuracy:  D[0.941] --> B[0.997] | MSE(D): 1.878110e-03\n",
      "\n",
      "..........\n",
      "Epoch 11:\n"
     ]
    },
    {
     "data": {
      "application/vnd.jupyter.widget-view+json": {
       "model_id": "add9e8810a774c2a8274acc8dd01f584",
       "version_major": 2,
       "version_minor": 0
      },
      "text/plain": [
       "HBox(children=(IntProgress(value=0, max=60000), HTML(value='')))"
      ]
     },
     "metadata": {},
     "output_type": "display_data"
    },
    {
     "name": "stdout",
     "output_type": "stream",
     "text": [
      "\n",
      "Train Accuracy: D[0.942] --> B[0.997] | MSE(D): 1.943995e-03\n",
      "Test Accuracy:  D[0.944] --> B[0.997] | MSE(D): 1.855728e-03\n",
      "\n",
      "..........\n",
      "Epoch 12:\n"
     ]
    },
    {
     "data": {
      "application/vnd.jupyter.widget-view+json": {
       "model_id": "a869f41be6b84cadab5960d96a6154ec",
       "version_major": 2,
       "version_minor": 0
      },
      "text/plain": [
       "HBox(children=(IntProgress(value=0, max=60000), HTML(value='')))"
      ]
     },
     "metadata": {},
     "output_type": "display_data"
    },
    {
     "name": "stdout",
     "output_type": "stream",
     "text": [
      "\n",
      "Train Accuracy: D[0.946] --> B[0.997] | MSE(D): 1.765329e-03\n",
      "Test Accuracy:  D[0.948] --> B[0.997] | MSE(D): 1.647844e-03\n",
      "\n",
      "..........\n",
      "Epoch 13:\n"
     ]
    },
    {
     "data": {
      "application/vnd.jupyter.widget-view+json": {
       "model_id": "04813ae9c456433b95f53ec18550e9c7",
       "version_major": 2,
       "version_minor": 0
      },
      "text/plain": [
       "HBox(children=(IntProgress(value=0, max=60000), HTML(value='')))"
      ]
     },
     "metadata": {},
     "output_type": "display_data"
    },
    {
     "name": "stdout",
     "output_type": "stream",
     "text": [
      "\n",
      "Train Accuracy: D[0.949] --> B[0.997] | MSE(D): 1.632791e-03\n",
      "Test Accuracy:  D[0.951] --> B[0.997] | MSE(D): 1.639201e-03\n",
      "\n",
      "..........\n",
      "Epoch 14:\n"
     ]
    },
    {
     "data": {
      "application/vnd.jupyter.widget-view+json": {
       "model_id": "ae8ff587dc9649f78db2f8628e916b0e",
       "version_major": 2,
       "version_minor": 0
      },
      "text/plain": [
       "HBox(children=(IntProgress(value=0, max=60000), HTML(value='')))"
      ]
     },
     "metadata": {},
     "output_type": "display_data"
    },
    {
     "name": "stdout",
     "output_type": "stream",
     "text": [
      "\n",
      "Train Accuracy: D[0.952] --> B[0.997] | MSE(D): 1.568890e-03\n",
      "Test Accuracy:  D[0.953] --> B[0.997] | MSE(D): 1.581565e-03\n",
      "\n",
      "..........\n",
      "Epoch 15:\n"
     ]
    },
    {
     "data": {
      "application/vnd.jupyter.widget-view+json": {
       "model_id": "0aa1d87cf197439999870d3e3c47b3c8",
       "version_major": 2,
       "version_minor": 0
      },
      "text/plain": [
       "HBox(children=(IntProgress(value=0, max=60000), HTML(value='')))"
      ]
     },
     "metadata": {},
     "output_type": "display_data"
    },
    {
     "name": "stdout",
     "output_type": "stream",
     "text": [
      "\n",
      "Train Accuracy: D[0.954] --> B[0.997] | MSE(D): 1.504997e-03\n",
      "Test Accuracy:  D[0.955] --> B[0.997] | MSE(D): 1.690213e-03\n",
      "\n",
      "..........\n",
      "Epoch 16:\n"
     ]
    },
    {
     "data": {
      "application/vnd.jupyter.widget-view+json": {
       "model_id": "f9d7399e298143f9baa8c5fd773c2188",
       "version_major": 2,
       "version_minor": 0
      },
      "text/plain": [
       "HBox(children=(IntProgress(value=0, max=60000), HTML(value='')))"
      ]
     },
     "metadata": {},
     "output_type": "display_data"
    },
    {
     "name": "stdout",
     "output_type": "stream",
     "text": [
      "\n",
      "Train Accuracy: D[0.956] --> B[0.997] | MSE(D): 1.458184e-03\n",
      "Test Accuracy:  D[0.957] --> B[0.997] | MSE(D): 1.417565e-03\n",
      "\n",
      "..........\n",
      "Epoch 17:\n"
     ]
    },
    {
     "data": {
      "application/vnd.jupyter.widget-view+json": {
       "model_id": "187e27d01f4747419b124cc044ff4a7d",
       "version_major": 2,
       "version_minor": 0
      },
      "text/plain": [
       "HBox(children=(IntProgress(value=0, max=60000), HTML(value='')))"
      ]
     },
     "metadata": {},
     "output_type": "display_data"
    },
    {
     "name": "stdout",
     "output_type": "stream",
     "text": [
      "\n",
      "Train Accuracy: D[0.958] --> B[0.997] | MSE(D): 1.354392e-03\n",
      "Test Accuracy:  D[0.959] --> B[0.997] | MSE(D): 1.586585e-03\n",
      "\n",
      "..........\n",
      "Epoch 18:\n"
     ]
    },
    {
     "data": {
      "application/vnd.jupyter.widget-view+json": {
       "model_id": "aef35340a7de4955838ae5809a080da2",
       "version_major": 2,
       "version_minor": 0
      },
      "text/plain": [
       "HBox(children=(IntProgress(value=0, max=60000), HTML(value='')))"
      ]
     },
     "metadata": {},
     "output_type": "display_data"
    },
    {
     "name": "stdout",
     "output_type": "stream",
     "text": [
      "\n",
      "Train Accuracy: D[0.960] --> B[0.997] | MSE(D): 1.306077e-03\n",
      "Test Accuracy:  D[0.961] --> B[0.997] | MSE(D): 1.479524e-03\n",
      "\n",
      "..........\n",
      "Epoch 19:\n"
     ]
    },
    {
     "data": {
      "application/vnd.jupyter.widget-view+json": {
       "model_id": "ac862e55db8b451c828cac8402299875",
       "version_major": 2,
       "version_minor": 0
      },
      "text/plain": [
       "HBox(children=(IntProgress(value=0, max=60000), HTML(value='')))"
      ]
     },
     "metadata": {},
     "output_type": "display_data"
    },
    {
     "name": "stdout",
     "output_type": "stream",
     "text": [
      "\n",
      "Train Accuracy: D[0.961] --> B[0.997] | MSE(D): 1.253024e-03\n",
      "Test Accuracy:  D[0.962] --> B[0.997] | MSE(D): 1.517048e-03\n",
      "\n",
      "..........\n",
      "Epoch 20:\n"
     ]
    },
    {
     "data": {
      "application/vnd.jupyter.widget-view+json": {
       "model_id": "1b0466c6837345f2a0f9630eae17b6ad",
       "version_major": 2,
       "version_minor": 0
      },
      "text/plain": [
       "HBox(children=(IntProgress(value=0, max=60000), HTML(value='')))"
      ]
     },
     "metadata": {},
     "output_type": "display_data"
    },
    {
     "name": "stdout",
     "output_type": "stream",
     "text": [
      "\n",
      "Train Accuracy: D[0.963] --> B[0.997] | MSE(D): 1.317877e-03\n",
      "Test Accuracy:  D[0.963] --> B[0.997] | MSE(D): 1.578707e-03\n",
      "\n",
      "..........\n",
      "Epoch 21:\n"
     ]
    },
    {
     "data": {
      "application/vnd.jupyter.widget-view+json": {
       "model_id": "f2037fc10bad4429b4013688a6ee3788",
       "version_major": 2,
       "version_minor": 0
      },
      "text/plain": [
       "HBox(children=(IntProgress(value=0, max=60000), HTML(value='')))"
      ]
     },
     "metadata": {},
     "output_type": "display_data"
    },
    {
     "name": "stdout",
     "output_type": "stream",
     "text": [
      "\n",
      "Train Accuracy: D[0.964] --> B[0.997] | MSE(D): 1.204010e-03\n",
      "Test Accuracy:  D[0.965] --> B[0.997] | MSE(D): 1.363867e-03\n",
      "\n",
      "..........\n",
      "Epoch 22:\n"
     ]
    },
    {
     "data": {
      "application/vnd.jupyter.widget-view+json": {
       "model_id": "aff370e55d334d869c16ce9319b93e9a",
       "version_major": 2,
       "version_minor": 0
      },
      "text/plain": [
       "HBox(children=(IntProgress(value=0, max=60000), HTML(value='')))"
      ]
     },
     "metadata": {},
     "output_type": "display_data"
    },
    {
     "name": "stdout",
     "output_type": "stream",
     "text": [
      "\n",
      "Train Accuracy: D[0.965] --> B[0.997] | MSE(D): 1.060251e-03\n",
      "Test Accuracy:  D[0.966] --> B[0.997] | MSE(D): 1.340314e-03\n",
      "\n",
      "..........\n",
      "Epoch 23:\n"
     ]
    },
    {
     "data": {
      "application/vnd.jupyter.widget-view+json": {
       "model_id": "804ef93a4eda474e9a4206cf13930adb",
       "version_major": 2,
       "version_minor": 0
      },
      "text/plain": [
       "HBox(children=(IntProgress(value=0, max=60000), HTML(value='')))"
      ]
     },
     "metadata": {},
     "output_type": "display_data"
    },
    {
     "name": "stdout",
     "output_type": "stream",
     "text": [
      "\n",
      "Train Accuracy: D[0.966] --> B[0.997] | MSE(D): 1.058319e-03\n",
      "Test Accuracy:  D[0.967] --> B[0.997] | MSE(D): 1.314473e-03\n",
      "\n",
      "..........\n",
      "Epoch 24:\n"
     ]
    },
    {
     "data": {
      "application/vnd.jupyter.widget-view+json": {
       "model_id": "a28c6a79d8574ae8a9f481bc377c7c23",
       "version_major": 2,
       "version_minor": 0
      },
      "text/plain": [
       "HBox(children=(IntProgress(value=0, max=60000), HTML(value='')))"
      ]
     },
     "metadata": {},
     "output_type": "display_data"
    },
    {
     "name": "stdout",
     "output_type": "stream",
     "text": [
      "\n",
      "Train Accuracy: D[0.967] --> B[0.997] | MSE(D): 1.015143e-03\n",
      "Test Accuracy:  D[0.968] --> B[0.997] | MSE(D): 1.293145e-03\n",
      "\n",
      "..........\n",
      "Epoch 25:\n"
     ]
    },
    {
     "data": {
      "application/vnd.jupyter.widget-view+json": {
       "model_id": "3b43f6d861c54151954dce096ae6a7bd",
       "version_major": 2,
       "version_minor": 0
      },
      "text/plain": [
       "HBox(children=(IntProgress(value=0, max=60000), HTML(value='')))"
      ]
     },
     "metadata": {},
     "output_type": "display_data"
    },
    {
     "name": "stdout",
     "output_type": "stream",
     "text": [
      "\n",
      "Train Accuracy: D[0.968] --> B[0.997] | MSE(D): 9.985773e-04\n",
      "Test Accuracy:  D[0.969] --> B[0.997] | MSE(D): 1.330816e-03\n",
      "\n",
      "Saved weights for e25\n",
      "========================================\n",
      "INFO:tensorflow:Restoring parameters from ./discriminator_checkpoints/null\\discriminator_checkpoint.ckpt\n",
      "Reset graph to its initial state\n",
      "\n",
      "========================================\n",
      "Loading previous blackbox_e20 evaluation\n",
      "\n",
      "========================================\n",
      "Training on blackbox_e20\n",
      "..........\n",
      "Epoch 1:\n"
     ]
    },
    {
     "data": {
      "application/vnd.jupyter.widget-view+json": {
       "model_id": "d056f839edc64290b1fbd7275ff49bc3",
       "version_major": 2,
       "version_minor": 0
      },
      "text/plain": [
       "HBox(children=(IntProgress(value=0, max=60000), HTML(value='')))"
      ]
     },
     "metadata": {},
     "output_type": "display_data"
    },
    {
     "name": "stdout",
     "output_type": "stream",
     "text": [
      "\n",
      "Train Accuracy: D[0.542] --> B[0.998] | MSE(D): 3.626210e-02\n",
      "Test Accuracy:  D[0.758] --> B[0.997] | MSE(D): 1.229922e-02\n",
      "\n",
      "..........\n",
      "Epoch 2:\n"
     ]
    },
    {
     "data": {
      "application/vnd.jupyter.widget-view+json": {
       "model_id": "691b08ba4f104d50bcf09d93ac7638ca",
       "version_major": 2,
       "version_minor": 0
      },
      "text/plain": [
       "HBox(children=(IntProgress(value=0, max=60000), HTML(value='')))"
      ]
     },
     "metadata": {},
     "output_type": "display_data"
    },
    {
     "name": "stdout",
     "output_type": "stream",
     "text": [
      "\n",
      "Train Accuracy: D[0.805] --> B[0.998] | MSE(D): 9.743095e-03\n",
      "Test Accuracy:  D[0.847] --> B[0.997] | MSE(D): 5.440683e-03\n",
      "\n",
      "..........\n",
      "Epoch 3:\n"
     ]
    },
    {
     "data": {
      "application/vnd.jupyter.widget-view+json": {
       "model_id": "6f2c27792e1b4eb8bbde7a82e681775f",
       "version_major": 2,
       "version_minor": 0
      },
      "text/plain": [
       "HBox(children=(IntProgress(value=0, max=60000), HTML(value='')))"
      ]
     },
     "metadata": {},
     "output_type": "display_data"
    },
    {
     "name": "stdout",
     "output_type": "stream",
     "text": [
      "\n",
      "Train Accuracy: D[0.865] --> B[0.997] | MSE(D): 6.064169e-03\n",
      "Test Accuracy:  D[0.885] --> B[0.997] | MSE(D): 3.829742e-03\n",
      "\n",
      "..........\n",
      "Epoch 4:\n"
     ]
    },
    {
     "data": {
      "application/vnd.jupyter.widget-view+json": {
       "model_id": "c4967347006247228577448fcce3eddc",
       "version_major": 2,
       "version_minor": 0
      },
      "text/plain": [
       "HBox(children=(IntProgress(value=0, max=60000), HTML(value='')))"
      ]
     },
     "metadata": {},
     "output_type": "display_data"
    },
    {
     "name": "stdout",
     "output_type": "stream",
     "text": [
      "\n",
      "Train Accuracy: D[0.894] --> B[0.997] | MSE(D): 4.413616e-03\n",
      "Test Accuracy:  D[0.905] --> B[0.997] | MSE(D): 3.352622e-03\n",
      "\n",
      "..........\n",
      "Epoch 5:\n"
     ]
    },
    {
     "data": {
      "application/vnd.jupyter.widget-view+json": {
       "model_id": "3c32e21f21ed450d9be80eff4cf70dfc",
       "version_major": 2,
       "version_minor": 0
      },
      "text/plain": [
       "HBox(children=(IntProgress(value=0, max=60000), HTML(value='')))"
      ]
     },
     "metadata": {},
     "output_type": "display_data"
    },
    {
     "name": "stdout",
     "output_type": "stream",
     "text": [
      "\n",
      "Train Accuracy: D[0.912] --> B[0.997] | MSE(D): 3.591119e-03\n",
      "Test Accuracy:  D[0.919] --> B[0.997] | MSE(D): 2.795693e-03\n",
      "\n",
      "..........\n",
      "Epoch 6:\n"
     ]
    },
    {
     "data": {
      "application/vnd.jupyter.widget-view+json": {
       "model_id": "a7326fd82f73432e852333a114242ab4",
       "version_major": 2,
       "version_minor": 0
      },
      "text/plain": [
       "HBox(children=(IntProgress(value=0, max=60000), HTML(value='')))"
      ]
     },
     "metadata": {},
     "output_type": "display_data"
    },
    {
     "name": "stdout",
     "output_type": "stream",
     "text": [
      "\n",
      "Train Accuracy: D[0.923] --> B[0.997] | MSE(D): 3.240701e-03\n",
      "Test Accuracy:  D[0.929] --> B[0.997] | MSE(D): 2.252782e-03\n",
      "\n",
      "..........\n",
      "Epoch 7:\n"
     ]
    },
    {
     "data": {
      "application/vnd.jupyter.widget-view+json": {
       "model_id": "0bd5a8270f9e4eb2a629e4c73e108311",
       "version_major": 2,
       "version_minor": 0
      },
      "text/plain": [
       "HBox(children=(IntProgress(value=0, max=60000), HTML(value='')))"
      ]
     },
     "metadata": {},
     "output_type": "display_data"
    },
    {
     "name": "stdout",
     "output_type": "stream",
     "text": [
      "\n",
      "Train Accuracy: D[0.932] --> B[0.997] | MSE(D): 2.781885e-03\n",
      "Test Accuracy:  D[0.936] --> B[0.997] | MSE(D): 2.419190e-03\n",
      "\n",
      "..........\n",
      "Epoch 8:\n"
     ]
    },
    {
     "data": {
      "application/vnd.jupyter.widget-view+json": {
       "model_id": "222dbacb672841f792605aee53c14895",
       "version_major": 2,
       "version_minor": 0
      },
      "text/plain": [
       "HBox(children=(IntProgress(value=0, max=60000), HTML(value='')))"
      ]
     },
     "metadata": {},
     "output_type": "display_data"
    },
    {
     "name": "stdout",
     "output_type": "stream",
     "text": [
      "\n",
      "Train Accuracy: D[0.938] --> B[0.997] | MSE(D): 2.488116e-03\n",
      "Test Accuracy:  D[0.941] --> B[0.997] | MSE(D): 1.966439e-03\n",
      "\n",
      "..........\n",
      "Epoch 9:\n"
     ]
    },
    {
     "data": {
      "application/vnd.jupyter.widget-view+json": {
       "model_id": "29aac35355ff400c89b547a384950250",
       "version_major": 2,
       "version_minor": 0
      },
      "text/plain": [
       "HBox(children=(IntProgress(value=0, max=60000), HTML(value='')))"
      ]
     },
     "metadata": {},
     "output_type": "display_data"
    },
    {
     "name": "stdout",
     "output_type": "stream",
     "text": [
      "\n",
      "Train Accuracy: D[0.943] --> B[0.997] | MSE(D): 2.177370e-03\n",
      "Test Accuracy:  D[0.946] --> B[0.997] | MSE(D): 1.785507e-03\n",
      "\n",
      "..........\n",
      "Epoch 10:\n"
     ]
    },
    {
     "data": {
      "application/vnd.jupyter.widget-view+json": {
       "model_id": "edd00aa3b4684125819bb4cf3bfc81ce",
       "version_major": 2,
       "version_minor": 0
      },
      "text/plain": [
       "HBox(children=(IntProgress(value=0, max=60000), HTML(value='')))"
      ]
     },
     "metadata": {},
     "output_type": "display_data"
    },
    {
     "name": "stdout",
     "output_type": "stream",
     "text": [
      "\n",
      "Train Accuracy: D[0.948] --> B[0.997] | MSE(D): 1.878112e-03\n",
      "Test Accuracy:  D[0.950] --> B[0.997] | MSE(D): 1.738961e-03\n",
      "\n",
      "..........\n",
      "Epoch 11:\n"
     ]
    },
    {
     "data": {
      "application/vnd.jupyter.widget-view+json": {
       "model_id": "4cf059e9a2e4452a9bbe168ef38daea9",
       "version_major": 2,
       "version_minor": 0
      },
      "text/plain": [
       "HBox(children=(IntProgress(value=0, max=60000), HTML(value='')))"
      ]
     },
     "metadata": {},
     "output_type": "display_data"
    },
    {
     "name": "stdout",
     "output_type": "stream",
     "text": [
      "\n",
      "Train Accuracy: D[0.951] --> B[0.997] | MSE(D): 1.804206e-03\n",
      "Test Accuracy:  D[0.953] --> B[0.997] | MSE(D): 1.745852e-03\n",
      "\n",
      "..........\n",
      "Epoch 12:\n"
     ]
    },
    {
     "data": {
      "application/vnd.jupyter.widget-view+json": {
       "model_id": "f87548ea2ebb46a88a2edcece8e7bfb7",
       "version_major": 2,
       "version_minor": 0
      },
      "text/plain": [
       "HBox(children=(IntProgress(value=0, max=60000), HTML(value='')))"
      ]
     },
     "metadata": {},
     "output_type": "display_data"
    },
    {
     "name": "stdout",
     "output_type": "stream",
     "text": [
      "\n",
      "Train Accuracy: D[0.954] --> B[0.997] | MSE(D): 1.704844e-03\n",
      "Test Accuracy:  D[0.956] --> B[0.997] | MSE(D): 1.560965e-03\n",
      "\n",
      "..........\n",
      "Epoch 13:\n"
     ]
    },
    {
     "data": {
      "application/vnd.jupyter.widget-view+json": {
       "model_id": "d6c39ff391694a0b9bb04e87f32ea7db",
       "version_major": 2,
       "version_minor": 0
      },
      "text/plain": [
       "HBox(children=(IntProgress(value=0, max=60000), HTML(value='')))"
      ]
     },
     "metadata": {},
     "output_type": "display_data"
    },
    {
     "name": "stdout",
     "output_type": "stream",
     "text": [
      "\n",
      "Train Accuracy: D[0.957] --> B[0.997] | MSE(D): 1.501124e-03\n",
      "Test Accuracy:  D[0.958] --> B[0.997] | MSE(D): 1.636843e-03\n",
      "\n",
      "..........\n",
      "Epoch 14:\n"
     ]
    },
    {
     "data": {
      "application/vnd.jupyter.widget-view+json": {
       "model_id": "d58cb03e6ec44027b7a8cb1c64e18d12",
       "version_major": 2,
       "version_minor": 0
      },
      "text/plain": [
       "HBox(children=(IntProgress(value=0, max=60000), HTML(value='')))"
      ]
     },
     "metadata": {},
     "output_type": "display_data"
    },
    {
     "name": "stdout",
     "output_type": "stream",
     "text": [
      "\n",
      "Train Accuracy: D[0.959] --> B[0.997] | MSE(D): 1.412928e-03\n",
      "Test Accuracy:  D[0.960] --> B[0.997] | MSE(D): 1.517634e-03\n",
      "\n",
      "..........\n",
      "Epoch 15:\n"
     ]
    },
    {
     "data": {
      "application/vnd.jupyter.widget-view+json": {
       "model_id": "1c3031a834c448a096ebb2895a8d25d6",
       "version_major": 2,
       "version_minor": 0
      },
      "text/plain": [
       "HBox(children=(IntProgress(value=0, max=60000), HTML(value='')))"
      ]
     },
     "metadata": {},
     "output_type": "display_data"
    },
    {
     "name": "stdout",
     "output_type": "stream",
     "text": [
      "\n",
      "Train Accuracy: D[0.961] --> B[0.997] | MSE(D): 1.338040e-03\n",
      "Test Accuracy:  D[0.962] --> B[0.997] | MSE(D): 1.479339e-03\n",
      "\n",
      "..........\n",
      "Epoch 16:\n"
     ]
    },
    {
     "data": {
      "application/vnd.jupyter.widget-view+json": {
       "model_id": "ec4520d428c64559a046fec17ced09bc",
       "version_major": 2,
       "version_minor": 0
      },
      "text/plain": [
       "HBox(children=(IntProgress(value=0, max=60000), HTML(value='')))"
      ]
     },
     "metadata": {},
     "output_type": "display_data"
    },
    {
     "name": "stdout",
     "output_type": "stream",
     "text": [
      "\n",
      "Train Accuracy: D[0.963] --> B[0.997] | MSE(D): 1.233118e-03\n",
      "Test Accuracy:  D[0.964] --> B[0.997] | MSE(D): 1.423714e-03\n",
      "\n",
      "..........\n",
      "Epoch 17:\n"
     ]
    },
    {
     "data": {
      "application/vnd.jupyter.widget-view+json": {
       "model_id": "dadda0a8e2344213aa23e73dc43dd255",
       "version_major": 2,
       "version_minor": 0
      },
      "text/plain": [
       "HBox(children=(IntProgress(value=0, max=60000), HTML(value='')))"
      ]
     },
     "metadata": {},
     "output_type": "display_data"
    },
    {
     "name": "stdout",
     "output_type": "stream",
     "text": [
      "\n",
      "Train Accuracy: D[0.964] --> B[0.997] | MSE(D): 1.227205e-03\n",
      "Test Accuracy:  D[0.965] --> B[0.997] | MSE(D): 1.373077e-03\n",
      "\n",
      "..........\n",
      "Epoch 18:\n"
     ]
    },
    {
     "data": {
      "application/vnd.jupyter.widget-view+json": {
       "model_id": "218c33a7f6ac4e1191355a2ddee0b2a1",
       "version_major": 2,
       "version_minor": 0
      },
      "text/plain": [
       "HBox(children=(IntProgress(value=0, max=60000), HTML(value='')))"
      ]
     },
     "metadata": {},
     "output_type": "display_data"
    },
    {
     "name": "stdout",
     "output_type": "stream",
     "text": [
      "\n",
      "Train Accuracy: D[0.966] --> B[0.997] | MSE(D): 1.166105e-03\n",
      "Test Accuracy:  D[0.966] --> B[0.997] | MSE(D): 1.218030e-03\n",
      "\n",
      "..........\n",
      "Epoch 19:\n"
     ]
    },
    {
     "data": {
      "application/vnd.jupyter.widget-view+json": {
       "model_id": "dd8f1a3c1462443a90c4c9c0dd2a25fc",
       "version_major": 2,
       "version_minor": 0
      },
      "text/plain": [
       "HBox(children=(IntProgress(value=0, max=60000), HTML(value='')))"
      ]
     },
     "metadata": {},
     "output_type": "display_data"
    },
    {
     "name": "stdout",
     "output_type": "stream",
     "text": [
      "\n",
      "Train Accuracy: D[0.967] --> B[0.997] | MSE(D): 1.070129e-03\n",
      "Test Accuracy:  D[0.968] --> B[0.997] | MSE(D): 1.316428e-03\n",
      "\n",
      "..........\n",
      "Epoch 20:\n"
     ]
    },
    {
     "data": {
      "application/vnd.jupyter.widget-view+json": {
       "model_id": "ee3603426e294f48b2d43e23bf3655ac",
       "version_major": 2,
       "version_minor": 0
      },
      "text/plain": [
       "HBox(children=(IntProgress(value=0, max=60000), HTML(value='')))"
      ]
     },
     "metadata": {},
     "output_type": "display_data"
    },
    {
     "name": "stdout",
     "output_type": "stream",
     "text": [
      "\n",
      "Train Accuracy: D[0.968] --> B[0.997] | MSE(D): 1.047076e-03\n",
      "Test Accuracy:  D[0.969] --> B[0.997] | MSE(D): 1.371751e-03\n",
      "\n",
      "..........\n",
      "Epoch 21:\n"
     ]
    },
    {
     "data": {
      "application/vnd.jupyter.widget-view+json": {
       "model_id": "dc3bf65eb2bd4cd2807d2ab2639485f1",
       "version_major": 2,
       "version_minor": 0
      },
      "text/plain": [
       "HBox(children=(IntProgress(value=0, max=60000), HTML(value='')))"
      ]
     },
     "metadata": {},
     "output_type": "display_data"
    },
    {
     "name": "stdout",
     "output_type": "stream",
     "text": [
      "\n",
      "Train Accuracy: D[0.969] --> B[0.997] | MSE(D): 1.047479e-03\n",
      "Test Accuracy:  D[0.970] --> B[0.997] | MSE(D): 1.132268e-03\n",
      "\n",
      "..........\n",
      "Epoch 22:\n"
     ]
    },
    {
     "data": {
      "application/vnd.jupyter.widget-view+json": {
       "model_id": "db9c525127784e17849faed08e032a3d",
       "version_major": 2,
       "version_minor": 0
      },
      "text/plain": [
       "HBox(children=(IntProgress(value=0, max=60000), HTML(value='')))"
      ]
     },
     "metadata": {},
     "output_type": "display_data"
    },
    {
     "name": "stdout",
     "output_type": "stream",
     "text": [
      "\n",
      "Train Accuracy: D[0.970] --> B[0.997] | MSE(D): 1.033477e-03\n",
      "Test Accuracy:  D[0.971] --> B[0.997] | MSE(D): 1.111196e-03\n",
      "\n",
      "..........\n",
      "Epoch 23:\n"
     ]
    },
    {
     "data": {
      "application/vnd.jupyter.widget-view+json": {
       "model_id": "3294c0aee5424c658f05ff30d370a562",
       "version_major": 2,
       "version_minor": 0
      },
      "text/plain": [
       "HBox(children=(IntProgress(value=0, max=60000), HTML(value='')))"
      ]
     },
     "metadata": {},
     "output_type": "display_data"
    },
    {
     "name": "stdout",
     "output_type": "stream",
     "text": [
      "\n",
      "Train Accuracy: D[0.971] --> B[0.997] | MSE(D): 9.538921e-04\n",
      "Test Accuracy:  D[0.971] --> B[0.997] | MSE(D): 1.221208e-03\n",
      "\n",
      "..........\n",
      "Epoch 24:\n"
     ]
    },
    {
     "data": {
      "application/vnd.jupyter.widget-view+json": {
       "model_id": "3c471b556473402eb0f368051bca0bdc",
       "version_major": 2,
       "version_minor": 0
      },
      "text/plain": [
       "HBox(children=(IntProgress(value=0, max=60000), HTML(value='')))"
      ]
     },
     "metadata": {},
     "output_type": "display_data"
    },
    {
     "name": "stdout",
     "output_type": "stream",
     "text": [
      "\n",
      "Train Accuracy: D[0.972] --> B[0.997] | MSE(D): 9.141599e-04\n",
      "Test Accuracy:  D[0.972] --> B[0.997] | MSE(D): 1.206036e-03\n",
      "\n",
      "..........\n",
      "Epoch 25:\n"
     ]
    },
    {
     "data": {
      "application/vnd.jupyter.widget-view+json": {
       "model_id": "9a0ac827b5d1411da050e4c3ec691706",
       "version_major": 2,
       "version_minor": 0
      },
      "text/plain": [
       "HBox(children=(IntProgress(value=0, max=60000), HTML(value='')))"
      ]
     },
     "metadata": {},
     "output_type": "display_data"
    },
    {
     "name": "stdout",
     "output_type": "stream",
     "text": [
      "\n",
      "Train Accuracy: D[0.973] --> B[0.997] | MSE(D): 8.969521e-04\n",
      "Test Accuracy:  D[0.973] --> B[0.997] | MSE(D): 1.227844e-03\n",
      "\n",
      "Saved weights for e25\n",
      "========================================\n",
      "INFO:tensorflow:Restoring parameters from ./discriminator_checkpoints/null\\discriminator_checkpoint.ckpt\n",
      "Reset graph to its initial state\n",
      "\n",
      "========================================\n",
      "Loading previous blackbox_e21 evaluation\n",
      "\n",
      "========================================\n",
      "Training on blackbox_e21\n",
      "..........\n",
      "Epoch 1:\n"
     ]
    },
    {
     "data": {
      "application/vnd.jupyter.widget-view+json": {
       "model_id": "007277ce1b214d5290525daaf7b19feb",
       "version_major": 2,
       "version_minor": 0
      },
      "text/plain": [
       "HBox(children=(IntProgress(value=0, max=60000), HTML(value='')))"
      ]
     },
     "metadata": {},
     "output_type": "display_data"
    },
    {
     "name": "stdout",
     "output_type": "stream",
     "text": [
      "\n",
      "Train Accuracy: D[0.499] --> B[0.998] | MSE(D): 4.008969e-02\n",
      "Test Accuracy:  D[0.726] --> B[0.997] | MSE(D): 1.444040e-02\n",
      "\n",
      "..........\n",
      "Epoch 2:\n"
     ]
    },
    {
     "data": {
      "application/vnd.jupyter.widget-view+json": {
       "model_id": "10268dc531154a22b1ae5172ceb9870f",
       "version_major": 2,
       "version_minor": 0
      },
      "text/plain": [
       "HBox(children=(IntProgress(value=0, max=60000), HTML(value='')))"
      ]
     },
     "metadata": {},
     "output_type": "display_data"
    },
    {
     "name": "stdout",
     "output_type": "stream",
     "text": [
      "\n",
      "Train Accuracy: D[0.780] --> B[0.997] | MSE(D): 1.054051e-02\n",
      "Test Accuracy:  D[0.829] --> B[0.997] | MSE(D): 5.783114e-03\n",
      "\n",
      "..........\n",
      "Epoch 3:\n"
     ]
    },
    {
     "data": {
      "application/vnd.jupyter.widget-view+json": {
       "model_id": "080c13158532492d908beaeaf4f8fdb7",
       "version_major": 2,
       "version_minor": 0
      },
      "text/plain": [
       "HBox(children=(IntProgress(value=0, max=60000), HTML(value='')))"
      ]
     },
     "metadata": {},
     "output_type": "display_data"
    },
    {
     "name": "stdout",
     "output_type": "stream",
     "text": [
      "\n",
      "Train Accuracy: D[0.850] --> B[0.997] | MSE(D): 6.392810e-03\n",
      "Test Accuracy:  D[0.872] --> B[0.997] | MSE(D): 4.155321e-03\n",
      "\n",
      "..........\n",
      "Epoch 4:\n"
     ]
    },
    {
     "data": {
      "application/vnd.jupyter.widget-view+json": {
       "model_id": "b2ba18100b8c460a9d24bfecd7c65d83",
       "version_major": 2,
       "version_minor": 0
      },
      "text/plain": [
       "HBox(children=(IntProgress(value=0, max=60000), HTML(value='')))"
      ]
     },
     "metadata": {},
     "output_type": "display_data"
    },
    {
     "name": "stdout",
     "output_type": "stream",
     "text": [
      "\n",
      "Train Accuracy: D[0.883] --> B[0.997] | MSE(D): 4.484361e-03\n",
      "Test Accuracy:  D[0.896] --> B[0.997] | MSE(D): 3.596647e-03\n",
      "\n",
      "..........\n",
      "Epoch 5:\n"
     ]
    },
    {
     "data": {
      "application/vnd.jupyter.widget-view+json": {
       "model_id": "db99a97db623439ebb8d355e2ce95e24",
       "version_major": 2,
       "version_minor": 0
      },
      "text/plain": [
       "HBox(children=(IntProgress(value=0, max=60000), HTML(value='')))"
      ]
     },
     "metadata": {},
     "output_type": "display_data"
    },
    {
     "name": "stdout",
     "output_type": "stream",
     "text": [
      "\n",
      "Train Accuracy: D[0.903] --> B[0.997] | MSE(D): 3.775056e-03\n",
      "Test Accuracy:  D[0.911] --> B[0.997] | MSE(D): 2.578322e-03\n",
      "\n",
      "..........\n",
      "Epoch 6:\n"
     ]
    },
    {
     "data": {
      "application/vnd.jupyter.widget-view+json": {
       "model_id": "a346ba4d7df24b61af0ad7fd67579059",
       "version_major": 2,
       "version_minor": 0
      },
      "text/plain": [
       "HBox(children=(IntProgress(value=0, max=60000), HTML(value='')))"
      ]
     },
     "metadata": {},
     "output_type": "display_data"
    },
    {
     "name": "stdout",
     "output_type": "stream",
     "text": [
      "\n",
      "Train Accuracy: D[0.916] --> B[0.997] | MSE(D): 3.079357e-03\n",
      "Test Accuracy:  D[0.922] --> B[0.997] | MSE(D): 2.255182e-03\n",
      "\n",
      "..........\n",
      "Epoch 7:\n"
     ]
    },
    {
     "data": {
      "application/vnd.jupyter.widget-view+json": {
       "model_id": "c71af79fa35149c4982a572e1372a31b",
       "version_major": 2,
       "version_minor": 0
      },
      "text/plain": [
       "HBox(children=(IntProgress(value=0, max=60000), HTML(value='')))"
      ]
     },
     "metadata": {},
     "output_type": "display_data"
    },
    {
     "name": "stdout",
     "output_type": "stream",
     "text": [
      "\n",
      "Train Accuracy: D[0.926] --> B[0.997] | MSE(D): 2.803521e-03\n",
      "Test Accuracy:  D[0.930] --> B[0.997] | MSE(D): 2.022100e-03\n",
      "\n",
      "..........\n",
      "Epoch 8:\n"
     ]
    },
    {
     "data": {
      "application/vnd.jupyter.widget-view+json": {
       "model_id": "e3d98a2052af455fad2824471e71728f",
       "version_major": 2,
       "version_minor": 0
      },
      "text/plain": [
       "HBox(children=(IntProgress(value=0, max=60000), HTML(value='')))"
      ]
     },
     "metadata": {},
     "output_type": "display_data"
    },
    {
     "name": "stdout",
     "output_type": "stream",
     "text": [
      "\n",
      "Train Accuracy: D[0.933] --> B[0.997] | MSE(D): 2.336683e-03\n",
      "Test Accuracy:  D[0.936] --> B[0.997] | MSE(D): 1.953190e-03\n",
      "\n",
      "..........\n",
      "Epoch 9:\n"
     ]
    },
    {
     "data": {
      "application/vnd.jupyter.widget-view+json": {
       "model_id": "92b981f2d5ca419dae39e7e9e52949c0",
       "version_major": 2,
       "version_minor": 0
      },
      "text/plain": [
       "HBox(children=(IntProgress(value=0, max=60000), HTML(value='')))"
      ]
     },
     "metadata": {},
     "output_type": "display_data"
    },
    {
     "name": "stdout",
     "output_type": "stream",
     "text": [
      "\n",
      "Train Accuracy: D[0.939] --> B[0.997] | MSE(D): 2.297777e-03\n",
      "Test Accuracy:  D[0.941] --> B[0.997] | MSE(D): 1.940621e-03\n",
      "\n",
      "..........\n",
      "Epoch 10:\n"
     ]
    },
    {
     "data": {
      "application/vnd.jupyter.widget-view+json": {
       "model_id": "fa629443e63d4697a111211c80ef4ef0",
       "version_major": 2,
       "version_minor": 0
      },
      "text/plain": [
       "HBox(children=(IntProgress(value=0, max=60000), HTML(value='')))"
      ]
     },
     "metadata": {},
     "output_type": "display_data"
    },
    {
     "name": "stdout",
     "output_type": "stream",
     "text": [
      "\n",
      "Train Accuracy: D[0.943] --> B[0.997] | MSE(D): 1.948258e-03\n",
      "Test Accuracy:  D[0.946] --> B[0.997] | MSE(D): 1.971651e-03\n",
      "\n",
      "..........\n",
      "Epoch 11:\n"
     ]
    },
    {
     "data": {
      "application/vnd.jupyter.widget-view+json": {
       "model_id": "7048dc45ec7e4a7fb49d031813a2dffb",
       "version_major": 2,
       "version_minor": 0
      },
      "text/plain": [
       "HBox(children=(IntProgress(value=0, max=60000), HTML(value='')))"
      ]
     },
     "metadata": {},
     "output_type": "display_data"
    },
    {
     "name": "stdout",
     "output_type": "stream",
     "text": [
      "\n",
      "Train Accuracy: D[0.947] --> B[0.997] | MSE(D): 1.797912e-03\n",
      "Test Accuracy:  D[0.949] --> B[0.997] | MSE(D): 1.713091e-03\n",
      "\n",
      "..........\n",
      "Epoch 12:\n"
     ]
    },
    {
     "data": {
      "application/vnd.jupyter.widget-view+json": {
       "model_id": "755539ae95de494cb5d95b48e66dad0c",
       "version_major": 2,
       "version_minor": 0
      },
      "text/plain": [
       "HBox(children=(IntProgress(value=0, max=60000), HTML(value='')))"
      ]
     },
     "metadata": {},
     "output_type": "display_data"
    },
    {
     "name": "stdout",
     "output_type": "stream",
     "text": [
      "\n",
      "Train Accuracy: D[0.950] --> B[0.997] | MSE(D): 1.710019e-03\n",
      "Test Accuracy:  D[0.952] --> B[0.997] | MSE(D): 1.691464e-03\n",
      "\n",
      "..........\n",
      "Epoch 13:\n"
     ]
    },
    {
     "data": {
      "application/vnd.jupyter.widget-view+json": {
       "model_id": "2331620472494abf8a530c3a08eab4d0",
       "version_major": 2,
       "version_minor": 0
      },
      "text/plain": [
       "HBox(children=(IntProgress(value=0, max=60000), HTML(value='')))"
      ]
     },
     "metadata": {},
     "output_type": "display_data"
    },
    {
     "name": "stdout",
     "output_type": "stream",
     "text": [
      "\n",
      "Train Accuracy: D[0.953] --> B[0.997] | MSE(D): 1.589859e-03\n",
      "Test Accuracy:  D[0.955] --> B[0.997] | MSE(D): 1.603008e-03\n",
      "\n",
      "..........\n",
      "Epoch 14:\n"
     ]
    },
    {
     "data": {
      "application/vnd.jupyter.widget-view+json": {
       "model_id": "5faf315d704343dfa3b59730265a2e97",
       "version_major": 2,
       "version_minor": 0
      },
      "text/plain": [
       "HBox(children=(IntProgress(value=0, max=60000), HTML(value='')))"
      ]
     },
     "metadata": {},
     "output_type": "display_data"
    },
    {
     "name": "stdout",
     "output_type": "stream",
     "text": [
      "\n",
      "Train Accuracy: D[0.956] --> B[0.997] | MSE(D): 1.515569e-03\n",
      "Test Accuracy:  D[0.957] --> B[0.997] | MSE(D): 1.650862e-03\n",
      "\n",
      "..........\n",
      "Epoch 15:\n"
     ]
    },
    {
     "data": {
      "application/vnd.jupyter.widget-view+json": {
       "model_id": "6e1568fe346a4b75a23b195043a9583b",
       "version_major": 2,
       "version_minor": 0
      },
      "text/plain": [
       "HBox(children=(IntProgress(value=0, max=60000), HTML(value='')))"
      ]
     },
     "metadata": {},
     "output_type": "display_data"
    },
    {
     "name": "stdout",
     "output_type": "stream",
     "text": [
      "\n",
      "Train Accuracy: D[0.958] --> B[0.997] | MSE(D): 1.392432e-03\n",
      "Test Accuracy:  D[0.959] --> B[0.997] | MSE(D): 1.482641e-03\n",
      "\n",
      "..........\n",
      "Epoch 16:\n"
     ]
    },
    {
     "data": {
      "application/vnd.jupyter.widget-view+json": {
       "model_id": "ce1572f9e1fd48048d38f5b951900cfc",
       "version_major": 2,
       "version_minor": 0
      },
      "text/plain": [
       "HBox(children=(IntProgress(value=0, max=60000), HTML(value='')))"
      ]
     },
     "metadata": {},
     "output_type": "display_data"
    },
    {
     "name": "stdout",
     "output_type": "stream",
     "text": [
      "\n",
      "Train Accuracy: D[0.960] --> B[0.997] | MSE(D): 1.309807e-03\n",
      "Test Accuracy:  D[0.961] --> B[0.997] | MSE(D): 1.555288e-03\n",
      "\n",
      "..........\n",
      "Epoch 17:\n"
     ]
    },
    {
     "data": {
      "application/vnd.jupyter.widget-view+json": {
       "model_id": "843baae9848745f3a970104ce76dc6b3",
       "version_major": 2,
       "version_minor": 0
      },
      "text/plain": [
       "HBox(children=(IntProgress(value=0, max=60000), HTML(value='')))"
      ]
     },
     "metadata": {},
     "output_type": "display_data"
    },
    {
     "name": "stdout",
     "output_type": "stream",
     "text": [
      "\n",
      "Train Accuracy: D[0.961] --> B[0.997] | MSE(D): 1.335971e-03\n",
      "Test Accuracy:  D[0.962] --> B[0.997] | MSE(D): 1.601228e-03\n",
      "\n",
      "..........\n",
      "Epoch 18:\n"
     ]
    },
    {
     "data": {
      "application/vnd.jupyter.widget-view+json": {
       "model_id": "cb4d40a58ad944409d26a911e3dc0dd2",
       "version_major": 2,
       "version_minor": 0
      },
      "text/plain": [
       "HBox(children=(IntProgress(value=0, max=60000), HTML(value='')))"
      ]
     },
     "metadata": {},
     "output_type": "display_data"
    },
    {
     "name": "stdout",
     "output_type": "stream",
     "text": [
      "\n",
      "Train Accuracy: D[0.963] --> B[0.997] | MSE(D): 1.230936e-03\n",
      "Test Accuracy:  D[0.964] --> B[0.997] | MSE(D): 1.335842e-03\n",
      "\n",
      "..........\n",
      "Epoch 19:\n"
     ]
    },
    {
     "data": {
      "application/vnd.jupyter.widget-view+json": {
       "model_id": "48256b8ed3074c5bad0cab7636bac6dc",
       "version_major": 2,
       "version_minor": 0
      },
      "text/plain": [
       "HBox(children=(IntProgress(value=0, max=60000), HTML(value='')))"
      ]
     },
     "metadata": {},
     "output_type": "display_data"
    },
    {
     "name": "stdout",
     "output_type": "stream",
     "text": [
      "\n",
      "Train Accuracy: D[0.964] --> B[0.997] | MSE(D): 1.143487e-03\n",
      "Test Accuracy:  D[0.965] --> B[0.997] | MSE(D): 1.460683e-03\n",
      "\n",
      "..........\n",
      "Epoch 20:\n"
     ]
    },
    {
     "data": {
      "application/vnd.jupyter.widget-view+json": {
       "model_id": "c0390f30359140ae84def31d4598dde4",
       "version_major": 2,
       "version_minor": 0
      },
      "text/plain": [
       "HBox(children=(IntProgress(value=0, max=60000), HTML(value='')))"
      ]
     },
     "metadata": {},
     "output_type": "display_data"
    },
    {
     "name": "stdout",
     "output_type": "stream",
     "text": [
      "\n",
      "Train Accuracy: D[0.966] --> B[0.997] | MSE(D): 1.115007e-03\n",
      "Test Accuracy:  D[0.966] --> B[0.997] | MSE(D): 1.647408e-03\n",
      "\n",
      "..........\n",
      "Epoch 21:\n"
     ]
    },
    {
     "data": {
      "application/vnd.jupyter.widget-view+json": {
       "model_id": "ba2e422be5c44432b250ea9696f4ddde",
       "version_major": 2,
       "version_minor": 0
      },
      "text/plain": [
       "HBox(children=(IntProgress(value=0, max=60000), HTML(value='')))"
      ]
     },
     "metadata": {},
     "output_type": "display_data"
    },
    {
     "name": "stdout",
     "output_type": "stream",
     "text": [
      "\n",
      "Train Accuracy: D[0.967] --> B[0.997] | MSE(D): 1.002862e-03\n",
      "Test Accuracy:  D[0.967] --> B[0.997] | MSE(D): 1.415991e-03\n",
      "\n",
      "..........\n",
      "Epoch 22:\n"
     ]
    },
    {
     "data": {
      "application/vnd.jupyter.widget-view+json": {
       "model_id": "2c88f1f64ed04fdba93be3f94d609e82",
       "version_major": 2,
       "version_minor": 0
      },
      "text/plain": [
       "HBox(children=(IntProgress(value=0, max=60000), HTML(value='')))"
      ]
     },
     "metadata": {},
     "output_type": "display_data"
    },
    {
     "name": "stdout",
     "output_type": "stream",
     "text": [
      "\n",
      "Train Accuracy: D[0.968] --> B[0.997] | MSE(D): 9.631532e-04\n",
      "Test Accuracy:  D[0.968] --> B[0.997] | MSE(D): 1.381785e-03\n",
      "\n",
      "..........\n",
      "Epoch 23:\n"
     ]
    },
    {
     "data": {
      "application/vnd.jupyter.widget-view+json": {
       "model_id": "69c8d67b1f2e478a95d85ad3ffc52f22",
       "version_major": 2,
       "version_minor": 0
      },
      "text/plain": [
       "HBox(children=(IntProgress(value=0, max=60000), HTML(value='')))"
      ]
     },
     "metadata": {},
     "output_type": "display_data"
    },
    {
     "name": "stdout",
     "output_type": "stream",
     "text": [
      "\n",
      "Train Accuracy: D[0.969] --> B[0.997] | MSE(D): 1.006844e-03\n",
      "Test Accuracy:  D[0.969] --> B[0.997] | MSE(D): 1.289885e-03\n",
      "\n",
      "..........\n",
      "Epoch 24:\n"
     ]
    },
    {
     "data": {
      "application/vnd.jupyter.widget-view+json": {
       "model_id": "92d614d1e7ea46b98d8a2edbc77dc83d",
       "version_major": 2,
       "version_minor": 0
      },
      "text/plain": [
       "HBox(children=(IntProgress(value=0, max=60000), HTML(value='')))"
      ]
     },
     "metadata": {},
     "output_type": "display_data"
    },
    {
     "name": "stdout",
     "output_type": "stream",
     "text": [
      "\n",
      "Train Accuracy: D[0.970] --> B[0.997] | MSE(D): 8.663494e-04\n",
      "Test Accuracy:  D[0.970] --> B[0.997] | MSE(D): 1.273495e-03\n",
      "\n",
      "..........\n",
      "Epoch 25:\n"
     ]
    },
    {
     "data": {
      "application/vnd.jupyter.widget-view+json": {
       "model_id": "225e97a6ce3d411d885e5cea34d60729",
       "version_major": 2,
       "version_minor": 0
      },
      "text/plain": [
       "HBox(children=(IntProgress(value=0, max=60000), HTML(value='')))"
      ]
     },
     "metadata": {},
     "output_type": "display_data"
    },
    {
     "name": "stdout",
     "output_type": "stream",
     "text": [
      "\n",
      "Train Accuracy: D[0.971] --> B[0.997] | MSE(D): 8.890074e-04\n",
      "Test Accuracy:  D[0.971] --> B[0.997] | MSE(D): 1.322399e-03\n",
      "\n",
      "Saved weights for e25\n",
      "========================================\n",
      "INFO:tensorflow:Restoring parameters from ./discriminator_checkpoints/null\\discriminator_checkpoint.ckpt\n",
      "Reset graph to its initial state\n",
      "\n",
      "========================================\n",
      "Loading previous blackbox_e22 evaluation\n",
      "\n",
      "========================================\n",
      "Training on blackbox_e22\n",
      "..........\n",
      "Epoch 1:\n"
     ]
    },
    {
     "data": {
      "application/vnd.jupyter.widget-view+json": {
       "model_id": "5be642b29db54e45bc927efe3aa26b74",
       "version_major": 2,
       "version_minor": 0
      },
      "text/plain": [
       "HBox(children=(IntProgress(value=0, max=60000), HTML(value='')))"
      ]
     },
     "metadata": {},
     "output_type": "display_data"
    },
    {
     "name": "stdout",
     "output_type": "stream",
     "text": [
      "\n",
      "Train Accuracy: D[0.435] --> B[0.998] | MSE(D): 4.639352e-02\n",
      "Test Accuracy:  D[0.682] --> B[0.997] | MSE(D): 1.465429e-02\n",
      "\n",
      "..........\n",
      "Epoch 2:\n"
     ]
    },
    {
     "data": {
      "application/vnd.jupyter.widget-view+json": {
       "model_id": "2f9cc378058e43449eff5221bdcca81d",
       "version_major": 2,
       "version_minor": 0
      },
      "text/plain": [
       "HBox(children=(IntProgress(value=0, max=60000), HTML(value='')))"
      ]
     },
     "metadata": {},
     "output_type": "display_data"
    },
    {
     "name": "stdout",
     "output_type": "stream",
     "text": [
      "\n",
      "Train Accuracy: D[0.747] --> B[0.998] | MSE(D): 1.153421e-02\n",
      "Test Accuracy:  D[0.805] --> B[0.997] | MSE(D): 6.739822e-03\n",
      "\n",
      "..........\n",
      "Epoch 3:\n"
     ]
    },
    {
     "data": {
      "application/vnd.jupyter.widget-view+json": {
       "model_id": "d1ab451e04f5491399dafe37b760a81e",
       "version_major": 2,
       "version_minor": 0
      },
      "text/plain": [
       "HBox(children=(IntProgress(value=0, max=60000), HTML(value='')))"
      ]
     },
     "metadata": {},
     "output_type": "display_data"
    },
    {
     "name": "stdout",
     "output_type": "stream",
     "text": [
      "\n",
      "Train Accuracy: D[0.830] --> B[0.998] | MSE(D): 6.780826e-03\n",
      "Test Accuracy:  D[0.855] --> B[0.997] | MSE(D): 4.704381e-03\n",
      "\n",
      "..........\n",
      "Epoch 4:\n"
     ]
    },
    {
     "data": {
      "application/vnd.jupyter.widget-view+json": {
       "model_id": "2c740ec4123047feaf5bdaa02ac9b30f",
       "version_major": 2,
       "version_minor": 0
      },
      "text/plain": [
       "HBox(children=(IntProgress(value=0, max=60000), HTML(value='')))"
      ]
     },
     "metadata": {},
     "output_type": "display_data"
    },
    {
     "name": "stdout",
     "output_type": "stream",
     "text": [
      "\n",
      "Train Accuracy: D[0.868] --> B[0.998] | MSE(D): 5.188864e-03\n",
      "Test Accuracy:  D[0.882] --> B[0.997] | MSE(D): 3.730671e-03\n",
      "\n",
      "..........\n",
      "Epoch 5:\n"
     ]
    },
    {
     "data": {
      "application/vnd.jupyter.widget-view+json": {
       "model_id": "3ab8fce355d64402a7de7ebb6a50c3e2",
       "version_major": 2,
       "version_minor": 0
      },
      "text/plain": [
       "HBox(children=(IntProgress(value=0, max=60000), HTML(value='')))"
      ]
     },
     "metadata": {},
     "output_type": "display_data"
    },
    {
     "name": "stdout",
     "output_type": "stream",
     "text": [
      "\n",
      "Train Accuracy: D[0.890] --> B[0.997] | MSE(D): 4.125460e-03\n",
      "Test Accuracy:  D[0.900] --> B[0.997] | MSE(D): 3.057061e-03\n",
      "\n",
      "..........\n",
      "Epoch 6:\n"
     ]
    },
    {
     "data": {
      "application/vnd.jupyter.widget-view+json": {
       "model_id": "7cdc9f6e6d2f433a8384ccf7d1b274e9",
       "version_major": 2,
       "version_minor": 0
      },
      "text/plain": [
       "HBox(children=(IntProgress(value=0, max=60000), HTML(value='')))"
      ]
     },
     "metadata": {},
     "output_type": "display_data"
    },
    {
     "name": "stdout",
     "output_type": "stream",
     "text": [
      "\n",
      "Train Accuracy: D[0.906] --> B[0.997] | MSE(D): 3.477756e-03\n",
      "Test Accuracy:  D[0.912] --> B[0.997] | MSE(D): 2.731782e-03\n",
      "\n",
      "..........\n",
      "Epoch 7:\n"
     ]
    },
    {
     "data": {
      "application/vnd.jupyter.widget-view+json": {
       "model_id": "b29daaffd86949d79647d29722c71a65",
       "version_major": 2,
       "version_minor": 0
      },
      "text/plain": [
       "HBox(children=(IntProgress(value=0, max=60000), HTML(value='')))"
      ]
     },
     "metadata": {},
     "output_type": "display_data"
    },
    {
     "name": "stdout",
     "output_type": "stream",
     "text": [
      "\n",
      "Train Accuracy: D[0.917] --> B[0.997] | MSE(D): 3.070811e-03\n",
      "Test Accuracy:  D[0.922] --> B[0.997] | MSE(D): 2.699502e-03\n",
      "\n",
      "..........\n",
      "Epoch 8:\n"
     ]
    },
    {
     "data": {
      "application/vnd.jupyter.widget-view+json": {
       "model_id": "a133088a40a648528b764c01a4ec54a5",
       "version_major": 2,
       "version_minor": 0
      },
      "text/plain": [
       "HBox(children=(IntProgress(value=0, max=60000), HTML(value='')))"
      ]
     },
     "metadata": {},
     "output_type": "display_data"
    },
    {
     "name": "stdout",
     "output_type": "stream",
     "text": [
      "\n",
      "Train Accuracy: D[0.925] --> B[0.997] | MSE(D): 2.838276e-03\n",
      "Test Accuracy:  D[0.929] --> B[0.997] | MSE(D): 2.130176e-03\n",
      "\n",
      "..........\n",
      "Epoch 9:\n"
     ]
    },
    {
     "data": {
      "application/vnd.jupyter.widget-view+json": {
       "model_id": "10b6e570190a4187bbc1f99f2ac5c07b",
       "version_major": 2,
       "version_minor": 0
      },
      "text/plain": [
       "HBox(children=(IntProgress(value=0, max=60000), HTML(value='')))"
      ]
     },
     "metadata": {},
     "output_type": "display_data"
    },
    {
     "name": "stdout",
     "output_type": "stream",
     "text": [
      "\n",
      "Train Accuracy: D[0.932] --> B[0.997] | MSE(D): 2.460325e-03\n",
      "Test Accuracy:  D[0.935] --> B[0.997] | MSE(D): 2.157551e-03\n",
      "\n",
      "..........\n",
      "Epoch 10:\n"
     ]
    },
    {
     "data": {
      "application/vnd.jupyter.widget-view+json": {
       "model_id": "9a7a3faa629e418184a7178bb3c374ec",
       "version_major": 2,
       "version_minor": 0
      },
      "text/plain": [
       "HBox(children=(IntProgress(value=0, max=60000), HTML(value='')))"
      ]
     },
     "metadata": {},
     "output_type": "display_data"
    },
    {
     "name": "stdout",
     "output_type": "stream",
     "text": [
      "\n",
      "Train Accuracy: D[0.937] --> B[0.997] | MSE(D): 2.324868e-03\n",
      "Test Accuracy:  D[0.939] --> B[0.997] | MSE(D): 2.013212e-03\n",
      "\n",
      "..........\n",
      "Epoch 11:\n"
     ]
    },
    {
     "data": {
      "application/vnd.jupyter.widget-view+json": {
       "model_id": "30f22e8585a54b229620e02bcc2ddda9",
       "version_major": 2,
       "version_minor": 0
      },
      "text/plain": [
       "HBox(children=(IntProgress(value=0, max=60000), HTML(value='')))"
      ]
     },
     "metadata": {},
     "output_type": "display_data"
    },
    {
     "name": "stdout",
     "output_type": "stream",
     "text": [
      "\n",
      "Train Accuracy: D[0.941] --> B[0.997] | MSE(D): 2.182512e-03\n",
      "Test Accuracy:  D[0.943] --> B[0.997] | MSE(D): 2.059124e-03\n",
      "\n",
      "..........\n",
      "Epoch 12:\n"
     ]
    },
    {
     "data": {
      "application/vnd.jupyter.widget-view+json": {
       "model_id": "8771fdffc6734ae7a33ea1d11cc99dac",
       "version_major": 2,
       "version_minor": 0
      },
      "text/plain": [
       "HBox(children=(IntProgress(value=0, max=60000), HTML(value='')))"
      ]
     },
     "metadata": {},
     "output_type": "display_data"
    },
    {
     "name": "stdout",
     "output_type": "stream",
     "text": [
      "\n",
      "Train Accuracy: D[0.945] --> B[0.997] | MSE(D): 1.998705e-03\n",
      "Test Accuracy:  D[0.947] --> B[0.997] | MSE(D): 1.946610e-03\n",
      "\n",
      "..........\n",
      "Epoch 13:\n"
     ]
    },
    {
     "data": {
      "application/vnd.jupyter.widget-view+json": {
       "model_id": "c25ebf3caa5e4a528f83ef1ec9243de4",
       "version_major": 2,
       "version_minor": 0
      },
      "text/plain": [
       "HBox(children=(IntProgress(value=0, max=60000), HTML(value='')))"
      ]
     },
     "metadata": {},
     "output_type": "display_data"
    },
    {
     "name": "stdout",
     "output_type": "stream",
     "text": [
      "\n",
      "Train Accuracy: D[0.948] --> B[0.997] | MSE(D): 1.781318e-03\n",
      "Test Accuracy:  D[0.950] --> B[0.997] | MSE(D): 1.786664e-03\n",
      "\n",
      "..........\n",
      "Epoch 14:\n"
     ]
    },
    {
     "data": {
      "application/vnd.jupyter.widget-view+json": {
       "model_id": "dcfcf47bc32e45ebafc1d4e9fdd64318",
       "version_major": 2,
       "version_minor": 0
      },
      "text/plain": [
       "HBox(children=(IntProgress(value=0, max=60000), HTML(value='')))"
      ]
     },
     "metadata": {},
     "output_type": "display_data"
    },
    {
     "name": "stdout",
     "output_type": "stream",
     "text": [
      "\n",
      "Train Accuracy: D[0.951] --> B[0.997] | MSE(D): 1.748441e-03\n",
      "Test Accuracy:  D[0.952] --> B[0.997] | MSE(D): 1.760309e-03\n",
      "\n",
      "..........\n",
      "Epoch 15:\n"
     ]
    },
    {
     "data": {
      "application/vnd.jupyter.widget-view+json": {
       "model_id": "ce4da5c65837452897d13ac8797b7a01",
       "version_major": 2,
       "version_minor": 0
      },
      "text/plain": [
       "HBox(children=(IntProgress(value=0, max=60000), HTML(value='')))"
      ]
     },
     "metadata": {},
     "output_type": "display_data"
    },
    {
     "name": "stdout",
     "output_type": "stream",
     "text": [
      "\n",
      "Train Accuracy: D[0.953] --> B[0.997] | MSE(D): 1.657287e-03\n",
      "Test Accuracy:  D[0.954] --> B[0.997] | MSE(D): 1.552965e-03\n",
      "\n",
      "..........\n",
      "Epoch 16:\n"
     ]
    },
    {
     "data": {
      "application/vnd.jupyter.widget-view+json": {
       "model_id": "f7aeaac35e5e45bcb01d71c656239f10",
       "version_major": 2,
       "version_minor": 0
      },
      "text/plain": [
       "HBox(children=(IntProgress(value=0, max=60000), HTML(value='')))"
      ]
     },
     "metadata": {},
     "output_type": "display_data"
    },
    {
     "name": "stdout",
     "output_type": "stream",
     "text": [
      "\n",
      "Train Accuracy: D[0.955] --> B[0.997] | MSE(D): 1.507420e-03\n",
      "Test Accuracy:  D[0.956] --> B[0.997] | MSE(D): 2.042950e-03\n",
      "\n",
      "..........\n",
      "Epoch 17:\n"
     ]
    },
    {
     "data": {
      "application/vnd.jupyter.widget-view+json": {
       "model_id": "3129777250974574b30264af190f4554",
       "version_major": 2,
       "version_minor": 0
      },
      "text/plain": [
       "HBox(children=(IntProgress(value=0, max=60000), HTML(value='')))"
      ]
     },
     "metadata": {},
     "output_type": "display_data"
    },
    {
     "name": "stdout",
     "output_type": "stream",
     "text": [
      "\n",
      "Train Accuracy: D[0.957] --> B[0.997] | MSE(D): 1.519467e-03\n",
      "Test Accuracy:  D[0.958] --> B[0.997] | MSE(D): 1.699468e-03\n",
      "\n",
      "..........\n",
      "Epoch 18:\n"
     ]
    },
    {
     "data": {
      "application/vnd.jupyter.widget-view+json": {
       "model_id": "ead50c3db8e04604887abcdf1b218fa3",
       "version_major": 2,
       "version_minor": 0
      },
      "text/plain": [
       "HBox(children=(IntProgress(value=0, max=60000), HTML(value='')))"
      ]
     },
     "metadata": {},
     "output_type": "display_data"
    },
    {
     "name": "stdout",
     "output_type": "stream",
     "text": [
      "\n",
      "Train Accuracy: D[0.959] --> B[0.997] | MSE(D): 1.374223e-03\n",
      "Test Accuracy:  D[0.960] --> B[0.997] | MSE(D): 1.578136e-03\n",
      "\n",
      "..........\n",
      "Epoch 19:\n"
     ]
    },
    {
     "data": {
      "application/vnd.jupyter.widget-view+json": {
       "model_id": "99c6fc465a744dfebf7fbb471d1ceb12",
       "version_major": 2,
       "version_minor": 0
      },
      "text/plain": [
       "HBox(children=(IntProgress(value=0, max=60000), HTML(value='')))"
      ]
     },
     "metadata": {},
     "output_type": "display_data"
    },
    {
     "name": "stdout",
     "output_type": "stream",
     "text": [
      "\n",
      "Train Accuracy: D[0.961] --> B[0.997] | MSE(D): 1.349631e-03\n",
      "Test Accuracy:  D[0.961] --> B[0.997] | MSE(D): 1.540899e-03\n",
      "\n",
      "..........\n",
      "Epoch 20:\n"
     ]
    },
    {
     "data": {
      "application/vnd.jupyter.widget-view+json": {
       "model_id": "69d964dbe23d49eabb0ee9770249b390",
       "version_major": 2,
       "version_minor": 0
      },
      "text/plain": [
       "HBox(children=(IntProgress(value=0, max=60000), HTML(value='')))"
      ]
     },
     "metadata": {},
     "output_type": "display_data"
    },
    {
     "name": "stdout",
     "output_type": "stream",
     "text": [
      "\n",
      "Train Accuracy: D[0.962] --> B[0.997] | MSE(D): 1.295458e-03\n",
      "Test Accuracy:  D[0.963] --> B[0.997] | MSE(D): 1.452697e-03\n",
      "\n",
      "..........\n",
      "Epoch 21:\n"
     ]
    },
    {
     "data": {
      "application/vnd.jupyter.widget-view+json": {
       "model_id": "32268ea1b62d49df9adc3665a01b6d23",
       "version_major": 2,
       "version_minor": 0
      },
      "text/plain": [
       "HBox(children=(IntProgress(value=0, max=60000), HTML(value='')))"
      ]
     },
     "metadata": {},
     "output_type": "display_data"
    },
    {
     "name": "stdout",
     "output_type": "stream",
     "text": [
      "\n",
      "Train Accuracy: D[0.963] --> B[0.997] | MSE(D): 1.255238e-03\n",
      "Test Accuracy:  D[0.964] --> B[0.997] | MSE(D): 1.434089e-03\n",
      "\n",
      "..........\n",
      "Epoch 22:\n"
     ]
    },
    {
     "data": {
      "application/vnd.jupyter.widget-view+json": {
       "model_id": "ae5f01d3330b4918a379391999790e03",
       "version_major": 2,
       "version_minor": 0
      },
      "text/plain": [
       "HBox(children=(IntProgress(value=0, max=60000), HTML(value='')))"
      ]
     },
     "metadata": {},
     "output_type": "display_data"
    },
    {
     "name": "stdout",
     "output_type": "stream",
     "text": [
      "\n",
      "Train Accuracy: D[0.964] --> B[0.997] | MSE(D): 1.253403e-03\n",
      "Test Accuracy:  D[0.965] --> B[0.997] | MSE(D): 1.442566e-03\n",
      "\n",
      "..........\n",
      "Epoch 23:\n"
     ]
    },
    {
     "data": {
      "application/vnd.jupyter.widget-view+json": {
       "model_id": "345be67a8d0d4568895ab6faf0095734",
       "version_major": 2,
       "version_minor": 0
      },
      "text/plain": [
       "HBox(children=(IntProgress(value=0, max=60000), HTML(value='')))"
      ]
     },
     "metadata": {},
     "output_type": "display_data"
    },
    {
     "name": "stdout",
     "output_type": "stream",
     "text": [
      "\n",
      "Train Accuracy: D[0.966] --> B[0.997] | MSE(D): 1.054903e-03\n",
      "Test Accuracy:  D[0.966] --> B[0.997] | MSE(D): 1.396684e-03\n",
      "\n",
      "..........\n",
      "Epoch 24:\n"
     ]
    },
    {
     "data": {
      "application/vnd.jupyter.widget-view+json": {
       "model_id": "1caabcbb42b747ffbe8358c28e92d0a9",
       "version_major": 2,
       "version_minor": 0
      },
      "text/plain": [
       "HBox(children=(IntProgress(value=0, max=60000), HTML(value='')))"
      ]
     },
     "metadata": {},
     "output_type": "display_data"
    },
    {
     "name": "stdout",
     "output_type": "stream",
     "text": [
      "\n",
      "Train Accuracy: D[0.967] --> B[0.997] | MSE(D): 1.060722e-03\n",
      "Test Accuracy:  D[0.967] --> B[0.997] | MSE(D): 1.454631e-03\n",
      "\n",
      "..........\n",
      "Epoch 25:\n"
     ]
    },
    {
     "data": {
      "application/vnd.jupyter.widget-view+json": {
       "model_id": "d060a1b77bb040129853401f080f347f",
       "version_major": 2,
       "version_minor": 0
      },
      "text/plain": [
       "HBox(children=(IntProgress(value=0, max=60000), HTML(value='')))"
      ]
     },
     "metadata": {},
     "output_type": "display_data"
    },
    {
     "name": "stdout",
     "output_type": "stream",
     "text": [
      "\n",
      "Train Accuracy: D[0.968] --> B[0.997] | MSE(D): 1.038909e-03\n",
      "Test Accuracy:  D[0.968] --> B[0.997] | MSE(D): 1.403411e-03\n",
      "\n",
      "Saved weights for e25\n",
      "========================================\n",
      "INFO:tensorflow:Restoring parameters from ./discriminator_checkpoints/null\\discriminator_checkpoint.ckpt\n",
      "Reset graph to its initial state\n",
      "\n",
      "========================================\n",
      "Loading previous blackbox_e23 evaluation\n",
      "\n",
      "========================================\n",
      "Training on blackbox_e23\n",
      "..........\n",
      "Epoch 1:\n"
     ]
    },
    {
     "data": {
      "application/vnd.jupyter.widget-view+json": {
       "model_id": "25d175fdf15e46d4a3b0712f01014970",
       "version_major": 2,
       "version_minor": 0
      },
      "text/plain": [
       "HBox(children=(IntProgress(value=0, max=60000), HTML(value='')))"
      ]
     },
     "metadata": {},
     "output_type": "display_data"
    },
    {
     "name": "stdout",
     "output_type": "stream",
     "text": [
      "\n",
      "Train Accuracy: D[0.461] --> B[0.999] | MSE(D): 4.365418e-02\n",
      "Test Accuracy:  D[0.704] --> B[0.998] | MSE(D): 1.527750e-02\n",
      "\n",
      "..........\n",
      "Epoch 2:\n"
     ]
    },
    {
     "data": {
      "application/vnd.jupyter.widget-view+json": {
       "model_id": "573b809a51844302980d9df0a3e61c9b",
       "version_major": 2,
       "version_minor": 0
      },
      "text/plain": [
       "HBox(children=(IntProgress(value=0, max=60000), HTML(value='')))"
      ]
     },
     "metadata": {},
     "output_type": "display_data"
    },
    {
     "name": "stdout",
     "output_type": "stream",
     "text": [
      "\n",
      "Train Accuracy: D[0.761] --> B[0.998] | MSE(D): 1.247705e-02\n",
      "Test Accuracy:  D[0.812] --> B[0.998] | MSE(D): 7.680904e-03\n",
      "\n",
      "..........\n",
      "Epoch 3:\n"
     ]
    },
    {
     "data": {
      "application/vnd.jupyter.widget-view+json": {
       "model_id": "e21a46bba2564f11a520e23432976bcb",
       "version_major": 2,
       "version_minor": 0
      },
      "text/plain": [
       "HBox(children=(IntProgress(value=0, max=60000), HTML(value='')))"
      ]
     },
     "metadata": {},
     "output_type": "display_data"
    },
    {
     "name": "stdout",
     "output_type": "stream",
     "text": [
      "\n",
      "Train Accuracy: D[0.835] --> B[0.998] | MSE(D): 7.450372e-03\n",
      "Test Accuracy:  D[0.858] --> B[0.998] | MSE(D): 5.163175e-03\n",
      "\n",
      "..........\n",
      "Epoch 4:\n"
     ]
    },
    {
     "data": {
      "application/vnd.jupyter.widget-view+json": {
       "model_id": "87ef214391b44e1991513627b7e922bd",
       "version_major": 2,
       "version_minor": 0
      },
      "text/plain": [
       "HBox(children=(IntProgress(value=0, max=60000), HTML(value='')))"
      ]
     },
     "metadata": {},
     "output_type": "display_data"
    },
    {
     "name": "stdout",
     "output_type": "stream",
     "text": [
      "\n",
      "Train Accuracy: D[0.871] --> B[0.998] | MSE(D): 5.609864e-03\n",
      "Test Accuracy:  D[0.884] --> B[0.998] | MSE(D): 3.793603e-03\n",
      "\n",
      "..........\n",
      "Epoch 5:\n"
     ]
    },
    {
     "data": {
      "application/vnd.jupyter.widget-view+json": {
       "model_id": "d04aa34574d04b05b327adf6f95a2280",
       "version_major": 2,
       "version_minor": 0
      },
      "text/plain": [
       "HBox(children=(IntProgress(value=0, max=60000), HTML(value='')))"
      ]
     },
     "metadata": {},
     "output_type": "display_data"
    },
    {
     "name": "stdout",
     "output_type": "stream",
     "text": [
      "\n",
      "Train Accuracy: D[0.892] --> B[0.998] | MSE(D): 4.450939e-03\n",
      "Test Accuracy:  D[0.901] --> B[0.998] | MSE(D): 3.661800e-03\n",
      "\n",
      "..........\n",
      "Epoch 6:\n"
     ]
    },
    {
     "data": {
      "application/vnd.jupyter.widget-view+json": {
       "model_id": "833ebe9b02804f1c8b039e861025cb79",
       "version_major": 2,
       "version_minor": 0
      },
      "text/plain": [
       "HBox(children=(IntProgress(value=0, max=60000), HTML(value='')))"
      ]
     },
     "metadata": {},
     "output_type": "display_data"
    },
    {
     "name": "stdout",
     "output_type": "stream",
     "text": [
      "\n",
      "Train Accuracy: D[0.907] --> B[0.998] | MSE(D): 3.886386e-03\n",
      "Test Accuracy:  D[0.913] --> B[0.998] | MSE(D): 2.976601e-03\n",
      "\n",
      "..........\n",
      "Epoch 7:\n"
     ]
    },
    {
     "data": {
      "application/vnd.jupyter.widget-view+json": {
       "model_id": "8606e7b7159c4138ad898b921630146a",
       "version_major": 2,
       "version_minor": 0
      },
      "text/plain": [
       "HBox(children=(IntProgress(value=0, max=60000), HTML(value='')))"
      ]
     },
     "metadata": {},
     "output_type": "display_data"
    },
    {
     "name": "stdout",
     "output_type": "stream",
     "text": [
      "\n",
      "Train Accuracy: D[0.917] --> B[0.998] | MSE(D): 3.365996e-03\n",
      "Test Accuracy:  D[0.922] --> B[0.998] | MSE(D): 2.938537e-03\n",
      "\n",
      "..........\n",
      "Epoch 8:\n"
     ]
    },
    {
     "data": {
      "application/vnd.jupyter.widget-view+json": {
       "model_id": "1cbb0d5f50174331a696ad8bd47df70b",
       "version_major": 2,
       "version_minor": 0
      },
      "text/plain": [
       "HBox(children=(IntProgress(value=0, max=60000), HTML(value='')))"
      ]
     },
     "metadata": {},
     "output_type": "display_data"
    },
    {
     "name": "stdout",
     "output_type": "stream",
     "text": [
      "\n",
      "Train Accuracy: D[0.925] --> B[0.998] | MSE(D): 3.125998e-03\n",
      "Test Accuracy:  D[0.929] --> B[0.998] | MSE(D): 2.569465e-03\n",
      "\n",
      "..........\n",
      "Epoch 9:\n"
     ]
    },
    {
     "data": {
      "application/vnd.jupyter.widget-view+json": {
       "model_id": "56efd2cdfe6a41d186dd40b0d1e1f591",
       "version_major": 2,
       "version_minor": 0
      },
      "text/plain": [
       "HBox(children=(IntProgress(value=0, max=60000), HTML(value='')))"
      ]
     },
     "metadata": {},
     "output_type": "display_data"
    },
    {
     "name": "stdout",
     "output_type": "stream",
     "text": [
      "\n",
      "Train Accuracy: D[0.932] --> B[0.998] | MSE(D): 2.763885e-03\n",
      "Test Accuracy:  D[0.935] --> B[0.998] | MSE(D): 2.400695e-03\n",
      "\n",
      "..........\n",
      "Epoch 10:\n"
     ]
    },
    {
     "data": {
      "application/vnd.jupyter.widget-view+json": {
       "model_id": "b7d03c25a6c544b496ba266e59995e21",
       "version_major": 2,
       "version_minor": 0
      },
      "text/plain": [
       "HBox(children=(IntProgress(value=0, max=60000), HTML(value='')))"
      ]
     },
     "metadata": {},
     "output_type": "display_data"
    },
    {
     "name": "stdout",
     "output_type": "stream",
     "text": [
      "\n",
      "Train Accuracy: D[0.937] --> B[0.998] | MSE(D): 2.592108e-03\n",
      "Test Accuracy:  D[0.939] --> B[0.998] | MSE(D): 2.187041e-03\n",
      "\n",
      "..........\n",
      "Epoch 11:\n"
     ]
    },
    {
     "data": {
      "application/vnd.jupyter.widget-view+json": {
       "model_id": "13cbc927f9074505a2a5c72d63c07d15",
       "version_major": 2,
       "version_minor": 0
      },
      "text/plain": [
       "HBox(children=(IntProgress(value=0, max=60000), HTML(value='')))"
      ]
     },
     "metadata": {},
     "output_type": "display_data"
    },
    {
     "name": "stdout",
     "output_type": "stream",
     "text": [
      "\n",
      "Train Accuracy: D[0.941] --> B[0.998] | MSE(D): 2.370245e-03\n",
      "Test Accuracy:  D[0.943] --> B[0.998] | MSE(D): 2.163949e-03\n",
      "\n",
      "..........\n",
      "Epoch 12:\n"
     ]
    },
    {
     "data": {
      "application/vnd.jupyter.widget-view+json": {
       "model_id": "c8c81534e1ff44eabef90b7d9b6858e2",
       "version_major": 2,
       "version_minor": 0
      },
      "text/plain": [
       "HBox(children=(IntProgress(value=0, max=60000), HTML(value='')))"
      ]
     },
     "metadata": {},
     "output_type": "display_data"
    },
    {
     "name": "stdout",
     "output_type": "stream",
     "text": [
      "\n",
      "Train Accuracy: D[0.945] --> B[0.998] | MSE(D): 2.211874e-03\n",
      "Test Accuracy:  D[0.946] --> B[0.998] | MSE(D): 2.054143e-03\n",
      "\n",
      "..........\n",
      "Epoch 13:\n"
     ]
    },
    {
     "data": {
      "application/vnd.jupyter.widget-view+json": {
       "model_id": "3af39363f7d04ea2a1f1cf82db14767b",
       "version_major": 2,
       "version_minor": 0
      },
      "text/plain": [
       "HBox(children=(IntProgress(value=0, max=60000), HTML(value='')))"
      ]
     },
     "metadata": {},
     "output_type": "display_data"
    },
    {
     "name": "stdout",
     "output_type": "stream",
     "text": [
      "\n",
      "Train Accuracy: D[0.948] --> B[0.998] | MSE(D): 2.066074e-03\n",
      "Test Accuracy:  D[0.949] --> B[0.998] | MSE(D): 2.151281e-03\n",
      "\n",
      "..........\n",
      "Epoch 14:\n"
     ]
    },
    {
     "data": {
      "application/vnd.jupyter.widget-view+json": {
       "model_id": "8de6320ab0f945f79b3cdea84415300d",
       "version_major": 2,
       "version_minor": 0
      },
      "text/plain": [
       "HBox(children=(IntProgress(value=0, max=60000), HTML(value='')))"
      ]
     },
     "metadata": {},
     "output_type": "display_data"
    },
    {
     "name": "stdout",
     "output_type": "stream",
     "text": [
      "\n",
      "Train Accuracy: D[0.950] --> B[0.998] | MSE(D): 1.923108e-03\n",
      "Test Accuracy:  D[0.952] --> B[0.998] | MSE(D): 2.100927e-03\n",
      "\n",
      "..........\n",
      "Epoch 15:\n"
     ]
    },
    {
     "data": {
      "application/vnd.jupyter.widget-view+json": {
       "model_id": "93a8c3e0af1a41c2aa0aa3c4ee79f0ef",
       "version_major": 2,
       "version_minor": 0
      },
      "text/plain": [
       "HBox(children=(IntProgress(value=0, max=60000), HTML(value='')))"
      ]
     },
     "metadata": {},
     "output_type": "display_data"
    },
    {
     "name": "stdout",
     "output_type": "stream",
     "text": [
      "\n",
      "Train Accuracy: D[0.953] --> B[0.998] | MSE(D): 1.826037e-03\n",
      "Test Accuracy:  D[0.954] --> B[0.998] | MSE(D): 1.744521e-03\n",
      "\n",
      "..........\n",
      "Epoch 16:\n"
     ]
    },
    {
     "data": {
      "application/vnd.jupyter.widget-view+json": {
       "model_id": "7aca7f9f5cc947c88ccd20782e6ca7e7",
       "version_major": 2,
       "version_minor": 0
      },
      "text/plain": [
       "HBox(children=(IntProgress(value=0, max=60000), HTML(value='')))"
      ]
     },
     "metadata": {},
     "output_type": "display_data"
    },
    {
     "name": "stdout",
     "output_type": "stream",
     "text": [
      "\n",
      "Train Accuracy: D[0.955] --> B[0.998] | MSE(D): 1.760949e-03\n",
      "Test Accuracy:  D[0.956] --> B[0.998] | MSE(D): 1.740557e-03\n",
      "\n",
      "..........\n",
      "Epoch 17:\n"
     ]
    },
    {
     "data": {
      "application/vnd.jupyter.widget-view+json": {
       "model_id": "6358f1d81437484681515dcae981fd1a",
       "version_major": 2,
       "version_minor": 0
      },
      "text/plain": [
       "HBox(children=(IntProgress(value=0, max=60000), HTML(value='')))"
      ]
     },
     "metadata": {},
     "output_type": "display_data"
    },
    {
     "name": "stdout",
     "output_type": "stream",
     "text": [
      "\n",
      "Train Accuracy: D[0.957] --> B[0.998] | MSE(D): 1.674343e-03\n",
      "Test Accuracy:  D[0.958] --> B[0.998] | MSE(D): 1.668594e-03\n",
      "\n",
      "..........\n",
      "Epoch 18:\n"
     ]
    },
    {
     "data": {
      "application/vnd.jupyter.widget-view+json": {
       "model_id": "4aee4486a3d441bfb7695a9f320fed7b",
       "version_major": 2,
       "version_minor": 0
      },
      "text/plain": [
       "HBox(children=(IntProgress(value=0, max=60000), HTML(value='')))"
      ]
     },
     "metadata": {},
     "output_type": "display_data"
    },
    {
     "name": "stdout",
     "output_type": "stream",
     "text": [
      "\n",
      "Train Accuracy: D[0.959] --> B[0.998] | MSE(D): 1.579867e-03\n",
      "Test Accuracy:  D[0.959] --> B[0.998] | MSE(D): 1.815520e-03\n",
      "\n",
      "..........\n",
      "Epoch 19:\n"
     ]
    },
    {
     "data": {
      "application/vnd.jupyter.widget-view+json": {
       "model_id": "4bf06ed5cf68458e918b4ff25b2c8613",
       "version_major": 2,
       "version_minor": 0
      },
      "text/plain": [
       "HBox(children=(IntProgress(value=0, max=60000), HTML(value='')))"
      ]
     },
     "metadata": {},
     "output_type": "display_data"
    },
    {
     "name": "stdout",
     "output_type": "stream",
     "text": [
      "\n",
      "Train Accuracy: D[0.960] --> B[0.998] | MSE(D): 1.553891e-03\n",
      "Test Accuracy:  D[0.961] --> B[0.998] | MSE(D): 1.609606e-03\n",
      "\n",
      "..........\n",
      "Epoch 20:\n"
     ]
    },
    {
     "data": {
      "application/vnd.jupyter.widget-view+json": {
       "model_id": "2ae04079847445af81ebb01048eed86a",
       "version_major": 2,
       "version_minor": 0
      },
      "text/plain": [
       "HBox(children=(IntProgress(value=0, max=60000), HTML(value='')))"
      ]
     },
     "metadata": {},
     "output_type": "display_data"
    },
    {
     "name": "stdout",
     "output_type": "stream",
     "text": [
      "\n",
      "Train Accuracy: D[0.961] --> B[0.998] | MSE(D): 1.434408e-03\n",
      "Test Accuracy:  D[0.962] --> B[0.998] | MSE(D): 1.609496e-03\n",
      "\n",
      "..........\n",
      "Epoch 21:\n"
     ]
    },
    {
     "data": {
      "application/vnd.jupyter.widget-view+json": {
       "model_id": "d39b54dd4a1247c7accae480fac29126",
       "version_major": 2,
       "version_minor": 0
      },
      "text/plain": [
       "HBox(children=(IntProgress(value=0, max=60000), HTML(value='')))"
      ]
     },
     "metadata": {},
     "output_type": "display_data"
    },
    {
     "name": "stdout",
     "output_type": "stream",
     "text": [
      "\n",
      "Train Accuracy: D[0.963] --> B[0.998] | MSE(D): 1.351017e-03\n",
      "Test Accuracy:  D[0.963] --> B[0.998] | MSE(D): 1.475731e-03\n",
      "\n",
      "..........\n",
      "Epoch 22:\n"
     ]
    },
    {
     "data": {
      "application/vnd.jupyter.widget-view+json": {
       "model_id": "2a7aec5d038445c28dd3657573cd25ce",
       "version_major": 2,
       "version_minor": 0
      },
      "text/plain": [
       "HBox(children=(IntProgress(value=0, max=60000), HTML(value='')))"
      ]
     },
     "metadata": {},
     "output_type": "display_data"
    },
    {
     "name": "stdout",
     "output_type": "stream",
     "text": [
      "\n",
      "Train Accuracy: D[0.964] --> B[0.998] | MSE(D): 1.370456e-03\n",
      "Test Accuracy:  D[0.965] --> B[0.998] | MSE(D): 1.652085e-03\n",
      "\n",
      "..........\n",
      "Epoch 23:\n"
     ]
    },
    {
     "data": {
      "application/vnd.jupyter.widget-view+json": {
       "model_id": "c7d44ecff1324b4984e9e40161549931",
       "version_major": 2,
       "version_minor": 0
      },
      "text/plain": [
       "HBox(children=(IntProgress(value=0, max=60000), HTML(value='')))"
      ]
     },
     "metadata": {},
     "output_type": "display_data"
    },
    {
     "name": "stdout",
     "output_type": "stream",
     "text": [
      "\n",
      "Train Accuracy: D[0.965] --> B[0.998] | MSE(D): 1.315510e-03\n",
      "Test Accuracy:  D[0.966] --> B[0.998] | MSE(D): 1.914927e-03\n",
      "\n",
      "..........\n",
      "Epoch 24:\n"
     ]
    },
    {
     "data": {
      "application/vnd.jupyter.widget-view+json": {
       "model_id": "7f5fd388835c4e45b2252b9011aa0370",
       "version_major": 2,
       "version_minor": 0
      },
      "text/plain": [
       "HBox(children=(IntProgress(value=0, max=60000), HTML(value='')))"
      ]
     },
     "metadata": {},
     "output_type": "display_data"
    },
    {
     "name": "stdout",
     "output_type": "stream",
     "text": [
      "\n",
      "Train Accuracy: D[0.966] --> B[0.998] | MSE(D): 1.199943e-03\n",
      "Test Accuracy:  D[0.967] --> B[0.998] | MSE(D): 1.757782e-03\n",
      "\n",
      "..........\n",
      "Epoch 25:\n"
     ]
    },
    {
     "data": {
      "application/vnd.jupyter.widget-view+json": {
       "model_id": "1cde0b9b11df4dc489bca87fe32056b6",
       "version_major": 2,
       "version_minor": 0
      },
      "text/plain": [
       "HBox(children=(IntProgress(value=0, max=60000), HTML(value='')))"
      ]
     },
     "metadata": {},
     "output_type": "display_data"
    },
    {
     "name": "stdout",
     "output_type": "stream",
     "text": [
      "\n",
      "Train Accuracy: D[0.967] --> B[0.998] | MSE(D): 1.211222e-03\n",
      "Test Accuracy:  D[0.967] --> B[0.998] | MSE(D): 1.558472e-03\n",
      "\n",
      "Saved weights for e25\n",
      "========================================\n",
      "INFO:tensorflow:Restoring parameters from ./discriminator_checkpoints/null\\discriminator_checkpoint.ckpt\n",
      "Reset graph to its initial state\n",
      "\n",
      "========================================\n",
      "Loading previous blackbox_e24 evaluation\n",
      "\n",
      "========================================\n",
      "Training on blackbox_e24\n",
      "..........\n",
      "Epoch 1:\n"
     ]
    },
    {
     "data": {
      "application/vnd.jupyter.widget-view+json": {
       "model_id": "7e55aad68af64003aa33b8d37e43d40e",
       "version_major": 2,
       "version_minor": 0
      },
      "text/plain": [
       "HBox(children=(IntProgress(value=0, max=60000), HTML(value='')))"
      ]
     },
     "metadata": {},
     "output_type": "display_data"
    },
    {
     "name": "stdout",
     "output_type": "stream",
     "text": [
      "\n",
      "Train Accuracy: D[0.550] --> B[0.999] | MSE(D): 3.592575e-02\n",
      "Test Accuracy:  D[0.760] --> B[0.998] | MSE(D): 1.267617e-02\n",
      "\n",
      "..........\n",
      "Epoch 2:\n"
     ]
    },
    {
     "data": {
      "application/vnd.jupyter.widget-view+json": {
       "model_id": "39ce40feddea4b8db40f3de34cb4fa4c",
       "version_major": 2,
       "version_minor": 0
      },
      "text/plain": [
       "HBox(children=(IntProgress(value=0, max=60000), HTML(value='')))"
      ]
     },
     "metadata": {},
     "output_type": "display_data"
    },
    {
     "name": "stdout",
     "output_type": "stream",
     "text": [
      "\n",
      "Train Accuracy: D[0.806] --> B[0.998] | MSE(D): 1.019605e-02\n",
      "Test Accuracy:  D[0.848] --> B[0.998] | MSE(D): 5.814008e-03\n",
      "\n",
      "..........\n",
      "Epoch 3:\n"
     ]
    },
    {
     "data": {
      "application/vnd.jupyter.widget-view+json": {
       "model_id": "09591d6953954c2ba6b966d66bc1cfd2",
       "version_major": 2,
       "version_minor": 0
      },
      "text/plain": [
       "HBox(children=(IntProgress(value=0, max=60000), HTML(value='')))"
      ]
     },
     "metadata": {},
     "output_type": "display_data"
    },
    {
     "name": "stdout",
     "output_type": "stream",
     "text": [
      "\n",
      "Train Accuracy: D[0.866] --> B[0.998] | MSE(D): 6.201018e-03\n",
      "Test Accuracy:  D[0.885] --> B[0.998] | MSE(D): 4.606764e-03\n",
      "\n",
      "..........\n",
      "Epoch 4:\n"
     ]
    },
    {
     "data": {
      "application/vnd.jupyter.widget-view+json": {
       "model_id": "08a82a7243784436a8038bc1b31c4233",
       "version_major": 2,
       "version_minor": 0
      },
      "text/plain": [
       "HBox(children=(IntProgress(value=0, max=60000), HTML(value='')))"
      ]
     },
     "metadata": {},
     "output_type": "display_data"
    },
    {
     "name": "stdout",
     "output_type": "stream",
     "text": [
      "\n",
      "Train Accuracy: D[0.895] --> B[0.998] | MSE(D): 4.786546e-03\n",
      "Test Accuracy:  D[0.905] --> B[0.998] | MSE(D): 3.780781e-03\n",
      "\n",
      "..........\n",
      "Epoch 5:\n"
     ]
    },
    {
     "data": {
      "application/vnd.jupyter.widget-view+json": {
       "model_id": "5f1ec1397883425ca0ae16073ea4916c",
       "version_major": 2,
       "version_minor": 0
      },
      "text/plain": [
       "HBox(children=(IntProgress(value=0, max=60000), HTML(value='')))"
      ]
     },
     "metadata": {},
     "output_type": "display_data"
    },
    {
     "name": "stdout",
     "output_type": "stream",
     "text": [
      "\n",
      "Train Accuracy: D[0.912] --> B[0.998] | MSE(D): 3.832332e-03\n",
      "Test Accuracy:  D[0.919] --> B[0.998] | MSE(D): 2.870048e-03\n",
      "\n",
      "..........\n",
      "Epoch 6:\n"
     ]
    },
    {
     "data": {
      "application/vnd.jupyter.widget-view+json": {
       "model_id": "b5309934e1694237a426454704188e1a",
       "version_major": 2,
       "version_minor": 0
      },
      "text/plain": [
       "HBox(children=(IntProgress(value=0, max=60000), HTML(value='')))"
      ]
     },
     "metadata": {},
     "output_type": "display_data"
    },
    {
     "name": "stdout",
     "output_type": "stream",
     "text": [
      "\n",
      "Train Accuracy: D[0.923] --> B[0.998] | MSE(D): 3.199654e-03\n",
      "Test Accuracy:  D[0.928] --> B[0.998] | MSE(D): 2.570429e-03\n",
      "\n",
      "..........\n",
      "Epoch 7:\n"
     ]
    },
    {
     "data": {
      "application/vnd.jupyter.widget-view+json": {
       "model_id": "93a4d67227774946b74db156c5db812f",
       "version_major": 2,
       "version_minor": 0
      },
      "text/plain": [
       "HBox(children=(IntProgress(value=0, max=60000), HTML(value='')))"
      ]
     },
     "metadata": {},
     "output_type": "display_data"
    },
    {
     "name": "stdout",
     "output_type": "stream",
     "text": [
      "\n",
      "Train Accuracy: D[0.932] --> B[0.998] | MSE(D): 2.834048e-03\n",
      "Test Accuracy:  D[0.936] --> B[0.998] | MSE(D): 2.308213e-03\n",
      "\n",
      "..........\n",
      "Epoch 8:\n"
     ]
    },
    {
     "data": {
      "application/vnd.jupyter.widget-view+json": {
       "model_id": "0e7e36518b1040c4a256062171232bae",
       "version_major": 2,
       "version_minor": 0
      },
      "text/plain": [
       "HBox(children=(IntProgress(value=0, max=60000), HTML(value='')))"
      ]
     },
     "metadata": {},
     "output_type": "display_data"
    },
    {
     "name": "stdout",
     "output_type": "stream",
     "text": [
      "\n",
      "Train Accuracy: D[0.938] --> B[0.998] | MSE(D): 2.600275e-03\n",
      "Test Accuracy:  D[0.941] --> B[0.998] | MSE(D): 2.092025e-03\n",
      "\n",
      "..........\n",
      "Epoch 9:\n"
     ]
    },
    {
     "data": {
      "application/vnd.jupyter.widget-view+json": {
       "model_id": "8409bfd805df4049ad2d0299b74ceb9f",
       "version_major": 2,
       "version_minor": 0
      },
      "text/plain": [
       "HBox(children=(IntProgress(value=0, max=60000), HTML(value='')))"
      ]
     },
     "metadata": {},
     "output_type": "display_data"
    },
    {
     "name": "stdout",
     "output_type": "stream",
     "text": [
      "\n",
      "Train Accuracy: D[0.943] --> B[0.998] | MSE(D): 2.305046e-03\n",
      "Test Accuracy:  D[0.946] --> B[0.998] | MSE(D): 1.822865e-03\n",
      "\n",
      "..........\n",
      "Epoch 10:\n"
     ]
    },
    {
     "data": {
      "application/vnd.jupyter.widget-view+json": {
       "model_id": "8f5b9c65dcf249db86cfd1eaa41b640a",
       "version_major": 2,
       "version_minor": 0
      },
      "text/plain": [
       "HBox(children=(IntProgress(value=0, max=60000), HTML(value='')))"
      ]
     },
     "metadata": {},
     "output_type": "display_data"
    },
    {
     "name": "stdout",
     "output_type": "stream",
     "text": [
      "\n",
      "Train Accuracy: D[0.948] --> B[0.998] | MSE(D): 2.085481e-03\n",
      "Test Accuracy:  D[0.950] --> B[0.998] | MSE(D): 1.665096e-03\n",
      "\n",
      "..........\n",
      "Epoch 11:\n"
     ]
    },
    {
     "data": {
      "application/vnd.jupyter.widget-view+json": {
       "model_id": "6d5f529cbfc249c3bafae7bd5d127a2c",
       "version_major": 2,
       "version_minor": 0
      },
      "text/plain": [
       "HBox(children=(IntProgress(value=0, max=60000), HTML(value='')))"
      ]
     },
     "metadata": {},
     "output_type": "display_data"
    },
    {
     "name": "stdout",
     "output_type": "stream",
     "text": [
      "\n",
      "Train Accuracy: D[0.951] --> B[0.998] | MSE(D): 1.975892e-03\n",
      "Test Accuracy:  D[0.953] --> B[0.998] | MSE(D): 1.898018e-03\n",
      "\n",
      "..........\n",
      "Epoch 12:\n"
     ]
    },
    {
     "data": {
      "application/vnd.jupyter.widget-view+json": {
       "model_id": "5831e097f89c40c59b4c160a9896fa5d",
       "version_major": 2,
       "version_minor": 0
      },
      "text/plain": [
       "HBox(children=(IntProgress(value=0, max=60000), HTML(value='')))"
      ]
     },
     "metadata": {},
     "output_type": "display_data"
    },
    {
     "name": "stdout",
     "output_type": "stream",
     "text": [
      "\n",
      "Train Accuracy: D[0.954] --> B[0.998] | MSE(D): 1.808138e-03\n",
      "Test Accuracy:  D[0.956] --> B[0.998] | MSE(D): 1.649014e-03\n",
      "\n",
      "..........\n",
      "Epoch 13:\n"
     ]
    },
    {
     "data": {
      "application/vnd.jupyter.widget-view+json": {
       "model_id": "ece1b968706744cf83f9a424f97753f0",
       "version_major": 2,
       "version_minor": 0
      },
      "text/plain": [
       "HBox(children=(IntProgress(value=0, max=60000), HTML(value='')))"
      ]
     },
     "metadata": {},
     "output_type": "display_data"
    },
    {
     "name": "stdout",
     "output_type": "stream",
     "text": [
      "\n",
      "Train Accuracy: D[0.957] --> B[0.998] | MSE(D): 1.660360e-03\n",
      "Test Accuracy:  D[0.958] --> B[0.998] | MSE(D): 1.661161e-03\n",
      "\n",
      "..........\n",
      "Epoch 14:\n"
     ]
    },
    {
     "data": {
      "application/vnd.jupyter.widget-view+json": {
       "model_id": "d99d923651eb48189ef01ac3ea2fd9ec",
       "version_major": 2,
       "version_minor": 0
      },
      "text/plain": [
       "HBox(children=(IntProgress(value=0, max=60000), HTML(value='')))"
      ]
     },
     "metadata": {},
     "output_type": "display_data"
    },
    {
     "name": "stdout",
     "output_type": "stream",
     "text": [
      "\n",
      "Train Accuracy: D[0.959] --> B[0.998] | MSE(D): 1.577340e-03\n",
      "Test Accuracy:  D[0.960] --> B[0.998] | MSE(D): 1.414284e-03\n",
      "\n",
      "..........\n",
      "Epoch 15:\n"
     ]
    },
    {
     "data": {
      "application/vnd.jupyter.widget-view+json": {
       "model_id": "09085c84c49c4a2f89d6ff64d16515d7",
       "version_major": 2,
       "version_minor": 0
      },
      "text/plain": [
       "HBox(children=(IntProgress(value=0, max=60000), HTML(value='')))"
      ]
     },
     "metadata": {},
     "output_type": "display_data"
    },
    {
     "name": "stdout",
     "output_type": "stream",
     "text": [
      "\n",
      "Train Accuracy: D[0.961] --> B[0.998] | MSE(D): 1.480171e-03\n",
      "Test Accuracy:  D[0.962] --> B[0.998] | MSE(D): 1.471537e-03\n",
      "\n",
      "..........\n",
      "Epoch 16:\n"
     ]
    },
    {
     "data": {
      "application/vnd.jupyter.widget-view+json": {
       "model_id": "67f4edd9206045ff8b3c3c36df4b619b",
       "version_major": 2,
       "version_minor": 0
      },
      "text/plain": [
       "HBox(children=(IntProgress(value=0, max=60000), HTML(value='')))"
      ]
     },
     "metadata": {},
     "output_type": "display_data"
    },
    {
     "name": "stdout",
     "output_type": "stream",
     "text": [
      "\n",
      "Train Accuracy: D[0.963] --> B[0.998] | MSE(D): 1.364250e-03\n",
      "Test Accuracy:  D[0.964] --> B[0.998] | MSE(D): 1.472508e-03\n",
      "\n",
      "..........\n",
      "Epoch 17:\n"
     ]
    },
    {
     "data": {
      "application/vnd.jupyter.widget-view+json": {
       "model_id": "5ca24a84d9eb4662b76f95a678901379",
       "version_major": 2,
       "version_minor": 0
      },
      "text/plain": [
       "HBox(children=(IntProgress(value=0, max=60000), HTML(value='')))"
      ]
     },
     "metadata": {},
     "output_type": "display_data"
    },
    {
     "name": "stdout",
     "output_type": "stream",
     "text": [
      "\n",
      "Train Accuracy: D[0.964] --> B[0.998] | MSE(D): 1.361736e-03\n",
      "Test Accuracy:  D[0.965] --> B[0.998] | MSE(D): 1.656658e-03\n",
      "\n",
      "..........\n",
      "Epoch 18:\n"
     ]
    },
    {
     "data": {
      "application/vnd.jupyter.widget-view+json": {
       "model_id": "c3870b8af94d440da4f19cdb54b793c1",
       "version_major": 2,
       "version_minor": 0
      },
      "text/plain": [
       "HBox(children=(IntProgress(value=0, max=60000), HTML(value='')))"
      ]
     },
     "metadata": {},
     "output_type": "display_data"
    },
    {
     "name": "stdout",
     "output_type": "stream",
     "text": [
      "\n",
      "Train Accuracy: D[0.966] --> B[0.998] | MSE(D): 1.299491e-03\n",
      "Test Accuracy:  D[0.966] --> B[0.998] | MSE(D): 1.420950e-03\n",
      "\n",
      "..........\n",
      "Epoch 19:\n"
     ]
    },
    {
     "data": {
      "application/vnd.jupyter.widget-view+json": {
       "model_id": "904e2c1b5d314c7eb00b782abf548fd3",
       "version_major": 2,
       "version_minor": 0
      },
      "text/plain": [
       "HBox(children=(IntProgress(value=0, max=60000), HTML(value='')))"
      ]
     },
     "metadata": {},
     "output_type": "display_data"
    },
    {
     "name": "stdout",
     "output_type": "stream",
     "text": [
      "\n",
      "Train Accuracy: D[0.967] --> B[0.998] | MSE(D): 1.206535e-03\n",
      "Test Accuracy:  D[0.968] --> B[0.998] | MSE(D): 1.448106e-03\n",
      "\n",
      "..........\n",
      "Epoch 20:\n"
     ]
    },
    {
     "data": {
      "application/vnd.jupyter.widget-view+json": {
       "model_id": "34560a9061f14ec2bd228d494f368494",
       "version_major": 2,
       "version_minor": 0
      },
      "text/plain": [
       "HBox(children=(IntProgress(value=0, max=60000), HTML(value='')))"
      ]
     },
     "metadata": {},
     "output_type": "display_data"
    },
    {
     "name": "stdout",
     "output_type": "stream",
     "text": [
      "\n",
      "Train Accuracy: D[0.968] --> B[0.998] | MSE(D): 1.058903e-03\n",
      "Test Accuracy:  D[0.969] --> B[0.998] | MSE(D): 1.497534e-03\n",
      "\n",
      "..........\n",
      "Epoch 21:\n"
     ]
    },
    {
     "data": {
      "application/vnd.jupyter.widget-view+json": {
       "model_id": "307ed21f65f8496e8c773df7088492ce",
       "version_major": 2,
       "version_minor": 0
      },
      "text/plain": [
       "HBox(children=(IntProgress(value=0, max=60000), HTML(value='')))"
      ]
     },
     "metadata": {},
     "output_type": "display_data"
    },
    {
     "name": "stdout",
     "output_type": "stream",
     "text": [
      "\n",
      "Train Accuracy: D[0.969] --> B[0.998] | MSE(D): 1.134742e-03\n",
      "Test Accuracy:  D[0.970] --> B[0.998] | MSE(D): 1.229380e-03\n",
      "\n",
      "..........\n",
      "Epoch 22:\n"
     ]
    },
    {
     "data": {
      "application/vnd.jupyter.widget-view+json": {
       "model_id": "b42f84b7cac44ea681466b0bd858bcef",
       "version_major": 2,
       "version_minor": 0
      },
      "text/plain": [
       "HBox(children=(IntProgress(value=0, max=60000), HTML(value='')))"
      ]
     },
     "metadata": {},
     "output_type": "display_data"
    },
    {
     "name": "stdout",
     "output_type": "stream",
     "text": [
      "\n",
      "Train Accuracy: D[0.970] --> B[0.998] | MSE(D): 1.045582e-03\n",
      "Test Accuracy:  D[0.971] --> B[0.998] | MSE(D): 1.253829e-03\n",
      "\n",
      "..........\n",
      "Epoch 23:\n"
     ]
    },
    {
     "data": {
      "application/vnd.jupyter.widget-view+json": {
       "model_id": "1722aa91ff4b4226923f588769328dbf",
       "version_major": 2,
       "version_minor": 0
      },
      "text/plain": [
       "HBox(children=(IntProgress(value=0, max=60000), HTML(value='')))"
      ]
     },
     "metadata": {},
     "output_type": "display_data"
    },
    {
     "name": "stdout",
     "output_type": "stream",
     "text": [
      "\n",
      "Train Accuracy: D[0.971] --> B[0.998] | MSE(D): 1.028758e-03\n",
      "Test Accuracy:  D[0.972] --> B[0.998] | MSE(D): 1.263460e-03\n",
      "\n",
      "..........\n",
      "Epoch 24:\n"
     ]
    },
    {
     "data": {
      "application/vnd.jupyter.widget-view+json": {
       "model_id": "701bdb9c8ef84f1c96e6e94e3e4d2e48",
       "version_major": 2,
       "version_minor": 0
      },
      "text/plain": [
       "HBox(children=(IntProgress(value=0, max=60000), HTML(value='')))"
      ]
     },
     "metadata": {},
     "output_type": "display_data"
    },
    {
     "name": "stdout",
     "output_type": "stream",
     "text": [
      "\n",
      "Train Accuracy: D[0.972] --> B[0.998] | MSE(D): 9.702891e-04\n",
      "Test Accuracy:  D[0.972] --> B[0.998] | MSE(D): 1.206634e-03\n",
      "\n",
      "..........\n",
      "Epoch 25:\n"
     ]
    },
    {
     "data": {
      "application/vnd.jupyter.widget-view+json": {
       "model_id": "3f5ac9cf67e542dd95562ceee508c0fa",
       "version_major": 2,
       "version_minor": 0
      },
      "text/plain": [
       "HBox(children=(IntProgress(value=0, max=60000), HTML(value='')))"
      ]
     },
     "metadata": {},
     "output_type": "display_data"
    },
    {
     "name": "stdout",
     "output_type": "stream",
     "text": [
      "\n",
      "Train Accuracy: D[0.973] --> B[0.998] | MSE(D): 8.753743e-04\n",
      "Test Accuracy:  D[0.973] --> B[0.998] | MSE(D): 1.188307e-03\n",
      "\n",
      "Saved weights for e25\n",
      "========================================\n",
      "INFO:tensorflow:Restoring parameters from ./discriminator_checkpoints/null\\discriminator_checkpoint.ckpt\n",
      "Reset graph to its initial state\n",
      "\n",
      "========================================\n",
      "Loading previous blackbox_e25 evaluation\n",
      "\n",
      "========================================\n",
      "Training on blackbox_e25\n",
      "..........\n",
      "Epoch 1:\n"
     ]
    },
    {
     "data": {
      "application/vnd.jupyter.widget-view+json": {
       "model_id": "53d8cc8511624de7858fa1a7f882b991",
       "version_major": 2,
       "version_minor": 0
      },
      "text/plain": [
       "HBox(children=(IntProgress(value=0, max=60000), HTML(value='')))"
      ]
     },
     "metadata": {},
     "output_type": "display_data"
    },
    {
     "name": "stdout",
     "output_type": "stream",
     "text": [
      "\n",
      "Train Accuracy: D[0.504] --> B[0.999] | MSE(D): 4.088065e-02\n",
      "Test Accuracy:  D[0.723] --> B[0.998] | MSE(D): 1.638654e-02\n",
      "\n",
      "..........\n",
      "Epoch 2:\n"
     ]
    },
    {
     "data": {
      "application/vnd.jupyter.widget-view+json": {
       "model_id": "56f37bd69c6a4a60a56b8f0c25974808",
       "version_major": 2,
       "version_minor": 0
      },
      "text/plain": [
       "HBox(children=(IntProgress(value=0, max=60000), HTML(value='')))"
      ]
     },
     "metadata": {},
     "output_type": "display_data"
    },
    {
     "name": "stdout",
     "output_type": "stream",
     "text": [
      "\n",
      "Train Accuracy: D[0.773] --> B[0.998] | MSE(D): 1.324123e-02\n",
      "Test Accuracy:  D[0.819] --> B[0.998] | MSE(D): 8.829030e-03\n",
      "\n",
      "..........\n",
      "Epoch 3:\n"
     ]
    },
    {
     "data": {
      "application/vnd.jupyter.widget-view+json": {
       "model_id": "987686e9a78642bb82c1ec56e936a907",
       "version_major": 2,
       "version_minor": 0
      },
      "text/plain": [
       "HBox(children=(IntProgress(value=0, max=60000), HTML(value='')))"
      ]
     },
     "metadata": {},
     "output_type": "display_data"
    },
    {
     "name": "stdout",
     "output_type": "stream",
     "text": [
      "\n",
      "Train Accuracy: D[0.840] --> B[0.998] | MSE(D): 8.013285e-03\n",
      "Test Accuracy:  D[0.862] --> B[0.998] | MSE(D): 5.565738e-03\n",
      "\n",
      "..........\n",
      "Epoch 4:\n"
     ]
    },
    {
     "data": {
      "application/vnd.jupyter.widget-view+json": {
       "model_id": "55dbc61b7d634f3da3594fbcaae81241",
       "version_major": 2,
       "version_minor": 0
      },
      "text/plain": [
       "HBox(children=(IntProgress(value=0, max=60000), HTML(value='')))"
      ]
     },
     "metadata": {},
     "output_type": "display_data"
    },
    {
     "name": "stdout",
     "output_type": "stream",
     "text": [
      "\n",
      "Train Accuracy: D[0.874] --> B[0.998] | MSE(D): 5.993663e-03\n",
      "Test Accuracy:  D[0.887] --> B[0.998] | MSE(D): 3.918522e-03\n",
      "\n",
      "..........\n",
      "Epoch 5:\n"
     ]
    },
    {
     "data": {
      "application/vnd.jupyter.widget-view+json": {
       "model_id": "b199622410cc47c4957e3e0d517bbcd8",
       "version_major": 2,
       "version_minor": 0
      },
      "text/plain": [
       "HBox(children=(IntProgress(value=0, max=60000), HTML(value='')))"
      ]
     },
     "metadata": {},
     "output_type": "display_data"
    },
    {
     "name": "stdout",
     "output_type": "stream",
     "text": [
      "\n",
      "Train Accuracy: D[0.894] --> B[0.998] | MSE(D): 4.730754e-03\n",
      "Test Accuracy:  D[0.903] --> B[0.998] | MSE(D): 3.732994e-03\n",
      "\n",
      "..........\n",
      "Epoch 6:\n"
     ]
    },
    {
     "data": {
      "application/vnd.jupyter.widget-view+json": {
       "model_id": "788cee9651a44e488daaa5e3419be192",
       "version_major": 2,
       "version_minor": 0
      },
      "text/plain": [
       "HBox(children=(IntProgress(value=0, max=60000), HTML(value='')))"
      ]
     },
     "metadata": {},
     "output_type": "display_data"
    },
    {
     "name": "stdout",
     "output_type": "stream",
     "text": [
      "\n",
      "Train Accuracy: D[0.908] --> B[0.998] | MSE(D): 3.951053e-03\n",
      "Test Accuracy:  D[0.915] --> B[0.998] | MSE(D): 2.775026e-03\n",
      "\n",
      "..........\n",
      "Epoch 7:\n"
     ]
    },
    {
     "data": {
      "application/vnd.jupyter.widget-view+json": {
       "model_id": "8036dffb304d4ec1887fefd67ea4eea2",
       "version_major": 2,
       "version_minor": 0
      },
      "text/plain": [
       "HBox(children=(IntProgress(value=0, max=60000), HTML(value='')))"
      ]
     },
     "metadata": {},
     "output_type": "display_data"
    },
    {
     "name": "stdout",
     "output_type": "stream",
     "text": [
      "\n",
      "Train Accuracy: D[0.919] --> B[0.998] | MSE(D): 3.513296e-03\n",
      "Test Accuracy:  D[0.923] --> B[0.998] | MSE(D): 3.116134e-03\n",
      "\n",
      "..........\n",
      "Epoch 8:\n"
     ]
    },
    {
     "data": {
      "application/vnd.jupyter.widget-view+json": {
       "model_id": "a6368f09f9604972b16a08b4b335e389",
       "version_major": 2,
       "version_minor": 0
      },
      "text/plain": [
       "HBox(children=(IntProgress(value=0, max=60000), HTML(value='')))"
      ]
     },
     "metadata": {},
     "output_type": "display_data"
    },
    {
     "name": "stdout",
     "output_type": "stream",
     "text": [
      "\n",
      "Train Accuracy: D[0.926] --> B[0.998] | MSE(D): 3.246613e-03\n",
      "Test Accuracy:  D[0.930] --> B[0.998] | MSE(D): 2.656211e-03\n",
      "\n",
      "..........\n",
      "Epoch 9:\n"
     ]
    },
    {
     "data": {
      "application/vnd.jupyter.widget-view+json": {
       "model_id": "3285421e27da4b74b438f93e782d0993",
       "version_major": 2,
       "version_minor": 0
      },
      "text/plain": [
       "HBox(children=(IntProgress(value=0, max=60000), HTML(value='')))"
      ]
     },
     "metadata": {},
     "output_type": "display_data"
    },
    {
     "name": "stdout",
     "output_type": "stream",
     "text": [
      "\n",
      "Train Accuracy: D[0.932] --> B[0.998] | MSE(D): 2.936067e-03\n",
      "Test Accuracy:  D[0.935] --> B[0.998] | MSE(D): 2.632819e-03\n",
      "\n",
      "..........\n",
      "Epoch 10:\n"
     ]
    },
    {
     "data": {
      "application/vnd.jupyter.widget-view+json": {
       "model_id": "23ca76a93cac4e99b56f69971ed161e8",
       "version_major": 2,
       "version_minor": 0
      },
      "text/plain": [
       "HBox(children=(IntProgress(value=0, max=60000), HTML(value='')))"
      ]
     },
     "metadata": {},
     "output_type": "display_data"
    },
    {
     "name": "stdout",
     "output_type": "stream",
     "text": [
      "\n",
      "Train Accuracy: D[0.937] --> B[0.998] | MSE(D): 2.694800e-03\n",
      "Test Accuracy:  D[0.940] --> B[0.998] | MSE(D): 2.131916e-03\n",
      "\n",
      "..........\n",
      "Epoch 11:\n"
     ]
    },
    {
     "data": {
      "application/vnd.jupyter.widget-view+json": {
       "model_id": "840e46075d6d428e8271be242870fb6b",
       "version_major": 2,
       "version_minor": 0
      },
      "text/plain": [
       "HBox(children=(IntProgress(value=0, max=60000), HTML(value='')))"
      ]
     },
     "metadata": {},
     "output_type": "display_data"
    },
    {
     "name": "stdout",
     "output_type": "stream",
     "text": [
      "\n",
      "Train Accuracy: D[0.942] --> B[0.998] | MSE(D): 2.463914e-03\n",
      "Test Accuracy:  D[0.944] --> B[0.998] | MSE(D): 2.195918e-03\n",
      "\n",
      "..........\n",
      "Epoch 12:\n"
     ]
    },
    {
     "data": {
      "application/vnd.jupyter.widget-view+json": {
       "model_id": "30b03f1abae943afb07d764c8ec080d9",
       "version_major": 2,
       "version_minor": 0
      },
      "text/plain": [
       "HBox(children=(IntProgress(value=0, max=60000), HTML(value='')))"
      ]
     },
     "metadata": {},
     "output_type": "display_data"
    },
    {
     "name": "stdout",
     "output_type": "stream",
     "text": [
      "\n",
      "Train Accuracy: D[0.945] --> B[0.998] | MSE(D): 2.423560e-03\n",
      "Test Accuracy:  D[0.947] --> B[0.998] | MSE(D): 2.153293e-03\n",
      "\n",
      "..........\n",
      "Epoch 13:\n"
     ]
    },
    {
     "data": {
      "application/vnd.jupyter.widget-view+json": {
       "model_id": "5d3f0f57344c425fa5989d4aa857e618",
       "version_major": 2,
       "version_minor": 0
      },
      "text/plain": [
       "HBox(children=(IntProgress(value=0, max=60000), HTML(value='')))"
      ]
     },
     "metadata": {},
     "output_type": "display_data"
    },
    {
     "name": "stdout",
     "output_type": "stream",
     "text": [
      "\n",
      "Train Accuracy: D[0.948] --> B[0.998] | MSE(D): 2.241621e-03\n",
      "Test Accuracy:  D[0.950] --> B[0.998] | MSE(D): 1.979957e-03\n",
      "\n",
      "..........\n",
      "Epoch 14:\n"
     ]
    },
    {
     "data": {
      "application/vnd.jupyter.widget-view+json": {
       "model_id": "22df607647d5432f96ff8f7562e256cb",
       "version_major": 2,
       "version_minor": 0
      },
      "text/plain": [
       "HBox(children=(IntProgress(value=0, max=60000), HTML(value='')))"
      ]
     },
     "metadata": {},
     "output_type": "display_data"
    },
    {
     "name": "stdout",
     "output_type": "stream",
     "text": [
      "\n",
      "Train Accuracy: D[0.951] --> B[0.998] | MSE(D): 2.115421e-03\n",
      "Test Accuracy:  D[0.952] --> B[0.998] | MSE(D): 2.040788e-03\n",
      "\n",
      "..........\n",
      "Epoch 15:\n"
     ]
    },
    {
     "data": {
      "application/vnd.jupyter.widget-view+json": {
       "model_id": "5213be09d2834c09bd2283c1f1e4f12f",
       "version_major": 2,
       "version_minor": 0
      },
      "text/plain": [
       "HBox(children=(IntProgress(value=0, max=60000), HTML(value='')))"
      ]
     },
     "metadata": {},
     "output_type": "display_data"
    },
    {
     "name": "stdout",
     "output_type": "stream",
     "text": [
      "\n",
      "Train Accuracy: D[0.953] --> B[0.998] | MSE(D): 1.978798e-03\n",
      "Test Accuracy:  D[0.954] --> B[0.998] | MSE(D): 1.910955e-03\n",
      "\n",
      "..........\n",
      "Epoch 16:\n"
     ]
    },
    {
     "data": {
      "application/vnd.jupyter.widget-view+json": {
       "model_id": "3b59dc112eb141619482b7f0998731b5",
       "version_major": 2,
       "version_minor": 0
      },
      "text/plain": [
       "HBox(children=(IntProgress(value=0, max=60000), HTML(value='')))"
      ]
     },
     "metadata": {},
     "output_type": "display_data"
    },
    {
     "name": "stdout",
     "output_type": "stream",
     "text": [
      "\n",
      "Train Accuracy: D[0.955] --> B[0.998] | MSE(D): 1.889897e-03\n",
      "Test Accuracy:  D[0.956] --> B[0.998] | MSE(D): 1.910904e-03\n",
      "\n",
      "..........\n",
      "Epoch 17:\n"
     ]
    },
    {
     "data": {
      "application/vnd.jupyter.widget-view+json": {
       "model_id": "0c01f3ed92d04608ba178f9bde66f14e",
       "version_major": 2,
       "version_minor": 0
      },
      "text/plain": [
       "HBox(children=(IntProgress(value=0, max=60000), HTML(value='')))"
      ]
     },
     "metadata": {},
     "output_type": "display_data"
    },
    {
     "name": "stdout",
     "output_type": "stream",
     "text": [
      "\n",
      "Train Accuracy: D[0.957] --> B[0.998] | MSE(D): 1.844965e-03\n",
      "Test Accuracy:  D[0.958] --> B[0.998] | MSE(D): 1.855205e-03\n",
      "\n",
      "..........\n",
      "Epoch 18:\n"
     ]
    },
    {
     "data": {
      "application/vnd.jupyter.widget-view+json": {
       "model_id": "356fd66b720b4e1897444a2b90c1a2ed",
       "version_major": 2,
       "version_minor": 0
      },
      "text/plain": [
       "HBox(children=(IntProgress(value=0, max=60000), HTML(value='')))"
      ]
     },
     "metadata": {},
     "output_type": "display_data"
    },
    {
     "name": "stdout",
     "output_type": "stream",
     "text": [
      "\n",
      "Train Accuracy: D[0.959] --> B[0.998] | MSE(D): 1.612657e-03\n",
      "Test Accuracy:  D[0.959] --> B[0.998] | MSE(D): 1.906849e-03\n",
      "\n",
      "..........\n",
      "Epoch 19:\n"
     ]
    },
    {
     "data": {
      "application/vnd.jupyter.widget-view+json": {
       "model_id": "7fd689d860f8423e89b320717980afb2",
       "version_major": 2,
       "version_minor": 0
      },
      "text/plain": [
       "HBox(children=(IntProgress(value=0, max=60000), HTML(value='')))"
      ]
     },
     "metadata": {},
     "output_type": "display_data"
    },
    {
     "name": "stdout",
     "output_type": "stream",
     "text": [
      "\n",
      "Train Accuracy: D[0.960] --> B[0.998] | MSE(D): 1.728642e-03\n",
      "Test Accuracy:  D[0.961] --> B[0.998] | MSE(D): 1.880713e-03\n",
      "\n",
      "..........\n",
      "Epoch 20:\n"
     ]
    },
    {
     "data": {
      "application/vnd.jupyter.widget-view+json": {
       "model_id": "f8787cab78024e0aabb08b3846dfb0aa",
       "version_major": 2,
       "version_minor": 0
      },
      "text/plain": [
       "HBox(children=(IntProgress(value=0, max=60000), HTML(value='')))"
      ]
     },
     "metadata": {},
     "output_type": "display_data"
    },
    {
     "name": "stdout",
     "output_type": "stream",
     "text": [
      "\n",
      "Train Accuracy: D[0.961] --> B[0.998] | MSE(D): 1.486012e-03\n",
      "Test Accuracy:  D[0.962] --> B[0.998] | MSE(D): 1.577288e-03\n",
      "\n",
      "..........\n",
      "Epoch 21:\n"
     ]
    },
    {
     "data": {
      "application/vnd.jupyter.widget-view+json": {
       "model_id": "3b2be88aa8e34171bf7fe78e5265d2f8",
       "version_major": 2,
       "version_minor": 0
      },
      "text/plain": [
       "HBox(children=(IntProgress(value=0, max=60000), HTML(value='')))"
      ]
     },
     "metadata": {},
     "output_type": "display_data"
    },
    {
     "name": "stdout",
     "output_type": "stream",
     "text": [
      "\n",
      "Train Accuracy: D[0.963] --> B[0.998] | MSE(D): 1.503956e-03\n",
      "Test Accuracy:  D[0.963] --> B[0.998] | MSE(D): 1.478220e-03\n",
      "\n",
      "..........\n",
      "Epoch 22:\n"
     ]
    },
    {
     "data": {
      "application/vnd.jupyter.widget-view+json": {
       "model_id": "c67781ef10234aa28e3195eba634c037",
       "version_major": 2,
       "version_minor": 0
      },
      "text/plain": [
       "HBox(children=(IntProgress(value=0, max=60000), HTML(value='')))"
      ]
     },
     "metadata": {},
     "output_type": "display_data"
    },
    {
     "name": "stdout",
     "output_type": "stream",
     "text": [
      "\n",
      "Train Accuracy: D[0.964] --> B[0.998] | MSE(D): 1.485816e-03\n",
      "Test Accuracy:  D[0.964] --> B[0.998] | MSE(D): 1.630006e-03\n",
      "\n",
      "..........\n",
      "Epoch 23:\n"
     ]
    },
    {
     "data": {
      "application/vnd.jupyter.widget-view+json": {
       "model_id": "598d3d7dd9da42e9bc2f2f114bec0555",
       "version_major": 2,
       "version_minor": 0
      },
      "text/plain": [
       "HBox(children=(IntProgress(value=0, max=60000), HTML(value='')))"
      ]
     },
     "metadata": {},
     "output_type": "display_data"
    },
    {
     "name": "stdout",
     "output_type": "stream",
     "text": [
      "\n",
      "Train Accuracy: D[0.965] --> B[0.998] | MSE(D): 1.373320e-03\n",
      "Test Accuracy:  D[0.966] --> B[0.998] | MSE(D): 1.642582e-03\n",
      "\n",
      "..........\n",
      "Epoch 24:\n"
     ]
    },
    {
     "data": {
      "application/vnd.jupyter.widget-view+json": {
       "model_id": "7735eea66eca483cb1644662ca3141dd",
       "version_major": 2,
       "version_minor": 0
      },
      "text/plain": [
       "HBox(children=(IntProgress(value=0, max=60000), HTML(value='')))"
      ]
     },
     "metadata": {},
     "output_type": "display_data"
    },
    {
     "name": "stdout",
     "output_type": "stream",
     "text": [
      "\n",
      "Train Accuracy: D[0.966] --> B[0.998] | MSE(D): 1.407385e-03\n",
      "Test Accuracy:  D[0.966] --> B[0.998] | MSE(D): 1.646487e-03\n",
      "\n",
      "..........\n",
      "Epoch 25:\n"
     ]
    },
    {
     "data": {
      "application/vnd.jupyter.widget-view+json": {
       "model_id": "1eabf8ee1e1246e2916a898777389c30",
       "version_major": 2,
       "version_minor": 0
      },
      "text/plain": [
       "HBox(children=(IntProgress(value=0, max=60000), HTML(value='')))"
      ]
     },
     "metadata": {},
     "output_type": "display_data"
    },
    {
     "name": "stdout",
     "output_type": "stream",
     "text": [
      "\n",
      "Train Accuracy: D[0.967] --> B[0.998] | MSE(D): 1.310714e-03\n",
      "Test Accuracy:  D[0.967] --> B[0.998] | MSE(D): 1.526998e-03\n",
      "\n",
      "WARNING:tensorflow:From C:\\Users\\zharr\\Anaconda3\\lib\\site-packages\\tensorflow_core\\python\\training\\saver.py:963: remove_checkpoint (from tensorflow.python.training.checkpoint_management) is deprecated and will be removed in a future version.\n",
      "Instructions for updating:\n",
      "Use standard file APIs to delete files with this prefix.\n",
      "Saved weights for e25\n"
     ]
    }
   ],
   "source": [
    "# Train\n",
    "\n",
    "print('Training the model...\\n')\n",
    "\n",
    "# Loop through every trained blackbox model, and train a new discriminator on it:\n",
    "for blackbox_epoch in range(max_epochs):\n",
    "    if (blackbox_epoch+1) % save_every == 0 or blackbox_epoch+1 == max_epochs:\n",
    "        \n",
    "        print('='*40)\n",
    "        # Load the discriminator's initial weights to reset the graph:\n",
    "        saver.restore(sess, null_weights_path)\n",
    "        print('Reset graph to its initial state')\n",
    "        print()\n",
    "        \n",
    "        sess.run(tf.local_variables_initializer())\n",
    "        sess.run(tf.global_variables_initializer())\n",
    "        \n",
    "        #######################################################################################\n",
    "        \n",
    "        # Load the outputs from the blackbox\n",
    "        print('='*40)\n",
    "        print('Loading previous blackbox_e{} evaluation'.format(blackbox_epoch+1))\n",
    "        print()\n",
    "        \n",
    "        # load the pickle files:\n",
    "        eval_folder = \"./blackbox_evals/blackbox_e{}\".format(blackbox_epoch+1)\n",
    "        \n",
    "        # load training batches\n",
    "        batch_idxs = list(range(len(x_batches)))\n",
    "        blackbox_train_batches = []\n",
    "        for batch_idx in batch_idxs:\n",
    "            eval_file = os.path.join(eval_folder, 'train_{}.pkl'.format(batch_idx))\n",
    "            with open(eval_file, 'rb') as f:\n",
    "                y_eval = pickle.load(f)\n",
    "            blackbox_train_batches.append(y_eval)\n",
    "            \n",
    "        # load testing batches\n",
    "        eval_file = os.path.join(eval_folder, 'test_all.pkl')\n",
    "        with open(eval_file, 'rb') as f:\n",
    "            y_eval = pickle.load(f)\n",
    "        b_test = y_eval\n",
    "        \n",
    "        #######################################################################################\n",
    "        \n",
    "        # Train the discriminator\n",
    "        print('='*40)\n",
    "        print('Training on blackbox_e{}'.format(blackbox_epoch+1))\n",
    "        \n",
    "        acc_train_b_tracker = []\n",
    "        acc_test_b_tracker = []\n",
    "        acc_train_d_tracker = []\n",
    "        acc_test_d_tracker = []\n",
    "        loss_train_tracker = []\n",
    "        loss_test_tracker = []\n",
    "        \n",
    "        for epoch in range(discriminator_epochs):\n",
    "            print('.'*10)\n",
    "            print('Epoch %s:' % str(epoch+1))\n",
    "\n",
    "            batch_idxs = list(range(len(x_batches)))\n",
    "            if shuffle_clients:\n",
    "                # shuffle the batches each time\n",
    "                random.shuffle(batch_idxs)\n",
    "\n",
    "            # Run the zero_ops to initialize the accumulators\n",
    "            sess.run(zero_ops)\n",
    "\n",
    "            # Fancy progress bar\n",
    "            samples = x_train.shape[0]\n",
    "            pbar = tqdm_notebook(total=samples)\n",
    "\n",
    "            # Keep track of average loss/acc per class:\n",
    "            accs_train_b = []\n",
    "            accs_train_d = []\n",
    "            losses_train = []\n",
    "\n",
    "            # Iterate over clients:\n",
    "            grad_feed_dict = dict()\n",
    "            for i, batch_idx in enumerate(batch_idxs):\n",
    "                class_idx, x_batch = x_batches[batch_idx]\n",
    "                _, y_batch = y_batches[batch_idx]\n",
    "                b_batch = blackbox_train_batches[batch_idx]\n",
    "\n",
    "                # Iterate over the client's batch in minibatches:\n",
    "                j = 0\n",
    "                while(j < len(x_batch)):\n",
    "                    if minibatch_size is None:\n",
    "                        # use whole batch (no minibatch)\n",
    "                        x_minibatch = x_batch\n",
    "                        y_minibatch = y_batch\n",
    "                        b_minibatch = b_batch\n",
    "                    else:\n",
    "                        x_minibatch = x_batch[j:(j+minibatch_size)]\n",
    "                        y_minibatch = y_batch[j:(j+minibatch_size)]\n",
    "                        b_minibatch = b_batch[j:(j+minibatch_size)]\n",
    "\n",
    "                    # get the gradients and determine accuracy/loss of model on training dataset\n",
    "                    _, acc_train_b, acc_train_d, loss_train = sess.run([\n",
    "                        accumulate_ops, acc_op_b, acc_op_d, loss], feed_dict={x: x_minibatch, y_blackbox: b_minibatch,\n",
    "                                                                              y_true: y_minibatch})\n",
    "\n",
    "                    # add acc and loss metrics for batch:\n",
    "                    accs_train_b.append(acc_train_b)\n",
    "                    accs_train_d.append(acc_train_d)\n",
    "                    losses_train.append(np.mean(loss_train))\n",
    "\n",
    "                    if minibatch_size is None:\n",
    "                        break\n",
    "                    else:\n",
    "                        j += minibatch_size\n",
    "\n",
    "                # increment pbar\n",
    "                pbar.update(len(x_batch))\n",
    "                pbar.set_description('train_loss={:e}'.format(np.mean(losses_train)))\n",
    "\n",
    "                # perform a train step every batches_per_train_step number of batches:\n",
    "                if (i > 0 and i % batches_per_train_step == 0) or i == len(batch_idxs) - 1:\n",
    "                    # Run the train_step ops to update the weights based on our accumulated gradients\n",
    "                    sess.run(train_step)\n",
    "\n",
    "                    # zero out the accumulators\n",
    "                    sess.run(zero_ops)\n",
    "\n",
    "            pbar.update(x_train.shape[0] - pbar.n)\n",
    "            pbar.close()\n",
    "\n",
    "            # Calculate test acc and loss\n",
    "            acc_test_b, acc_test_d, loss_test = sess.run([acc_op_b, acc_op_d, loss], feed_dict={x: x_test, y_blackbox: b_test,\n",
    "                                                                                                y_true: y_test})\n",
    "\n",
    "            # Update progress bar\n",
    "            print('Train Accuracy: D[{:.3f}] --> B[{:.3f}] | MSE(D): {:e}'.format(np.mean(accs_train_d), np.mean(accs_train_b),\n",
    "                                                                          np.mean(losses_train)))\n",
    "            print('Test Accuracy:  D[{:.3f}] --> B[{:.3f}] | MSE(D): {:e}'.format(acc_test_d, acc_test_b, np.mean(loss_test)))\n",
    "            print()\n",
    "            \n",
    "            # Put the variables into the tracker arrays\n",
    "            acc_train_b_tracker.append(np.mean(accs_train_b))\n",
    "            acc_test_b_tracker.append(acc_test_b)\n",
    "            acc_train_d_tracker.append(np.mean(accs_train_d))\n",
    "            acc_test_d_tracker.append(acc_test_d)\n",
    "            loss_train_tracker.append(np.mean(losses_train))\n",
    "            loss_test_tracker.append(np.sum(loss_test))\n",
    "            \n",
    "        # save the tracked training specs\n",
    "        hist_folder = \"./discriminator_histories/blackbox_e{}__discriminator_e{}\".format(blackbox_epoch+1,\n",
    "                                                                                         discriminator_epochs)\n",
    "        if os.path.exists(hist_folder):\n",
    "            shutil.rmtree(hist_folder)\n",
    "        os.makedirs(hist_folder, exist_ok=True)\n",
    "        \n",
    "        acc_b_file = os.path.join(hist_folder, 'acc_b.pkl')\n",
    "        acc_d_file = os.path.join(hist_folder, 'acc_d.pkl')\n",
    "        loss_file = os.path.join(hist_folder, 'loss.pkl')\n",
    "        \n",
    "        with open(acc_b_file, 'wb') as f:\n",
    "            pickle.dump([acc_train_b_tracker, acc_test_b_tracker], f)\n",
    "        with open(acc_d_file, 'wb') as f:\n",
    "            pickle.dump([acc_train_d_tracker, acc_test_d_tracker], f)\n",
    "        with open(loss_file, 'wb') as f:\n",
    "            pickle.dump([loss_train_tracker, loss_test_tracker], f)\n",
    "\n",
    "        # checkpoint params\n",
    "        checkpoint_folder = \"./discriminator_checkpoints/blackbox_e{}__discriminator_e{}\".format(blackbox_epoch+1, \n",
    "                                                                                                 discriminator_epochs)\n",
    "        removed = False\n",
    "        if os.path.exists(checkpoint_folder):\n",
    "            removed = True\n",
    "            shutil.rmtree(checkpoint_folder)\n",
    "        os.makedirs(checkpoint_folder, exist_ok=True)\n",
    "        discriminator_weights_path = os.path.join(checkpoint_folder, 'discriminator_checkpoint.ckpt')\n",
    "\n",
    "        # Save the weights\n",
    "        saver.save(sess, discriminator_weights_path)\n",
    "        #model.save_weights(blackbox_weights_path)\n",
    "        print('{} weights for e{}'.format('Overwrote' if removed else 'Saved', epoch+1))\n",
    "    else:\n",
    "        pass"
   ]
  },
  {
   "cell_type": "code",
   "execution_count": null,
   "metadata": {},
   "outputs": [],
   "source": []
  }
 ],
 "metadata": {
  "kernelspec": {
   "display_name": "Python 3",
   "language": "python",
   "name": "python3"
  },
  "language_info": {
   "codemirror_mode": {
    "name": "ipython",
    "version": 3
   },
   "file_extension": ".py",
   "mimetype": "text/x-python",
   "name": "python",
   "nbconvert_exporter": "python",
   "pygments_lexer": "ipython3",
   "version": "3.7.3"
  }
 },
 "nbformat": 4,
 "nbformat_minor": 2
}
