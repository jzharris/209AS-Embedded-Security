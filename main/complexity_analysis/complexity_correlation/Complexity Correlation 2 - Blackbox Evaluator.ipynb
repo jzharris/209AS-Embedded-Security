{
 "cells": [
  {
   "cell_type": "markdown",
   "metadata": {},
   "source": [
    "# Step 2 - Blackbox Evaluator"
   ]
  },
  {
   "cell_type": "markdown",
   "metadata": {},
   "source": [
    "This notebook evaluates a Blackbox network so we can use its output to train a descriminator"
   ]
  },
  {
   "cell_type": "markdown",
   "metadata": {},
   "source": [
    "## Imports"
   ]
  },
  {
   "cell_type": "code",
   "execution_count": 1,
   "metadata": {},
   "outputs": [
    {
     "name": "stderr",
     "output_type": "stream",
     "text": [
      "Using TensorFlow backend.\n"
     ]
    }
   ],
   "source": [
    "import tensorflow as tf\n",
    "tf.keras.backend.clear_session()  # For easy reset of notebook state.\n",
    "from tensorflow import keras  # Import the tf version of keras.\n",
    "from tensorflow.keras.layers import Dense, Dropout, Flatten, Conv2D, MaxPooling2D\n",
    "import keras.backend as K\n",
    "from keras.datasets import mnist"
   ]
  },
  {
   "cell_type": "code",
   "execution_count": 2,
   "metadata": {},
   "outputs": [],
   "source": [
    "import numpy as np\n",
    "import cv2\n",
    "import matplotlib.pyplot as plt\n",
    "from tqdm import tqdm_notebook, tqdm\n",
    "import pickle\n",
    "\n",
    "import os.path\n",
    "import shutil\n",
    "import math\n",
    "import random"
   ]
  },
  {
   "cell_type": "code",
   "execution_count": 3,
   "metadata": {},
   "outputs": [],
   "source": [
    "# Setting seeds for reproducibility \n",
    "np.random.seed(0)\n",
    "tf.set_random_seed(0)\n",
    "\n",
    "# Enlargen plots\n",
    "plt.rcParams['figure.figsize'] = [10, 5]"
   ]
  },
  {
   "cell_type": "markdown",
   "metadata": {},
   "source": [
    "## Parameters"
   ]
  },
  {
   "cell_type": "code",
   "execution_count": 4,
   "metadata": {},
   "outputs": [],
   "source": [
    "# model params\n",
    "num_classes = 10\n",
    "max_epochs = 25\n",
    "save_every = 1\n",
    "\n",
    "# client params\n",
    "clients_per_class = 100                         # number of clients per label. Each client only has access to one label\n",
    "                                                # - each unique class is divided into X number of subsets\n",
    "    \n",
    "minibatch_size = None                           # number of samples to operate on at one time\n",
    "                                                # - can vary to optimize computing requirements\n",
    "                                                # - if None, will evaluate the client's whole batch regardless of its size\n",
    "    \n",
    "batches_per_train_step = 20                     # after averaging the gradients from X clients, we will apply them to the model\n",
    "\n",
    "shuffle_clients = True\n",
    "\n",
    "# dataset params\n",
    "separated_folder = \"./separated_dataset\"\n",
    "os.makedirs(separated_folder, exist_ok=True)\n",
    "separated_train_path = os.path.join(separated_folder, \"train_separated.pkl\")\n",
    "separated_test_path = os.path.join(separated_folder, \"test_separated.pkl\")\n",
    "\n",
    "# input image dimensions\n",
    "img_rows, img_cols = 28, 28\n",
    "target_rows, target_cols = 28, 28    # governed by the chosen model"
   ]
  },
  {
   "cell_type": "markdown",
   "metadata": {},
   "source": [
    "## Load Data"
   ]
  },
  {
   "cell_type": "code",
   "execution_count": 5,
   "metadata": {},
   "outputs": [],
   "source": [
    "# The data, split between train and test sets\n",
    "(x_train, y_train), (x_test, y_test) = mnist.load_data()\n",
    "\n",
    "if K.image_data_format() == 'channels_first':\n",
    "    x_train = x_train.reshape(x_train.shape[0], 1, img_rows, img_cols)\n",
    "    x_test = x_test.reshape(x_test.shape[0], 1, img_rows, img_cols)\n",
    "    input_shape = (1, img_rows, img_cols)\n",
    "else:\n",
    "    x_train = x_train.reshape(x_train.shape[0], img_rows, img_cols, 1)\n",
    "    x_test = x_test.reshape(x_test.shape[0], img_rows, img_cols, 1)\n",
    "    input_shape = (img_rows, img_cols, 1)\n",
    "\n",
    "x_train = x_train.astype('float32')\n",
    "x_test = x_test.astype('float32')\n",
    "x_train /= 255\n",
    "x_test /= 255\n",
    "\n",
    "if target_rows != img_rows or target_cols != img_cols:\n",
    "    # resize x_train\n",
    "    x_train_resized = []\n",
    "    for x_ in x_train:\n",
    "        # scale image to be the same WxH as we need:\n",
    "        x_ = cv2.resize(x_, dsize=(target_rows, target_cols), interpolation=cv2.INTER_CUBIC)\n",
    "        x_train_resized.append(x_)\n",
    "    x_train = np.asarray(x_train_resized)\n",
    "\n",
    "    # resize x_test\n",
    "    x_test_resized = []\n",
    "    for x_ in x_test:\n",
    "        # scale image to be the same WxH as we need:\n",
    "        x_ = cv2.resize(x_, dsize=(target_rows, target_cols), interpolation=cv2.INTER_CUBIC)\n",
    "        x_test_resized.append(x_)\n",
    "    x_test = np.asarray(x_test_resized)\n",
    "\n",
    "# convert class vectors to binary class matrices\n",
    "y_train = keras.utils.to_categorical(y_train, num_classes)\n",
    "y_test = keras.utils.to_categorical(y_test, num_classes)"
   ]
  },
  {
   "cell_type": "code",
   "execution_count": 6,
   "metadata": {},
   "outputs": [
    {
     "name": "stdout",
     "output_type": "stream",
     "text": [
      "X: (60000, 28, 28, 1) (10000, 28, 28, 1)\n",
      "y: (60000, 10) (10000, 10)\n",
      "60000 train samples\n",
      "10000 test samples\n"
     ]
    }
   ],
   "source": [
    "# summary of data shapes:\n",
    "print('X:', x_train.shape, x_test.shape)\n",
    "print('y:', y_train.shape, y_test.shape)\n",
    "print(x_train.shape[0], 'train samples')\n",
    "print(x_test.shape[0], 'test samples')"
   ]
  },
  {
   "cell_type": "markdown",
   "metadata": {},
   "source": [
    "#### Separate the data by class"
   ]
  },
  {
   "cell_type": "code",
   "execution_count": 7,
   "metadata": {},
   "outputs": [
    {
     "name": "stdout",
     "output_type": "stream",
     "text": [
      "loaded training seperation\n",
      "loaded testing seperation\n"
     ]
    }
   ],
   "source": [
    "# Separating the data by class\n",
    "if os.path.isfile(separated_train_path):\n",
    "    with open(separated_train_path, 'rb') as f:\n",
    "        x_train_dict, y_train_dict = pickle.load(f)\n",
    "        print('loaded training seperation')\n",
    "else:\n",
    "    x_train_dict = {}\n",
    "    y_train_dict = {}\n",
    "    for target_label in tqdm_notebook(range(10)):\n",
    "        x_train_dict[target_label] = []\n",
    "        y_train_dict[target_label] = []\n",
    "        for i, label in enumerate(y_train):\n",
    "            if list(label).index(1) == target_label:\n",
    "                x_train_dict[target_label].append(x_train[i])\n",
    "                y_train_dict[target_label].append(y_train[i])\n",
    "    \n",
    "    with open(separated_train_path, 'wb') as f:\n",
    "        pickle.dump([x_train_dict, y_train_dict], f)\n",
    "        print('saved training seperation')\n",
    "\n",
    "if os.path.isfile(separated_test_path):\n",
    "    with open(separated_test_path, 'rb') as f:\n",
    "        x_test_dict, y_test_dict = pickle.load(f)\n",
    "        print('loaded testing seperation')\n",
    "else:\n",
    "    x_test_dict = {}\n",
    "    y_test_dict = {}\n",
    "    for target_label in tqdm_notebook(range(10)):\n",
    "        x_test_dict[target_label] = []\n",
    "        y_test_dict[target_label] = []\n",
    "        for i, label in enumerate(y_test):\n",
    "            if list(label).index(1) == target_label:\n",
    "                x_test_dict[target_label].append(x_test[i])\n",
    "                y_test_dict[target_label].append(y_test[i])\n",
    "\n",
    "    with open(separated_test_path, 'wb') as f:\n",
    "        pickle.dump([x_test_dict, y_test_dict], f)\n",
    "        print('saved testing seperation')\n",
    "    \n",
    "# convert dicts to lists\n",
    "x_train_seperated = [np.array(x_train_dict[i]) for i in range(10)]\n",
    "y_train_seperated = [np.array(y_train_dict[i]) for i in range(10)]\n",
    "\n",
    "x_test_seperated = [np.array(x_test_dict[i]) for i in range(10)]\n",
    "y_test_seperated = [np.array(y_test_dict[i]) for i in range(10)]"
   ]
  },
  {
   "cell_type": "code",
   "execution_count": 8,
   "metadata": {},
   "outputs": [
    {
     "data": {
      "image/png": "[encoded data removed]",
      "text/plain": [
       "<Figure size 720x360 with 1 Axes>"
      ]
     },
     "metadata": {
      "needs_background": "light"
     },
     "output_type": "display_data"
    }
   ],
   "source": [
    "# summary of data shapes:\n",
    "plt.figure()\n",
    "plt.title('Data separation per class')\n",
    "plt.bar(x_train_dict.keys(), [len(v) for v in x_train_dict.values()], color='tab:blue')\n",
    "plt.bar(x_test_dict.keys(), [len(v) for v in x_test_dict.values()], color='orange', width=0.6)\n",
    "plt.legend(['x_train', 'x_test'], loc='center right', framealpha=1.0)\n",
    "plt.xlabel('class label')\n",
    "plt.ylabel('count')\n",
    "plt.show()"
   ]
  },
  {
   "cell_type": "markdown",
   "metadata": {},
   "source": [
    "#### Separate the data into batches for clients to use"
   ]
  },
  {
   "cell_type": "code",
   "execution_count": 9,
   "metadata": {},
   "outputs": [
    {
     "data": {
      "image/png": "[encoded data removed]",
      "text/plain": [
       "<Figure size 720x360 with 2 Axes>"
      ]
     },
     "metadata": {},
     "output_type": "display_data"
    },
    {
     "name": "stdout",
     "output_type": "stream",
     "text": [
      "Clients per class:  99.6 ~= 100\n",
      "Total number of clients: 996\n",
      "Average batch size: 60.6\n"
     ]
    }
   ],
   "source": [
    "# Separate the data into a long list of batches, each batch representing a client training with that batch of images.\n",
    "# After each batch, a new client will have the opportunity to train their batch of images.\n",
    "# Batches are shuffled to simulate many clients training the model at once.\n",
    "\n",
    "client_counts = {}\n",
    "batch_sizes = {}\n",
    "x_batches = []\n",
    "y_batches = []\n",
    "\n",
    "def ceil(a,b):\n",
    "    return -(-a//b)\n",
    "\n",
    "for class_idx in range(len(x_train_seperated)):\n",
    "    # Get batches from class data:\n",
    "    n_samples_per_class = len(x_train_seperated[class_idx])\n",
    "    samples_per_client = n_samples_per_class / clients_per_class\n",
    "    better_batch_size = int(math.ceil(samples_per_client))\n",
    "\n",
    "    count = 0\n",
    "    for i in range(ceil(n_samples_per_class, better_batch_size)):\n",
    "        x_batches.append((class_idx, x_train_seperated[class_idx][i * better_batch_size: (i+1) * better_batch_size]))\n",
    "        y_batches.append((class_idx, y_train_seperated[class_idx][i * better_batch_size: (i+1) * better_batch_size]))\n",
    "        count += 1\n",
    "    client_counts[class_idx] = count\n",
    "    batch_sizes[class_idx] = better_batch_size\n",
    "        \n",
    "# double check that the clients_per_class is upheld per class\n",
    "# (blue bars should be uniform, orange should change according to class):\n",
    "fig, ax1 = plt.subplots()\n",
    "\n",
    "color = 'tab:blue'\n",
    "ax1.set_xlabel('class label')\n",
    "ax1.set_ylabel('client count', color=color)\n",
    "plt.bar(client_counts.keys(), [v for v in client_counts.values()], color=color)\n",
    "ax1.tick_params(axis='y', labelcolor=color)\n",
    "\n",
    "ax2 = ax1.twinx()  # instantiate a second axes that shares the same x-axis\n",
    "\n",
    "color = 'orange'\n",
    "ax2.set_ylabel('batch size', color=color)  # we already handled the x-label with ax1\n",
    "plt.bar(batch_sizes.keys(), [v for v in batch_sizes.values()], color=color, width=0.6)\n",
    "ax2.tick_params(axis='y', labelcolor=color)\n",
    "ax2.set_ylim(0, np.mean([v for v in batch_sizes.values()])*2)\n",
    "\n",
    "fig.tight_layout()  # otherwise the right y-label is slightly clipped\n",
    "plt.show()\n",
    "\n",
    "print('Clients per class:  {} ~= {}'.format(np.mean([v for v in client_counts.values()]), clients_per_class))\n",
    "print('Total number of clients: {}'.format(np.sum([v for v in client_counts.values()])))\n",
    "print('Average batch size: {}'.format(np.mean([v for v in batch_sizes.values()])))"
   ]
  },
  {
   "cell_type": "markdown",
   "metadata": {},
   "source": [
    "## Build Model"
   ]
  },
  {
   "cell_type": "code",
   "execution_count": 10,
   "metadata": {},
   "outputs": [],
   "source": [
    "def create_model(input_layer, depth=1, filters=4, dense_breadth=128, training=True):\n",
    "    assert depth >= 1\n",
    "    assert filters >= 1\n",
    "    assert dense_breadth >= num_classes\n",
    "    \n",
    "    h = Conv2D(filters, kernel_size=(3, 3), activation='relu', padding='same', input_shape=input_shape)(input_layer)\n",
    "    for i in range(depth-1):\n",
    "        h = Conv2D(filters, kernel_size=(3, 3), activation='relu', padding='same')(h)\n",
    "    h = MaxPooling2D(pool_size=(2, 2))(h)\n",
    "    h = Dropout(0.25)(h, training=training)\n",
    "    h = Flatten()(h)\n",
    "    h = Dense(dense_breadth, activation='relu')(h)\n",
    "    h = Dropout(0.5)(h, training=training)\n",
    "    output_layer = Dense(num_classes, activation='softmax')(h)\n",
    "    \n",
    "    return output_layer"
   ]
  },
  {
   "cell_type": "code",
   "execution_count": 11,
   "metadata": {},
   "outputs": [],
   "source": [
    "input_shape = (target_rows, target_cols, 1)"
   ]
  },
  {
   "cell_type": "markdown",
   "metadata": {},
   "source": [
    "## Graph Creation"
   ]
  },
  {
   "cell_type": "code",
   "execution_count": 12,
   "metadata": {},
   "outputs": [],
   "source": [
    "class BlackBoxModel:\n",
    "    \n",
    "    def __init__(self, input_shape, depth, filters, dense, training=True):\n",
    "        self.input_shape = input_shape\n",
    "        self.training = training\n",
    "        self.depth = depth\n",
    "        self.filters = filters\n",
    "        self.dense = dense\n",
    "        \n",
    "        self.accumulate_ops = None\n",
    "        self.train_step = None\n",
    "        self.zero_ops = None\n",
    "        \n",
    "        self.create_graph()\n",
    "        self.create_optimizer()\n",
    "        self.split_learning_ops()\n",
    "        \n",
    "    def create_graph(self):\n",
    "        # add place for input and pred label\n",
    "        self.x = keras.Input(shape=self.input_shape)\n",
    "        self.y_pred = create_model(self.x, self.depth, self.filters, self.dense, training=self.training)\n",
    "\n",
    "        # add place for truth label\n",
    "        self.y_true = keras.Input(shape=(num_classes, ))\n",
    "        \n",
    "    def create_optimizer(self):\n",
    "        # define loss function in terms of y_pred and y_true\n",
    "        self.loss = keras.losses.categorical_crossentropy(self.y_true, self.y_pred)\n",
    "\n",
    "        # Setup metrics to look at during training:\n",
    "        _, self.acc_op = tf.metrics.accuracy(labels=tf.argmax(self.y_true, 1),\n",
    "                                             predictions=tf.argmax(self.y_pred,1))\n",
    "\n",
    "        ## Optimizer definition - nothing different from any classical example\n",
    "        self.optimizer = tf.train.AdamOptimizer()\n",
    "\n",
    "        # Add ops to save and restore all the variables.\n",
    "        self.saver = tf.train.Saver(max_to_keep=max_epochs)\n",
    "        \n",
    "    def split_learning_ops(self):\n",
    "        # INSPIRED by https://stackoverflow.com/questions/42156957/how-to-update-model-parameters-with-accumulated-gradients\n",
    "\n",
    "        # Fetch a list of our network's trainable parameters.\n",
    "        self.trainable_vars = tf.trainable_variables()\n",
    "\n",
    "        # Create variables to store accumulated gradients\n",
    "        self.accumulators = [\n",
    "            tf.Variable(\n",
    "                tf.zeros_like(tv.initialized_value()),\n",
    "                trainable=False\n",
    "            ) for tv in self.trainable_vars\n",
    "        ]\n",
    "\n",
    "        # Create a variable for counting the number of accumulations\n",
    "        self.accumulation_counter = tf.Variable(0.0, trainable=False)\n",
    "\n",
    "        # Compute gradients; grad_pairs contains (gradient, variable) pairs\n",
    "        self.grad_pairs = self.optimizer.compute_gradients(self.loss, self.trainable_vars)\n",
    "\n",
    "        # Create operations which add a variable's gradient to its accumulator.\n",
    "        self.accumulate_ops = [\n",
    "            accumulator.assign_add(\n",
    "                grad\n",
    "            ) for (accumulator, (grad, var)) in zip(self.accumulators, self.grad_pairs)\n",
    "        ]\n",
    "\n",
    "        # The final accumulation operation is to increment the counter\n",
    "        self.accumulate_ops.append(self.accumulation_counter.assign_add(1.0))\n",
    "\n",
    "        # Update trainable variables by applying the accumulated gradients\n",
    "        # divided by the counter. Note: apply_gradients takes in a list of \n",
    "        # (grad, var) pairs\n",
    "        self.train_step = self.optimizer.apply_gradients(\n",
    "            [(accumulator / self.accumulation_counter, var) \\\n",
    "                for (accumulator, (grad, var)) in zip(self.accumulators, self.grad_pairs)]\n",
    "        )\n",
    "\n",
    "        # Accumulators must be zeroed once the accumulated gradient is applied.\n",
    "        self.zero_ops = [\n",
    "            accumulator.assign(\n",
    "                tf.zeros_like(tv)\n",
    "            ) for (accumulator, tv) in zip(self.accumulators, self.trainable_vars)\n",
    "        ]\n",
    "\n",
    "        # Add one last op for zeroing the counter\n",
    "        self.zero_ops.append(self.accumulation_counter.assign(0.0))\n",
    "        \n",
    "    def count_params(self):\n",
    "        # create a model representation\n",
    "        model_ = keras.Model(inputs=self.x, outputs=self.y_pred)\n",
    "        \n",
    "        # return the number of parameters\n",
    "        return model_.count_params()"
   ]
  },
  {
   "cell_type": "markdown",
   "metadata": {},
   "source": [
    "## Save evaluations"
   ]
  },
  {
   "cell_type": "code",
   "execution_count": 13,
   "metadata": {},
   "outputs": [
    {
     "name": "stdout",
     "output_type": "stream",
     "text": [
      "100 total combinations of networks\n",
      "depths: [1, 3, 5, 7, 9]\n",
      "filters: [1, 17, 33, 49, 65]\n",
      "denses: [10, 60, 110, 160]\n"
     ]
    }
   ],
   "source": [
    "# List of the different configurations we will step through\n",
    "\n",
    "configs_depth = list(range(1, 11, 4))\n",
    "configs_filters = list(range(1, 81, 32))\n",
    "configs_dense = list(range(10, 200, 100))\n",
    "total_combinations = len(configs_depth) * len(configs_filters) * len(configs_dense)\n",
    "\n",
    "print('{} total combinations of networks'.format(total_combinations))\n",
    "print('depths:', configs_depth)\n",
    "print('filters:', configs_filters)\n",
    "print('denses:', configs_dense)"
   ]
  },
  {
   "cell_type": "code",
   "execution_count": 14,
   "metadata": {
    "scrolled": true
   },
   "outputs": [
    {
     "name": "stdout",
     "output_type": "stream",
     "text": [
      "Evaluating the model...\n",
      "\n",
      "========================================\n",
      "Evaluating blackbox_e25_d1_f1_d10\n",
      "WARNING:tensorflow:From C:\\Users\\zharr\\Anaconda3\\lib\\site-packages\\tensorflow_core\\python\\ops\\resource_variable_ops.py:1630: calling BaseResourceVariable.__init__ (from tensorflow.python.ops.resource_variable_ops) with constraint is deprecated and will be removed in a future version.\n",
      "Instructions for updating:\n",
      "If using Keras pass *_constraint arguments to layers.\n",
      "WARNING:tensorflow:From <ipython-input-12-1b98b58621fc>:51: Variable.initialized_value (from tensorflow.python.ops.variables) is deprecated and will be removed in a future version.\n",
      "Instructions for updating:\n",
      "Use Variable.read_value. Variables in 2.X are initialized automatically both in eager and graph (inside tf.defun) contexts.\n",
      "INFO:tensorflow:Restoring parameters from ./blackbox_checkpoints/blackbox_e25_d1_f1_d10\\blackbox_checkpoint\n",
      "Test Accuracy: 0.940 | Loss: 0.197\n",
      "\n"
     ]
    },
    {
     "data": {
      "application/vnd.jupyter.widget-view+json": {
       "model_id": "1ea9cf9dc1384ef282903aa6b41640d1",
       "version_major": 2,
       "version_minor": 0
      },
      "text/plain": [
       "HBox(children=(IntProgress(value=0, max=996), HTML(value='')))"
      ]
     },
     "metadata": {},
     "output_type": "display_data"
    },
    {
     "name": "stdout",
     "output_type": "stream",
     "text": [
      "\n",
      "========================================\n",
      "Evaluating blackbox_e25_d1_f1_d60\n",
      "INFO:tensorflow:Restoring parameters from ./blackbox_checkpoints/blackbox_e25_d1_f1_d60\\blackbox_checkpoint\n",
      "Test Accuracy: 0.951 | Loss: 0.158\n",
      "\n"
     ]
    },
    {
     "data": {
      "application/vnd.jupyter.widget-view+json": {
       "model_id": "f7c0b69e38614819ad30561688ffc61f",
       "version_major": 2,
       "version_minor": 0
      },
      "text/plain": [
       "HBox(children=(IntProgress(value=0, max=996), HTML(value='')))"
      ]
     },
     "metadata": {},
     "output_type": "display_data"
    },
    {
     "name": "stdout",
     "output_type": "stream",
     "text": [
      "\n",
      "========================================\n",
      "Evaluating blackbox_e25_d1_f1_d110\n",
      "INFO:tensorflow:Restoring parameters from ./blackbox_checkpoints/blackbox_e25_d1_f1_d110\\blackbox_checkpoint\n",
      "Test Accuracy: 0.938 | Loss: 0.203\n",
      "\n"
     ]
    },
    {
     "data": {
      "application/vnd.jupyter.widget-view+json": {
       "model_id": "6615409e4a4c41989c839d4bf4924c25",
       "version_major": 2,
       "version_minor": 0
      },
      "text/plain": [
       "HBox(children=(IntProgress(value=0, max=996), HTML(value='')))"
      ]
     },
     "metadata": {},
     "output_type": "display_data"
    },
    {
     "name": "stdout",
     "output_type": "stream",
     "text": [
      "\n",
      "========================================\n",
      "Evaluating blackbox_e25_d1_f1_d160\n",
      "INFO:tensorflow:Restoring parameters from ./blackbox_checkpoints/blackbox_e25_d1_f1_d160\\blackbox_checkpoint\n",
      "Test Accuracy: 0.953 | Loss: 0.151\n",
      "\n"
     ]
    },
    {
     "data": {
      "application/vnd.jupyter.widget-view+json": {
       "model_id": "d494586c11cb42ac87a6ddb4273831e0",
       "version_major": 2,
       "version_minor": 0
      },
      "text/plain": [
       "HBox(children=(IntProgress(value=0, max=996), HTML(value='')))"
      ]
     },
     "metadata": {},
     "output_type": "display_data"
    },
    {
     "name": "stdout",
     "output_type": "stream",
     "text": [
      "\n",
      "========================================\n",
      "Evaluating blackbox_e25_d1_f17_d10\n",
      "INFO:tensorflow:Restoring parameters from ./blackbox_checkpoints/blackbox_e25_d1_f17_d10\\blackbox_checkpoint\n",
      "Test Accuracy: 0.942 | Loss: 0.196\n",
      "\n"
     ]
    },
    {
     "data": {
      "application/vnd.jupyter.widget-view+json": {
       "model_id": "ec25ecfdbfe341aeaf36c6c919fde7d4",
       "version_major": 2,
       "version_minor": 0
      },
      "text/plain": [
       "HBox(children=(IntProgress(value=0, max=996), HTML(value='')))"
      ]
     },
     "metadata": {},
     "output_type": "display_data"
    },
    {
     "name": "stdout",
     "output_type": "stream",
     "text": [
      "\n",
      "========================================\n",
      "Evaluating blackbox_e25_d1_f17_d60\n",
      "INFO:tensorflow:Restoring parameters from ./blackbox_checkpoints/blackbox_e25_d1_f17_d60\\blackbox_checkpoint\n",
      "Test Accuracy: 0.947 | Loss: 0.170\n",
      "\n"
     ]
    },
    {
     "data": {
      "application/vnd.jupyter.widget-view+json": {
       "model_id": "80bea96cbc8e4ff49a7daa819f98f02b",
       "version_major": 2,
       "version_minor": 0
      },
      "text/plain": [
       "HBox(children=(IntProgress(value=0, max=996), HTML(value='')))"
      ]
     },
     "metadata": {},
     "output_type": "display_data"
    },
    {
     "name": "stdout",
     "output_type": "stream",
     "text": [
      "\n",
      "========================================\n",
      "Evaluating blackbox_e25_d1_f17_d110\n",
      "INFO:tensorflow:Restoring parameters from ./blackbox_checkpoints/blackbox_e25_d1_f17_d110\\blackbox_checkpoint\n",
      "Test Accuracy: 0.953 | Loss: 0.156\n",
      "\n"
     ]
    },
    {
     "data": {
      "application/vnd.jupyter.widget-view+json": {
       "model_id": "0f32c42487b245a8bff5d5decc43af5f",
       "version_major": 2,
       "version_minor": 0
      },
      "text/plain": [
       "HBox(children=(IntProgress(value=0, max=996), HTML(value='')))"
      ]
     },
     "metadata": {},
     "output_type": "display_data"
    },
    {
     "name": "stdout",
     "output_type": "stream",
     "text": [
      "\n",
      "========================================\n",
      "Evaluating blackbox_e25_d1_f17_d160\n",
      "INFO:tensorflow:Restoring parameters from ./blackbox_checkpoints/blackbox_e25_d1_f17_d160\\blackbox_checkpoint\n",
      "Test Accuracy: 0.951 | Loss: 0.154\n",
      "\n"
     ]
    },
    {
     "data": {
      "application/vnd.jupyter.widget-view+json": {
       "model_id": "059f154e8c424f50b3b789c5c7aa4597",
       "version_major": 2,
       "version_minor": 0
      },
      "text/plain": [
       "HBox(children=(IntProgress(value=0, max=996), HTML(value='')))"
      ]
     },
     "metadata": {},
     "output_type": "display_data"
    },
    {
     "name": "stdout",
     "output_type": "stream",
     "text": [
      "\n",
      "========================================\n",
      "Evaluating blackbox_e25_d1_f33_d10\n",
      "INFO:tensorflow:Restoring parameters from ./blackbox_checkpoints/blackbox_e25_d1_f33_d10\\blackbox_checkpoint\n",
      "Test Accuracy: 0.941 | Loss: 0.196\n",
      "\n"
     ]
    },
    {
     "data": {
      "application/vnd.jupyter.widget-view+json": {
       "model_id": "22f16177a70947a78660531a84ee28ec",
       "version_major": 2,
       "version_minor": 0
      },
      "text/plain": [
       "HBox(children=(IntProgress(value=0, max=996), HTML(value='')))"
      ]
     },
     "metadata": {},
     "output_type": "display_data"
    },
    {
     "name": "stdout",
     "output_type": "stream",
     "text": [
      "\n",
      "========================================\n",
      "Evaluating blackbox_e25_d1_f33_d60\n",
      "INFO:tensorflow:Restoring parameters from ./blackbox_checkpoints/blackbox_e25_d1_f33_d60\\blackbox_checkpoint\n",
      "Test Accuracy: 0.946 | Loss: 0.183\n",
      "\n"
     ]
    },
    {
     "data": {
      "application/vnd.jupyter.widget-view+json": {
       "model_id": "101776eeb47845499d6e6196ddf0bc63",
       "version_major": 2,
       "version_minor": 0
      },
      "text/plain": [
       "HBox(children=(IntProgress(value=0, max=996), HTML(value='')))"
      ]
     },
     "metadata": {},
     "output_type": "display_data"
    },
    {
     "name": "stdout",
     "output_type": "stream",
     "text": [
      "\n",
      "========================================\n",
      "Evaluating blackbox_e25_d1_f33_d110\n",
      "INFO:tensorflow:Restoring parameters from ./blackbox_checkpoints/blackbox_e25_d1_f33_d110\\blackbox_checkpoint\n",
      "Test Accuracy: 0.941 | Loss: 0.191\n",
      "\n"
     ]
    },
    {
     "data": {
      "application/vnd.jupyter.widget-view+json": {
       "model_id": "f842909fdab341a98a908843a23290f3",
       "version_major": 2,
       "version_minor": 0
      },
      "text/plain": [
       "HBox(children=(IntProgress(value=0, max=996), HTML(value='')))"
      ]
     },
     "metadata": {},
     "output_type": "display_data"
    },
    {
     "name": "stdout",
     "output_type": "stream",
     "text": [
      "\n",
      "========================================\n",
      "Evaluating blackbox_e25_d1_f33_d160\n",
      "INFO:tensorflow:Restoring parameters from ./blackbox_checkpoints/blackbox_e25_d1_f33_d160\\blackbox_checkpoint\n",
      "Test Accuracy: 0.947 | Loss: 0.177\n",
      "\n"
     ]
    },
    {
     "data": {
      "application/vnd.jupyter.widget-view+json": {
       "model_id": "91464f8d11df4b8398cac2931fe9928c",
       "version_major": 2,
       "version_minor": 0
      },
      "text/plain": [
       "HBox(children=(IntProgress(value=0, max=996), HTML(value='')))"
      ]
     },
     "metadata": {},
     "output_type": "display_data"
    },
    {
     "name": "stdout",
     "output_type": "stream",
     "text": [
      "\n",
      "========================================\n",
      "Evaluating blackbox_e25_d1_f49_d10\n",
      "INFO:tensorflow:Restoring parameters from ./blackbox_checkpoints/blackbox_e25_d1_f49_d10\\blackbox_checkpoint\n",
      "Test Accuracy: 0.942 | Loss: 0.181\n",
      "\n"
     ]
    },
    {
     "data": {
      "application/vnd.jupyter.widget-view+json": {
       "model_id": "8b1b7b6a5b2a4da7900f68d6ebacd3ca",
       "version_major": 2,
       "version_minor": 0
      },
      "text/plain": [
       "HBox(children=(IntProgress(value=0, max=996), HTML(value='')))"
      ]
     },
     "metadata": {},
     "output_type": "display_data"
    },
    {
     "name": "stdout",
     "output_type": "stream",
     "text": [
      "\n",
      "========================================\n",
      "Evaluating blackbox_e25_d1_f49_d60\n",
      "INFO:tensorflow:Restoring parameters from ./blackbox_checkpoints/blackbox_e25_d1_f49_d60\\blackbox_checkpoint\n",
      "Test Accuracy: 0.948 | Loss: 0.168\n",
      "\n"
     ]
    },
    {
     "data": {
      "application/vnd.jupyter.widget-view+json": {
       "model_id": "5f1fd9c1d7874066b87192a78301c2ef",
       "version_major": 2,
       "version_minor": 0
      },
      "text/plain": [
       "HBox(children=(IntProgress(value=0, max=996), HTML(value='')))"
      ]
     },
     "metadata": {},
     "output_type": "display_data"
    },
    {
     "name": "stdout",
     "output_type": "stream",
     "text": [
      "\n",
      "========================================\n",
      "Evaluating blackbox_e25_d1_f49_d110\n",
      "INFO:tensorflow:Restoring parameters from ./blackbox_checkpoints/blackbox_e25_d1_f49_d110\\blackbox_checkpoint\n",
      "Test Accuracy: 0.946 | Loss: 0.179\n",
      "\n"
     ]
    },
    {
     "data": {
      "application/vnd.jupyter.widget-view+json": {
       "model_id": "5bc8c3e1d639489ba7687906981e8ef0",
       "version_major": 2,
       "version_minor": 0
      },
      "text/plain": [
       "HBox(children=(IntProgress(value=0, max=996), HTML(value='')))"
      ]
     },
     "metadata": {},
     "output_type": "display_data"
    },
    {
     "name": "stdout",
     "output_type": "stream",
     "text": [
      "\n",
      "========================================\n",
      "Evaluating blackbox_e25_d1_f49_d160\n",
      "INFO:tensorflow:Restoring parameters from ./blackbox_checkpoints/blackbox_e25_d1_f49_d160\\blackbox_checkpoint\n",
      "Test Accuracy: 0.951 | Loss: 0.172\n",
      "\n"
     ]
    },
    {
     "data": {
      "application/vnd.jupyter.widget-view+json": {
       "model_id": "a2458c97452a41ca888363edbaa9134a",
       "version_major": 2,
       "version_minor": 0
      },
      "text/plain": [
       "HBox(children=(IntProgress(value=0, max=996), HTML(value='')))"
      ]
     },
     "metadata": {},
     "output_type": "display_data"
    },
    {
     "name": "stdout",
     "output_type": "stream",
     "text": [
      "\n",
      "========================================\n",
      "Evaluating blackbox_e25_d1_f65_d10\n",
      "INFO:tensorflow:Restoring parameters from ./blackbox_checkpoints/blackbox_e25_d1_f65_d10\\blackbox_checkpoint\n",
      "Test Accuracy: 0.939 | Loss: 0.200\n",
      "\n"
     ]
    },
    {
     "data": {
      "application/vnd.jupyter.widget-view+json": {
       "model_id": "69397bcbb5d8422997e352a34005a383",
       "version_major": 2,
       "version_minor": 0
      },
      "text/plain": [
       "HBox(children=(IntProgress(value=0, max=996), HTML(value='')))"
      ]
     },
     "metadata": {},
     "output_type": "display_data"
    },
    {
     "name": "stdout",
     "output_type": "stream",
     "text": [
      "\n",
      "========================================\n",
      "Evaluating blackbox_e25_d1_f65_d60\n",
      "INFO:tensorflow:Restoring parameters from ./blackbox_checkpoints/blackbox_e25_d1_f65_d60\\blackbox_checkpoint\n",
      "Test Accuracy: 0.946 | Loss: 0.180\n",
      "\n"
     ]
    },
    {
     "data": {
      "application/vnd.jupyter.widget-view+json": {
       "model_id": "d5260fe22d994dfc9de4f2a7836ab19f",
       "version_major": 2,
       "version_minor": 0
      },
      "text/plain": [
       "HBox(children=(IntProgress(value=0, max=996), HTML(value='')))"
      ]
     },
     "metadata": {},
     "output_type": "display_data"
    },
    {
     "name": "stdout",
     "output_type": "stream",
     "text": [
      "\n",
      "========================================\n",
      "Evaluating blackbox_e25_d1_f65_d110\n",
      "INFO:tensorflow:Restoring parameters from ./blackbox_checkpoints/blackbox_e25_d1_f65_d110\\blackbox_checkpoint\n",
      "Test Accuracy: 0.934 | Loss: 0.217\n",
      "\n"
     ]
    },
    {
     "data": {
      "application/vnd.jupyter.widget-view+json": {
       "model_id": "1733c1f9863a435da15be3ffc64956cf",
       "version_major": 2,
       "version_minor": 0
      },
      "text/plain": [
       "HBox(children=(IntProgress(value=0, max=996), HTML(value='')))"
      ]
     },
     "metadata": {},
     "output_type": "display_data"
    },
    {
     "name": "stdout",
     "output_type": "stream",
     "text": [
      "\n",
      "========================================\n",
      "Evaluating blackbox_e25_d1_f65_d160\n",
      "INFO:tensorflow:Restoring parameters from ./blackbox_checkpoints/blackbox_e25_d1_f65_d160\\blackbox_checkpoint\n",
      "Test Accuracy: 0.945 | Loss: 0.173\n",
      "\n"
     ]
    },
    {
     "data": {
      "application/vnd.jupyter.widget-view+json": {
       "model_id": "9021f1348a0c4997bf9a9c3ed62a2f44",
       "version_major": 2,
       "version_minor": 0
      },
      "text/plain": [
       "HBox(children=(IntProgress(value=0, max=996), HTML(value='')))"
      ]
     },
     "metadata": {},
     "output_type": "display_data"
    },
    {
     "name": "stdout",
     "output_type": "stream",
     "text": [
      "\n",
      "========================================\n",
      "Evaluating blackbox_e25_d3_f1_d10\n",
      "INFO:tensorflow:Restoring parameters from ./blackbox_checkpoints/blackbox_e25_d3_f1_d10\\blackbox_checkpoint\n",
      "Test Accuracy: 0.947 | Loss: 0.175\n",
      "\n"
     ]
    },
    {
     "data": {
      "application/vnd.jupyter.widget-view+json": {
       "model_id": "7785269d79e04ad1a97146c4010e3e9d",
       "version_major": 2,
       "version_minor": 0
      },
      "text/plain": [
       "HBox(children=(IntProgress(value=0, max=996), HTML(value='')))"
      ]
     },
     "metadata": {},
     "output_type": "display_data"
    },
    {
     "name": "stdout",
     "output_type": "stream",
     "text": [
      "\n",
      "========================================\n",
      "Evaluating blackbox_e25_d3_f1_d60\n",
      "INFO:tensorflow:Restoring parameters from ./blackbox_checkpoints/blackbox_e25_d3_f1_d60\\blackbox_checkpoint\n",
      "Test Accuracy: 0.949 | Loss: 0.173\n",
      "\n"
     ]
    },
    {
     "data": {
      "application/vnd.jupyter.widget-view+json": {
       "model_id": "48fc7c5bbcd44cc09c27f93674980c50",
       "version_major": 2,
       "version_minor": 0
      },
      "text/plain": [
       "HBox(children=(IntProgress(value=0, max=996), HTML(value='')))"
      ]
     },
     "metadata": {},
     "output_type": "display_data"
    },
    {
     "name": "stdout",
     "output_type": "stream",
     "text": [
      "\n",
      "========================================\n",
      "Evaluating blackbox_e25_d3_f1_d110\n",
      "INFO:tensorflow:Restoring parameters from ./blackbox_checkpoints/blackbox_e25_d3_f1_d110\\blackbox_checkpoint\n",
      "Test Accuracy: 0.939 | Loss: 0.197\n",
      "\n"
     ]
    },
    {
     "data": {
      "application/vnd.jupyter.widget-view+json": {
       "model_id": "9cb2f124619b45bea062eac1d6f90a77",
       "version_major": 2,
       "version_minor": 0
      },
      "text/plain": [
       "HBox(children=(IntProgress(value=0, max=996), HTML(value='')))"
      ]
     },
     "metadata": {},
     "output_type": "display_data"
    },
    {
     "name": "stdout",
     "output_type": "stream",
     "text": [
      "\n",
      "========================================\n",
      "Evaluating blackbox_e25_d3_f1_d160\n",
      "INFO:tensorflow:Restoring parameters from ./blackbox_checkpoints/blackbox_e25_d3_f1_d160\\blackbox_checkpoint\n",
      "Test Accuracy: 0.941 | Loss: 0.198\n",
      "\n"
     ]
    },
    {
     "data": {
      "application/vnd.jupyter.widget-view+json": {
       "model_id": "e2f25bbd63604b2aa8efe7be6689bb76",
       "version_major": 2,
       "version_minor": 0
      },
      "text/plain": [
       "HBox(children=(IntProgress(value=0, max=996), HTML(value='')))"
      ]
     },
     "metadata": {},
     "output_type": "display_data"
    },
    {
     "name": "stdout",
     "output_type": "stream",
     "text": [
      "\n",
      "========================================\n",
      "Evaluating blackbox_e25_d3_f17_d10\n",
      "INFO:tensorflow:Restoring parameters from ./blackbox_checkpoints/blackbox_e25_d3_f17_d10\\blackbox_checkpoint\n",
      "Test Accuracy: 0.938 | Loss: 0.203\n",
      "\n"
     ]
    },
    {
     "data": {
      "application/vnd.jupyter.widget-view+json": {
       "model_id": "95f342b9f090441d8668382267ab54d6",
       "version_major": 2,
       "version_minor": 0
      },
      "text/plain": [
       "HBox(children=(IntProgress(value=0, max=996), HTML(value='')))"
      ]
     },
     "metadata": {},
     "output_type": "display_data"
    },
    {
     "name": "stdout",
     "output_type": "stream",
     "text": [
      "\n",
      "========================================\n",
      "Evaluating blackbox_e25_d3_f17_d60\n",
      "INFO:tensorflow:Restoring parameters from ./blackbox_checkpoints/blackbox_e25_d3_f17_d60\\blackbox_checkpoint\n",
      "Test Accuracy: 0.947 | Loss: 0.160\n",
      "\n"
     ]
    },
    {
     "data": {
      "application/vnd.jupyter.widget-view+json": {
       "model_id": "d094a14d44fc45b1b9db15a13ec5c5b5",
       "version_major": 2,
       "version_minor": 0
      },
      "text/plain": [
       "HBox(children=(IntProgress(value=0, max=996), HTML(value='')))"
      ]
     },
     "metadata": {},
     "output_type": "display_data"
    },
    {
     "name": "stdout",
     "output_type": "stream",
     "text": [
      "\n",
      "========================================\n",
      "Evaluating blackbox_e25_d3_f17_d110\n",
      "INFO:tensorflow:Restoring parameters from ./blackbox_checkpoints/blackbox_e25_d3_f17_d110\\blackbox_checkpoint\n",
      "Test Accuracy: 0.940 | Loss: 0.192\n",
      "\n"
     ]
    },
    {
     "data": {
      "application/vnd.jupyter.widget-view+json": {
       "model_id": "00436acf86094e2abbed32fedeeec959",
       "version_major": 2,
       "version_minor": 0
      },
      "text/plain": [
       "HBox(children=(IntProgress(value=0, max=996), HTML(value='')))"
      ]
     },
     "metadata": {},
     "output_type": "display_data"
    },
    {
     "name": "stdout",
     "output_type": "stream",
     "text": [
      "\n",
      "========================================\n",
      "Evaluating blackbox_e25_d3_f17_d160\n",
      "INFO:tensorflow:Restoring parameters from ./blackbox_checkpoints/blackbox_e25_d3_f17_d160\\blackbox_checkpoint\n",
      "Test Accuracy: 0.950 | Loss: 0.161\n",
      "\n"
     ]
    },
    {
     "data": {
      "application/vnd.jupyter.widget-view+json": {
       "model_id": "8a9541586c2c4862b6d84b8ef07b69be",
       "version_major": 2,
       "version_minor": 0
      },
      "text/plain": [
       "HBox(children=(IntProgress(value=0, max=996), HTML(value='')))"
      ]
     },
     "metadata": {},
     "output_type": "display_data"
    },
    {
     "name": "stdout",
     "output_type": "stream",
     "text": [
      "\n",
      "========================================\n",
      "Evaluating blackbox_e25_d3_f33_d10\n",
      "INFO:tensorflow:Restoring parameters from ./blackbox_checkpoints/blackbox_e25_d3_f33_d10\\blackbox_checkpoint\n",
      "Test Accuracy: 0.945 | Loss: 0.184\n",
      "\n"
     ]
    },
    {
     "data": {
      "application/vnd.jupyter.widget-view+json": {
       "model_id": "cdeafd759e0b41959e1fb77683865bd2",
       "version_major": 2,
       "version_minor": 0
      },
      "text/plain": [
       "HBox(children=(IntProgress(value=0, max=996), HTML(value='')))"
      ]
     },
     "metadata": {},
     "output_type": "display_data"
    },
    {
     "name": "stdout",
     "output_type": "stream",
     "text": [
      "\n",
      "========================================\n",
      "Evaluating blackbox_e25_d3_f33_d60\n",
      "INFO:tensorflow:Restoring parameters from ./blackbox_checkpoints/blackbox_e25_d3_f33_d60\\blackbox_checkpoint\n",
      "Test Accuracy: 0.954 | Loss: 0.156\n",
      "\n"
     ]
    },
    {
     "data": {
      "application/vnd.jupyter.widget-view+json": {
       "model_id": "75f9399ff12f47889a905c1ab8d4f46a",
       "version_major": 2,
       "version_minor": 0
      },
      "text/plain": [
       "HBox(children=(IntProgress(value=0, max=996), HTML(value='')))"
      ]
     },
     "metadata": {},
     "output_type": "display_data"
    },
    {
     "name": "stdout",
     "output_type": "stream",
     "text": [
      "\n",
      "========================================\n",
      "Evaluating blackbox_e25_d3_f33_d110\n",
      "INFO:tensorflow:Restoring parameters from ./blackbox_checkpoints/blackbox_e25_d3_f33_d110\\blackbox_checkpoint\n",
      "Test Accuracy: 0.954 | Loss: 0.147\n",
      "\n"
     ]
    },
    {
     "data": {
      "application/vnd.jupyter.widget-view+json": {
       "model_id": "0ebb309fdf774ee39d10679e1221d3a4",
       "version_major": 2,
       "version_minor": 0
      },
      "text/plain": [
       "HBox(children=(IntProgress(value=0, max=996), HTML(value='')))"
      ]
     },
     "metadata": {},
     "output_type": "display_data"
    },
    {
     "name": "stdout",
     "output_type": "stream",
     "text": [
      "\n",
      "========================================\n",
      "Evaluating blackbox_e25_d3_f33_d160\n",
      "INFO:tensorflow:Restoring parameters from ./blackbox_checkpoints/blackbox_e25_d3_f33_d160\\blackbox_checkpoint\n",
      "Test Accuracy: 0.939 | Loss: 0.193\n",
      "\n"
     ]
    },
    {
     "data": {
      "application/vnd.jupyter.widget-view+json": {
       "model_id": "834a28a957614913977d4a6222694db1",
       "version_major": 2,
       "version_minor": 0
      },
      "text/plain": [
       "HBox(children=(IntProgress(value=0, max=996), HTML(value='')))"
      ]
     },
     "metadata": {},
     "output_type": "display_data"
    },
    {
     "name": "stdout",
     "output_type": "stream",
     "text": [
      "\n",
      "========================================\n",
      "Evaluating blackbox_e25_d3_f49_d10\n",
      "INFO:tensorflow:Restoring parameters from ./blackbox_checkpoints/blackbox_e25_d3_f49_d10\\blackbox_checkpoint\n",
      "Test Accuracy: 0.947 | Loss: 0.173\n",
      "\n"
     ]
    },
    {
     "data": {
      "application/vnd.jupyter.widget-view+json": {
       "model_id": "237ac55bf08648f1946218f4a7afb703",
       "version_major": 2,
       "version_minor": 0
      },
      "text/plain": [
       "HBox(children=(IntProgress(value=0, max=996), HTML(value='')))"
      ]
     },
     "metadata": {},
     "output_type": "display_data"
    },
    {
     "name": "stdout",
     "output_type": "stream",
     "text": [
      "\n",
      "========================================\n",
      "Evaluating blackbox_e25_d3_f49_d60\n",
      "INFO:tensorflow:Restoring parameters from ./blackbox_checkpoints/blackbox_e25_d3_f49_d60\\blackbox_checkpoint\n",
      "Test Accuracy: 0.933 | Loss: 0.216\n",
      "\n"
     ]
    },
    {
     "data": {
      "application/vnd.jupyter.widget-view+json": {
       "model_id": "2e894c8ec10148fe8bd00e1809279a5f",
       "version_major": 2,
       "version_minor": 0
      },
      "text/plain": [
       "HBox(children=(IntProgress(value=0, max=996), HTML(value='')))"
      ]
     },
     "metadata": {},
     "output_type": "display_data"
    },
    {
     "name": "stdout",
     "output_type": "stream",
     "text": [
      "\n",
      "========================================\n",
      "Evaluating blackbox_e25_d3_f49_d110\n",
      "INFO:tensorflow:Restoring parameters from ./blackbox_checkpoints/blackbox_e25_d3_f49_d110\\blackbox_checkpoint\n",
      "Test Accuracy: 0.940 | Loss: 0.191\n",
      "\n"
     ]
    },
    {
     "data": {
      "application/vnd.jupyter.widget-view+json": {
       "model_id": "a9952de297de41069f4b134431b9ecb4",
       "version_major": 2,
       "version_minor": 0
      },
      "text/plain": [
       "HBox(children=(IntProgress(value=0, max=996), HTML(value='')))"
      ]
     },
     "metadata": {},
     "output_type": "display_data"
    },
    {
     "name": "stdout",
     "output_type": "stream",
     "text": [
      "\n",
      "========================================\n",
      "Evaluating blackbox_e25_d3_f49_d160\n",
      "INFO:tensorflow:Restoring parameters from ./blackbox_checkpoints/blackbox_e25_d3_f49_d160\\blackbox_checkpoint\n",
      "Test Accuracy: 0.938 | Loss: 0.200\n",
      "\n"
     ]
    },
    {
     "data": {
      "application/vnd.jupyter.widget-view+json": {
       "model_id": "e39b69f972b1467d8f64ac349673f668",
       "version_major": 2,
       "version_minor": 0
      },
      "text/plain": [
       "HBox(children=(IntProgress(value=0, max=996), HTML(value='')))"
      ]
     },
     "metadata": {},
     "output_type": "display_data"
    },
    {
     "name": "stdout",
     "output_type": "stream",
     "text": [
      "\n",
      "========================================\n",
      "Evaluating blackbox_e25_d3_f65_d10\n",
      "INFO:tensorflow:Restoring parameters from ./blackbox_checkpoints/blackbox_e25_d3_f65_d10\\blackbox_checkpoint\n",
      "Test Accuracy: 0.938 | Loss: 0.196\n",
      "\n"
     ]
    },
    {
     "data": {
      "application/vnd.jupyter.widget-view+json": {
       "model_id": "e5fb5a1f1ddd4d7586a441adb759454c",
       "version_major": 2,
       "version_minor": 0
      },
      "text/plain": [
       "HBox(children=(IntProgress(value=0, max=996), HTML(value='')))"
      ]
     },
     "metadata": {},
     "output_type": "display_data"
    },
    {
     "name": "stdout",
     "output_type": "stream",
     "text": [
      "\n",
      "========================================\n",
      "Evaluating blackbox_e25_d3_f65_d60\n",
      "INFO:tensorflow:Restoring parameters from ./blackbox_checkpoints/blackbox_e25_d3_f65_d60\\blackbox_checkpoint\n",
      "Test Accuracy: 0.951 | Loss: 0.156\n",
      "\n"
     ]
    },
    {
     "data": {
      "application/vnd.jupyter.widget-view+json": {
       "model_id": "101146ca1b62474aa05043160f14c73b",
       "version_major": 2,
       "version_minor": 0
      },
      "text/plain": [
       "HBox(children=(IntProgress(value=0, max=996), HTML(value='')))"
      ]
     },
     "metadata": {},
     "output_type": "display_data"
    },
    {
     "name": "stdout",
     "output_type": "stream",
     "text": [
      "\n",
      "========================================\n",
      "Evaluating blackbox_e25_d3_f65_d110\n",
      "INFO:tensorflow:Restoring parameters from ./blackbox_checkpoints/blackbox_e25_d3_f65_d110\\blackbox_checkpoint\n",
      "Test Accuracy: 0.940 | Loss: 0.191\n",
      "\n"
     ]
    },
    {
     "data": {
      "application/vnd.jupyter.widget-view+json": {
       "model_id": "756a2be5c99a484d95708bc4695fe72f",
       "version_major": 2,
       "version_minor": 0
      },
      "text/plain": [
       "HBox(children=(IntProgress(value=0, max=996), HTML(value='')))"
      ]
     },
     "metadata": {},
     "output_type": "display_data"
    },
    {
     "name": "stdout",
     "output_type": "stream",
     "text": [
      "\n",
      "========================================\n",
      "Evaluating blackbox_e25_d3_f65_d160\n",
      "INFO:tensorflow:Restoring parameters from ./blackbox_checkpoints/blackbox_e25_d3_f65_d160\\blackbox_checkpoint\n",
      "Test Accuracy: 0.949 | Loss: 0.177\n",
      "\n"
     ]
    },
    {
     "data": {
      "application/vnd.jupyter.widget-view+json": {
       "model_id": "996322db38174c799582f46f3fe62c65",
       "version_major": 2,
       "version_minor": 0
      },
      "text/plain": [
       "HBox(children=(IntProgress(value=0, max=996), HTML(value='')))"
      ]
     },
     "metadata": {},
     "output_type": "display_data"
    },
    {
     "name": "stdout",
     "output_type": "stream",
     "text": [
      "\n",
      "========================================\n",
      "Evaluating blackbox_e25_d5_f1_d10\n",
      "INFO:tensorflow:Restoring parameters from ./blackbox_checkpoints/blackbox_e25_d5_f1_d10\\blackbox_checkpoint\n",
      "Test Accuracy: 0.949 | Loss: 0.168\n",
      "\n"
     ]
    },
    {
     "data": {
      "application/vnd.jupyter.widget-view+json": {
       "model_id": "2011dfbb8df04cd6a3452627ac8c02b1",
       "version_major": 2,
       "version_minor": 0
      },
      "text/plain": [
       "HBox(children=(IntProgress(value=0, max=996), HTML(value='')))"
      ]
     },
     "metadata": {},
     "output_type": "display_data"
    },
    {
     "name": "stdout",
     "output_type": "stream",
     "text": [
      "\n",
      "========================================\n",
      "Evaluating blackbox_e25_d5_f1_d60\n",
      "INFO:tensorflow:Restoring parameters from ./blackbox_checkpoints/blackbox_e25_d5_f1_d60\\blackbox_checkpoint\n",
      "Test Accuracy: 0.938 | Loss: 0.199\n",
      "\n"
     ]
    },
    {
     "data": {
      "application/vnd.jupyter.widget-view+json": {
       "model_id": "eae23e60d8d242b8958ae0a72c656cec",
       "version_major": 2,
       "version_minor": 0
      },
      "text/plain": [
       "HBox(children=(IntProgress(value=0, max=996), HTML(value='')))"
      ]
     },
     "metadata": {},
     "output_type": "display_data"
    },
    {
     "name": "stdout",
     "output_type": "stream",
     "text": [
      "\n",
      "========================================\n",
      "Evaluating blackbox_e25_d5_f1_d110\n",
      "INFO:tensorflow:Restoring parameters from ./blackbox_checkpoints/blackbox_e25_d5_f1_d110\\blackbox_checkpoint\n",
      "Test Accuracy: 0.941 | Loss: 0.194\n",
      "\n"
     ]
    },
    {
     "data": {
      "application/vnd.jupyter.widget-view+json": {
       "model_id": "fd3e44d751b849b59d3e6064deb601ae",
       "version_major": 2,
       "version_minor": 0
      },
      "text/plain": [
       "HBox(children=(IntProgress(value=0, max=996), HTML(value='')))"
      ]
     },
     "metadata": {},
     "output_type": "display_data"
    },
    {
     "name": "stdout",
     "output_type": "stream",
     "text": [
      "\n",
      "========================================\n",
      "Evaluating blackbox_e25_d5_f1_d160\n",
      "INFO:tensorflow:Restoring parameters from ./blackbox_checkpoints/blackbox_e25_d5_f1_d160\\blackbox_checkpoint\n",
      "Test Accuracy: 0.940 | Loss: 0.194\n",
      "\n"
     ]
    },
    {
     "data": {
      "application/vnd.jupyter.widget-view+json": {
       "model_id": "9bc23c2a5e6b4175bb2678448a9e56ee",
       "version_major": 2,
       "version_minor": 0
      },
      "text/plain": [
       "HBox(children=(IntProgress(value=0, max=996), HTML(value='')))"
      ]
     },
     "metadata": {},
     "output_type": "display_data"
    },
    {
     "name": "stdout",
     "output_type": "stream",
     "text": [
      "\n",
      "========================================\n",
      "Evaluating blackbox_e25_d5_f17_d10\n",
      "INFO:tensorflow:Restoring parameters from ./blackbox_checkpoints/blackbox_e25_d5_f17_d10\\blackbox_checkpoint\n",
      "Test Accuracy: 0.954 | Loss: 0.151\n",
      "\n"
     ]
    },
    {
     "data": {
      "application/vnd.jupyter.widget-view+json": {
       "model_id": "c165a56ca4fa46c3aeca1c273427053f",
       "version_major": 2,
       "version_minor": 0
      },
      "text/plain": [
       "HBox(children=(IntProgress(value=0, max=996), HTML(value='')))"
      ]
     },
     "metadata": {},
     "output_type": "display_data"
    },
    {
     "name": "stdout",
     "output_type": "stream",
     "text": [
      "\n",
      "========================================\n",
      "Evaluating blackbox_e25_d5_f17_d60\n",
      "INFO:tensorflow:Restoring parameters from ./blackbox_checkpoints/blackbox_e25_d5_f17_d60\\blackbox_checkpoint\n",
      "Test Accuracy: 0.948 | Loss: 0.171\n",
      "\n"
     ]
    },
    {
     "data": {
      "application/vnd.jupyter.widget-view+json": {
       "model_id": "767b3388782d4b36b8e21f815987122d",
       "version_major": 2,
       "version_minor": 0
      },
      "text/plain": [
       "HBox(children=(IntProgress(value=0, max=996), HTML(value='')))"
      ]
     },
     "metadata": {},
     "output_type": "display_data"
    },
    {
     "name": "stdout",
     "output_type": "stream",
     "text": [
      "\n",
      "========================================\n",
      "Evaluating blackbox_e25_d5_f17_d110\n",
      "INFO:tensorflow:Restoring parameters from ./blackbox_checkpoints/blackbox_e25_d5_f17_d110\\blackbox_checkpoint\n",
      "Test Accuracy: 0.949 | Loss: 0.160\n",
      "\n"
     ]
    },
    {
     "data": {
      "application/vnd.jupyter.widget-view+json": {
       "model_id": "bb276dfec69c42488353adcd8a2ed083",
       "version_major": 2,
       "version_minor": 0
      },
      "text/plain": [
       "HBox(children=(IntProgress(value=0, max=996), HTML(value='')))"
      ]
     },
     "metadata": {},
     "output_type": "display_data"
    },
    {
     "name": "stdout",
     "output_type": "stream",
     "text": [
      "\n",
      "========================================\n",
      "Evaluating blackbox_e25_d5_f17_d160\n",
      "INFO:tensorflow:Restoring parameters from ./blackbox_checkpoints/blackbox_e25_d5_f17_d160\\blackbox_checkpoint\n",
      "Test Accuracy: 0.945 | Loss: 0.181\n",
      "\n"
     ]
    },
    {
     "data": {
      "application/vnd.jupyter.widget-view+json": {
       "model_id": "d0b06a8fffc249fc85bf7cf760f7b417",
       "version_major": 2,
       "version_minor": 0
      },
      "text/plain": [
       "HBox(children=(IntProgress(value=0, max=996), HTML(value='')))"
      ]
     },
     "metadata": {},
     "output_type": "display_data"
    },
    {
     "name": "stdout",
     "output_type": "stream",
     "text": [
      "\n",
      "========================================\n",
      "Evaluating blackbox_e25_d5_f33_d10\n",
      "INFO:tensorflow:Restoring parameters from ./blackbox_checkpoints/blackbox_e25_d5_f33_d10\\blackbox_checkpoint\n",
      "Test Accuracy: 0.948 | Loss: 0.174\n",
      "\n"
     ]
    },
    {
     "data": {
      "application/vnd.jupyter.widget-view+json": {
       "model_id": "e100b406c57f4fb6badc665df6d70464",
       "version_major": 2,
       "version_minor": 0
      },
      "text/plain": [
       "HBox(children=(IntProgress(value=0, max=996), HTML(value='')))"
      ]
     },
     "metadata": {},
     "output_type": "display_data"
    },
    {
     "name": "stdout",
     "output_type": "stream",
     "text": [
      "\n",
      "========================================\n",
      "Evaluating blackbox_e25_d5_f33_d60\n",
      "INFO:tensorflow:Restoring parameters from ./blackbox_checkpoints/blackbox_e25_d5_f33_d60\\blackbox_checkpoint\n",
      "Test Accuracy: 0.940 | Loss: 0.199\n",
      "\n"
     ]
    },
    {
     "data": {
      "application/vnd.jupyter.widget-view+json": {
       "model_id": "35728f3020f34d5389ee61384f209d79",
       "version_major": 2,
       "version_minor": 0
      },
      "text/plain": [
       "HBox(children=(IntProgress(value=0, max=996), HTML(value='')))"
      ]
     },
     "metadata": {},
     "output_type": "display_data"
    },
    {
     "name": "stdout",
     "output_type": "stream",
     "text": [
      "\n",
      "========================================\n",
      "Evaluating blackbox_e25_d5_f33_d110\n",
      "INFO:tensorflow:Restoring parameters from ./blackbox_checkpoints/blackbox_e25_d5_f33_d110\\blackbox_checkpoint\n",
      "Test Accuracy: 0.947 | Loss: 0.174\n",
      "\n"
     ]
    },
    {
     "data": {
      "application/vnd.jupyter.widget-view+json": {
       "model_id": "5af45829d5b24d888bc6b373c5d374ca",
       "version_major": 2,
       "version_minor": 0
      },
      "text/plain": [
       "HBox(children=(IntProgress(value=0, max=996), HTML(value='')))"
      ]
     },
     "metadata": {},
     "output_type": "display_data"
    },
    {
     "name": "stdout",
     "output_type": "stream",
     "text": [
      "\n",
      "========================================\n",
      "Evaluating blackbox_e25_d5_f33_d160\n",
      "INFO:tensorflow:Restoring parameters from ./blackbox_checkpoints/blackbox_e25_d5_f33_d160\\blackbox_checkpoint\n",
      "Test Accuracy: 0.949 | Loss: 0.171\n",
      "\n"
     ]
    },
    {
     "data": {
      "application/vnd.jupyter.widget-view+json": {
       "model_id": "04747de8fd944df39b8007ce5d218504",
       "version_major": 2,
       "version_minor": 0
      },
      "text/plain": [
       "HBox(children=(IntProgress(value=0, max=996), HTML(value='')))"
      ]
     },
     "metadata": {},
     "output_type": "display_data"
    },
    {
     "name": "stdout",
     "output_type": "stream",
     "text": [
      "\n",
      "========================================\n",
      "Evaluating blackbox_e25_d5_f49_d10\n",
      "INFO:tensorflow:Restoring parameters from ./blackbox_checkpoints/blackbox_e25_d5_f49_d10\\blackbox_checkpoint\n",
      "Test Accuracy: 0.946 | Loss: 0.188\n",
      "\n"
     ]
    },
    {
     "data": {
      "application/vnd.jupyter.widget-view+json": {
       "model_id": "7298f3f1339047e89169fabdf67d30dd",
       "version_major": 2,
       "version_minor": 0
      },
      "text/plain": [
       "HBox(children=(IntProgress(value=0, max=996), HTML(value='')))"
      ]
     },
     "metadata": {},
     "output_type": "display_data"
    },
    {
     "name": "stdout",
     "output_type": "stream",
     "text": [
      "\n",
      "========================================\n",
      "Evaluating blackbox_e25_d5_f49_d60\n",
      "INFO:tensorflow:Restoring parameters from ./blackbox_checkpoints/blackbox_e25_d5_f49_d60\\blackbox_checkpoint\n",
      "Test Accuracy: 0.954 | Loss: 0.156\n",
      "\n"
     ]
    },
    {
     "data": {
      "application/vnd.jupyter.widget-view+json": {
       "model_id": "62fd2790b55e4285b5512edc7b0c7ca6",
       "version_major": 2,
       "version_minor": 0
      },
      "text/plain": [
       "HBox(children=(IntProgress(value=0, max=996), HTML(value='')))"
      ]
     },
     "metadata": {},
     "output_type": "display_data"
    },
    {
     "name": "stdout",
     "output_type": "stream",
     "text": [
      "\n",
      "========================================\n",
      "Evaluating blackbox_e25_d5_f49_d110\n",
      "INFO:tensorflow:Restoring parameters from ./blackbox_checkpoints/blackbox_e25_d5_f49_d110\\blackbox_checkpoint\n",
      "Test Accuracy: 0.931 | Loss: 0.227\n",
      "\n"
     ]
    },
    {
     "data": {
      "application/vnd.jupyter.widget-view+json": {
       "model_id": "c75f05909c824d6a85168cde2cbb7ef6",
       "version_major": 2,
       "version_minor": 0
      },
      "text/plain": [
       "HBox(children=(IntProgress(value=0, max=996), HTML(value='')))"
      ]
     },
     "metadata": {},
     "output_type": "display_data"
    },
    {
     "name": "stdout",
     "output_type": "stream",
     "text": [
      "\n",
      "========================================\n",
      "Evaluating blackbox_e25_d5_f49_d160\n",
      "INFO:tensorflow:Restoring parameters from ./blackbox_checkpoints/blackbox_e25_d5_f49_d160\\blackbox_checkpoint\n",
      "Test Accuracy: 0.941 | Loss: 0.197\n",
      "\n"
     ]
    },
    {
     "data": {
      "application/vnd.jupyter.widget-view+json": {
       "model_id": "70f3309b04ce49a6803b25f78ee17896",
       "version_major": 2,
       "version_minor": 0
      },
      "text/plain": [
       "HBox(children=(IntProgress(value=0, max=996), HTML(value='')))"
      ]
     },
     "metadata": {},
     "output_type": "display_data"
    },
    {
     "name": "stdout",
     "output_type": "stream",
     "text": [
      "\n",
      "========================================\n",
      "Evaluating blackbox_e25_d5_f65_d10\n",
      "INFO:tensorflow:Restoring parameters from ./blackbox_checkpoints/blackbox_e25_d5_f65_d10\\blackbox_checkpoint\n",
      "Test Accuracy: 0.951 | Loss: 0.160\n",
      "\n"
     ]
    },
    {
     "data": {
      "application/vnd.jupyter.widget-view+json": {
       "model_id": "fb3cb37ebb9f455d82877399b2dcfb0f",
       "version_major": 2,
       "version_minor": 0
      },
      "text/plain": [
       "HBox(children=(IntProgress(value=0, max=996), HTML(value='')))"
      ]
     },
     "metadata": {},
     "output_type": "display_data"
    },
    {
     "name": "stdout",
     "output_type": "stream",
     "text": [
      "\n",
      "========================================\n",
      "Evaluating blackbox_e25_d5_f65_d60\n",
      "INFO:tensorflow:Restoring parameters from ./blackbox_checkpoints/blackbox_e25_d5_f65_d60\\blackbox_checkpoint\n",
      "Test Accuracy: 0.953 | Loss: 0.155\n",
      "\n"
     ]
    },
    {
     "data": {
      "application/vnd.jupyter.widget-view+json": {
       "model_id": "9b8ae9646cac4c838ace730c0b9b129d",
       "version_major": 2,
       "version_minor": 0
      },
      "text/plain": [
       "HBox(children=(IntProgress(value=0, max=996), HTML(value='')))"
      ]
     },
     "metadata": {},
     "output_type": "display_data"
    },
    {
     "name": "stdout",
     "output_type": "stream",
     "text": [
      "\n",
      "========================================\n",
      "Evaluating blackbox_e25_d5_f65_d110\n",
      "INFO:tensorflow:Restoring parameters from ./blackbox_checkpoints/blackbox_e25_d5_f65_d110\\blackbox_checkpoint\n",
      "Test Accuracy: 0.945 | Loss: 0.182\n",
      "\n"
     ]
    },
    {
     "data": {
      "application/vnd.jupyter.widget-view+json": {
       "model_id": "cfedf605aa304f13bf384d83d00e49ca",
       "version_major": 2,
       "version_minor": 0
      },
      "text/plain": [
       "HBox(children=(IntProgress(value=0, max=996), HTML(value='')))"
      ]
     },
     "metadata": {},
     "output_type": "display_data"
    },
    {
     "name": "stdout",
     "output_type": "stream",
     "text": [
      "\n",
      "========================================\n",
      "Evaluating blackbox_e25_d5_f65_d160\n",
      "INFO:tensorflow:Restoring parameters from ./blackbox_checkpoints/blackbox_e25_d5_f65_d160\\blackbox_checkpoint\n",
      "Test Accuracy: 0.948 | Loss: 0.164\n",
      "\n"
     ]
    },
    {
     "data": {
      "application/vnd.jupyter.widget-view+json": {
       "model_id": "457efdda96bb40ecb0c52139d3d5beba",
       "version_major": 2,
       "version_minor": 0
      },
      "text/plain": [
       "HBox(children=(IntProgress(value=0, max=996), HTML(value='')))"
      ]
     },
     "metadata": {},
     "output_type": "display_data"
    },
    {
     "name": "stdout",
     "output_type": "stream",
     "text": [
      "\n",
      "========================================\n",
      "Evaluating blackbox_e25_d7_f1_d10\n",
      "INFO:tensorflow:Restoring parameters from ./blackbox_checkpoints/blackbox_e25_d7_f1_d10\\blackbox_checkpoint\n",
      "Test Accuracy: 0.950 | Loss: 0.166\n",
      "\n"
     ]
    },
    {
     "data": {
      "application/vnd.jupyter.widget-view+json": {
       "model_id": "886872d253794886ac8f0c8cd3279bb3",
       "version_major": 2,
       "version_minor": 0
      },
      "text/plain": [
       "HBox(children=(IntProgress(value=0, max=996), HTML(value='')))"
      ]
     },
     "metadata": {},
     "output_type": "display_data"
    },
    {
     "name": "stdout",
     "output_type": "stream",
     "text": [
      "\n",
      "========================================\n",
      "Evaluating blackbox_e25_d7_f1_d60\n",
      "INFO:tensorflow:Restoring parameters from ./blackbox_checkpoints/blackbox_e25_d7_f1_d60\\blackbox_checkpoint\n",
      "Test Accuracy: 0.945 | Loss: 0.177\n",
      "\n"
     ]
    },
    {
     "data": {
      "application/vnd.jupyter.widget-view+json": {
       "model_id": "fe44aaaa152845088b3ca9f1e8d169bd",
       "version_major": 2,
       "version_minor": 0
      },
      "text/plain": [
       "HBox(children=(IntProgress(value=0, max=996), HTML(value='')))"
      ]
     },
     "metadata": {},
     "output_type": "display_data"
    },
    {
     "name": "stdout",
     "output_type": "stream",
     "text": [
      "\n",
      "========================================\n",
      "Evaluating blackbox_e25_d7_f1_d110\n",
      "INFO:tensorflow:Restoring parameters from ./blackbox_checkpoints/blackbox_e25_d7_f1_d110\\blackbox_checkpoint\n",
      "Test Accuracy: 0.951 | Loss: 0.156\n",
      "\n"
     ]
    },
    {
     "data": {
      "application/vnd.jupyter.widget-view+json": {
       "model_id": "02647dcc787f47b2ab449374fc0045ab",
       "version_major": 2,
       "version_minor": 0
      },
      "text/plain": [
       "HBox(children=(IntProgress(value=0, max=996), HTML(value='')))"
      ]
     },
     "metadata": {},
     "output_type": "display_data"
    },
    {
     "name": "stdout",
     "output_type": "stream",
     "text": [
      "\n",
      "========================================\n",
      "Evaluating blackbox_e25_d7_f1_d160\n",
      "INFO:tensorflow:Restoring parameters from ./blackbox_checkpoints/blackbox_e25_d7_f1_d160\\blackbox_checkpoint\n",
      "Test Accuracy: 0.946 | Loss: 0.172\n",
      "\n"
     ]
    },
    {
     "data": {
      "application/vnd.jupyter.widget-view+json": {
       "model_id": "23baa3073079453b8fe61b57c1243dc3",
       "version_major": 2,
       "version_minor": 0
      },
      "text/plain": [
       "HBox(children=(IntProgress(value=0, max=996), HTML(value='')))"
      ]
     },
     "metadata": {},
     "output_type": "display_data"
    },
    {
     "name": "stdout",
     "output_type": "stream",
     "text": [
      "\n",
      "========================================\n",
      "Evaluating blackbox_e25_d7_f17_d10\n",
      "INFO:tensorflow:Restoring parameters from ./blackbox_checkpoints/blackbox_e25_d7_f17_d10\\blackbox_checkpoint\n",
      "Test Accuracy: 0.941 | Loss: 0.182\n",
      "\n"
     ]
    },
    {
     "data": {
      "application/vnd.jupyter.widget-view+json": {
       "model_id": "a86760c35b4b4ab6a0578cf34ed85ebc",
       "version_major": 2,
       "version_minor": 0
      },
      "text/plain": [
       "HBox(children=(IntProgress(value=0, max=996), HTML(value='')))"
      ]
     },
     "metadata": {},
     "output_type": "display_data"
    },
    {
     "name": "stdout",
     "output_type": "stream",
     "text": [
      "\n",
      "========================================\n",
      "Evaluating blackbox_e25_d7_f17_d60\n",
      "INFO:tensorflow:Restoring parameters from ./blackbox_checkpoints/blackbox_e25_d7_f17_d60\\blackbox_checkpoint\n",
      "Test Accuracy: 0.941 | Loss: 0.199\n",
      "\n"
     ]
    },
    {
     "data": {
      "application/vnd.jupyter.widget-view+json": {
       "model_id": "abb2963d1e7247698a58a4a9acfb39ac",
       "version_major": 2,
       "version_minor": 0
      },
      "text/plain": [
       "HBox(children=(IntProgress(value=0, max=996), HTML(value='')))"
      ]
     },
     "metadata": {},
     "output_type": "display_data"
    },
    {
     "name": "stdout",
     "output_type": "stream",
     "text": [
      "\n",
      "========================================\n",
      "Evaluating blackbox_e25_d7_f17_d110\n",
      "INFO:tensorflow:Restoring parameters from ./blackbox_checkpoints/blackbox_e25_d7_f17_d110\\blackbox_checkpoint\n",
      "Test Accuracy: 0.947 | Loss: 0.173\n",
      "\n"
     ]
    },
    {
     "data": {
      "application/vnd.jupyter.widget-view+json": {
       "model_id": "34cc0d5338784cf6b7be1a05d4483158",
       "version_major": 2,
       "version_minor": 0
      },
      "text/plain": [
       "HBox(children=(IntProgress(value=0, max=996), HTML(value='')))"
      ]
     },
     "metadata": {},
     "output_type": "display_data"
    },
    {
     "name": "stdout",
     "output_type": "stream",
     "text": [
      "\n",
      "========================================\n",
      "Evaluating blackbox_e25_d7_f17_d160\n",
      "INFO:tensorflow:Restoring parameters from ./blackbox_checkpoints/blackbox_e25_d7_f17_d160\\blackbox_checkpoint\n",
      "Test Accuracy: 0.932 | Loss: 0.223\n",
      "\n"
     ]
    },
    {
     "data": {
      "application/vnd.jupyter.widget-view+json": {
       "model_id": "76bae03b9cd9471fa63600f812d21567",
       "version_major": 2,
       "version_minor": 0
      },
      "text/plain": [
       "HBox(children=(IntProgress(value=0, max=996), HTML(value='')))"
      ]
     },
     "metadata": {},
     "output_type": "display_data"
    },
    {
     "name": "stdout",
     "output_type": "stream",
     "text": [
      "\n",
      "========================================\n",
      "Evaluating blackbox_e25_d7_f33_d10\n",
      "INFO:tensorflow:Restoring parameters from ./blackbox_checkpoints/blackbox_e25_d7_f33_d10\\blackbox_checkpoint\n",
      "Test Accuracy: 0.937 | Loss: 0.204\n",
      "\n"
     ]
    },
    {
     "data": {
      "application/vnd.jupyter.widget-view+json": {
       "model_id": "538d148c669e4bd696a761302bdee774",
       "version_major": 2,
       "version_minor": 0
      },
      "text/plain": [
       "HBox(children=(IntProgress(value=0, max=996), HTML(value='')))"
      ]
     },
     "metadata": {},
     "output_type": "display_data"
    },
    {
     "name": "stdout",
     "output_type": "stream",
     "text": [
      "\n",
      "========================================\n",
      "Evaluating blackbox_e25_d7_f33_d60\n",
      "INFO:tensorflow:Restoring parameters from ./blackbox_checkpoints/blackbox_e25_d7_f33_d60\\blackbox_checkpoint\n",
      "Test Accuracy: 0.953 | Loss: 0.156\n",
      "\n"
     ]
    },
    {
     "data": {
      "application/vnd.jupyter.widget-view+json": {
       "model_id": "8fd8b0216043423b88dc5d720facdf62",
       "version_major": 2,
       "version_minor": 0
      },
      "text/plain": [
       "HBox(children=(IntProgress(value=0, max=996), HTML(value='')))"
      ]
     },
     "metadata": {},
     "output_type": "display_data"
    },
    {
     "name": "stdout",
     "output_type": "stream",
     "text": [
      "\n",
      "========================================\n",
      "Evaluating blackbox_e25_d7_f33_d110\n",
      "INFO:tensorflow:Restoring parameters from ./blackbox_checkpoints/blackbox_e25_d7_f33_d110\\blackbox_checkpoint\n",
      "Test Accuracy: 0.939 | Loss: 0.203\n",
      "\n"
     ]
    },
    {
     "data": {
      "application/vnd.jupyter.widget-view+json": {
       "model_id": "1d9e1e7befd2409585dc1c7ada67453a",
       "version_major": 2,
       "version_minor": 0
      },
      "text/plain": [
       "HBox(children=(IntProgress(value=0, max=996), HTML(value='')))"
      ]
     },
     "metadata": {},
     "output_type": "display_data"
    },
    {
     "name": "stdout",
     "output_type": "stream",
     "text": [
      "\n",
      "========================================\n",
      "Evaluating blackbox_e25_d7_f33_d160\n",
      "INFO:tensorflow:Restoring parameters from ./blackbox_checkpoints/blackbox_e25_d7_f33_d160\\blackbox_checkpoint\n",
      "Test Accuracy: 0.950 | Loss: 0.168\n",
      "\n"
     ]
    },
    {
     "data": {
      "application/vnd.jupyter.widget-view+json": {
       "model_id": "8a8628af0e7543daac581aeae49c0f6b",
       "version_major": 2,
       "version_minor": 0
      },
      "text/plain": [
       "HBox(children=(IntProgress(value=0, max=996), HTML(value='')))"
      ]
     },
     "metadata": {},
     "output_type": "display_data"
    },
    {
     "name": "stdout",
     "output_type": "stream",
     "text": [
      "\n",
      "========================================\n",
      "Evaluating blackbox_e25_d7_f49_d10\n",
      "INFO:tensorflow:Restoring parameters from ./blackbox_checkpoints/blackbox_e25_d7_f49_d10\\blackbox_checkpoint\n",
      "Test Accuracy: 0.936 | Loss: 0.212\n",
      "\n"
     ]
    },
    {
     "data": {
      "application/vnd.jupyter.widget-view+json": {
       "model_id": "ac87c2aa880744b19aa2c5ffe799028f",
       "version_major": 2,
       "version_minor": 0
      },
      "text/plain": [
       "HBox(children=(IntProgress(value=0, max=996), HTML(value='')))"
      ]
     },
     "metadata": {},
     "output_type": "display_data"
    },
    {
     "name": "stdout",
     "output_type": "stream",
     "text": [
      "\n",
      "========================================\n",
      "Evaluating blackbox_e25_d7_f49_d60\n",
      "INFO:tensorflow:Restoring parameters from ./blackbox_checkpoints/blackbox_e25_d7_f49_d60\\blackbox_checkpoint\n",
      "Test Accuracy: 0.951 | Loss: 0.157\n",
      "\n"
     ]
    },
    {
     "data": {
      "application/vnd.jupyter.widget-view+json": {
       "model_id": "780cc548215d498c80bf806f7c752d55",
       "version_major": 2,
       "version_minor": 0
      },
      "text/plain": [
       "HBox(children=(IntProgress(value=0, max=996), HTML(value='')))"
      ]
     },
     "metadata": {},
     "output_type": "display_data"
    },
    {
     "name": "stdout",
     "output_type": "stream",
     "text": [
      "\n",
      "========================================\n",
      "Evaluating blackbox_e25_d7_f49_d110\n",
      "INFO:tensorflow:Restoring parameters from ./blackbox_checkpoints/blackbox_e25_d7_f49_d110\\blackbox_checkpoint\n",
      "Test Accuracy: 0.954 | Loss: 0.151\n",
      "\n"
     ]
    },
    {
     "data": {
      "application/vnd.jupyter.widget-view+json": {
       "model_id": "9633c8dec3e24736a8b1f44bc49b3a91",
       "version_major": 2,
       "version_minor": 0
      },
      "text/plain": [
       "HBox(children=(IntProgress(value=0, max=996), HTML(value='')))"
      ]
     },
     "metadata": {},
     "output_type": "display_data"
    },
    {
     "name": "stdout",
     "output_type": "stream",
     "text": [
      "\n",
      "========================================\n",
      "Evaluating blackbox_e25_d7_f49_d160\n",
      "INFO:tensorflow:Restoring parameters from ./blackbox_checkpoints/blackbox_e25_d7_f49_d160\\blackbox_checkpoint\n",
      "Test Accuracy: 0.953 | Loss: 0.152\n",
      "\n"
     ]
    },
    {
     "data": {
      "application/vnd.jupyter.widget-view+json": {
       "model_id": "92666a17a09d4617837c3184a8f34b29",
       "version_major": 2,
       "version_minor": 0
      },
      "text/plain": [
       "HBox(children=(IntProgress(value=0, max=996), HTML(value='')))"
      ]
     },
     "metadata": {},
     "output_type": "display_data"
    },
    {
     "name": "stdout",
     "output_type": "stream",
     "text": [
      "\n",
      "========================================\n",
      "Evaluating blackbox_e25_d7_f65_d10\n",
      "INFO:tensorflow:Restoring parameters from ./blackbox_checkpoints/blackbox_e25_d7_f65_d10\\blackbox_checkpoint\n",
      "Test Accuracy: 0.955 | Loss: 0.150\n",
      "\n"
     ]
    },
    {
     "data": {
      "application/vnd.jupyter.widget-view+json": {
       "model_id": "0e6f2f7bc8c04eacb314a6426b78eef1",
       "version_major": 2,
       "version_minor": 0
      },
      "text/plain": [
       "HBox(children=(IntProgress(value=0, max=996), HTML(value='')))"
      ]
     },
     "metadata": {},
     "output_type": "display_data"
    },
    {
     "name": "stdout",
     "output_type": "stream",
     "text": [
      "\n",
      "========================================\n",
      "Evaluating blackbox_e25_d7_f65_d60\n",
      "INFO:tensorflow:Restoring parameters from ./blackbox_checkpoints/blackbox_e25_d7_f65_d60\\blackbox_checkpoint\n",
      "Test Accuracy: 0.945 | Loss: 0.169\n",
      "\n"
     ]
    },
    {
     "data": {
      "application/vnd.jupyter.widget-view+json": {
       "model_id": "9cb9ceff2b0941dbacd52944b2f95000",
       "version_major": 2,
       "version_minor": 0
      },
      "text/plain": [
       "HBox(children=(IntProgress(value=0, max=996), HTML(value='')))"
      ]
     },
     "metadata": {},
     "output_type": "display_data"
    },
    {
     "name": "stdout",
     "output_type": "stream",
     "text": [
      "\n",
      "========================================\n",
      "Evaluating blackbox_e25_d7_f65_d110\n",
      "INFO:tensorflow:Restoring parameters from ./blackbox_checkpoints/blackbox_e25_d7_f65_d110\\blackbox_checkpoint\n",
      "Test Accuracy: 0.948 | Loss: 0.169\n",
      "\n"
     ]
    },
    {
     "data": {
      "application/vnd.jupyter.widget-view+json": {
       "model_id": "3f10892d230142cdb70240660f8f12a5",
       "version_major": 2,
       "version_minor": 0
      },
      "text/plain": [
       "HBox(children=(IntProgress(value=0, max=996), HTML(value='')))"
      ]
     },
     "metadata": {},
     "output_type": "display_data"
    },
    {
     "name": "stdout",
     "output_type": "stream",
     "text": [
      "\n",
      "========================================\n",
      "Evaluating blackbox_e25_d7_f65_d160\n",
      "INFO:tensorflow:Restoring parameters from ./blackbox_checkpoints/blackbox_e25_d7_f65_d160\\blackbox_checkpoint\n",
      "Test Accuracy: 0.956 | Loss: 0.142\n",
      "\n"
     ]
    },
    {
     "data": {
      "application/vnd.jupyter.widget-view+json": {
       "model_id": "67864b3a1d4a496eacf8a553a0567b5f",
       "version_major": 2,
       "version_minor": 0
      },
      "text/plain": [
       "HBox(children=(IntProgress(value=0, max=996), HTML(value='')))"
      ]
     },
     "metadata": {},
     "output_type": "display_data"
    },
    {
     "name": "stdout",
     "output_type": "stream",
     "text": [
      "\n",
      "========================================\n",
      "Evaluating blackbox_e25_d9_f1_d10\n",
      "INFO:tensorflow:Restoring parameters from ./blackbox_checkpoints/blackbox_e25_d9_f1_d10\\blackbox_checkpoint\n",
      "Test Accuracy: 0.946 | Loss: 0.176\n",
      "\n"
     ]
    },
    {
     "data": {
      "application/vnd.jupyter.widget-view+json": {
       "model_id": "fa192cb3288f43dba77f19190d1ca469",
       "version_major": 2,
       "version_minor": 0
      },
      "text/plain": [
       "HBox(children=(IntProgress(value=0, max=996), HTML(value='')))"
      ]
     },
     "metadata": {},
     "output_type": "display_data"
    },
    {
     "name": "stdout",
     "output_type": "stream",
     "text": [
      "\n",
      "========================================\n",
      "Evaluating blackbox_e25_d9_f1_d60\n",
      "INFO:tensorflow:Restoring parameters from ./blackbox_checkpoints/blackbox_e25_d9_f1_d60\\blackbox_checkpoint\n",
      "Test Accuracy: 0.944 | Loss: 0.180\n",
      "\n"
     ]
    },
    {
     "data": {
      "application/vnd.jupyter.widget-view+json": {
       "model_id": "838a21f66d7b4b0aa0a6a63350de9a90",
       "version_major": 2,
       "version_minor": 0
      },
      "text/plain": [
       "HBox(children=(IntProgress(value=0, max=996), HTML(value='')))"
      ]
     },
     "metadata": {},
     "output_type": "display_data"
    },
    {
     "name": "stdout",
     "output_type": "stream",
     "text": [
      "\n",
      "========================================\n",
      "Evaluating blackbox_e25_d9_f1_d110\n",
      "INFO:tensorflow:Restoring parameters from ./blackbox_checkpoints/blackbox_e25_d9_f1_d110\\blackbox_checkpoint\n",
      "Test Accuracy: 0.956 | Loss: 0.147\n",
      "\n"
     ]
    },
    {
     "data": {
      "application/vnd.jupyter.widget-view+json": {
       "model_id": "3f9798853d62473aa4ec6665cb92e7f8",
       "version_major": 2,
       "version_minor": 0
      },
      "text/plain": [
       "HBox(children=(IntProgress(value=0, max=996), HTML(value='')))"
      ]
     },
     "metadata": {},
     "output_type": "display_data"
    },
    {
     "name": "stdout",
     "output_type": "stream",
     "text": [
      "\n",
      "========================================\n",
      "Evaluating blackbox_e25_d9_f1_d160\n",
      "INFO:tensorflow:Restoring parameters from ./blackbox_checkpoints/blackbox_e25_d9_f1_d160\\blackbox_checkpoint\n",
      "Test Accuracy: 0.931 | Loss: 0.225\n",
      "\n"
     ]
    },
    {
     "data": {
      "application/vnd.jupyter.widget-view+json": {
       "model_id": "db76118e3c774b7d8333fdab4c76d53e",
       "version_major": 2,
       "version_minor": 0
      },
      "text/plain": [
       "HBox(children=(IntProgress(value=0, max=996), HTML(value='')))"
      ]
     },
     "metadata": {},
     "output_type": "display_data"
    },
    {
     "name": "stdout",
     "output_type": "stream",
     "text": [
      "\n",
      "========================================\n",
      "Evaluating blackbox_e25_d9_f17_d10\n",
      "INFO:tensorflow:Restoring parameters from ./blackbox_checkpoints/blackbox_e25_d9_f17_d10\\blackbox_checkpoint\n",
      "Test Accuracy: 0.951 | Loss: 0.158\n",
      "\n"
     ]
    },
    {
     "data": {
      "application/vnd.jupyter.widget-view+json": {
       "model_id": "24774cca64bf45d480e79011c0c5ce82",
       "version_major": 2,
       "version_minor": 0
      },
      "text/plain": [
       "HBox(children=(IntProgress(value=0, max=996), HTML(value='')))"
      ]
     },
     "metadata": {},
     "output_type": "display_data"
    },
    {
     "name": "stdout",
     "output_type": "stream",
     "text": [
      "\n",
      "========================================\n",
      "Evaluating blackbox_e25_d9_f17_d60\n",
      "INFO:tensorflow:Restoring parameters from ./blackbox_checkpoints/blackbox_e25_d9_f17_d60\\blackbox_checkpoint\n",
      "Test Accuracy: 0.949 | Loss: 0.168\n",
      "\n"
     ]
    },
    {
     "data": {
      "application/vnd.jupyter.widget-view+json": {
       "model_id": "369b0bf00e3f42149597ae98728127d9",
       "version_major": 2,
       "version_minor": 0
      },
      "text/plain": [
       "HBox(children=(IntProgress(value=0, max=996), HTML(value='')))"
      ]
     },
     "metadata": {},
     "output_type": "display_data"
    },
    {
     "name": "stdout",
     "output_type": "stream",
     "text": [
      "\n",
      "========================================\n",
      "Evaluating blackbox_e25_d9_f17_d110\n",
      "INFO:tensorflow:Restoring parameters from ./blackbox_checkpoints/blackbox_e25_d9_f17_d110\\blackbox_checkpoint\n",
      "Test Accuracy: 0.950 | Loss: 0.164\n",
      "\n"
     ]
    },
    {
     "data": {
      "application/vnd.jupyter.widget-view+json": {
       "model_id": "d785a95448774cd7aa75c3be1d7e43fe",
       "version_major": 2,
       "version_minor": 0
      },
      "text/plain": [
       "HBox(children=(IntProgress(value=0, max=996), HTML(value='')))"
      ]
     },
     "metadata": {},
     "output_type": "display_data"
    },
    {
     "name": "stdout",
     "output_type": "stream",
     "text": [
      "\n",
      "========================================\n",
      "Evaluating blackbox_e25_d9_f17_d160\n",
      "INFO:tensorflow:Restoring parameters from ./blackbox_checkpoints/blackbox_e25_d9_f17_d160\\blackbox_checkpoint\n",
      "Test Accuracy: 0.951 | Loss: 0.161\n",
      "\n"
     ]
    },
    {
     "data": {
      "application/vnd.jupyter.widget-view+json": {
       "model_id": "244c7ec7d4c9474e834147fdde96cb45",
       "version_major": 2,
       "version_minor": 0
      },
      "text/plain": [
       "HBox(children=(IntProgress(value=0, max=996), HTML(value='')))"
      ]
     },
     "metadata": {},
     "output_type": "display_data"
    },
    {
     "name": "stdout",
     "output_type": "stream",
     "text": [
      "\n",
      "========================================\n",
      "Evaluating blackbox_e25_d9_f33_d10\n",
      "INFO:tensorflow:Restoring parameters from ./blackbox_checkpoints/blackbox_e25_d9_f33_d10\\blackbox_checkpoint\n",
      "Test Accuracy: 0.952 | Loss: 0.151\n",
      "\n"
     ]
    },
    {
     "data": {
      "application/vnd.jupyter.widget-view+json": {
       "model_id": "a7b11453138042d8b4bdb06983b67e03",
       "version_major": 2,
       "version_minor": 0
      },
      "text/plain": [
       "HBox(children=(IntProgress(value=0, max=996), HTML(value='')))"
      ]
     },
     "metadata": {},
     "output_type": "display_data"
    },
    {
     "name": "stdout",
     "output_type": "stream",
     "text": [
      "\n",
      "========================================\n",
      "Evaluating blackbox_e25_d9_f33_d60\n",
      "INFO:tensorflow:Restoring parameters from ./blackbox_checkpoints/blackbox_e25_d9_f33_d60\\blackbox_checkpoint\n",
      "Test Accuracy: 0.950 | Loss: 0.160\n",
      "\n"
     ]
    },
    {
     "data": {
      "application/vnd.jupyter.widget-view+json": {
       "model_id": "43614c5ce3f34c65a6f2c1bfc810cacf",
       "version_major": 2,
       "version_minor": 0
      },
      "text/plain": [
       "HBox(children=(IntProgress(value=0, max=996), HTML(value='')))"
      ]
     },
     "metadata": {},
     "output_type": "display_data"
    },
    {
     "name": "stdout",
     "output_type": "stream",
     "text": [
      "\n",
      "========================================\n",
      "Evaluating blackbox_e25_d9_f33_d110\n",
      "INFO:tensorflow:Restoring parameters from ./blackbox_checkpoints/blackbox_e25_d9_f33_d110\\blackbox_checkpoint\n",
      "Test Accuracy: 0.951 | Loss: 0.165\n",
      "\n"
     ]
    },
    {
     "data": {
      "application/vnd.jupyter.widget-view+json": {
       "model_id": "45c4059cef4d4c9c8aed32829a3c3d81",
       "version_major": 2,
       "version_minor": 0
      },
      "text/plain": [
       "HBox(children=(IntProgress(value=0, max=996), HTML(value='')))"
      ]
     },
     "metadata": {},
     "output_type": "display_data"
    },
    {
     "name": "stdout",
     "output_type": "stream",
     "text": [
      "\n",
      "========================================\n",
      "Evaluating blackbox_e25_d9_f33_d160\n",
      "INFO:tensorflow:Restoring parameters from ./blackbox_checkpoints/blackbox_e25_d9_f33_d160\\blackbox_checkpoint\n",
      "Test Accuracy: 0.939 | Loss: 0.211\n",
      "\n"
     ]
    },
    {
     "data": {
      "application/vnd.jupyter.widget-view+json": {
       "model_id": "0db5a67715ec4ae2a4df3446f21fee05",
       "version_major": 2,
       "version_minor": 0
      },
      "text/plain": [
       "HBox(children=(IntProgress(value=0, max=996), HTML(value='')))"
      ]
     },
     "metadata": {},
     "output_type": "display_data"
    },
    {
     "name": "stdout",
     "output_type": "stream",
     "text": [
      "\n",
      "========================================\n",
      "Evaluating blackbox_e25_d9_f49_d10\n",
      "INFO:tensorflow:Restoring parameters from ./blackbox_checkpoints/blackbox_e25_d9_f49_d10\\blackbox_checkpoint\n",
      "Test Accuracy: 0.948 | Loss: 0.171\n",
      "\n"
     ]
    },
    {
     "data": {
      "application/vnd.jupyter.widget-view+json": {
       "model_id": "8a62eeba35e54e999d96d9886402c192",
       "version_major": 2,
       "version_minor": 0
      },
      "text/plain": [
       "HBox(children=(IntProgress(value=0, max=996), HTML(value='')))"
      ]
     },
     "metadata": {},
     "output_type": "display_data"
    },
    {
     "name": "stdout",
     "output_type": "stream",
     "text": [
      "\n",
      "========================================\n",
      "Evaluating blackbox_e25_d9_f49_d60\n",
      "INFO:tensorflow:Restoring parameters from ./blackbox_checkpoints/blackbox_e25_d9_f49_d60\\blackbox_checkpoint\n",
      "Test Accuracy: 0.950 | Loss: 0.167\n",
      "\n"
     ]
    },
    {
     "data": {
      "application/vnd.jupyter.widget-view+json": {
       "model_id": "dd3f4984e4c348a2b8c3cd63047b80cc",
       "version_major": 2,
       "version_minor": 0
      },
      "text/plain": [
       "HBox(children=(IntProgress(value=0, max=996), HTML(value='')))"
      ]
     },
     "metadata": {},
     "output_type": "display_data"
    },
    {
     "name": "stdout",
     "output_type": "stream",
     "text": [
      "\n",
      "========================================\n",
      "Evaluating blackbox_e25_d9_f49_d110\n",
      "INFO:tensorflow:Restoring parameters from ./blackbox_checkpoints/blackbox_e25_d9_f49_d110\\blackbox_checkpoint\n",
      "Test Accuracy: 0.952 | Loss: 0.158\n",
      "\n"
     ]
    },
    {
     "data": {
      "application/vnd.jupyter.widget-view+json": {
       "model_id": "6596e2b052474effa717011d4c90085b",
       "version_major": 2,
       "version_minor": 0
      },
      "text/plain": [
       "HBox(children=(IntProgress(value=0, max=996), HTML(value='')))"
      ]
     },
     "metadata": {},
     "output_type": "display_data"
    },
    {
     "name": "stdout",
     "output_type": "stream",
     "text": [
      "\n",
      "========================================\n",
      "Evaluating blackbox_e25_d9_f49_d160\n",
      "INFO:tensorflow:Restoring parameters from ./blackbox_checkpoints/blackbox_e25_d9_f49_d160\\blackbox_checkpoint\n",
      "Test Accuracy: 0.945 | Loss: 0.180\n",
      "\n"
     ]
    },
    {
     "data": {
      "application/vnd.jupyter.widget-view+json": {
       "model_id": "55703351e0e944518eed3bf46b95c472",
       "version_major": 2,
       "version_minor": 0
      },
      "text/plain": [
       "HBox(children=(IntProgress(value=0, max=996), HTML(value='')))"
      ]
     },
     "metadata": {},
     "output_type": "display_data"
    },
    {
     "name": "stdout",
     "output_type": "stream",
     "text": [
      "\n",
      "========================================\n",
      "Evaluating blackbox_e25_d9_f65_d10\n",
      "INFO:tensorflow:Restoring parameters from ./blackbox_checkpoints/blackbox_e25_d9_f65_d10\\blackbox_checkpoint\n",
      "Test Accuracy: 0.956 | Loss: 0.143\n",
      "\n"
     ]
    },
    {
     "data": {
      "application/vnd.jupyter.widget-view+json": {
       "model_id": "9bd31b49ceca4124ad60d652eccfe004",
       "version_major": 2,
       "version_minor": 0
      },
      "text/plain": [
       "HBox(children=(IntProgress(value=0, max=996), HTML(value='')))"
      ]
     },
     "metadata": {},
     "output_type": "display_data"
    },
    {
     "name": "stdout",
     "output_type": "stream",
     "text": [
      "\n",
      "========================================\n",
      "Evaluating blackbox_e25_d9_f65_d60\n",
      "INFO:tensorflow:Restoring parameters from ./blackbox_checkpoints/blackbox_e25_d9_f65_d60\\blackbox_checkpoint\n",
      "Test Accuracy: 0.949 | Loss: 0.163\n",
      "\n"
     ]
    },
    {
     "data": {
      "application/vnd.jupyter.widget-view+json": {
       "model_id": "abc41d9cf6ba45d997a4466afa858f29",
       "version_major": 2,
       "version_minor": 0
      },
      "text/plain": [
       "HBox(children=(IntProgress(value=0, max=996), HTML(value='')))"
      ]
     },
     "metadata": {},
     "output_type": "display_data"
    },
    {
     "name": "stdout",
     "output_type": "stream",
     "text": [
      "\n",
      "========================================\n",
      "Evaluating blackbox_e25_d9_f65_d110\n",
      "INFO:tensorflow:Restoring parameters from ./blackbox_checkpoints/blackbox_e25_d9_f65_d110\\blackbox_checkpoint\n",
      "Test Accuracy: 0.939 | Loss: 0.200\n",
      "\n"
     ]
    },
    {
     "data": {
      "application/vnd.jupyter.widget-view+json": {
       "model_id": "a8be116ecb3c499193c23349c26416ee",
       "version_major": 2,
       "version_minor": 0
      },
      "text/plain": [
       "HBox(children=(IntProgress(value=0, max=996), HTML(value='')))"
      ]
     },
     "metadata": {},
     "output_type": "display_data"
    },
    {
     "name": "stdout",
     "output_type": "stream",
     "text": [
      "\n",
      "========================================\n",
      "Evaluating blackbox_e25_d9_f65_d160\n",
      "INFO:tensorflow:Restoring parameters from ./blackbox_checkpoints/blackbox_e25_d9_f65_d160\\blackbox_checkpoint\n",
      "Test Accuracy: 0.944 | Loss: 0.185\n",
      "\n"
     ]
    },
    {
     "data": {
      "application/vnd.jupyter.widget-view+json": {
       "model_id": "14f57c50b3cd41cbab0f535fdce5417e",
       "version_major": 2,
       "version_minor": 0
      },
      "text/plain": [
       "HBox(children=(IntProgress(value=0, max=996), HTML(value='')))"
      ]
     },
     "metadata": {},
     "output_type": "display_data"
    },
    {
     "name": "stdout",
     "output_type": "stream",
     "text": [
      "\n"
     ]
    }
   ],
   "source": [
    "print('Evaluating the model...\\n')\n",
    "\n",
    "inc = 0\n",
    "for depth in configs_depth:\n",
    "    for filters in configs_filters:\n",
    "        for dense in configs_dense:\n",
    "            \n",
    "            print('{}/{}'.format(inc+1, total_combinations)+'='*40)\n",
    "            print('Evaluating blackbox_e{}_d{}_f{}_d{}'.format(max_epochs, depth, filters, dense))\n",
    "            filename = \"blackbox_e{}_d{}_f{}_d{}\".format(max_epochs, depth, filters, dense)\n",
    "            \n",
    "            # train a new model each time:\n",
    "            model_obj = BlackBoxModel(input_shape, depth, filters, dense, training=True)\n",
    "            \n",
    "            param_count = model_obj.count_params()\n",
    "            \n",
    "            with tf.Session() as sess:\n",
    "                # init the session:\n",
    "                sess.run(tf.local_variables_initializer())\n",
    "                sess.run(tf.global_variables_initializer())\n",
    "                \n",
    "                # load the weights for the blackbox:\n",
    "                checkpoint_folder = \"./blackbox_checkpoints/{}\".format(filename)\n",
    "                blackbox_weights_path = os.path.join(checkpoint_folder, 'blackbox_checkpoint')\n",
    "                # model.load_weights(blackbox_weights_path)\n",
    "                model_obj.saver.restore(sess, blackbox_weights_path)\n",
    "\n",
    "                # Calculate test acc and loss - to double check loader is working\n",
    "                acc_test, loss_test = sess.run([model_obj.acc_op, model_obj.loss], \n",
    "                                               feed_dict={model_obj.x: x_test, model_obj.y_true: y_test})\n",
    "                print('Test Accuracy: {:.3f} | Loss: {:.3f}'.format(acc_test, np.mean(loss_test)))\n",
    "                print()\n",
    "                \n",
    "                # evaluate the model for all training data:\n",
    "                eval_folder = \"./blackbox_evals/{}\".format(filename)\n",
    "                if os.path.exists(eval_folder):\n",
    "                    shutil.rmtree(eval_folder)\n",
    "                os.makedirs(eval_folder, exist_ok=True)\n",
    "\n",
    "                batch_idxs = list(range(len(x_batches)))\n",
    "                for batch_idx in tqdm_notebook(batch_idxs):\n",
    "                    class_idx, x_batch = x_batches[batch_idx]\n",
    "                    _, y_batch = y_batches[batch_idx]\n",
    "\n",
    "                    # save output of every batch to a pickle file:\n",
    "                    y_eval = sess.run(model_obj.y_pred, feed_dict={model_obj.x: x_batch})\n",
    "\n",
    "                    eval_file = os.path.join(eval_folder, 'train_{}.pkl'.format(batch_idx))\n",
    "                    with open(eval_file, 'wb') as f:\n",
    "                        pickle.dump(y_eval, f)\n",
    "\n",
    "                # evaluate and save the model for all testing data:\n",
    "                y_eval = sess.run(model_obj.y_pred, feed_dict={model_obj.x: x_test})\n",
    "\n",
    "                eval_file = os.path.join(eval_folder, 'test_all.pkl')\n",
    "                with open(eval_file, 'wb') as f:\n",
    "                    pickle.dump(y_eval, f)\n",
    "                    \n",
    "                # dump param number to file:\n",
    "                param_file = os.path.join(eval_folder, 'param_count.pkl')\n",
    "                with open(param_file, 'wb') as f:\n",
    "                    pickle.dump(param_count, f)\n",
    "                \n",
    "            # Flush out the session\n",
    "            keras.backend.clear_session()"
   ]
  },
  {
   "cell_type": "code",
   "execution_count": null,
   "metadata": {},
   "outputs": [],
   "source": []
  }
 ],
 "metadata": {
  "kernelspec": {
   "display_name": "Python 3",
   "language": "python",
   "name": "python3"
  },
  "language_info": {
   "codemirror_mode": {
    "name": "ipython",
    "version": 3
   },
   "file_extension": ".py",
   "mimetype": "text/x-python",
   "name": "python",
   "nbconvert_exporter": "python",
   "pygments_lexer": "ipython3",
   "version": "3.7.3"
  }
 },
 "nbformat": 4,
 "nbformat_minor": 2
}
