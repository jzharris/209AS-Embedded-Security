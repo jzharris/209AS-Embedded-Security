{
 "cells": [
  {
   "cell_type": "code",
   "execution_count": 1,
   "metadata": {},
   "outputs": [
    {
     "name": "stdout",
     "output_type": "stream",
     "text": [
      "[None, 0.7849609, 0.79589844, 0.8624219, 0.8459766]\n",
      "[None, None, 0.53148335, None, 0.656]\n",
      "[0.3479, 0.3885, 0.5404, 0.5486]\n",
      "[0.3479, 0.3885, 0.5404, 0.5486]\n"
     ]
    }
   ],
   "source": [
    "import pickle\n",
    "import os\n",
    "\n",
    "class Self:\n",
    "    g_acc = None\n",
    "    bb_acc = None\n",
    "    d_acc = None\n",
    "    bb_ong_acc = None\n",
    "self = Self()\n",
    "\n",
    "metric_save_folder = os.path.join('checkpoints', 'metrics')\n",
    "\n",
    "g_acc_file = os.path.join(metric_save_folder, 'g_acc.pkl')\n",
    "with open(g_acc_file, 'rb') as f:\n",
    "    self.g_acc = pickle.load(f)\n",
    "\n",
    "bb_acc_file = os.path.join(metric_save_folder, 'bb_acc.pkl')\n",
    "with open(bb_acc_file, 'rb') as f:\n",
    "    self.bb_acc = pickle.load(f)\n",
    "\n",
    "d_acc_file = os.path.join(metric_save_folder, 'd_acc.pkl')\n",
    "with open(d_acc_file, 'rb') as f:\n",
    "    self.d_acc = pickle.load(f)\n",
    "\n",
    "bb_ong_acc_file = os.path.join(metric_save_folder, 'bb_ong_acc.pkl')\n",
    "with open(bb_ong_acc_file, 'rb') as f:\n",
    "    self.bb_ong_acc = pickle.load(f)\n",
    "    \n",
    "# limit the metrics to be only what we expect at the start of the continuing iteration:\n",
    "continue_training_it = 6\n",
    "self.g_acc = self.g_acc[:(continue_training_it-1)]\n",
    "self.bb_acc = self.bb_acc[:(continue_training_it-1)]\n",
    "self.d_acc = self.d_acc[:(continue_training_it-2)]\n",
    "self.bb_ong_acc = self.bb_ong_acc[:(continue_training_it-1)]\n",
    "\n",
    "print(self.g_acc)\n",
    "print(self.bb_acc)\n",
    "print(self.d_acc)\n",
    "print(self.bb_ong_acc)"
   ]
  },
  {
   "cell_type": "code",
   "execution_count": null,
   "metadata": {},
   "outputs": [],
   "source": []
  }
 ],
 "metadata": {
  "kernelspec": {
   "display_name": "Python 3",
   "language": "python",
   "name": "python3"
  },
  "language_info": {
   "codemirror_mode": {
    "name": "ipython",
    "version": 3
   },
   "file_extension": ".py",
   "mimetype": "text/x-python",
   "name": "python",
   "nbconvert_exporter": "python",
   "pygments_lexer": "ipython3",
   "version": "3.7.3"
  }
 },
 "nbformat": 4,
 "nbformat_minor": 2
}
