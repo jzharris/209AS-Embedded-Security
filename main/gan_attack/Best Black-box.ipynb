{
 "cells": [
  {
   "cell_type": "markdown",
   "metadata": {},
   "source": [
    "# Finding the best Black-box model"
   ]
  },
  {
   "cell_type": "markdown",
   "metadata": {},
   "source": [
    "This notebook determines the best params for the Black-box model"
   ]
  },
  {
   "cell_type": "markdown",
   "metadata": {},
   "source": [
    "## Imports"
   ]
  },
  {
   "cell_type": "code",
   "execution_count": 1,
   "metadata": {},
   "outputs": [
    {
     "name": "stderr",
     "output_type": "stream",
     "text": [
      "Using TensorFlow backend.\n"
     ]
    }
   ],
   "source": [
    "import tensorflow as tf\n",
    "tf.keras.backend.clear_session()  # For easy reset of notebook state.\n",
    "from tensorflow import keras  # Import the tf version of keras.\n",
    "from tensorflow.keras.layers import Dense, Dropout, Flatten, Conv2D, MaxPooling2D\n",
    "import keras.backend as K\n",
    "from keras.datasets import mnist"
   ]
  },
  {
   "cell_type": "code",
   "execution_count": 2,
   "metadata": {},
   "outputs": [],
   "source": [
    "import numpy as np\n",
    "import cv2\n",
    "import matplotlib.pyplot as plt\n",
    "from tqdm import tqdm_notebook, tqdm\n",
    "import pickle\n",
    "\n",
    "import os.path\n",
    "import shutil\n",
    "import math\n",
    "import random"
   ]
  },
  {
   "cell_type": "code",
   "execution_count": 3,
   "metadata": {},
   "outputs": [],
   "source": [
    "# Setting seeds for reproducibility \n",
    "np.random.seed(0)\n",
    "tf.set_random_seed(0)\n",
    "\n",
    "# Enlargen plots\n",
    "plt.rcParams['figure.figsize'] = [10, 5]"
   ]
  },
  {
   "cell_type": "markdown",
   "metadata": {},
   "source": [
    "## Parameters"
   ]
  },
  {
   "cell_type": "code",
   "execution_count": 4,
   "metadata": {},
   "outputs": [],
   "source": [
    "# model params\n",
    "num_classes = 10\n",
    "max_epochs = 25\n",
    "save_every = 1\n",
    "\n",
    "# client params\n",
    "clients_per_class = 100                         # number of clients per label. Each client only has access to one label\n",
    "                                                # - each unique class is divided into X number of subsets\n",
    "    \n",
    "minibatch_size = None                           # number of samples to operate on at one time\n",
    "                                                # - can vary to optimize computing requirements\n",
    "                                                # - if None, will evaluate the client's whole batch regardless of its size\n",
    "    \n",
    "batches_per_train_step = 20                     # after averaging the gradients from X clients, we will apply them to the model\n",
    "\n",
    "shuffle_clients = True\n",
    "\n",
    "# dataset params\n",
    "separated_folder = \"./separated_dataset\"\n",
    "os.makedirs(separated_folder, exist_ok=True)\n",
    "separated_train_path = os.path.join(separated_folder, \"train_separated.pkl\")\n",
    "separated_test_path = os.path.join(separated_folder, \"test_separated.pkl\")\n",
    "\n",
    "# input image dimensions\n",
    "img_rows, img_cols = 28, 28\n",
    "target_rows, target_cols = 28, 28    # governed by the chosen model"
   ]
  },
  {
   "cell_type": "markdown",
   "metadata": {},
   "source": [
    "## Load Data"
   ]
  },
  {
   "cell_type": "code",
   "execution_count": 5,
   "metadata": {},
   "outputs": [],
   "source": [
    "# The data, split between train and test sets\n",
    "(x_train, y_train), (x_test, y_test) = mnist.load_data()\n",
    "\n",
    "if K.image_data_format() == 'channels_first':\n",
    "    x_train = x_train.reshape(x_train.shape[0], 1, img_rows, img_cols)\n",
    "    x_test = x_test.reshape(x_test.shape[0], 1, img_rows, img_cols)\n",
    "    input_shape = (1, img_rows, img_cols)\n",
    "else:\n",
    "    x_train = x_train.reshape(x_train.shape[0], img_rows, img_cols, 1)\n",
    "    x_test = x_test.reshape(x_test.shape[0], img_rows, img_cols, 1)\n",
    "    input_shape = (img_rows, img_cols, 1)\n",
    "\n",
    "x_train = x_train.astype('float32')\n",
    "x_test = x_test.astype('float32')\n",
    "x_train /= 255\n",
    "x_test /= 255\n",
    "\n",
    "if target_rows != img_rows or target_cols != img_cols:\n",
    "    # resize x_train\n",
    "    x_train_resized = []\n",
    "    for x_ in x_train:\n",
    "        # scale image to be the same WxH as we need:\n",
    "        x_ = cv2.resize(x_, dsize=(target_rows, target_cols), interpolation=cv2.INTER_CUBIC)\n",
    "        x_train_resized.append(x_)\n",
    "    x_train = np.asarray(x_train_resized)\n",
    "\n",
    "    # resize x_test\n",
    "    x_test_resized = []\n",
    "    for x_ in x_test:\n",
    "        # scale image to be the same WxH as we need:\n",
    "        x_ = cv2.resize(x_, dsize=(target_rows, target_cols), interpolation=cv2.INTER_CUBIC)\n",
    "        x_test_resized.append(x_)\n",
    "    x_test = np.asarray(x_test_resized)\n",
    "\n",
    "# convert class vectors to binary class matrices\n",
    "y_train = keras.utils.to_categorical(y_train, num_classes)\n",
    "y_test = keras.utils.to_categorical(y_test, num_classes)"
   ]
  },
  {
   "cell_type": "code",
   "execution_count": 6,
   "metadata": {},
   "outputs": [
    {
     "name": "stdout",
     "output_type": "stream",
     "text": [
      "X: (60000, 28, 28, 1) (10000, 28, 28, 1)\n",
      "y: (60000, 10) (10000, 10)\n",
      "60000 train samples\n",
      "10000 test samples\n"
     ]
    }
   ],
   "source": [
    "# summary of data shapes:\n",
    "print('X:', x_train.shape, x_test.shape)\n",
    "print('y:', y_train.shape, y_test.shape)\n",
    "print(x_train.shape[0], 'train samples')\n",
    "print(x_test.shape[0], 'test samples')"
   ]
  },
  {
   "cell_type": "markdown",
   "metadata": {},
   "source": [
    "#### Separate the data by class"
   ]
  },
  {
   "cell_type": "code",
   "execution_count": 7,
   "metadata": {},
   "outputs": [
    {
     "name": "stdout",
     "output_type": "stream",
     "text": [
      "loaded training seperation\n",
      "loaded testing seperation\n"
     ]
    }
   ],
   "source": [
    "# Separating the data by class\n",
    "if os.path.isfile(separated_train_path):\n",
    "    with open(separated_train_path, 'rb') as f:\n",
    "        x_train_dict, y_train_dict = pickle.load(f)\n",
    "        print('loaded training seperation')\n",
    "else:\n",
    "    x_train_dict = {}\n",
    "    y_train_dict = {}\n",
    "    for target_label in tqdm_notebook(range(10)):\n",
    "        x_train_dict[target_label] = []\n",
    "        y_train_dict[target_label] = []\n",
    "        for i, label in enumerate(y_train):\n",
    "            if list(label).index(1) == target_label:\n",
    "                x_train_dict[target_label].append(x_train[i])\n",
    "                y_train_dict[target_label].append(y_train[i])\n",
    "    \n",
    "    with open(separated_train_path, 'wb') as f:\n",
    "        pickle.dump([x_train_dict, y_train_dict], f)\n",
    "        print('saved training seperation')\n",
    "\n",
    "if os.path.isfile(separated_test_path):\n",
    "    with open(separated_test_path, 'rb') as f:\n",
    "        x_test_dict, y_test_dict = pickle.load(f)\n",
    "        print('loaded testing seperation')\n",
    "else:\n",
    "    x_test_dict = {}\n",
    "    y_test_dict = {}\n",
    "    for target_label in tqdm_notebook(range(10)):\n",
    "        x_test_dict[target_label] = []\n",
    "        y_test_dict[target_label] = []\n",
    "        for i, label in enumerate(y_test):\n",
    "            if list(label).index(1) == target_label:\n",
    "                x_test_dict[target_label].append(x_test[i])\n",
    "                y_test_dict[target_label].append(y_test[i])\n",
    "\n",
    "    with open(separated_test_path, 'wb') as f:\n",
    "        pickle.dump([x_test_dict, y_test_dict], f)\n",
    "        print('saved testing seperation')\n",
    "    \n",
    "# convert dicts to lists\n",
    "x_train_seperated = [np.array(x_train_dict[i]) for i in range(10)]\n",
    "y_train_seperated = [np.array(y_train_dict[i]) for i in range(10)]\n",
    "\n",
    "x_test_seperated = [np.array(x_test_dict[i]) for i in range(10)]\n",
    "y_test_seperated = [np.array(y_test_dict[i]) for i in range(10)]"
   ]
  },
  {
   "cell_type": "code",
   "execution_count": 8,
   "metadata": {},
   "outputs": [
    {
     "data": {
      "image/png": "[encoded data removed]",
      "text/plain": [
       "<Figure size 720x360 with 1 Axes>"
      ]
     },
     "metadata": {
      "needs_background": "light"
     },
     "output_type": "display_data"
    }
   ],
   "source": [
    "# summary of data shapes:\n",
    "plt.figure()\n",
    "plt.title('Data separation per class')\n",
    "plt.bar(x_train_dict.keys(), [len(v) for v in x_train_dict.values()], color='tab:blue')\n",
    "plt.bar(x_test_dict.keys(), [len(v) for v in x_test_dict.values()], color='orange', width=0.6)\n",
    "plt.legend(['x_train', 'x_test'], loc='center right', framealpha=1.0)\n",
    "plt.xlabel('class label')\n",
    "plt.ylabel('count')\n",
    "plt.show()"
   ]
  },
  {
   "cell_type": "markdown",
   "metadata": {},
   "source": [
    "#### Separate the data into batches for clients to use"
   ]
  },
  {
   "cell_type": "code",
   "execution_count": 9,
   "metadata": {},
   "outputs": [
    {
     "data": {
      "image/png": "[encoded data removed]",
      "text/plain": [
       "<Figure size 720x360 with 2 Axes>"
      ]
     },
     "metadata": {},
     "output_type": "display_data"
    },
    {
     "name": "stdout",
     "output_type": "stream",
     "text": [
      "Clients per class:  99.6 ~= 100\n",
      "Total number of clients: 996\n",
      "Average batch size: 60.6\n"
     ]
    }
   ],
   "source": [
    "# Separate the data into a long list of batches, each batch representing a client training with that batch of images.\n",
    "# After each batch, a new client will have the opportunity to train their batch of images.\n",
    "# Batches are shuffled to simulate many clients training the model at once.\n",
    "\n",
    "client_counts = {}\n",
    "batch_sizes = {}\n",
    "x_batches = []\n",
    "y_batches = []\n",
    "\n",
    "def ceil(a,b):\n",
    "    return -(-a//b)\n",
    "\n",
    "for class_idx in range(len(x_train_seperated)):\n",
    "    # Get batches from class data:\n",
    "    n_samples_per_class = len(x_train_seperated[class_idx])\n",
    "    samples_per_client = n_samples_per_class / clients_per_class\n",
    "    better_batch_size = int(math.ceil(samples_per_client))\n",
    "\n",
    "    count = 0\n",
    "    for i in range(ceil(n_samples_per_class, better_batch_size)):\n",
    "        x_batches.append((class_idx, x_train_seperated[class_idx][i * better_batch_size: (i+1) * better_batch_size]))\n",
    "        y_batches.append((class_idx, y_train_seperated[class_idx][i * better_batch_size: (i+1) * better_batch_size]))\n",
    "        count += 1\n",
    "    client_counts[class_idx] = count\n",
    "    batch_sizes[class_idx] = better_batch_size\n",
    "        \n",
    "# double check that the clients_per_class is upheld per class\n",
    "# (blue bars should be uniform, orange should change according to class):\n",
    "fig, ax1 = plt.subplots()\n",
    "\n",
    "color = 'tab:blue'\n",
    "ax1.set_xlabel('class label')\n",
    "ax1.set_ylabel('client count', color=color)\n",
    "plt.bar(client_counts.keys(), [v for v in client_counts.values()], color=color)\n",
    "ax1.tick_params(axis='y', labelcolor=color)\n",
    "\n",
    "ax2 = ax1.twinx()  # instantiate a second axes that shares the same x-axis\n",
    "\n",
    "color = 'orange'\n",
    "ax2.set_ylabel('batch size', color=color)  # we already handled the x-label with ax1\n",
    "plt.bar(batch_sizes.keys(), [v for v in batch_sizes.values()], color=color, width=0.6)\n",
    "ax2.tick_params(axis='y', labelcolor=color)\n",
    "ax2.set_ylim(0, np.mean([v for v in batch_sizes.values()])*2)\n",
    "\n",
    "fig.tight_layout()  # otherwise the right y-label is slightly clipped\n",
    "plt.show()\n",
    "\n",
    "print('Clients per class:  {} ~= {}'.format(np.mean([v for v in client_counts.values()]), clients_per_class))\n",
    "print('Total number of clients: {}'.format(np.sum([v for v in client_counts.values()])))\n",
    "print('Average batch size: {}'.format(np.mean([v for v in batch_sizes.values()])))"
   ]
  },
  {
   "cell_type": "markdown",
   "metadata": {},
   "source": [
    "## Build Model"
   ]
  },
  {
   "cell_type": "code",
   "execution_count": 10,
   "metadata": {},
   "outputs": [],
   "source": [
    "def create_model(input_layer, depth=1, filters=4, dense_breadth=128, training=True):\n",
    "    assert depth >= 1\n",
    "    assert filters >= 1\n",
    "    assert dense_breadth >= num_classes\n",
    "    \n",
    "    h = Conv2D(filters, kernel_size=(3, 3), activation='relu', padding='same', input_shape=input_shape)(input_layer)\n",
    "    for i in range(depth-1):\n",
    "        h = Conv2D(filters, kernel_size=(3, 3), activation='relu', padding='same')(h)\n",
    "    h = MaxPooling2D(pool_size=(2, 2))(h)\n",
    "    h = Dropout(0.25)(h, training=training)\n",
    "    h = Flatten()(h)\n",
    "    h = Dense(dense_breadth, activation='relu')(h)\n",
    "    h = Dropout(0.5)(h, training=training)\n",
    "    output_layer = Dense(num_classes, activation='softmax')(h)\n",
    "    \n",
    "    return output_layer"
   ]
  },
  {
   "cell_type": "code",
   "execution_count": 11,
   "metadata": {},
   "outputs": [],
   "source": [
    "input_shape = (target_rows, target_cols, 1)"
   ]
  },
  {
   "cell_type": "markdown",
   "metadata": {},
   "source": [
    "## Graph Creation"
   ]
  },
  {
   "cell_type": "code",
   "execution_count": 12,
   "metadata": {},
   "outputs": [],
   "source": [
    "class BlackBoxModel:\n",
    "    \n",
    "    def __init__(self, input_shape, depth, filters, dense, training=True):\n",
    "        self.input_shape = input_shape\n",
    "        self.training = training\n",
    "        self.depth = depth\n",
    "        self.filters = filters\n",
    "        self.dense = dense\n",
    "        \n",
    "        self.accumulate_ops = None\n",
    "        self.train_step = None\n",
    "        self.zero_ops = None\n",
    "        \n",
    "        self.create_graph()\n",
    "        self.create_optimizer()\n",
    "        self.split_learning_ops()\n",
    "        \n",
    "    def create_graph(self):\n",
    "        # add place for input and pred label\n",
    "        self.x = keras.Input(shape=self.input_shape)\n",
    "        self.y_pred = create_model(self.x, self.depth, self.filters, self.dense, training=self.training)\n",
    "\n",
    "        # add place for truth label\n",
    "        self.y_true = keras.Input(shape=(num_classes, ))\n",
    "        \n",
    "    def create_optimizer(self):\n",
    "        # define loss function in terms of y_pred and y_true\n",
    "        self.loss = keras.losses.categorical_crossentropy(self.y_true, self.y_pred)\n",
    "\n",
    "        # Setup metrics to look at during training:\n",
    "        _, self.acc_op = tf.metrics.accuracy(labels=tf.argmax(self.y_true, 1),\n",
    "                                             predictions=tf.argmax(self.y_pred,1))\n",
    "\n",
    "        ## Optimizer definition - nothing different from any classical example\n",
    "        self.optimizer = tf.train.AdamOptimizer()\n",
    "\n",
    "        # Add ops to save and restore all the variables.\n",
    "        self.saver = tf.train.Saver(max_to_keep=max_epochs)\n",
    "        \n",
    "    def split_learning_ops(self):\n",
    "        # INSPIRED by https://stackoverflow.com/questions/42156957/how-to-update-model-parameters-with-accumulated-gradients\n",
    "\n",
    "        # Fetch a list of our network's trainable parameters.\n",
    "        self.trainable_vars = tf.trainable_variables()\n",
    "\n",
    "        # Create variables to store accumulated gradients\n",
    "        self.accumulators = [\n",
    "            tf.Variable(\n",
    "                tf.zeros_like(tv.initialized_value()),\n",
    "                trainable=False\n",
    "            ) for tv in self.trainable_vars\n",
    "        ]\n",
    "\n",
    "        # Create a variable for counting the number of accumulations\n",
    "        self.accumulation_counter = tf.Variable(0.0, trainable=False)\n",
    "\n",
    "        # Compute gradients; grad_pairs contains (gradient, variable) pairs\n",
    "        self.grad_pairs = self.optimizer.compute_gradients(self.loss, self.trainable_vars)\n",
    "\n",
    "        # Create operations which add a variable's gradient to its accumulator.\n",
    "        self.accumulate_ops = [\n",
    "            accumulator.assign_add(\n",
    "                grad\n",
    "            ) for (accumulator, (grad, var)) in zip(self.accumulators, self.grad_pairs)\n",
    "        ]\n",
    "\n",
    "        # The final accumulation operation is to increment the counter\n",
    "        self.accumulate_ops.append(self.accumulation_counter.assign_add(1.0))\n",
    "\n",
    "        # Update trainable variables by applying the accumulated gradients\n",
    "        # divided by the counter. Note: apply_gradients takes in a list of \n",
    "        # (grad, var) pairs\n",
    "        self.train_step = self.optimizer.apply_gradients(\n",
    "            [(accumulator / self.accumulation_counter, var) \\\n",
    "                for (accumulator, (grad, var)) in zip(self.accumulators, self.grad_pairs)]\n",
    "        )\n",
    "\n",
    "        # Accumulators must be zeroed once the accumulated gradient is applied.\n",
    "        self.zero_ops = [\n",
    "            accumulator.assign(\n",
    "                tf.zeros_like(tv)\n",
    "            ) for (accumulator, tv) in zip(self.accumulators, self.trainable_vars)\n",
    "        ]\n",
    "\n",
    "        # Add one last op for zeroing the counter\n",
    "        self.zero_ops.append(self.accumulation_counter.assign(0.0))\n",
    "        \n",
    "    def count_params(self):\n",
    "        # create a model representation\n",
    "        model_ = keras.Model(inputs=self.x, outputs=self.y_pred)\n",
    "        \n",
    "        # return the number of parameters\n",
    "        return model_.count_params()"
   ]
  },
  {
   "cell_type": "markdown",
   "metadata": {},
   "source": [
    "## Determine best params"
   ]
  },
  {
   "cell_type": "code",
   "execution_count": 13,
   "metadata": {},
   "outputs": [
    {
     "name": "stdout",
     "output_type": "stream",
     "text": [
      "18 total combinations of networks\n",
      "depths: [1, 5, 9]\n",
      "filters: [1, 33, 65]\n",
      "denses: [10, 110]\n"
     ]
    }
   ],
   "source": [
    "# List of the different configurations we will step through\n",
    "\n",
    "configs_depth = list(range(1, 11, 4))\n",
    "configs_filters = list(range(1, 81, 32))\n",
    "configs_dense = list(range(10, 200, 100))\n",
    "total_combinations = len(configs_depth) * len(configs_filters) * len(configs_dense)\n",
    "\n",
    "print('{} total combinations of networks'.format(total_combinations))\n",
    "print('depths:', configs_depth)\n",
    "print('filters:', configs_filters)\n",
    "print('denses:', configs_dense)"
   ]
  },
  {
   "cell_type": "code",
   "execution_count": 14,
   "metadata": {
    "scrolled": true
   },
   "outputs": [
    {
     "name": "stdout",
     "output_type": "stream",
     "text": [
      "Evaluating the model...\n",
      "\n",
      "1/18========================================\n",
      "Evaluating blackbox_e25_d1_f1_d10\n",
      "WARNING:tensorflow:From C:\\Users\\zharr\\Anaconda3\\lib\\site-packages\\tensorflow_core\\python\\ops\\resource_variable_ops.py:1630: calling BaseResourceVariable.__init__ (from tensorflow.python.ops.resource_variable_ops) with constraint is deprecated and will be removed in a future version.\n",
      "Instructions for updating:\n",
      "If using Keras pass *_constraint arguments to layers.\n",
      "WARNING:tensorflow:From <ipython-input-12-390b4c59ec62>:51: Variable.initialized_value (from tensorflow.python.ops.variables) is deprecated and will be removed in a future version.\n",
      "Instructions for updating:\n",
      "Use Variable.read_value. Variables in 2.X are initialized automatically both in eager and graph (inside tf.defun) contexts.\n",
      "INFO:tensorflow:Restoring parameters from ./blackbox_checkpoints/blackbox_e25_d1_f1_d10\\blackbox_checkpoint\n",
      "Test Accuracy: 0.883 | Loss: 0.655\n",
      "\n",
      "2/18========================================\n",
      "Evaluating blackbox_e25_d1_f1_d110\n",
      "INFO:tensorflow:Restoring parameters from ./blackbox_checkpoints/blackbox_e25_d1_f1_d110\\blackbox_checkpoint\n",
      "Test Accuracy: 0.942 | Loss: 0.200\n",
      "\n",
      "3/18========================================\n",
      "Evaluating blackbox_e25_d1_f33_d10\n",
      "INFO:tensorflow:Restoring parameters from ./blackbox_checkpoints/blackbox_e25_d1_f33_d10\\blackbox_checkpoint\n",
      "Test Accuracy: 0.957 | Loss: 0.211\n",
      "\n",
      "4/18========================================\n",
      "Evaluating blackbox_e25_d1_f33_d110\n",
      "INFO:tensorflow:Restoring parameters from ./blackbox_checkpoints/blackbox_e25_d1_f33_d110\\blackbox_checkpoint\n",
      "Test Accuracy: 0.985 | Loss: 0.045\n",
      "\n",
      "5/18========================================\n",
      "Evaluating blackbox_e25_d1_f65_d10\n",
      "INFO:tensorflow:Restoring parameters from ./blackbox_checkpoints/blackbox_e25_d1_f65_d10\\blackbox_checkpoint\n",
      "Test Accuracy: 0.948 | Loss: 0.363\n",
      "\n",
      "6/18========================================\n",
      "Evaluating blackbox_e25_d1_f65_d110\n",
      "INFO:tensorflow:Restoring parameters from ./blackbox_checkpoints/blackbox_e25_d1_f65_d110\\blackbox_checkpoint\n",
      "Test Accuracy: 0.987 | Loss: 0.038\n",
      "\n",
      "7/18========================================\n",
      "Evaluating blackbox_e25_d5_f1_d10\n",
      "INFO:tensorflow:Restoring parameters from ./blackbox_checkpoints/blackbox_e25_d5_f1_d10\\blackbox_checkpoint\n",
      "Test Accuracy: 0.870 | Loss: 0.589\n",
      "\n",
      "8/18========================================\n",
      "Evaluating blackbox_e25_d5_f1_d110\n",
      "INFO:tensorflow:Restoring parameters from ./blackbox_checkpoints/blackbox_e25_d5_f1_d110\\blackbox_checkpoint\n",
      "Test Accuracy: 0.941 | Loss: 0.200\n",
      "\n",
      "9/18========================================\n",
      "Evaluating blackbox_e25_d5_f33_d10\n",
      "INFO:tensorflow:Restoring parameters from ./blackbox_checkpoints/blackbox_e25_d5_f33_d10\\blackbox_checkpoint\n",
      "Test Accuracy: 0.982 | Loss: 0.129\n",
      "\n",
      "10/18========================================\n",
      "Evaluating blackbox_e25_d5_f33_d110\n",
      "INFO:tensorflow:Restoring parameters from ./blackbox_checkpoints/blackbox_e25_d5_f33_d110\\blackbox_checkpoint\n",
      "Test Accuracy: 0.992 | Loss: 0.028\n",
      "\n",
      "11/18========================================\n",
      "Evaluating blackbox_e25_d5_f65_d10\n",
      "INFO:tensorflow:Restoring parameters from ./blackbox_checkpoints/blackbox_e25_d5_f65_d10\\blackbox_checkpoint\n",
      "Test Accuracy: 0.982 | Loss: 0.118\n",
      "\n",
      "12/18========================================\n",
      "Evaluating blackbox_e25_d5_f65_d110\n",
      "INFO:tensorflow:Restoring parameters from ./blackbox_checkpoints/blackbox_e25_d5_f65_d110\\blackbox_checkpoint\n",
      "Test Accuracy: 0.993 | Loss: 0.027\n",
      "\n",
      "13/18========================================\n",
      "Evaluating blackbox_e25_d9_f1_d10\n",
      "INFO:tensorflow:Restoring parameters from ./blackbox_checkpoints/blackbox_e25_d9_f1_d10\\blackbox_checkpoint\n",
      "Test Accuracy: 0.908 | Loss: 0.425\n",
      "\n",
      "14/18========================================\n",
      "Evaluating blackbox_e25_d9_f1_d110\n",
      "INFO:tensorflow:Restoring parameters from ./blackbox_checkpoints/blackbox_e25_d9_f1_d110\\blackbox_checkpoint\n",
      "Test Accuracy: 0.869 | Loss: 0.426\n",
      "\n",
      "15/18========================================\n",
      "Evaluating blackbox_e25_d9_f33_d10\n",
      "INFO:tensorflow:Restoring parameters from ./blackbox_checkpoints/blackbox_e25_d9_f33_d10\\blackbox_checkpoint\n",
      "Test Accuracy: 0.983 | Loss: 0.127\n",
      "\n",
      "16/18========================================\n",
      "Evaluating blackbox_e25_d9_f33_d110\n",
      "INFO:tensorflow:Restoring parameters from ./blackbox_checkpoints/blackbox_e25_d9_f33_d110\\blackbox_checkpoint\n",
      "Test Accuracy: 0.994 | Loss: 0.024\n",
      "\n",
      "17/18========================================\n",
      "Evaluating blackbox_e25_d9_f65_d10\n",
      "INFO:tensorflow:Restoring parameters from ./blackbox_checkpoints/blackbox_e25_d9_f65_d10\\blackbox_checkpoint\n",
      "Test Accuracy: 0.975 | Loss: 0.264\n",
      "\n",
      "18/18========================================\n",
      "Evaluating blackbox_e25_d9_f65_d110\n",
      "INFO:tensorflow:Restoring parameters from ./blackbox_checkpoints/blackbox_e25_d9_f65_d110\\blackbox_checkpoint\n",
      "Test Accuracy: 0.993 | Loss: 0.026\n",
      "\n"
     ]
    }
   ],
   "source": [
    "print('Evaluating the model...\\n')\n",
    "\n",
    "best_accuracy = None\n",
    "best_depth = None\n",
    "best_filters = None\n",
    "best_dense = None\n",
    "\n",
    "inc = 0\n",
    "for depth in configs_depth:\n",
    "    for filters in configs_filters:\n",
    "        for dense in configs_dense:\n",
    "            \n",
    "            print('{}/{}'.format(inc+1, total_combinations)+'='*40)\n",
    "            print('Evaluating blackbox_e{}_d{}_f{}_d{}'.format(max_epochs, depth, filters, dense))\n",
    "            filename = \"blackbox_e{}_d{}_f{}_d{}\".format(max_epochs, depth, filters, dense)\n",
    "            \n",
    "            # train a new model each time:\n",
    "            model_obj = BlackBoxModel(input_shape, depth, filters, dense, training=False)\n",
    "            \n",
    "            param_count = model_obj.count_params()\n",
    "            \n",
    "            with tf.Session() as sess:\n",
    "                # init the session:\n",
    "                sess.run(tf.local_variables_initializer())\n",
    "                sess.run(tf.global_variables_initializer())\n",
    "                \n",
    "                # load the weights for the blackbox:\n",
    "                checkpoint_folder = \"./blackbox_checkpoints/{}\".format(filename)\n",
    "                blackbox_weights_path = os.path.join(checkpoint_folder, 'blackbox_checkpoint')\n",
    "                # model.load_weights(blackbox_weights_path)\n",
    "                model_obj.saver.restore(sess, blackbox_weights_path)\n",
    "\n",
    "                # Calculate test acc and loss - to double check loader is working\n",
    "                acc_test, loss_test = sess.run([model_obj.acc_op, model_obj.loss], \n",
    "                                               feed_dict={model_obj.x: x_test, model_obj.y_true: y_test})\n",
    "                print('Test Accuracy: {:.3f} | Loss: {:.3f}'.format(acc_test, np.mean(loss_test)))\n",
    "                print()\n",
    "                \n",
    "                if best_accuracy is None or acc_test > best_accuracy:\n",
    "                    best_accuracy = acc_test\n",
    "                    best_depth = depth\n",
    "                    best_filters = filters\n",
    "                    best_dense = dense\n",
    "                \n",
    "            # Flush out the session\n",
    "            keras.backend.clear_session()\n",
    "            inc += 1"
   ]
  },
  {
   "cell_type": "code",
   "execution_count": 15,
   "metadata": {},
   "outputs": [
    {
     "name": "stdout",
     "output_type": "stream",
     "text": [
      "Best params:\n",
      "depth:    9\n",
      "filters:  33\n",
      "dense:    110\n",
      "=========\n",
      "accuracy: 0.9936000108718872\n"
     ]
    }
   ],
   "source": [
    "print('Best params:')\n",
    "print('depth:    {}'.format(best_depth))\n",
    "print('filters:  {}'.format(best_filters))\n",
    "print('dense:    {}'.format(best_dense))\n",
    "print('=========')\n",
    "print('accuracy: {}'.format(best_accuracy))"
   ]
  },
  {
   "cell_type": "code",
   "execution_count": null,
   "metadata": {},
   "outputs": [],
   "source": []
  }
 ],
 "metadata": {
  "kernelspec": {
   "display_name": "Python 3",
   "language": "python",
   "name": "python3"
  },
  "language_info": {
   "codemirror_mode": {
    "name": "ipython",
    "version": 3
   },
   "file_extension": ".py",
   "mimetype": "text/x-python",
   "name": "python",
   "nbconvert_exporter": "python",
   "pygments_lexer": "ipython3",
   "version": "3.7.3"
  }
 },
 "nbformat": 4,
 "nbformat_minor": 2
}
